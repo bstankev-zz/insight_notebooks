{
 "cells": [
  {
   "cell_type": "markdown",
   "metadata": {},
   "source": [
    "# Loading Full MEPS Dataset & Early Filtering of Features\n",
    "\n",
    "-Beth Stankevich (09/2015)\n",
    "\n",
    "\n",
    "## Steps:\n",
    "\n",
    "1. import full MEPS csv\n",
    "2. export column headers\n",
    "3. (in excel) create a first pass filter for unwanted columns (*** this could be revised ***)\n",
    "4. remove unwanted columns from full set\n",
    "5. store in new csv for use in another notebook"
   ]
  },
  {
   "cell_type": "code",
   "execution_count": 2,
   "metadata": {
    "collapsed": true
   },
   "outputs": [],
   "source": [
    "%matplotlib inline\n",
    "import pandas as pd\n",
    "import numpy as np\n",
    "import matplotlib.pyplot as plt\n",
    "import seaborn as sns"
   ]
  },
  {
   "cell_type": "code",
   "execution_count": 3,
   "metadata": {
    "collapsed": false,
    "scrolled": true
   },
   "outputs": [
    {
     "name": "stdout",
     "output_type": "stream",
     "text": [
      "/Users/bstankev/Desktop/Insight/2012_MEPS\n"
     ]
    }
   ],
   "source": [
    "cd ../Desktop/Insight/2012_MEPS/"
   ]
  },
  {
   "cell_type": "markdown",
   "metadata": {},
   "source": [
    "# MEPS dataset, a quick about\n",
    "\n",
    "*** Overview: ***\n",
    "\n",
    "-data website (though, this was transformed into a csv): http://meps.ahrq.gov/mepsweb/index.jsp\n",
    "\n",
    "-this dataset is from 2012\n",
    "\n",
    "-38,000 people\n",
    "\n",
    "-1,900 columns of data (some redundant)\n",
    "\n",
    "\n",
    "*** Types of information (way more than this): ***\n",
    "\n",
    "-Demographic (race, sex, age, socioeconomic)\n",
    "\n",
    "-Disease-related (diagnosis of cancer, high blood pressure, high cholesterol, stroke)\n",
    "\n",
    "-Military service\n",
    "\n",
    "-Education level\n",
    "\n",
    "-Health survey questions (mental health state, physical health state, energy level, pain level, calmness)\n",
    "\n",
    "-Marriage status\n",
    "\n",
    "\n",
    "*** Types of expenditure (more than this): ***\n",
    "\n",
    "-office-based care (e.g., primary care physician \n",
    "\n",
    "-ER visits\n",
    "\n",
    "-prescription drugs\n",
    "\n",
    "-home health care\n",
    "\n",
    "*** not every person has data for each of these columns - quite a bit of data loss with some categories ***"
   ]
  },
  {
   "cell_type": "code",
   "execution_count": 4,
   "metadata": {
    "collapsed": false,
    "scrolled": false
   },
   "outputs": [],
   "source": [
    "# load full dataset\n",
    "MEPS_full = pd.read_csv('consolidated.csv', low_memory=False)"
   ]
  },
  {
   "cell_type": "code",
   "execution_count": 4,
   "metadata": {
    "collapsed": false
   },
   "outputs": [
    {
     "data": {
      "text/html": [
       "<div style=\"max-height:1000px;max-width:1500px;overflow:auto;\">\n",
       "<table border=\"1\" class=\"dataframe\">\n",
       "  <thead>\n",
       "    <tr style=\"text-align: right;\">\n",
       "      <th></th>\n",
       "      <th>DUID</th>\n",
       "      <th>PID</th>\n",
       "      <th>DUPERSID</th>\n",
       "      <th>PANEL</th>\n",
       "      <th>FAMID31</th>\n",
       "      <th>FAMID42</th>\n",
       "      <th>FAMID53</th>\n",
       "      <th>FAMID12</th>\n",
       "      <th>FAMIDYR</th>\n",
       "      <th>CPSFAMID</th>\n",
       "      <th>...</th>\n",
       "      <th>RXOSR12</th>\n",
       "      <th>RXPTR12</th>\n",
       "      <th>RXOTH12</th>\n",
       "      <th>PERWT12F</th>\n",
       "      <th>FAMWT12F</th>\n",
       "      <th>FAMWT12C</th>\n",
       "      <th>SAQWT12F</th>\n",
       "      <th>DIABW12F</th>\n",
       "      <th>VARSTR</th>\n",
       "      <th>VARPSU</th>\n",
       "    </tr>\n",
       "  </thead>\n",
       "  <tbody>\n",
       "    <tr>\n",
       "      <th>0</th>\n",
       "      <td>20004</td>\n",
       "      <td>101</td>\n",
       "      <td>20004101</td>\n",
       "      <td>17 PANEL 17</td>\n",
       "      <td>A</td>\n",
       "      <td>A</td>\n",
       "      <td>A</td>\n",
       "      <td>A</td>\n",
       "      <td>A</td>\n",
       "      <td>A</td>\n",
       "      <td>...</td>\n",
       "      <td>0</td>\n",
       "      <td>0</td>\n",
       "      <td>0</td>\n",
       "      <td>5278.873077</td>\n",
       "      <td>5507.482711</td>\n",
       "      <td>5507.482711</td>\n",
       "      <td>6821.524206</td>\n",
       "      <td>0</td>\n",
       "      <td>1109</td>\n",
       "      <td>1</td>\n",
       "    </tr>\n",
       "    <tr>\n",
       "      <th>1</th>\n",
       "      <td>20004</td>\n",
       "      <td>102</td>\n",
       "      <td>20004102</td>\n",
       "      <td>17 PANEL 17</td>\n",
       "      <td>A</td>\n",
       "      <td>A</td>\n",
       "      <td>A</td>\n",
       "      <td>A</td>\n",
       "      <td>A</td>\n",
       "      <td>A</td>\n",
       "      <td>...</td>\n",
       "      <td>0</td>\n",
       "      <td>0</td>\n",
       "      <td>0</td>\n",
       "      <td>5487.229813</td>\n",
       "      <td>5507.482711</td>\n",
       "      <td>5507.482711</td>\n",
       "      <td>6842.431770</td>\n",
       "      <td>0</td>\n",
       "      <td>1109</td>\n",
       "      <td>1</td>\n",
       "    </tr>\n",
       "    <tr>\n",
       "      <th>2</th>\n",
       "      <td>20004</td>\n",
       "      <td>103</td>\n",
       "      <td>20004103</td>\n",
       "      <td>17 PANEL 17</td>\n",
       "      <td>A</td>\n",
       "      <td>A</td>\n",
       "      <td>A</td>\n",
       "      <td>A</td>\n",
       "      <td>A</td>\n",
       "      <td>A</td>\n",
       "      <td>...</td>\n",
       "      <td>0</td>\n",
       "      <td>0</td>\n",
       "      <td>0</td>\n",
       "      <td>4393.823454</td>\n",
       "      <td>5507.482711</td>\n",
       "      <td>5507.482711</td>\n",
       "      <td>0.000000</td>\n",
       "      <td>0</td>\n",
       "      <td>1109</td>\n",
       "      <td>1</td>\n",
       "    </tr>\n",
       "    <tr>\n",
       "      <th>3</th>\n",
       "      <td>20005</td>\n",
       "      <td>101</td>\n",
       "      <td>20005101</td>\n",
       "      <td>17 PANEL 17</td>\n",
       "      <td>A</td>\n",
       "      <td>A</td>\n",
       "      <td>A</td>\n",
       "      <td>A</td>\n",
       "      <td>A</td>\n",
       "      <td>A</td>\n",
       "      <td>...</td>\n",
       "      <td>0</td>\n",
       "      <td>0</td>\n",
       "      <td>53</td>\n",
       "      <td>4218.803187</td>\n",
       "      <td>3566.980985</td>\n",
       "      <td>3566.980985</td>\n",
       "      <td>4164.197294</td>\n",
       "      <td>0</td>\n",
       "      <td>1109</td>\n",
       "      <td>2</td>\n",
       "    </tr>\n",
       "    <tr>\n",
       "      <th>4</th>\n",
       "      <td>20005</td>\n",
       "      <td>102</td>\n",
       "      <td>20005102</td>\n",
       "      <td>17 PANEL 17</td>\n",
       "      <td>A</td>\n",
       "      <td>A</td>\n",
       "      <td>A</td>\n",
       "      <td>A</td>\n",
       "      <td>A</td>\n",
       "      <td>A</td>\n",
       "      <td>...</td>\n",
       "      <td>0</td>\n",
       "      <td>0</td>\n",
       "      <td>0</td>\n",
       "      <td>5666.951743</td>\n",
       "      <td>3566.980985</td>\n",
       "      <td>3566.980985</td>\n",
       "      <td>5537.450545</td>\n",
       "      <td>0</td>\n",
       "      <td>1109</td>\n",
       "      <td>2</td>\n",
       "    </tr>\n",
       "  </tbody>\n",
       "</table>\n",
       "<p>5 rows × 1883 columns</p>\n",
       "</div>"
      ],
      "text/plain": [
       "    DUID  PID  DUPERSID        PANEL FAMID31 FAMID42 FAMID53 FAMID12 FAMIDYR  \\\n",
       "0  20004  101  20004101  17 PANEL 17       A       A       A       A       A   \n",
       "1  20004  102  20004102  17 PANEL 17       A       A       A       A       A   \n",
       "2  20004  103  20004103  17 PANEL 17       A       A       A       A       A   \n",
       "3  20005  101  20005101  17 PANEL 17       A       A       A       A       A   \n",
       "4  20005  102  20005102  17 PANEL 17       A       A       A       A       A   \n",
       "\n",
       "  CPSFAMID  ...    RXOSR12 RXPTR12 RXOTH12     PERWT12F     FAMWT12F  \\\n",
       "0        A  ...          0       0       0  5278.873077  5507.482711   \n",
       "1        A  ...          0       0       0  5487.229813  5507.482711   \n",
       "2        A  ...          0       0       0  4393.823454  5507.482711   \n",
       "3        A  ...          0       0      53  4218.803187  3566.980985   \n",
       "4        A  ...          0       0       0  5666.951743  3566.980985   \n",
       "\n",
       "      FAMWT12C     SAQWT12F DIABW12F VARSTR VARPSU  \n",
       "0  5507.482711  6821.524206        0   1109      1  \n",
       "1  5507.482711  6842.431770        0   1109      1  \n",
       "2  5507.482711     0.000000        0   1109      1  \n",
       "3  3566.980985  4164.197294        0   1109      2  \n",
       "4  3566.980985  5537.450545        0   1109      2  \n",
       "\n",
       "[5 rows x 1883 columns]"
      ]
     },
     "execution_count": 4,
     "metadata": {},
     "output_type": "execute_result"
    }
   ],
   "source": [
    "MEPS_full.head()"
   ]
  },
  {
   "cell_type": "code",
   "execution_count": 5,
   "metadata": {
    "collapsed": false
   },
   "outputs": [],
   "source": [
    "# save .csv of column names\n",
    "MEPS_cols = MEPS_full.dtypes\n",
    "MEPS_cols = MEPS_cols.iloc[:]\n",
    "MEPS_cols.to_csv('MEPS_cols.csv')"
   ]
  },
  {
   "cell_type": "code",
   "execution_count": 8,
   "metadata": {
    "collapsed": false
   },
   "outputs": [
    {
     "data": {
      "text/plain": [
       "DUID          int64\n",
       "PID           int64\n",
       "DUPERSID      int64\n",
       "PANEL        object\n",
       "FAMID31      object\n",
       "FAMID42      object\n",
       "FAMID53      object\n",
       "FAMID12      object\n",
       "FAMIDYR      object\n",
       "CPSFAMID     object\n",
       "FCSZ1231      int64\n",
       "FCRP1231     object\n",
       "RULETR31     object\n",
       "RULETR42     object\n",
       "RULETR53     object\n",
       "RULETR12     object\n",
       "RUSIZE31     object\n",
       "RUSIZE42     object\n",
       "RUSIZE53     object\n",
       "RUSIZE12     object\n",
       "RUCLAS31     object\n",
       "RUCLAS42     object\n",
       "RUCLAS53     object\n",
       "RUCLAS12     object\n",
       "FAMSZE31     object\n",
       "FAMSZE42     object\n",
       "FAMSZE53     object\n",
       "FAMSZE12      int64\n",
       "FMRS1231     object\n",
       "FAMS1231      int64\n",
       "             ...   \n",
       "OTHSTL12      int64\n",
       "OTHWCP12      int64\n",
       "OTHOPR12      int64\n",
       "OTHOPU12      int64\n",
       "OTHOSR12      int64\n",
       "OTHPTR12      int64\n",
       "OTHOTH12      int64\n",
       "RXTOT12       int64\n",
       "RXEXP12       int64\n",
       "RXSLF12       int64\n",
       "RXMCR12       int64\n",
       "RXMCD12       int64\n",
       "RXPRV12       int64\n",
       "RXVA12        int64\n",
       "RXTRI12       int64\n",
       "RXOFD12       int64\n",
       "RXSTL12       int64\n",
       "RXWCP12       int64\n",
       "RXOPR12       int64\n",
       "RXOPU12       int64\n",
       "RXOSR12       int64\n",
       "RXPTR12       int64\n",
       "RXOTH12       int64\n",
       "PERWT12F    float64\n",
       "FAMWT12F    float64\n",
       "FAMWT12C    float64\n",
       "SAQWT12F    float64\n",
       "DIABW12F    float64\n",
       "VARSTR        int64\n",
       "VARPSU        int64\n",
       "dtype: object"
      ]
     },
     "execution_count": 8,
     "metadata": {},
     "output_type": "execute_result"
    }
   ],
   "source": [
    "MEPS_full.dtypes"
   ]
  },
  {
   "cell_type": "code",
   "execution_count": 6,
   "metadata": {
    "collapsed": false
   },
   "outputs": [
    {
     "data": {
      "text/html": [
       "<div style=\"max-height:1000px;max-width:1500px;overflow:auto;\">\n",
       "<table border=\"1\" class=\"dataframe\">\n",
       "  <thead>\n",
       "    <tr style=\"text-align: right;\">\n",
       "      <th></th>\n",
       "      <th>ID_Name</th>\n",
       "      <th>Load</th>\n",
       "    </tr>\n",
       "  </thead>\n",
       "  <tbody>\n",
       "    <tr>\n",
       "      <th>0</th>\n",
       "      <td>DUID</td>\n",
       "      <td>True</td>\n",
       "    </tr>\n",
       "    <tr>\n",
       "      <th>1</th>\n",
       "      <td>PID</td>\n",
       "      <td>True</td>\n",
       "    </tr>\n",
       "    <tr>\n",
       "      <th>2</th>\n",
       "      <td>DUPERSID</td>\n",
       "      <td>True</td>\n",
       "    </tr>\n",
       "    <tr>\n",
       "      <th>3</th>\n",
       "      <td>PANEL</td>\n",
       "      <td>False</td>\n",
       "    </tr>\n",
       "    <tr>\n",
       "      <th>4</th>\n",
       "      <td>FAMID31</td>\n",
       "      <td>False</td>\n",
       "    </tr>\n",
       "  </tbody>\n",
       "</table>\n",
       "</div>"
      ],
      "text/plain": [
       "    ID_Name   Load\n",
       "0      DUID   True\n",
       "1       PID   True\n",
       "2  DUPERSID   True\n",
       "3     PANEL  False\n",
       "4   FAMID31  False"
      ]
     },
     "execution_count": 6,
     "metadata": {},
     "output_type": "execute_result"
    }
   ],
   "source": [
    "# load column name + load? information (False = No; True = Yes)\n",
    "MEPS1 = pd.read_csv('MEPS_load1.csv')\n",
    "MEPS1.head()"
   ]
  },
  {
   "cell_type": "code",
   "execution_count": 53,
   "metadata": {
    "collapsed": false,
    "scrolled": true
   },
   "outputs": [
    {
     "data": {
      "text/plain": [
       "1883"
      ]
     },
     "execution_count": 53,
     "metadata": {},
     "output_type": "execute_result"
    }
   ],
   "source": [
    "x = MEPS_full.shape\n",
    "length = x[1]\n",
    "length"
   ]
  },
  {
   "cell_type": "code",
   "execution_count": 54,
   "metadata": {
    "collapsed": false
   },
   "outputs": [],
   "source": [
    "# drop uniformative rows (beta test, columns dropped may be re-added later)\n",
    "ndf = MEPS_full\n",
    "for i in range(length):\n",
    "    id1 = MEPS1['ID_Name'][i]\n",
    "    if not MEPS1['Load'][i]:\n",
    "        ndf = ndf.drop(id1, axis = 1)  "
   ]
  },
  {
   "cell_type": "code",
   "execution_count": 55,
   "metadata": {
    "collapsed": false
   },
   "outputs": [
    {
     "data": {
      "text/html": [
       "<div style=\"max-height:1000px;max-width:1500px;overflow:auto;\">\n",
       "<table border=\"1\" class=\"dataframe\">\n",
       "  <thead>\n",
       "    <tr style=\"text-align: right;\">\n",
       "      <th></th>\n",
       "      <th>DUID</th>\n",
       "      <th>PID</th>\n",
       "      <th>DUPERSID</th>\n",
       "      <th>FAMIDYR</th>\n",
       "      <th>CPSFAMID</th>\n",
       "      <th>FCSZ1231</th>\n",
       "      <th>RULETR12</th>\n",
       "      <th>RUSIZE12</th>\n",
       "      <th>RUCLAS12</th>\n",
       "      <th>FAMSZE12</th>\n",
       "      <th>...</th>\n",
       "      <th>CHLIMP12</th>\n",
       "      <th>CASHP12X</th>\n",
       "      <th>CSHIMP12</th>\n",
       "      <th>SSIP12X</th>\n",
       "      <th>SSIIMP12</th>\n",
       "      <th>PUBP12X</th>\n",
       "      <th>PUBIMP12</th>\n",
       "      <th>OTHRP12X</th>\n",
       "      <th>OTHIMP12</th>\n",
       "      <th>HIEUIDX</th>\n",
       "    </tr>\n",
       "  </thead>\n",
       "  <tbody>\n",
       "    <tr>\n",
       "      <th>0</th>\n",
       "      <td>20004</td>\n",
       "      <td>101</td>\n",
       "      <td>20004101</td>\n",
       "      <td>A</td>\n",
       "      <td>A</td>\n",
       "      <td>3</td>\n",
       "      <td>A</td>\n",
       "      <td>3 PERSONS IN RU</td>\n",
       "      <td>1 STANDARD RU</td>\n",
       "      <td>3</td>\n",
       "      <td>...</td>\n",
       "      <td>1 ORIGINAL RESPONSE USED</td>\n",
       "      <td>0</td>\n",
       "      <td>1 ORIGINAL RESPONSE USED</td>\n",
       "      <td>0</td>\n",
       "      <td>1 ORIGINAL RESPONSE USED</td>\n",
       "      <td>0</td>\n",
       "      <td>1 ORIGINAL RESPONSE USED</td>\n",
       "      <td>0</td>\n",
       "      <td>1 ORIGINAL RESPONSE USED</td>\n",
       "      <td>20004A1</td>\n",
       "    </tr>\n",
       "    <tr>\n",
       "      <th>1</th>\n",
       "      <td>20004</td>\n",
       "      <td>102</td>\n",
       "      <td>20004102</td>\n",
       "      <td>A</td>\n",
       "      <td>A</td>\n",
       "      <td>3</td>\n",
       "      <td>A</td>\n",
       "      <td>3 PERSONS IN RU</td>\n",
       "      <td>1 STANDARD RU</td>\n",
       "      <td>3</td>\n",
       "      <td>...</td>\n",
       "      <td>1 ORIGINAL RESPONSE USED</td>\n",
       "      <td>0</td>\n",
       "      <td>1 ORIGINAL RESPONSE USED</td>\n",
       "      <td>0</td>\n",
       "      <td>1 ORIGINAL RESPONSE USED</td>\n",
       "      <td>0</td>\n",
       "      <td>1 ORIGINAL RESPONSE USED</td>\n",
       "      <td>0</td>\n",
       "      <td>1 ORIGINAL RESPONSE USED</td>\n",
       "      <td>20004A1</td>\n",
       "    </tr>\n",
       "    <tr>\n",
       "      <th>2</th>\n",
       "      <td>20004</td>\n",
       "      <td>103</td>\n",
       "      <td>20004103</td>\n",
       "      <td>A</td>\n",
       "      <td>A</td>\n",
       "      <td>3</td>\n",
       "      <td>A</td>\n",
       "      <td>3 PERSONS IN RU</td>\n",
       "      <td>1 STANDARD RU</td>\n",
       "      <td>3</td>\n",
       "      <td>...</td>\n",
       "      <td>1 ORIGINAL RESPONSE USED</td>\n",
       "      <td>0</td>\n",
       "      <td>1 ORIGINAL RESPONSE USED</td>\n",
       "      <td>0</td>\n",
       "      <td>1 ORIGINAL RESPONSE USED</td>\n",
       "      <td>0</td>\n",
       "      <td>1 ORIGINAL RESPONSE USED</td>\n",
       "      <td>0</td>\n",
       "      <td>1 ORIGINAL RESPONSE USED</td>\n",
       "      <td>20004A1</td>\n",
       "    </tr>\n",
       "    <tr>\n",
       "      <th>3</th>\n",
       "      <td>20005</td>\n",
       "      <td>101</td>\n",
       "      <td>20005101</td>\n",
       "      <td>A</td>\n",
       "      <td>A</td>\n",
       "      <td>3</td>\n",
       "      <td>A</td>\n",
       "      <td>3 PERSONS IN RU</td>\n",
       "      <td>1 STANDARD RU</td>\n",
       "      <td>3</td>\n",
       "      <td>...</td>\n",
       "      <td>1 ORIGINAL RESPONSE USED</td>\n",
       "      <td>0</td>\n",
       "      <td>1 ORIGINAL RESPONSE USED</td>\n",
       "      <td>0</td>\n",
       "      <td>1 ORIGINAL RESPONSE USED</td>\n",
       "      <td>0</td>\n",
       "      <td>1 ORIGINAL RESPONSE USED</td>\n",
       "      <td>0</td>\n",
       "      <td>1 ORIGINAL RESPONSE USED</td>\n",
       "      <td>20005A1</td>\n",
       "    </tr>\n",
       "    <tr>\n",
       "      <th>4</th>\n",
       "      <td>20005</td>\n",
       "      <td>102</td>\n",
       "      <td>20005102</td>\n",
       "      <td>A</td>\n",
       "      <td>A</td>\n",
       "      <td>3</td>\n",
       "      <td>A</td>\n",
       "      <td>3 PERSONS IN RU</td>\n",
       "      <td>1 STANDARD RU</td>\n",
       "      <td>3</td>\n",
       "      <td>...</td>\n",
       "      <td>1 ORIGINAL RESPONSE USED</td>\n",
       "      <td>0</td>\n",
       "      <td>1 ORIGINAL RESPONSE USED</td>\n",
       "      <td>0</td>\n",
       "      <td>1 ORIGINAL RESPONSE USED</td>\n",
       "      <td>0</td>\n",
       "      <td>1 ORIGINAL RESPONSE USED</td>\n",
       "      <td>0</td>\n",
       "      <td>1 ORIGINAL RESPONSE USED</td>\n",
       "      <td>20005A1</td>\n",
       "    </tr>\n",
       "  </tbody>\n",
       "</table>\n",
       "<p>5 rows × 622 columns</p>\n",
       "</div>"
      ],
      "text/plain": [
       "    DUID  PID  DUPERSID FAMIDYR CPSFAMID  FCSZ1231 RULETR12         RUSIZE12  \\\n",
       "0  20004  101  20004101       A        A         3        A  3 PERSONS IN RU   \n",
       "1  20004  102  20004102       A        A         3        A  3 PERSONS IN RU   \n",
       "2  20004  103  20004103       A        A         3        A  3 PERSONS IN RU   \n",
       "3  20005  101  20005101       A        A         3        A  3 PERSONS IN RU   \n",
       "4  20005  102  20005102       A        A         3        A  3 PERSONS IN RU   \n",
       "\n",
       "        RUCLAS12  FAMSZE12   ...                     CHLIMP12  CASHP12X  \\\n",
       "0  1 STANDARD RU         3   ...     1 ORIGINAL RESPONSE USED         0   \n",
       "1  1 STANDARD RU         3   ...     1 ORIGINAL RESPONSE USED         0   \n",
       "2  1 STANDARD RU         3   ...     1 ORIGINAL RESPONSE USED         0   \n",
       "3  1 STANDARD RU         3   ...     1 ORIGINAL RESPONSE USED         0   \n",
       "4  1 STANDARD RU         3   ...     1 ORIGINAL RESPONSE USED         0   \n",
       "\n",
       "                   CSHIMP12 SSIP12X                  SSIIMP12 PUBP12X  \\\n",
       "0  1 ORIGINAL RESPONSE USED       0  1 ORIGINAL RESPONSE USED       0   \n",
       "1  1 ORIGINAL RESPONSE USED       0  1 ORIGINAL RESPONSE USED       0   \n",
       "2  1 ORIGINAL RESPONSE USED       0  1 ORIGINAL RESPONSE USED       0   \n",
       "3  1 ORIGINAL RESPONSE USED       0  1 ORIGINAL RESPONSE USED       0   \n",
       "4  1 ORIGINAL RESPONSE USED       0  1 ORIGINAL RESPONSE USED       0   \n",
       "\n",
       "                   PUBIMP12 OTHRP12X                  OTHIMP12  HIEUIDX  \n",
       "0  1 ORIGINAL RESPONSE USED        0  1 ORIGINAL RESPONSE USED  20004A1  \n",
       "1  1 ORIGINAL RESPONSE USED        0  1 ORIGINAL RESPONSE USED  20004A1  \n",
       "2  1 ORIGINAL RESPONSE USED        0  1 ORIGINAL RESPONSE USED  20004A1  \n",
       "3  1 ORIGINAL RESPONSE USED        0  1 ORIGINAL RESPONSE USED  20005A1  \n",
       "4  1 ORIGINAL RESPONSE USED        0  1 ORIGINAL RESPONSE USED  20005A1  \n",
       "\n",
       "[5 rows x 622 columns]"
      ]
     },
     "execution_count": 55,
     "metadata": {},
     "output_type": "execute_result"
    }
   ],
   "source": [
    "ndf.head()"
   ]
  },
  {
   "cell_type": "code",
   "execution_count": 57,
   "metadata": {
    "collapsed": false
   },
   "outputs": [
    {
     "data": {
      "text/plain": [
       "(38974, 622)"
      ]
     },
     "execution_count": 57,
     "metadata": {},
     "output_type": "execute_result"
    }
   ],
   "source": [
    "ndf.shape"
   ]
  },
  {
   "cell_type": "code",
   "execution_count": 58,
   "metadata": {
    "collapsed": true
   },
   "outputs": [],
   "source": [
    "# output 'cleaned' data to a csv\n",
    "ndf.to_csv('MEPS_clean1.csv')"
   ]
  },
  {
   "cell_type": "markdown",
   "metadata": {},
   "source": [
    "### Done! Go to another notebook to do more feature inspection, feature selection, modeling"
   ]
  },
  {
   "cell_type": "code",
   "execution_count": null,
   "metadata": {
    "collapsed": true
   },
   "outputs": [],
   "source": []
  }
 ],
 "metadata": {
  "kernelspec": {
   "display_name": "Python 2",
   "language": "python",
   "name": "python2"
  },
  "language_info": {
   "codemirror_mode": {
    "name": "ipython",
    "version": 2
   },
   "file_extension": ".py",
   "mimetype": "text/x-python",
   "name": "python",
   "nbconvert_exporter": "python",
   "pygments_lexer": "ipython2",
   "version": "2.7.10"
  }
 },
 "nbformat": 4,
 "nbformat_minor": 0
}
