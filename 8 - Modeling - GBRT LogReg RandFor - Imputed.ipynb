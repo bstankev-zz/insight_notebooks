{
 "cells": [
  {
   "cell_type": "markdown",
   "metadata": {},
   "source": [
    "# Import imputed dataset - Do both categorical and regression modeling\n"
   ]
  },
  {
   "cell_type": "code",
   "execution_count": 2,
   "metadata": {
    "collapsed": true
   },
   "outputs": [],
   "source": [
    "%matplotlib inline\n",
    "import pandas as pd\n",
    "import numpy as np\n",
    "import matplotlib.pyplot as plt\n",
    "import seaborn as sns"
   ]
  },
  {
   "cell_type": "code",
   "execution_count": 3,
   "metadata": {
    "collapsed": false,
    "scrolled": true
   },
   "outputs": [
    {
     "name": "stdout",
     "output_type": "stream",
     "text": [
      "/Users/bstankev/Desktop/Insight/2012_MEPS\n"
     ]
    }
   ],
   "source": [
    "cd ../Desktop/Insight/2012_MEPS/"
   ]
  },
  {
   "cell_type": "markdown",
   "metadata": {},
   "source": [
    "# import imputated feature data"
   ]
  },
  {
   "cell_type": "code",
   "execution_count": 4,
   "metadata": {
    "collapsed": true
   },
   "outputs": [],
   "source": [
    "df = pd.read_csv('imp.csv')"
   ]
  },
  {
   "cell_type": "code",
   "execution_count": 5,
   "metadata": {
    "collapsed": false,
    "scrolled": false
   },
   "outputs": [
    {
     "data": {
      "text/html": [
       "<div style=\"max-height:1000px;max-width:1500px;overflow:auto;\">\n",
       "<table border=\"1\" class=\"dataframe\">\n",
       "  <thead>\n",
       "    <tr style=\"text-align: right;\">\n",
       "      <th></th>\n",
       "      <th>Unnamed: 0</th>\n",
       "      <th>DUID</th>\n",
       "      <th>PID</th>\n",
       "      <th>DUPERSID</th>\n",
       "      <th>HIBPAGED</th>\n",
       "      <th>STRKAGED</th>\n",
       "      <th>CHOLAGED</th>\n",
       "      <th>DIABAGED</th>\n",
       "      <th>ADHDAGED</th>\n",
       "      <th>BMINDX53</th>\n",
       "      <th>...</th>\n",
       "      <th>OBVGrp</th>\n",
       "      <th>OBVGrp2</th>\n",
       "      <th>HISPANX</th>\n",
       "      <th>HISPCAT</th>\n",
       "      <th>MARRY12X</th>\n",
       "      <th>HIDEG</th>\n",
       "      <th>EDRECODE</th>\n",
       "      <th>FTSTU12X</th>\n",
       "      <th>ACTDTY42</th>\n",
       "      <th>HONRDC42</th>\n",
       "    </tr>\n",
       "  </thead>\n",
       "  <tbody>\n",
       "    <tr>\n",
       "      <th>0</th>\n",
       "      <td>0</td>\n",
       "      <td>20004</td>\n",
       "      <td>101</td>\n",
       "      <td>20004101</td>\n",
       "      <td>46</td>\n",
       "      <td>58</td>\n",
       "      <td>50</td>\n",
       "      <td>50</td>\n",
       "      <td>7</td>\n",
       "      <td>30.6</td>\n",
       "      <td>...</td>\n",
       "      <td>1</td>\n",
       "      <td>1</td>\n",
       "      <td>1</td>\n",
       "      <td>5</td>\n",
       "      <td>1</td>\n",
       "      <td>3</td>\n",
       "      <td>14</td>\n",
       "      <td>2</td>\n",
       "      <td>2</td>\n",
       "      <td>2</td>\n",
       "    </tr>\n",
       "    <tr>\n",
       "      <th>1</th>\n",
       "      <td>1</td>\n",
       "      <td>20004</td>\n",
       "      <td>102</td>\n",
       "      <td>20004102</td>\n",
       "      <td>46</td>\n",
       "      <td>58</td>\n",
       "      <td>50</td>\n",
       "      <td>50</td>\n",
       "      <td>7</td>\n",
       "      <td>30.1</td>\n",
       "      <td>...</td>\n",
       "      <td>1</td>\n",
       "      <td>1</td>\n",
       "      <td>1</td>\n",
       "      <td>5</td>\n",
       "      <td>1</td>\n",
       "      <td>3</td>\n",
       "      <td>13</td>\n",
       "      <td>2</td>\n",
       "      <td>2</td>\n",
       "      <td>2</td>\n",
       "    </tr>\n",
       "    <tr>\n",
       "      <th>2</th>\n",
       "      <td>2</td>\n",
       "      <td>20004</td>\n",
       "      <td>103</td>\n",
       "      <td>20004103</td>\n",
       "      <td>46</td>\n",
       "      <td>58</td>\n",
       "      <td>50</td>\n",
       "      <td>50</td>\n",
       "      <td>7</td>\n",
       "      <td>27.0</td>\n",
       "      <td>...</td>\n",
       "      <td>1</td>\n",
       "      <td>1</td>\n",
       "      <td>1</td>\n",
       "      <td>5</td>\n",
       "      <td>6</td>\n",
       "      <td>3</td>\n",
       "      <td>2</td>\n",
       "      <td>2</td>\n",
       "      <td>3</td>\n",
       "      <td>3</td>\n",
       "    </tr>\n",
       "    <tr>\n",
       "      <th>3</th>\n",
       "      <td>3</td>\n",
       "      <td>20005</td>\n",
       "      <td>101</td>\n",
       "      <td>20005101</td>\n",
       "      <td>41</td>\n",
       "      <td>58</td>\n",
       "      <td>50</td>\n",
       "      <td>50</td>\n",
       "      <td>7</td>\n",
       "      <td>25.1</td>\n",
       "      <td>...</td>\n",
       "      <td>4</td>\n",
       "      <td>6</td>\n",
       "      <td>1</td>\n",
       "      <td>3</td>\n",
       "      <td>4</td>\n",
       "      <td>3</td>\n",
       "      <td>14</td>\n",
       "      <td>2</td>\n",
       "      <td>2</td>\n",
       "      <td>2</td>\n",
       "    </tr>\n",
       "    <tr>\n",
       "      <th>4</th>\n",
       "      <td>4</td>\n",
       "      <td>20005</td>\n",
       "      <td>102</td>\n",
       "      <td>20005102</td>\n",
       "      <td>46</td>\n",
       "      <td>58</td>\n",
       "      <td>50</td>\n",
       "      <td>50</td>\n",
       "      <td>7</td>\n",
       "      <td>21.3</td>\n",
       "      <td>...</td>\n",
       "      <td>2</td>\n",
       "      <td>3</td>\n",
       "      <td>1</td>\n",
       "      <td>3</td>\n",
       "      <td>5</td>\n",
       "      <td>3</td>\n",
       "      <td>14</td>\n",
       "      <td>1</td>\n",
       "      <td>2</td>\n",
       "      <td>2</td>\n",
       "    </tr>\n",
       "  </tbody>\n",
       "</table>\n",
       "<p>5 rows × 67 columns</p>\n",
       "</div>"
      ],
      "text/plain": [
       "   Unnamed: 0   DUID  PID  DUPERSID  HIBPAGED  STRKAGED  CHOLAGED  DIABAGED  \\\n",
       "0           0  20004  101  20004101        46        58        50        50   \n",
       "1           1  20004  102  20004102        46        58        50        50   \n",
       "2           2  20004  103  20004103        46        58        50        50   \n",
       "3           3  20005  101  20005101        41        58        50        50   \n",
       "4           4  20005  102  20005102        46        58        50        50   \n",
       "\n",
       "   ADHDAGED  BMINDX53    ...     OBVGrp  OBVGrp2  HISPANX  HISPCAT  MARRY12X  \\\n",
       "0         7      30.6    ...          1        1        1        5         1   \n",
       "1         7      30.1    ...          1        1        1        5         1   \n",
       "2         7      27.0    ...          1        1        1        5         6   \n",
       "3         7      25.1    ...          4        6        1        3         4   \n",
       "4         7      21.3    ...          2        3        1        3         5   \n",
       "\n",
       "   HIDEG  EDRECODE  FTSTU12X  ACTDTY42  HONRDC42  \n",
       "0      3        14         2         2         2  \n",
       "1      3        13         2         2         2  \n",
       "2      3         2         2         3         3  \n",
       "3      3        14         2         2         2  \n",
       "4      3        14         1         2         2  \n",
       "\n",
       "[5 rows x 67 columns]"
      ]
     },
     "execution_count": 5,
     "metadata": {},
     "output_type": "execute_result"
    }
   ],
   "source": [
    "df.head()"
   ]
  },
  {
   "cell_type": "markdown",
   "metadata": {},
   "source": [
    "# Create columns with log(expenditure) type"
   ]
  },
  {
   "cell_type": "code",
   "execution_count": 6,
   "metadata": {
    "collapsed": false
   },
   "outputs": [],
   "source": [
    "df['OBVEXPlog'] = 0\n",
    "df['ERTEXPlog'] = 0\n",
    "df['HHAEXPlog'] = 0\n",
    "df['IPTEXPlog'] = 0\n",
    "df['RXEXPlog'] = 0\n",
    "df['TOTEXPlog'] = 0\n",
    "df.loc[(df[\"OBVEXP12\"] > 0), \"OBVEXPlog\"] = np.log(df['OBVEXP12'])\n",
    "df.loc[(df[\"ERTEXP12\"] > 0), \"ERTEXPlog\"] = np.log(df['ERTEXP12'])\n",
    "df.loc[(df[\"HHAEXP12\"] > 0), \"HHAEXPlog\"] = np.log(df['HHAEXP12'])\n",
    "df.loc[(df[\"IPTEXP12\"] > 0), \"IPTEXPlog\"] = np.log(df['IPTEXP12'])\n",
    "df.loc[(df[\"RXEXP12\"] > 0), \"RXEXPlog\"] = np.log(df['RXEXP12'])\n",
    "df.loc[(df[\"TOTEXP12\"] > 0), \"TOTEXPlog\"] = np.log(df['TOTEXP12'])"
   ]
  },
  {
   "cell_type": "code",
   "execution_count": 7,
   "metadata": {
    "collapsed": false
   },
   "outputs": [
    {
     "data": {
      "text/plain": [
       "array([ 0.        ,  6.11146734,  4.84418709, ...,  8.21229714,\n",
       "        8.52237972,  8.33782726])"
      ]
     },
     "execution_count": 7,
     "metadata": {},
     "output_type": "execute_result"
    }
   ],
   "source": [
    "df.OBVEXPlog.unique()"
   ]
  },
  {
   "cell_type": "code",
   "execution_count": 8,
   "metadata": {
    "collapsed": false
   },
   "outputs": [
    {
     "data": {
      "text/plain": [
       "array([ 3.,  2.,  4.,  1.,  5.])"
      ]
     },
     "execution_count": 8,
     "metadata": {},
     "output_type": "execute_result"
    }
   ],
   "source": [
    "df.ADNRGY42.unique()\n",
    "#'POVLEV12','HLTHSTAT',\"BMINDX53\",\"HIBPAGED\",\n",
    "#            \"STRKAGED\",'MNHLTHSTAT',\"DIABAGED\",'AGELAST',\n",
    "#            \"ADPAIN42\",\"CHOLAGED\", \"ADCAPE42\", 'EDRECODE',\n",
    "#            \"ADNRGY42\"]]"
   ]
  },
  {
   "cell_type": "markdown",
   "metadata": {},
   "source": [
    "# Create feature/class variables for each model"
   ]
  },
  {
   "cell_type": "markdown",
   "metadata": {},
   "source": [
    "### Office Based Visits"
   ]
  },
  {
   "cell_type": "code",
   "execution_count": 9,
   "metadata": {
    "collapsed": false
   },
   "outputs": [],
   "source": [
    "obX = df[['POVLEV12','HLTHSTAT',\"BMINDX53\",\"HIBPAGED\",\n",
    "            \"STRKAGED\",'MNHLTHSTAT',\"DIABAGED\",'AGELAST',\n",
    "            \"ADPAIN42\",\"CHOLAGED\", \"ADCAPE42\", 'EDRECODE',\n",
    "            \"ADNRGY42\"]].values\n",
    "\n",
    "\n",
    "obY = df['OBVEXPlog'].values"
   ]
  },
  {
   "cell_type": "markdown",
   "metadata": {},
   "source": [
    "### ER Visits"
   ]
  },
  {
   "cell_type": "code",
   "execution_count": 379,
   "metadata": {
    "collapsed": false
   },
   "outputs": [],
   "source": [
    "erX = df[['POVLEV12','HLTHSTAT',\"BMINDX53\",\"HIBPAGED\",\n",
    "            \"DIABAGED\",'AGELAST']].values\n",
    "\n",
    "# re-scale (normalize) continuous  & categorical (ordinal) data\n",
    "erX1 = preprocessing.StandardScaler().fit(erX)\n",
    "erX1 = erX1.transform(erX)\n",
    "\n",
    "erY = df['ERTEXPlog'].values"
   ]
  },
  {
   "cell_type": "markdown",
   "metadata": {},
   "source": [
    "### Inpatient Visits"
   ]
  },
  {
   "cell_type": "code",
   "execution_count": 380,
   "metadata": {
    "collapsed": false
   },
   "outputs": [],
   "source": [
    "ipt = df[['POVLEV12','HLTHSTAT',\"BMINDX53\",\n",
    "            'AGELAST', \"CHOLAGED\"]]\n",
    "\n",
    "#ipt = df[['POVLEV12','HLTHSTAT',\"BMINDX53\",\"HIBPAGED\",\n",
    "#            \"STRKAGED\",'MNHLTHSTAT',\"DIABAGED\",'AGELAST',\n",
    " #           \"ADPAIN42\",\"CHOLAGED\", \"ADCAPE42\", 'EDRECODE',\"ADNRGY42\"]].values\n",
    "\n",
    "# re-scale (normalize) continuous  & categorical (ordinal) data\n",
    "inX1 = preprocessing.StandardScaler().fit(ipt)\n",
    "inX1 = inX1.transform(ipt)\n",
    "\n",
    "inX2 = np.append(inX1,df[['HIDEG','SEX','ANYLIM12', 'HISPCAT']], axis=1)\n",
    "\n",
    "inY = df['IPTEXPlog'].values"
   ]
  },
  {
   "cell_type": "markdown",
   "metadata": {},
   "source": [
    "### RX "
   ]
  },
  {
   "cell_type": "code",
   "execution_count": 381,
   "metadata": {
    "collapsed": false
   },
   "outputs": [],
   "source": [
    "rx = df[['POVLEV12','HLTHSTAT',\"BMINDX53\",'MNHLTHSTAT','AGELAST',\n",
    "         'ADHDAGED','ADPAIN42','EDRECODE','HIBPAGED', \n",
    "         \"STRKAGED\",\"DIABAGED\",\"CHOLAGED\", \"ADNRGY42\"]].values\n",
    "\n",
    "# re-scale (normalize) continuous  & categorical (ordinal) data\n",
    "rxX1 = preprocessing.StandardScaler().fit(rx)\n",
    "rxX1 = rxX1.transform(rx)\n",
    "\n",
    "rxX2 = np.append(rxX1,df[['HIDEG','RACEV1X','ANYLIM12']], axis=1)\n",
    "#\"\n",
    "#'ANYLIM12',\n",
    "rxY = df['RXEXPlog'].values"
   ]
  },
  {
   "cell_type": "markdown",
   "metadata": {},
   "source": [
    "### Home Health "
   ]
  },
  {
   "cell_type": "code",
   "execution_count": 382,
   "metadata": {
    "collapsed": true
   },
   "outputs": [],
   "source": [
    "hh = df[['POVLEV12','HLTHSTAT',\"BMINDX53\",\"HIBPAGED\",\n",
    "            \"STRKAGED\",'MNHLTHSTAT',\"DIABAGED\",'AGELAST',\n",
    "            \"CHOLAGED\", \"ADCAPE42\", 'EDRECODE',\"ADNRGY42\",\n",
    "            ]].values\n",
    "\n",
    "# re-scale (normalize) continuous  & categorical (ordinal) data\n",
    "hhX1 = preprocessing.StandardScaler().fit(hh)\n",
    "hhX1 = hhX1.transform(hh)\n",
    "\n",
    "hhX2 = np.append(hhX1,df[['MARRY12X', 'RACEV1X']], axis=1)\n",
    "\n",
    "hhY = df['HHAEXPlog'].values"
   ]
  },
  {
   "cell_type": "markdown",
   "metadata": {},
   "source": [
    "### Total "
   ]
  },
  {
   "cell_type": "code",
   "execution_count": 383,
   "metadata": {
    "collapsed": true
   },
   "outputs": [],
   "source": [
    "tot = df[['MNHLTHSTAT','HLTHSTAT', 'AGELAST',\n",
    "            'POVLEV12','EDRECODE',\"HIBPAGED\", \n",
    "            \"STRKAGED\",\"CHOLAGED\", \"DIABAGED\", \"JTPAIN31\",\n",
    "            \"BMINDX53\",\"ADMALS42\", \"ADMWLM42\",\"ADPAIN42\",  \n",
    "            \"ADNRGY42\"]].values\n",
    "\n",
    "# re-scale (normalize) continuous  & categorical (ordinal) data\n",
    "totX1 = preprocessing.StandardScaler().fit(tot)\n",
    "totX1 = totX1.transform(tot)\n",
    "\n",
    "totX2 = np.append(totX1,df[['HIDEG', 'SEX']], axis=1)\n",
    "\n",
    "totY = df['TOTEXPlog'].values"
   ]
  },
  {
   "cell_type": "markdown",
   "metadata": {},
   "source": [
    "# GBRT model (imputed features)"
   ]
  },
  {
   "cell_type": "markdown",
   "metadata": {},
   "source": [
    "### Office-based visits"
   ]
  },
  {
   "cell_type": "code",
   "execution_count": 10,
   "metadata": {
    "collapsed": true
   },
   "outputs": [],
   "source": [
    "# re-scale (normalize) continuous  & categorical (ordinal) data\n",
    "from sklearn import preprocessing\n",
    "\n",
    "obX1 = preprocessing.StandardScaler().fit(obX)\n",
    "obX1 = obX1.transform(obX)"
   ]
  },
  {
   "cell_type": "code",
   "execution_count": 11,
   "metadata": {
    "collapsed": false,
    "scrolled": true
   },
   "outputs": [
    {
     "data": {
      "text/plain": [
       "GradientBoostingRegressor(alpha=0.9, init=None, learning_rate=0.01, loss='ls',\n",
       "             max_depth=2, max_features=0.3, max_leaf_nodes=None,\n",
       "             min_samples_leaf=5, min_samples_split=2, n_estimators=20000,\n",
       "             random_state=None, subsample=1.0, verbose=0, warm_start=False)"
      ]
     },
     "execution_count": 11,
     "metadata": {},
     "output_type": "execute_result"
    }
   ],
   "source": [
    "# run model (using hyperparameters from optimization)\n",
    "from sklearn.ensemble import GradientBoostingRegressor\n",
    "from sklearn.cross_validation import train_test_split\n",
    "\n",
    "rng = np.random.RandomState(42)\n",
    "obx_train, obx_test, oby_train, oby_test = train_test_split(obX1,obY, random_state=rng)\n",
    "obclf = GradientBoostingRegressor(n_estimators=20000,learning_rate=0.01,\n",
    "                                 max_depth=2,max_features=0.3,min_samples_leaf=5)\n",
    "obclf.fit(obx_train,oby_train)"
   ]
  },
  {
   "cell_type": "code",
   "execution_count": 386,
   "metadata": {
    "collapsed": false
   },
   "outputs": [
    {
     "name": "stdout",
     "output_type": "stream",
     "text": [
      "Tuned GBRT MAE: 2.3229\n"
     ]
    }
   ],
   "source": [
    "# Calculate Mean Absolute Value\n",
    "from sklearn.metrics import mean_absolute_error\n",
    "\n",
    "mae = mean_absolute_error(oby_test, obclf.predict(obx_test))\n",
    "print('Tuned GBRT MAE: %.4f' % mae)"
   ]
  },
  {
   "cell_type": "code",
   "execution_count": 387,
   "metadata": {
    "collapsed": false,
    "scrolled": true
   },
   "outputs": [
    {
     "name": "stdout",
     "output_type": "stream",
     "text": [
      "0.245680189434\n"
     ]
    }
   ],
   "source": [
    "# Calculate r^2 score\n",
    "from sklearn.metrics import r2_score\n",
    "\n",
    "ob_pred = obclf.predict(obx_test)\n",
    "obr2 = r2_score(oby_test, ob_pred) \n",
    "print obr2"
   ]
  },
  {
   "cell_type": "markdown",
   "metadata": {},
   "source": [
    "### General hyperparameters for models (may change, depending on model)"
   ]
  },
  {
   "cell_type": "code",
   "execution_count": 388,
   "metadata": {
    "collapsed": true
   },
   "outputs": [],
   "source": [
    "# hyperparameters for GBRT model\n",
    "params = {'n_estimators': 20000, \n",
    "          'max_depth': 2, \n",
    "          'min_samples_leaf': 5,\n",
    "          'learning_rate': 0.01, \n",
    "          'max_features': 0.3}"
   ]
  },
  {
   "cell_type": "markdown",
   "metadata": {},
   "source": [
    "### ER visits"
   ]
  },
  {
   "cell_type": "code",
   "execution_count": 389,
   "metadata": {
    "collapsed": false,
    "scrolled": true
   },
   "outputs": [
    {
     "data": {
      "text/plain": [
       "GradientBoostingRegressor(alpha=0.9, init=None, learning_rate=0.01, loss='ls',\n",
       "             max_depth=2, max_features=0.3, max_leaf_nodes=None,\n",
       "             min_samples_leaf=5, min_samples_split=2, n_estimators=20,\n",
       "             random_state=None, subsample=1.0, verbose=0, warm_start=False)"
      ]
     },
     "execution_count": 389,
     "metadata": {},
     "output_type": "execute_result"
    }
   ],
   "source": [
    "# run model (using hyperparameters from optimization)\n",
    "rng = np.random.RandomState(42)\n",
    "erx_train, erx_test, ery_train, ery_test = train_test_split(erX2,erY, random_state=rng)\n",
    "erclf = GradientBoostingRegressor(n_estimators=20, \n",
    "          max_depth=2, \n",
    "          min_samples_leaf=5,\n",
    "          learning_rate=0.01, \n",
    "          max_features=0.3)\n",
    "erclf.fit(erx_train,ery_train)"
   ]
  },
  {
   "cell_type": "code",
   "execution_count": 390,
   "metadata": {
    "collapsed": false
   },
   "outputs": [
    {
     "name": "stdout",
     "output_type": "stream",
     "text": [
      "Tuned GBRT MAE: 1.3166\n"
     ]
    }
   ],
   "source": [
    "# Calculate Mean Absolute Value\n",
    "mae = mean_absolute_error(ery_test, erclf.predict(erx_test))\n",
    "print('Tuned GBRT MAE: %.4f' % mae)"
   ]
  },
  {
   "cell_type": "code",
   "execution_count": 391,
   "metadata": {
    "collapsed": false
   },
   "outputs": [
    {
     "name": "stdout",
     "output_type": "stream",
     "text": [
      "0.0100154556073\n"
     ]
    }
   ],
   "source": [
    "# Calculate r^2 score\n",
    "er_pred = erclf.predict(erx_test)\n",
    "err2 = r2_score(ery_test, er_pred) \n",
    "print err2"
   ]
  },
  {
   "cell_type": "markdown",
   "metadata": {},
   "source": [
    "### Inpatient visits"
   ]
  },
  {
   "cell_type": "code",
   "execution_count": 392,
   "metadata": {
    "collapsed": false
   },
   "outputs": [
    {
     "data": {
      "text/plain": [
       "GradientBoostingRegressor(alpha=0.9, init=None, learning_rate=0.01, loss='ls',\n",
       "             max_depth=2, max_features=0.3, max_leaf_nodes=None,\n",
       "             min_samples_leaf=5, min_samples_split=2, n_estimators=20,\n",
       "             random_state=None, subsample=1.0, verbose=0, warm_start=False)"
      ]
     },
     "execution_count": 392,
     "metadata": {},
     "output_type": "execute_result"
    }
   ],
   "source": [
    "# run model (using hyperparameters from optimization)\n",
    "rng = np.random.RandomState(42)\n",
    "inx_train, inx_test, iny_train, iny_test = train_test_split(inX2,inY, random_state=rng)\n",
    "inclf = GradientBoostingRegressor(n_estimators=20, \n",
    "          max_depth=2, \n",
    "          min_samples_leaf=5,\n",
    "          learning_rate=0.01, \n",
    "          max_features=0.3)\n",
    "inclf.fit(inx_train,iny_train)"
   ]
  },
  {
   "cell_type": "code",
   "execution_count": 393,
   "metadata": {
    "collapsed": false
   },
   "outputs": [
    {
     "name": "stdout",
     "output_type": "stream",
     "text": [
      "Tuned GBRT MAE: 1.0230\n"
     ]
    }
   ],
   "source": [
    "# Calculate Mean Absolute Value\n",
    "mae = mean_absolute_error(iny_test, inclf.predict(inx_test))\n",
    "print('Tuned GBRT MAE: %.4f' % mae)"
   ]
  },
  {
   "cell_type": "code",
   "execution_count": 394,
   "metadata": {
    "collapsed": false
   },
   "outputs": [
    {
     "name": "stdout",
     "output_type": "stream",
     "text": [
      "0.0137567996624\n"
     ]
    }
   ],
   "source": [
    "# Calculate r^2 score\n",
    "in_pred = inclf.predict(inx_test)\n",
    "inr2 = r2_score(iny_test, in_pred) \n",
    "print inr2"
   ]
  },
  {
   "cell_type": "markdown",
   "metadata": {},
   "source": [
    "### RX"
   ]
  },
  {
   "cell_type": "code",
   "execution_count": 395,
   "metadata": {
    "collapsed": false
   },
   "outputs": [
    {
     "data": {
      "text/plain": [
       "GradientBoostingRegressor(alpha=0.9, init=None, learning_rate=0.01, loss='ls',\n",
       "             max_depth=2, max_features=0.3, max_leaf_nodes=None,\n",
       "             min_samples_leaf=5, min_samples_split=2, n_estimators=20000,\n",
       "             random_state=None, subsample=1.0, verbose=0, warm_start=False)"
      ]
     },
     "execution_count": 395,
     "metadata": {},
     "output_type": "execute_result"
    }
   ],
   "source": [
    "# run model (using hyperparameters from optimization)\n",
    "rng = np.random.RandomState(42)\n",
    "rxx_train, rxx_test, rxy_train, rxy_test = train_test_split(rxX2,rxY, random_state=rng)\n",
    "rxclf = GradientBoostingRegressor(**params)\n",
    "rxclf.fit(rxx_train,rxy_train)"
   ]
  },
  {
   "cell_type": "code",
   "execution_count": 396,
   "metadata": {
    "collapsed": false
   },
   "outputs": [
    {
     "name": "stdout",
     "output_type": "stream",
     "text": [
      "Tuned GBRT MAE: 1.8825\n"
     ]
    }
   ],
   "source": [
    "# Calculate Mean Absolute Value\n",
    "mae = mean_absolute_error(rxy_test, rxclf.predict(rxx_test))\n",
    "print('Tuned GBRT MAE: %.4f' % mae)"
   ]
  },
  {
   "cell_type": "code",
   "execution_count": 397,
   "metadata": {
    "collapsed": false
   },
   "outputs": [
    {
     "name": "stdout",
     "output_type": "stream",
     "text": [
      "0.426892345157\n"
     ]
    }
   ],
   "source": [
    "# Calculate r^2 score\n",
    "rx_pred = rxclf.predict(rxx_test)\n",
    "rxr2 = r2_score(rxy_test, rx_pred) \n",
    "print rxr2"
   ]
  },
  {
   "cell_type": "markdown",
   "metadata": {},
   "source": [
    "### Home Health"
   ]
  },
  {
   "cell_type": "code",
   "execution_count": 398,
   "metadata": {
    "collapsed": false
   },
   "outputs": [
    {
     "data": {
      "text/plain": [
       "GradientBoostingRegressor(alpha=0.9, init=None, learning_rate=0.01, loss='ls',\n",
       "             max_depth=2, max_features=0.3, max_leaf_nodes=None,\n",
       "             min_samples_leaf=5, min_samples_split=2, n_estimators=20000,\n",
       "             random_state=None, subsample=1.0, verbose=0, warm_start=False)"
      ]
     },
     "execution_count": 398,
     "metadata": {},
     "output_type": "execute_result"
    }
   ],
   "source": [
    "# run model (using hyperparameters from optimization)\n",
    "rng = np.random.RandomState(42)\n",
    "hhx_train, hhx_test, hhy_train, hhy_test = train_test_split(hhX2,hhY, random_state=rng)\n",
    "hhclf = GradientBoostingRegressor(**params)\n",
    "hhclf.fit(hhx_train,hhy_train)"
   ]
  },
  {
   "cell_type": "code",
   "execution_count": 399,
   "metadata": {
    "collapsed": false
   },
   "outputs": [
    {
     "name": "stdout",
     "output_type": "stream",
     "text": [
      "Tuned GBRT MAE: 0.2559\n"
     ]
    }
   ],
   "source": [
    "# Calculate Mean Absolute Value\n",
    "mae = mean_absolute_error(hhy_test, hhclf.predict(hhx_test))\n",
    "print('Tuned GBRT MAE: %.4f' % mae)"
   ]
  },
  {
   "cell_type": "code",
   "execution_count": 400,
   "metadata": {
    "collapsed": false
   },
   "outputs": [
    {
     "name": "stdout",
     "output_type": "stream",
     "text": [
      "0.0949127895499\n"
     ]
    }
   ],
   "source": [
    "# Calculate r^2 score\n",
    "hh_pred = hhclf.predict(hhx_test)\n",
    "hhr2 = r2_score(hhy_test, hh_pred) \n",
    "print hhr2"
   ]
  },
  {
   "cell_type": "markdown",
   "metadata": {},
   "source": [
    "### Total "
   ]
  },
  {
   "cell_type": "code",
   "execution_count": 401,
   "metadata": {
    "collapsed": false,
    "scrolled": true
   },
   "outputs": [
    {
     "data": {
      "text/plain": [
       "GradientBoostingRegressor(alpha=0.9, init=None, learning_rate=0.01, loss='ls',\n",
       "             max_depth=2, max_features=0.3, max_leaf_nodes=None,\n",
       "             min_samples_leaf=5, min_samples_split=2, n_estimators=20000,\n",
       "             random_state=None, subsample=1.0, verbose=0, warm_start=False)"
      ]
     },
     "execution_count": 401,
     "metadata": {},
     "output_type": "execute_result"
    }
   ],
   "source": [
    "# run model (using hyperparameters from optimization)\n",
    "rng = np.random.RandomState(42)\n",
    "totx_train, totx_test, toty_train, toty_test = train_test_split(totX2,totY, random_state=rng)\n",
    "totclf = GradientBoostingRegressor(**params)\n",
    "totclf.fit(totx_train,toty_train)"
   ]
  },
  {
   "cell_type": "code",
   "execution_count": 402,
   "metadata": {
    "collapsed": false
   },
   "outputs": [
    {
     "name": "stdout",
     "output_type": "stream",
     "text": [
      "Tuned GBRT MAE: 2.2287\n"
     ]
    }
   ],
   "source": [
    "# Calculate Mean Absolute Value\n",
    "mae = mean_absolute_error(toty_test, totclf.predict(totx_test))\n",
    "print('Tuned GBRT MAE: %.4f' % mae)"
   ]
  },
  {
   "cell_type": "code",
   "execution_count": 403,
   "metadata": {
    "collapsed": false
   },
   "outputs": [
    {
     "name": "stdout",
     "output_type": "stream",
     "text": [
      "0.298428552841\n"
     ]
    }
   ],
   "source": [
    "# Calculate r^2 score\n",
    "tot_pred = totclf.predict(totx_test)\n",
    "totr2 = r2_score(toty_test, tot_pred) \n",
    "print totr2"
   ]
  },
  {
   "cell_type": "markdown",
   "metadata": {},
   "source": [
    "# Logistic regression OR Random Forest Classifier- classification (yes, no) of spending money\n",
    "\n",
    "## in the end Random Forest Classifier made more sense/worked better"
   ]
  },
  {
   "cell_type": "markdown",
   "metadata": {},
   "source": [
    "### Office based visits"
   ]
  },
  {
   "cell_type": "code",
   "execution_count": 12,
   "metadata": {
    "collapsed": true
   },
   "outputs": [],
   "source": [
    "df['OBVEXPcat'] = np.where(df['OBVEXP12']>0, 1, 0)"
   ]
  },
  {
   "cell_type": "code",
   "execution_count": 13,
   "metadata": {
    "collapsed": true
   },
   "outputs": [],
   "source": [
    "obcX = df[['POVLEV12','HLTHSTAT',\"BMINDX53\",\"HIBPAGED\",\n",
    "            \"STRKAGED\",'MNHLTHSTAT',\"DIABAGED\",'AGELAST',\n",
    "            \"ADPAIN42\",\"CHOLAGED\", \"ADCAPE42\", 'EDRECODE',\n",
    "            \"ADNRGY42\"]]\n",
    "\n",
    "obcY = df['OBVEXPcat']"
   ]
  },
  {
   "cell_type": "code",
   "execution_count": 14,
   "metadata": {
    "collapsed": false,
    "scrolled": true
   },
   "outputs": [
    {
     "data": {
      "text/html": [
       "<div style=\"max-height:1000px;max-width:1500px;overflow:auto;\">\n",
       "<table border=\"1\" class=\"dataframe\">\n",
       "  <thead>\n",
       "    <tr style=\"text-align: right;\">\n",
       "      <th></th>\n",
       "      <th>OBVEXPcat</th>\n",
       "      <th>OBVEXP12</th>\n",
       "    </tr>\n",
       "  </thead>\n",
       "  <tbody>\n",
       "    <tr>\n",
       "      <th>0</th>\n",
       "      <td>0</td>\n",
       "      <td>0</td>\n",
       "    </tr>\n",
       "    <tr>\n",
       "      <th>1</th>\n",
       "      <td>0</td>\n",
       "      <td>0</td>\n",
       "    </tr>\n",
       "    <tr>\n",
       "      <th>2</th>\n",
       "      <td>0</td>\n",
       "      <td>0</td>\n",
       "    </tr>\n",
       "    <tr>\n",
       "      <th>3</th>\n",
       "      <td>1</td>\n",
       "      <td>451</td>\n",
       "    </tr>\n",
       "    <tr>\n",
       "      <th>4</th>\n",
       "      <td>1</td>\n",
       "      <td>127</td>\n",
       "    </tr>\n",
       "    <tr>\n",
       "      <th>5</th>\n",
       "      <td>1</td>\n",
       "      <td>143</td>\n",
       "    </tr>\n",
       "    <tr>\n",
       "      <th>6</th>\n",
       "      <td>0</td>\n",
       "      <td>0</td>\n",
       "    </tr>\n",
       "    <tr>\n",
       "      <th>7</th>\n",
       "      <td>0</td>\n",
       "      <td>0</td>\n",
       "    </tr>\n",
       "    <tr>\n",
       "      <th>8</th>\n",
       "      <td>0</td>\n",
       "      <td>0</td>\n",
       "    </tr>\n",
       "    <tr>\n",
       "      <th>9</th>\n",
       "      <td>0</td>\n",
       "      <td>0</td>\n",
       "    </tr>\n",
       "    <tr>\n",
       "      <th>10</th>\n",
       "      <td>0</td>\n",
       "      <td>0</td>\n",
       "    </tr>\n",
       "    <tr>\n",
       "      <th>11</th>\n",
       "      <td>1</td>\n",
       "      <td>2704</td>\n",
       "    </tr>\n",
       "    <tr>\n",
       "      <th>12</th>\n",
       "      <td>1</td>\n",
       "      <td>327</td>\n",
       "    </tr>\n",
       "    <tr>\n",
       "      <th>13</th>\n",
       "      <td>1</td>\n",
       "      <td>263</td>\n",
       "    </tr>\n",
       "    <tr>\n",
       "      <th>14</th>\n",
       "      <td>1</td>\n",
       "      <td>185</td>\n",
       "    </tr>\n",
       "    <tr>\n",
       "      <th>15</th>\n",
       "      <td>1</td>\n",
       "      <td>26</td>\n",
       "    </tr>\n",
       "    <tr>\n",
       "      <th>16</th>\n",
       "      <td>0</td>\n",
       "      <td>0</td>\n",
       "    </tr>\n",
       "    <tr>\n",
       "      <th>17</th>\n",
       "      <td>0</td>\n",
       "      <td>0</td>\n",
       "    </tr>\n",
       "    <tr>\n",
       "      <th>18</th>\n",
       "      <td>1</td>\n",
       "      <td>229</td>\n",
       "    </tr>\n",
       "    <tr>\n",
       "      <th>19</th>\n",
       "      <td>0</td>\n",
       "      <td>0</td>\n",
       "    </tr>\n",
       "    <tr>\n",
       "      <th>20</th>\n",
       "      <td>0</td>\n",
       "      <td>0</td>\n",
       "    </tr>\n",
       "    <tr>\n",
       "      <th>21</th>\n",
       "      <td>1</td>\n",
       "      <td>993</td>\n",
       "    </tr>\n",
       "    <tr>\n",
       "      <th>22</th>\n",
       "      <td>1</td>\n",
       "      <td>142</td>\n",
       "    </tr>\n",
       "    <tr>\n",
       "      <th>23</th>\n",
       "      <td>1</td>\n",
       "      <td>65</td>\n",
       "    </tr>\n",
       "    <tr>\n",
       "      <th>24</th>\n",
       "      <td>0</td>\n",
       "      <td>0</td>\n",
       "    </tr>\n",
       "    <tr>\n",
       "      <th>25</th>\n",
       "      <td>0</td>\n",
       "      <td>0</td>\n",
       "    </tr>\n",
       "    <tr>\n",
       "      <th>26</th>\n",
       "      <td>0</td>\n",
       "      <td>0</td>\n",
       "    </tr>\n",
       "    <tr>\n",
       "      <th>27</th>\n",
       "      <td>1</td>\n",
       "      <td>557</td>\n",
       "    </tr>\n",
       "    <tr>\n",
       "      <th>28</th>\n",
       "      <td>1</td>\n",
       "      <td>161</td>\n",
       "    </tr>\n",
       "    <tr>\n",
       "      <th>29</th>\n",
       "      <td>1</td>\n",
       "      <td>151</td>\n",
       "    </tr>\n",
       "    <tr>\n",
       "      <th>...</th>\n",
       "      <td>...</td>\n",
       "      <td>...</td>\n",
       "    </tr>\n",
       "    <tr>\n",
       "      <th>38944</th>\n",
       "      <td>1</td>\n",
       "      <td>81</td>\n",
       "    </tr>\n",
       "    <tr>\n",
       "      <th>38945</th>\n",
       "      <td>0</td>\n",
       "      <td>0</td>\n",
       "    </tr>\n",
       "    <tr>\n",
       "      <th>38946</th>\n",
       "      <td>1</td>\n",
       "      <td>96</td>\n",
       "    </tr>\n",
       "    <tr>\n",
       "      <th>38947</th>\n",
       "      <td>0</td>\n",
       "      <td>0</td>\n",
       "    </tr>\n",
       "    <tr>\n",
       "      <th>38948</th>\n",
       "      <td>1</td>\n",
       "      <td>1034</td>\n",
       "    </tr>\n",
       "    <tr>\n",
       "      <th>38949</th>\n",
       "      <td>1</td>\n",
       "      <td>65</td>\n",
       "    </tr>\n",
       "    <tr>\n",
       "      <th>38950</th>\n",
       "      <td>1</td>\n",
       "      <td>120</td>\n",
       "    </tr>\n",
       "    <tr>\n",
       "      <th>38951</th>\n",
       "      <td>1</td>\n",
       "      <td>55</td>\n",
       "    </tr>\n",
       "    <tr>\n",
       "      <th>38952</th>\n",
       "      <td>1</td>\n",
       "      <td>322</td>\n",
       "    </tr>\n",
       "    <tr>\n",
       "      <th>38953</th>\n",
       "      <td>1</td>\n",
       "      <td>4179</td>\n",
       "    </tr>\n",
       "    <tr>\n",
       "      <th>38954</th>\n",
       "      <td>1</td>\n",
       "      <td>559</td>\n",
       "    </tr>\n",
       "    <tr>\n",
       "      <th>38955</th>\n",
       "      <td>1</td>\n",
       "      <td>177</td>\n",
       "    </tr>\n",
       "    <tr>\n",
       "      <th>38956</th>\n",
       "      <td>0</td>\n",
       "      <td>0</td>\n",
       "    </tr>\n",
       "    <tr>\n",
       "      <th>38957</th>\n",
       "      <td>0</td>\n",
       "      <td>0</td>\n",
       "    </tr>\n",
       "    <tr>\n",
       "      <th>38958</th>\n",
       "      <td>0</td>\n",
       "      <td>0</td>\n",
       "    </tr>\n",
       "    <tr>\n",
       "      <th>38959</th>\n",
       "      <td>1</td>\n",
       "      <td>212</td>\n",
       "    </tr>\n",
       "    <tr>\n",
       "      <th>38960</th>\n",
       "      <td>0</td>\n",
       "      <td>0</td>\n",
       "    </tr>\n",
       "    <tr>\n",
       "      <th>38961</th>\n",
       "      <td>0</td>\n",
       "      <td>0</td>\n",
       "    </tr>\n",
       "    <tr>\n",
       "      <th>38962</th>\n",
       "      <td>1</td>\n",
       "      <td>2870</td>\n",
       "    </tr>\n",
       "    <tr>\n",
       "      <th>38963</th>\n",
       "      <td>1</td>\n",
       "      <td>165</td>\n",
       "    </tr>\n",
       "    <tr>\n",
       "      <th>38964</th>\n",
       "      <td>1</td>\n",
       "      <td>143</td>\n",
       "    </tr>\n",
       "    <tr>\n",
       "      <th>38965</th>\n",
       "      <td>1</td>\n",
       "      <td>192</td>\n",
       "    </tr>\n",
       "    <tr>\n",
       "      <th>38966</th>\n",
       "      <td>1</td>\n",
       "      <td>1311</td>\n",
       "    </tr>\n",
       "    <tr>\n",
       "      <th>38967</th>\n",
       "      <td>1</td>\n",
       "      <td>100</td>\n",
       "    </tr>\n",
       "    <tr>\n",
       "      <th>38968</th>\n",
       "      <td>0</td>\n",
       "      <td>0</td>\n",
       "    </tr>\n",
       "    <tr>\n",
       "      <th>38969</th>\n",
       "      <td>1</td>\n",
       "      <td>24</td>\n",
       "    </tr>\n",
       "    <tr>\n",
       "      <th>38970</th>\n",
       "      <td>0</td>\n",
       "      <td>0</td>\n",
       "    </tr>\n",
       "    <tr>\n",
       "      <th>38971</th>\n",
       "      <td>1</td>\n",
       "      <td>302</td>\n",
       "    </tr>\n",
       "    <tr>\n",
       "      <th>38972</th>\n",
       "      <td>0</td>\n",
       "      <td>0</td>\n",
       "    </tr>\n",
       "    <tr>\n",
       "      <th>38973</th>\n",
       "      <td>1</td>\n",
       "      <td>320</td>\n",
       "    </tr>\n",
       "  </tbody>\n",
       "</table>\n",
       "<p>38974 rows × 2 columns</p>\n",
       "</div>"
      ],
      "text/plain": [
       "       OBVEXPcat  OBVEXP12\n",
       "0              0         0\n",
       "1              0         0\n",
       "2              0         0\n",
       "3              1       451\n",
       "4              1       127\n",
       "5              1       143\n",
       "6              0         0\n",
       "7              0         0\n",
       "8              0         0\n",
       "9              0         0\n",
       "10             0         0\n",
       "11             1      2704\n",
       "12             1       327\n",
       "13             1       263\n",
       "14             1       185\n",
       "15             1        26\n",
       "16             0         0\n",
       "17             0         0\n",
       "18             1       229\n",
       "19             0         0\n",
       "20             0         0\n",
       "21             1       993\n",
       "22             1       142\n",
       "23             1        65\n",
       "24             0         0\n",
       "25             0         0\n",
       "26             0         0\n",
       "27             1       557\n",
       "28             1       161\n",
       "29             1       151\n",
       "...          ...       ...\n",
       "38944          1        81\n",
       "38945          0         0\n",
       "38946          1        96\n",
       "38947          0         0\n",
       "38948          1      1034\n",
       "38949          1        65\n",
       "38950          1       120\n",
       "38951          1        55\n",
       "38952          1       322\n",
       "38953          1      4179\n",
       "38954          1       559\n",
       "38955          1       177\n",
       "38956          0         0\n",
       "38957          0         0\n",
       "38958          0         0\n",
       "38959          1       212\n",
       "38960          0         0\n",
       "38961          0         0\n",
       "38962          1      2870\n",
       "38963          1       165\n",
       "38964          1       143\n",
       "38965          1       192\n",
       "38966          1      1311\n",
       "38967          1       100\n",
       "38968          0         0\n",
       "38969          1        24\n",
       "38970          0         0\n",
       "38971          1       302\n",
       "38972          0         0\n",
       "38973          1       320\n",
       "\n",
       "[38974 rows x 2 columns]"
      ]
     },
     "execution_count": 14,
     "metadata": {},
     "output_type": "execute_result"
    }
   ],
   "source": [
    "df[['OBVEXPcat','OBVEXP12']]"
   ]
  },
  {
   "cell_type": "code",
   "execution_count": 15,
   "metadata": {
    "collapsed": false
   },
   "outputs": [
    {
     "data": {
      "text/plain": [
       "LogisticRegression(C=1.0, class_weight=None, dual=False, fit_intercept=True,\n",
       "          intercept_scaling=1, penalty='l2', random_state=None, tol=0.0001)"
      ]
     },
     "execution_count": 15,
     "metadata": {},
     "output_type": "execute_result"
    }
   ],
   "source": [
    "from sklearn import metrics\n",
    "from sklearn.linear_model import LogisticRegression\n",
    "from sklearn.cross_validation import train_test_split\n",
    "\n",
    "rng = np.random.RandomState(42)\n",
    "obcx_train, obcx_test, obcy_train, obcy_test = train_test_split(obcX,obcY, random_state=rng)\n",
    "\n",
    "model = LogisticRegression()\n",
    "model.fit(obcx_train, obcy_train)"
   ]
  },
  {
   "cell_type": "code",
   "execution_count": 16,
   "metadata": {
    "collapsed": false,
    "scrolled": true
   },
   "outputs": [
    {
     "name": "stdout",
     "output_type": "stream",
     "text": [
      "             precision    recall  f1-score   support\n",
      "\n",
      "          0       0.52      0.26      0.35      3612\n",
      "          1       0.66      0.86      0.75      6132\n",
      "\n",
      "avg / total       0.61      0.64      0.60      9744\n",
      "\n",
      "[[ 933 2679]\n",
      " [ 858 5274]]\n"
     ]
    }
   ],
   "source": [
    "# make predictions\n",
    "expected = obcy_test\n",
    "predicted = model.predict(obcx_test)\n",
    "# summarize the fit of the model\n",
    "print(metrics.classification_report(expected, predicted))\n",
    "print(metrics.confusion_matrix(expected, predicted))"
   ]
  },
  {
   "cell_type": "code",
   "execution_count": 17,
   "metadata": {
    "collapsed": false
   },
   "outputs": [
    {
     "name": "stdout",
     "output_type": "stream",
     "text": [
      "accuracy:   0.637\n"
     ]
    }
   ],
   "source": [
    "score = metrics.accuracy_score(obcy_test, predicted)\n",
    "print(\"accuracy:   %0.3f\" % score)"
   ]
  },
  {
   "cell_type": "code",
   "execution_count": 21,
   "metadata": {
    "collapsed": false
   },
   "outputs": [
    {
     "data": {
      "text/plain": [
       "RandomForestClassifier(bootstrap=True, compute_importances=None,\n",
       "            criterion='gini', max_depth=7, max_features=0.5,\n",
       "            max_leaf_nodes=None, min_density=None, min_samples_leaf=2,\n",
       "            min_samples_split=2, n_estimators=100, n_jobs=100,\n",
       "            oob_score=True, random_state=None, verbose=0)"
      ]
     },
     "execution_count": 21,
     "metadata": {},
     "output_type": "execute_result"
    }
   ],
   "source": [
    "from sklearn.ensemble import RandomForestClassifier\n",
    "\n",
    "# split the data\n",
    "xro_train, xro_test, yro_train, yro_test = train_test_split(obcX, obcY, random_state=42)\n",
    "\n",
    "#sw = np.array([2 if i == 1 else 1 for i in yro_train])\n",
    "\n",
    "ro2 = RandomForestClassifier(n_estimators=100, oob_score=True,n_jobs=100, \n",
    "                              max_features=0.5, max_depth=7, min_samples_leaf=2)\n",
    "ro2.fit(xro_train,yro_train)#,sample_weight=sw"
   ]
  },
  {
   "cell_type": "code",
   "execution_count": 22,
   "metadata": {
    "collapsed": false
   },
   "outputs": [
    {
     "name": "stdout",
     "output_type": "stream",
     "text": [
      "             precision    recall  f1-score   support\n",
      "\n",
      "          0       0.63      0.38      0.48      3612\n",
      "          1       0.71      0.87      0.78      6132\n",
      "\n",
      "avg / total       0.68      0.69      0.67      9744\n",
      "\n",
      "accuracy:   0.689\n"
     ]
    }
   ],
   "source": [
    "# make predictions\n",
    "expected = yro_test\n",
    "predicted = ro2.predict(xro_test)\n",
    "# summarize the fit of the model\n",
    "print(metrics.classification_report(expected, predicted))\n",
    "#print(metrics.confusion_matrix(expected, predicted))\n",
    "score = metrics.accuracy_score(yro_test, predicted)\n",
    "print(\"accuracy:   %0.3f\" % score)"
   ]
  },
  {
   "cell_type": "code",
   "execution_count": null,
   "metadata": {
    "collapsed": true
   },
   "outputs": [],
   "source": []
  },
  {
   "cell_type": "markdown",
   "metadata": {},
   "source": [
    "### ER visits"
   ]
  },
  {
   "cell_type": "code",
   "execution_count": 410,
   "metadata": {
    "collapsed": false
   },
   "outputs": [],
   "source": [
    "df['ERTEXPcat'] = np.where(df['ERTEXP12']>0, 1, 0)\n",
    "ercY = df['ERTEXPcat']"
   ]
  },
  {
   "cell_type": "code",
   "execution_count": 411,
   "metadata": {
    "collapsed": false,
    "scrolled": true
   },
   "outputs": [
    {
     "data": {
      "text/html": [
       "<div style=\"max-height:1000px;max-width:1500px;overflow:auto;\">\n",
       "<table border=\"1\" class=\"dataframe\">\n",
       "  <thead>\n",
       "    <tr style=\"text-align: right;\">\n",
       "      <th></th>\n",
       "      <th>ERTEXPcat</th>\n",
       "      <th>ERTEXP12</th>\n",
       "    </tr>\n",
       "  </thead>\n",
       "  <tbody>\n",
       "    <tr>\n",
       "      <th>0</th>\n",
       "      <td>0</td>\n",
       "      <td>0</td>\n",
       "    </tr>\n",
       "    <tr>\n",
       "      <th>1</th>\n",
       "      <td>0</td>\n",
       "      <td>0</td>\n",
       "    </tr>\n",
       "    <tr>\n",
       "      <th>2</th>\n",
       "      <td>0</td>\n",
       "      <td>0</td>\n",
       "    </tr>\n",
       "    <tr>\n",
       "      <th>3</th>\n",
       "      <td>0</td>\n",
       "      <td>0</td>\n",
       "    </tr>\n",
       "    <tr>\n",
       "      <th>4</th>\n",
       "      <td>0</td>\n",
       "      <td>0</td>\n",
       "    </tr>\n",
       "    <tr>\n",
       "      <th>5</th>\n",
       "      <td>0</td>\n",
       "      <td>0</td>\n",
       "    </tr>\n",
       "    <tr>\n",
       "      <th>6</th>\n",
       "      <td>0</td>\n",
       "      <td>0</td>\n",
       "    </tr>\n",
       "    <tr>\n",
       "      <th>7</th>\n",
       "      <td>0</td>\n",
       "      <td>0</td>\n",
       "    </tr>\n",
       "    <tr>\n",
       "      <th>8</th>\n",
       "      <td>0</td>\n",
       "      <td>0</td>\n",
       "    </tr>\n",
       "    <tr>\n",
       "      <th>9</th>\n",
       "      <td>0</td>\n",
       "      <td>0</td>\n",
       "    </tr>\n",
       "    <tr>\n",
       "      <th>10</th>\n",
       "      <td>0</td>\n",
       "      <td>0</td>\n",
       "    </tr>\n",
       "    <tr>\n",
       "      <th>11</th>\n",
       "      <td>0</td>\n",
       "      <td>0</td>\n",
       "    </tr>\n",
       "    <tr>\n",
       "      <th>12</th>\n",
       "      <td>0</td>\n",
       "      <td>0</td>\n",
       "    </tr>\n",
       "    <tr>\n",
       "      <th>13</th>\n",
       "      <td>0</td>\n",
       "      <td>0</td>\n",
       "    </tr>\n",
       "    <tr>\n",
       "      <th>14</th>\n",
       "      <td>0</td>\n",
       "      <td>0</td>\n",
       "    </tr>\n",
       "    <tr>\n",
       "      <th>15</th>\n",
       "      <td>0</td>\n",
       "      <td>0</td>\n",
       "    </tr>\n",
       "    <tr>\n",
       "      <th>16</th>\n",
       "      <td>0</td>\n",
       "      <td>0</td>\n",
       "    </tr>\n",
       "    <tr>\n",
       "      <th>17</th>\n",
       "      <td>0</td>\n",
       "      <td>0</td>\n",
       "    </tr>\n",
       "    <tr>\n",
       "      <th>18</th>\n",
       "      <td>0</td>\n",
       "      <td>0</td>\n",
       "    </tr>\n",
       "    <tr>\n",
       "      <th>19</th>\n",
       "      <td>0</td>\n",
       "      <td>0</td>\n",
       "    </tr>\n",
       "    <tr>\n",
       "      <th>20</th>\n",
       "      <td>0</td>\n",
       "      <td>0</td>\n",
       "    </tr>\n",
       "    <tr>\n",
       "      <th>21</th>\n",
       "      <td>0</td>\n",
       "      <td>0</td>\n",
       "    </tr>\n",
       "    <tr>\n",
       "      <th>22</th>\n",
       "      <td>0</td>\n",
       "      <td>0</td>\n",
       "    </tr>\n",
       "    <tr>\n",
       "      <th>23</th>\n",
       "      <td>0</td>\n",
       "      <td>0</td>\n",
       "    </tr>\n",
       "    <tr>\n",
       "      <th>24</th>\n",
       "      <td>0</td>\n",
       "      <td>0</td>\n",
       "    </tr>\n",
       "    <tr>\n",
       "      <th>25</th>\n",
       "      <td>0</td>\n",
       "      <td>0</td>\n",
       "    </tr>\n",
       "    <tr>\n",
       "      <th>26</th>\n",
       "      <td>0</td>\n",
       "      <td>0</td>\n",
       "    </tr>\n",
       "    <tr>\n",
       "      <th>27</th>\n",
       "      <td>0</td>\n",
       "      <td>0</td>\n",
       "    </tr>\n",
       "    <tr>\n",
       "      <th>28</th>\n",
       "      <td>0</td>\n",
       "      <td>0</td>\n",
       "    </tr>\n",
       "    <tr>\n",
       "      <th>29</th>\n",
       "      <td>0</td>\n",
       "      <td>0</td>\n",
       "    </tr>\n",
       "    <tr>\n",
       "      <th>...</th>\n",
       "      <td>...</td>\n",
       "      <td>...</td>\n",
       "    </tr>\n",
       "    <tr>\n",
       "      <th>38944</th>\n",
       "      <td>0</td>\n",
       "      <td>0</td>\n",
       "    </tr>\n",
       "    <tr>\n",
       "      <th>38945</th>\n",
       "      <td>0</td>\n",
       "      <td>0</td>\n",
       "    </tr>\n",
       "    <tr>\n",
       "      <th>38946</th>\n",
       "      <td>0</td>\n",
       "      <td>0</td>\n",
       "    </tr>\n",
       "    <tr>\n",
       "      <th>38947</th>\n",
       "      <td>0</td>\n",
       "      <td>0</td>\n",
       "    </tr>\n",
       "    <tr>\n",
       "      <th>38948</th>\n",
       "      <td>0</td>\n",
       "      <td>0</td>\n",
       "    </tr>\n",
       "    <tr>\n",
       "      <th>38949</th>\n",
       "      <td>0</td>\n",
       "      <td>0</td>\n",
       "    </tr>\n",
       "    <tr>\n",
       "      <th>38950</th>\n",
       "      <td>0</td>\n",
       "      <td>0</td>\n",
       "    </tr>\n",
       "    <tr>\n",
       "      <th>38951</th>\n",
       "      <td>0</td>\n",
       "      <td>0</td>\n",
       "    </tr>\n",
       "    <tr>\n",
       "      <th>38952</th>\n",
       "      <td>0</td>\n",
       "      <td>0</td>\n",
       "    </tr>\n",
       "    <tr>\n",
       "      <th>38953</th>\n",
       "      <td>1</td>\n",
       "      <td>49</td>\n",
       "    </tr>\n",
       "    <tr>\n",
       "      <th>38954</th>\n",
       "      <td>0</td>\n",
       "      <td>0</td>\n",
       "    </tr>\n",
       "    <tr>\n",
       "      <th>38955</th>\n",
       "      <td>0</td>\n",
       "      <td>0</td>\n",
       "    </tr>\n",
       "    <tr>\n",
       "      <th>38956</th>\n",
       "      <td>0</td>\n",
       "      <td>0</td>\n",
       "    </tr>\n",
       "    <tr>\n",
       "      <th>38957</th>\n",
       "      <td>0</td>\n",
       "      <td>0</td>\n",
       "    </tr>\n",
       "    <tr>\n",
       "      <th>38958</th>\n",
       "      <td>1</td>\n",
       "      <td>359</td>\n",
       "    </tr>\n",
       "    <tr>\n",
       "      <th>38959</th>\n",
       "      <td>0</td>\n",
       "      <td>0</td>\n",
       "    </tr>\n",
       "    <tr>\n",
       "      <th>38960</th>\n",
       "      <td>0</td>\n",
       "      <td>0</td>\n",
       "    </tr>\n",
       "    <tr>\n",
       "      <th>38961</th>\n",
       "      <td>1</td>\n",
       "      <td>1527</td>\n",
       "    </tr>\n",
       "    <tr>\n",
       "      <th>38962</th>\n",
       "      <td>0</td>\n",
       "      <td>0</td>\n",
       "    </tr>\n",
       "    <tr>\n",
       "      <th>38963</th>\n",
       "      <td>0</td>\n",
       "      <td>0</td>\n",
       "    </tr>\n",
       "    <tr>\n",
       "      <th>38964</th>\n",
       "      <td>0</td>\n",
       "      <td>0</td>\n",
       "    </tr>\n",
       "    <tr>\n",
       "      <th>38965</th>\n",
       "      <td>0</td>\n",
       "      <td>0</td>\n",
       "    </tr>\n",
       "    <tr>\n",
       "      <th>38966</th>\n",
       "      <td>0</td>\n",
       "      <td>0</td>\n",
       "    </tr>\n",
       "    <tr>\n",
       "      <th>38967</th>\n",
       "      <td>0</td>\n",
       "      <td>0</td>\n",
       "    </tr>\n",
       "    <tr>\n",
       "      <th>38968</th>\n",
       "      <td>0</td>\n",
       "      <td>0</td>\n",
       "    </tr>\n",
       "    <tr>\n",
       "      <th>38969</th>\n",
       "      <td>0</td>\n",
       "      <td>0</td>\n",
       "    </tr>\n",
       "    <tr>\n",
       "      <th>38970</th>\n",
       "      <td>0</td>\n",
       "      <td>0</td>\n",
       "    </tr>\n",
       "    <tr>\n",
       "      <th>38971</th>\n",
       "      <td>0</td>\n",
       "      <td>0</td>\n",
       "    </tr>\n",
       "    <tr>\n",
       "      <th>38972</th>\n",
       "      <td>0</td>\n",
       "      <td>0</td>\n",
       "    </tr>\n",
       "    <tr>\n",
       "      <th>38973</th>\n",
       "      <td>1</td>\n",
       "      <td>664</td>\n",
       "    </tr>\n",
       "  </tbody>\n",
       "</table>\n",
       "<p>38974 rows × 2 columns</p>\n",
       "</div>"
      ],
      "text/plain": [
       "       ERTEXPcat  ERTEXP12\n",
       "0              0         0\n",
       "1              0         0\n",
       "2              0         0\n",
       "3              0         0\n",
       "4              0         0\n",
       "5              0         0\n",
       "6              0         0\n",
       "7              0         0\n",
       "8              0         0\n",
       "9              0         0\n",
       "10             0         0\n",
       "11             0         0\n",
       "12             0         0\n",
       "13             0         0\n",
       "14             0         0\n",
       "15             0         0\n",
       "16             0         0\n",
       "17             0         0\n",
       "18             0         0\n",
       "19             0         0\n",
       "20             0         0\n",
       "21             0         0\n",
       "22             0         0\n",
       "23             0         0\n",
       "24             0         0\n",
       "25             0         0\n",
       "26             0         0\n",
       "27             0         0\n",
       "28             0         0\n",
       "29             0         0\n",
       "...          ...       ...\n",
       "38944          0         0\n",
       "38945          0         0\n",
       "38946          0         0\n",
       "38947          0         0\n",
       "38948          0         0\n",
       "38949          0         0\n",
       "38950          0         0\n",
       "38951          0         0\n",
       "38952          0         0\n",
       "38953          1        49\n",
       "38954          0         0\n",
       "38955          0         0\n",
       "38956          0         0\n",
       "38957          0         0\n",
       "38958          1       359\n",
       "38959          0         0\n",
       "38960          0         0\n",
       "38961          1      1527\n",
       "38962          0         0\n",
       "38963          0         0\n",
       "38964          0         0\n",
       "38965          0         0\n",
       "38966          0         0\n",
       "38967          0         0\n",
       "38968          0         0\n",
       "38969          0         0\n",
       "38970          0         0\n",
       "38971          0         0\n",
       "38972          0         0\n",
       "38973          1       664\n",
       "\n",
       "[38974 rows x 2 columns]"
      ]
     },
     "execution_count": 411,
     "metadata": {},
     "output_type": "execute_result"
    }
   ],
   "source": [
    "df[['ERTEXPcat','ERTEXP12']]"
   ]
  },
  {
   "cell_type": "code",
   "execution_count": 415,
   "metadata": {
    "collapsed": false
   },
   "outputs": [
    {
     "data": {
      "text/html": [
       "<div style=\"max-height:1000px;max-width:1500px;overflow:auto;\">\n",
       "<table border=\"1\" class=\"dataframe\">\n",
       "  <thead>\n",
       "    <tr style=\"text-align: right;\">\n",
       "      <th></th>\n",
       "      <th>Unnamed: 0</th>\n",
       "      <th>DUID</th>\n",
       "      <th>PID</th>\n",
       "      <th>DUPERSID</th>\n",
       "      <th>HIBPAGED</th>\n",
       "      <th>STRKAGED</th>\n",
       "      <th>CHOLAGED</th>\n",
       "      <th>DIABAGED</th>\n",
       "      <th>ADHDAGED</th>\n",
       "      <th>BMINDX53</th>\n",
       "      <th>...</th>\n",
       "      <th>FTSTU12X</th>\n",
       "      <th>ACTDTY42</th>\n",
       "      <th>HONRDC42</th>\n",
       "      <th>OBVEXPlog</th>\n",
       "      <th>ERTEXPlog</th>\n",
       "      <th>HHAEXPlog</th>\n",
       "      <th>IPTEXPlog</th>\n",
       "      <th>RXEXPlog</th>\n",
       "      <th>TOTEXPlog</th>\n",
       "      <th>OBVEXPcat</th>\n",
       "    </tr>\n",
       "    <tr>\n",
       "      <th>ERTEXPcat</th>\n",
       "      <th></th>\n",
       "      <th></th>\n",
       "      <th></th>\n",
       "      <th></th>\n",
       "      <th></th>\n",
       "      <th></th>\n",
       "      <th></th>\n",
       "      <th></th>\n",
       "      <th></th>\n",
       "      <th></th>\n",
       "      <th></th>\n",
       "      <th></th>\n",
       "      <th></th>\n",
       "      <th></th>\n",
       "      <th></th>\n",
       "      <th></th>\n",
       "      <th></th>\n",
       "      <th></th>\n",
       "      <th></th>\n",
       "      <th></th>\n",
       "      <th></th>\n",
       "    </tr>\n",
       "  </thead>\n",
       "  <tbody>\n",
       "    <tr>\n",
       "      <th>0</th>\n",
       "      <td>34347</td>\n",
       "      <td>34347</td>\n",
       "      <td>34347</td>\n",
       "      <td>34347</td>\n",
       "      <td>34347</td>\n",
       "      <td>34347</td>\n",
       "      <td>34347</td>\n",
       "      <td>34347</td>\n",
       "      <td>34347</td>\n",
       "      <td>34347</td>\n",
       "      <td>...</td>\n",
       "      <td>34347</td>\n",
       "      <td>34347</td>\n",
       "      <td>34347</td>\n",
       "      <td>34347</td>\n",
       "      <td>34347</td>\n",
       "      <td>34347</td>\n",
       "      <td>34347</td>\n",
       "      <td>34347</td>\n",
       "      <td>34347</td>\n",
       "      <td>34347</td>\n",
       "    </tr>\n",
       "    <tr>\n",
       "      <th>1</th>\n",
       "      <td>4627</td>\n",
       "      <td>4627</td>\n",
       "      <td>4627</td>\n",
       "      <td>4627</td>\n",
       "      <td>4627</td>\n",
       "      <td>4627</td>\n",
       "      <td>4627</td>\n",
       "      <td>4627</td>\n",
       "      <td>4627</td>\n",
       "      <td>4627</td>\n",
       "      <td>...</td>\n",
       "      <td>4627</td>\n",
       "      <td>4627</td>\n",
       "      <td>4627</td>\n",
       "      <td>4627</td>\n",
       "      <td>4627</td>\n",
       "      <td>4627</td>\n",
       "      <td>4627</td>\n",
       "      <td>4627</td>\n",
       "      <td>4627</td>\n",
       "      <td>4627</td>\n",
       "    </tr>\n",
       "  </tbody>\n",
       "</table>\n",
       "<p>2 rows × 74 columns</p>\n",
       "</div>"
      ],
      "text/plain": [
       "           Unnamed: 0   DUID    PID  DUPERSID  HIBPAGED  STRKAGED  CHOLAGED  \\\n",
       "ERTEXPcat                                                                     \n",
       "0               34347  34347  34347     34347     34347     34347     34347   \n",
       "1                4627   4627   4627      4627      4627      4627      4627   \n",
       "\n",
       "           DIABAGED  ADHDAGED  BMINDX53    ...      FTSTU12X  ACTDTY42  \\\n",
       "ERTEXPcat                                  ...                           \n",
       "0             34347     34347     34347    ...         34347     34347   \n",
       "1              4627      4627      4627    ...          4627      4627   \n",
       "\n",
       "           HONRDC42  OBVEXPlog  ERTEXPlog  HHAEXPlog  IPTEXPlog  RXEXPlog  \\\n",
       "ERTEXPcat                                                                   \n",
       "0             34347      34347      34347      34347      34347     34347   \n",
       "1              4627       4627       4627       4627       4627      4627   \n",
       "\n",
       "           TOTEXPlog  OBVEXPcat  \n",
       "ERTEXPcat                        \n",
       "0              34347      34347  \n",
       "1               4627       4627  \n",
       "\n",
       "[2 rows x 74 columns]"
      ]
     },
     "execution_count": 415,
     "metadata": {},
     "output_type": "execute_result"
    }
   ],
   "source": [
    "df.groupby('ERTEXPcat').count()"
   ]
  },
  {
   "cell_type": "code",
   "execution_count": 412,
   "metadata": {
    "collapsed": false
   },
   "outputs": [
    {
     "data": {
      "text/plain": [
       "LogisticRegression(C=1.0, class_weight=None, dual=False, fit_intercept=True,\n",
       "          intercept_scaling=1, penalty='l2', random_state=None, tol=0.0001)"
      ]
     },
     "execution_count": 412,
     "metadata": {},
     "output_type": "execute_result"
    }
   ],
   "source": [
    "rng = np.random.RandomState(42)\n",
    "ercx_train, ercx_test, ercy_train, ercy_test = train_test_split(erX2,ercY, random_state=rng)\n",
    "\n",
    "model = LogisticRegression()\n",
    "model.fit(ercx_train, ercy_train)"
   ]
  },
  {
   "cell_type": "code",
   "execution_count": 413,
   "metadata": {
    "collapsed": false
   },
   "outputs": [
    {
     "name": "stdout",
     "output_type": "stream",
     "text": [
      "             precision    recall  f1-score   support\n",
      "\n",
      "          0       0.88      1.00      0.94      8604\n",
      "          1       0.57      0.01      0.03      1140\n",
      "\n",
      "avg / total       0.85      0.88      0.83      9744\n",
      "\n",
      "[[8592   12]\n",
      " [1124   16]]\n"
     ]
    }
   ],
   "source": [
    "# make predictions\n",
    "expected = ercy_test\n",
    "predicted = model.predict(ercx_test)\n",
    "# summarize the fit of the model\n",
    "print(metrics.classification_report(expected, predicted))\n",
    "print(metrics.confusion_matrix(expected, predicted))"
   ]
  },
  {
   "cell_type": "code",
   "execution_count": 427,
   "metadata": {
    "collapsed": false
   },
   "outputs": [
    {
     "name": "stdout",
     "output_type": "stream",
     "text": [
      "accuracy:   0.883\n"
     ]
    }
   ],
   "source": [
    "score = metrics.accuracy_score(ercy_test, predicted)\n",
    "print(\"accuracy:   %0.3f\" % score)"
   ]
  },
  {
   "cell_type": "code",
   "execution_count": 418,
   "metadata": {
    "collapsed": false,
    "scrolled": true
   },
   "outputs": [
    {
     "data": {
      "text/plain": [
       "RandomForestClassifier(bootstrap=True, compute_importances=None,\n",
       "            criterion='gini', max_depth=7, max_features=0.5,\n",
       "            max_leaf_nodes=None, min_density=None, min_samples_leaf=2,\n",
       "            min_samples_split=2, n_estimators=100, n_jobs=100,\n",
       "            oob_score=True, random_state=None, verbose=0)"
      ]
     },
     "execution_count": 418,
     "metadata": {},
     "output_type": "execute_result"
    }
   ],
   "source": [
    "from sklearn.ensemble import RandomForestClassifier\n",
    "\n",
    "# split the data\n",
    "xre_train, xre_test, yre_train, yre_test = train_test_split(erX2, ercY, random_state=42)\n",
    "\n",
    "sw = np.array([7 if i == 1 else 1 for i in yre_train])\n",
    "\n",
    "re2 = RandomForestClassifier(n_estimators=100, oob_score=True,n_jobs=100, \n",
    "                              max_features=0.5, max_depth=7, min_samples_leaf=2)\n",
    "re2.fit(xre_train,yre_train,sample_weight=sw)"
   ]
  },
  {
   "cell_type": "code",
   "execution_count": 419,
   "metadata": {
    "collapsed": false
   },
   "outputs": [
    {
     "name": "stdout",
     "output_type": "stream",
     "text": [
      "             precision    recall  f1-score   support\n",
      "\n",
      "          0       0.91      0.78      0.84      8604\n",
      "          1       0.21      0.45      0.29      1140\n",
      "\n",
      "avg / total       0.83      0.74      0.78      9744\n",
      "\n",
      "accuracy:   0.742\n"
     ]
    }
   ],
   "source": [
    "# make predictions\n",
    "expected = yre_test\n",
    "predicted = re2.predict(xre_test)\n",
    "# summarize the fit of the model\n",
    "print(metrics.classification_report(expected, predicted))\n",
    "#print(metrics.confusion_matrix(expected, predicted))\n",
    "score = metrics.accuracy_score(yre_test, predicted)\n",
    "print(\"accuracy:   %0.3f\" % score)"
   ]
  },
  {
   "cell_type": "code",
   "execution_count": null,
   "metadata": {
    "collapsed": true
   },
   "outputs": [],
   "source": []
  },
  {
   "cell_type": "code",
   "execution_count": null,
   "metadata": {
    "collapsed": true
   },
   "outputs": [],
   "source": []
  },
  {
   "cell_type": "markdown",
   "metadata": {},
   "source": [
    "### Inpatient visits"
   ]
  },
  {
   "cell_type": "code",
   "execution_count": 420,
   "metadata": {
    "collapsed": true
   },
   "outputs": [],
   "source": [
    "df['IPTEXPcat'] = np.where(df['IPTEXP12']>0, 1, 0)\n",
    "incY=df['IPTEXPcat'].values"
   ]
  },
  {
   "cell_type": "code",
   "execution_count": 423,
   "metadata": {
    "collapsed": false
   },
   "outputs": [
    {
     "data": {
      "text/plain": [
       "LogisticRegression(C=1.0, class_weight=None, dual=False, fit_intercept=True,\n",
       "          intercept_scaling=1, penalty='l2', random_state=None, tol=0.0001)"
      ]
     },
     "execution_count": 423,
     "metadata": {},
     "output_type": "execute_result"
    }
   ],
   "source": [
    "rng = np.random.RandomState(42)\n",
    "incx_train, incx_test, incy_train, incy_test = train_test_split(inX2,incY, random_state=rng)\n",
    "\n",
    "model = LogisticRegression()\n",
    "model.fit(incx_train,incy_train)"
   ]
  },
  {
   "cell_type": "code",
   "execution_count": 424,
   "metadata": {
    "collapsed": false
   },
   "outputs": [
    {
     "name": "stdout",
     "output_type": "stream",
     "text": [
      "             precision    recall  f1-score   support\n",
      "\n",
      "          0       0.94      1.00      0.97      9149\n",
      "          1       0.00      0.00      0.00       595\n",
      "\n",
      "avg / total       0.88      0.94      0.91      9744\n",
      "\n",
      "[[9149    0]\n",
      " [ 595    0]]\n"
     ]
    }
   ],
   "source": [
    "# make predictions\n",
    "expected = incy_test\n",
    "predicted = model.predict(incx_test)\n",
    "# summarize the fit of the model\n",
    "print(metrics.classification_report(expected, predicted))\n",
    "print(metrics.confusion_matrix(expected, predicted))"
   ]
  },
  {
   "cell_type": "code",
   "execution_count": 426,
   "metadata": {
    "collapsed": false
   },
   "outputs": [
    {
     "name": "stdout",
     "output_type": "stream",
     "text": [
      "accuracy:   0.939\n"
     ]
    }
   ],
   "source": [
    "score = metrics.accuracy_score(incy_test, predicted)\n",
    "print(\"accuracy:   %0.3f\" % score)"
   ]
  },
  {
   "cell_type": "code",
   "execution_count": 430,
   "metadata": {
    "collapsed": false
   },
   "outputs": [
    {
     "data": {
      "text/html": [
       "<div style=\"max-height:1000px;max-width:1500px;overflow:auto;\">\n",
       "<table border=\"1\" class=\"dataframe\">\n",
       "  <thead>\n",
       "    <tr style=\"text-align: right;\">\n",
       "      <th></th>\n",
       "      <th>Unnamed: 0</th>\n",
       "      <th>DUID</th>\n",
       "      <th>PID</th>\n",
       "      <th>DUPERSID</th>\n",
       "      <th>HIBPAGED</th>\n",
       "      <th>STRKAGED</th>\n",
       "      <th>CHOLAGED</th>\n",
       "      <th>DIABAGED</th>\n",
       "      <th>ADHDAGED</th>\n",
       "      <th>BMINDX53</th>\n",
       "      <th>...</th>\n",
       "      <th>ACTDTY42</th>\n",
       "      <th>HONRDC42</th>\n",
       "      <th>OBVEXPlog</th>\n",
       "      <th>ERTEXPlog</th>\n",
       "      <th>HHAEXPlog</th>\n",
       "      <th>IPTEXPlog</th>\n",
       "      <th>RXEXPlog</th>\n",
       "      <th>TOTEXPlog</th>\n",
       "      <th>OBVEXPcat</th>\n",
       "      <th>ERTEXPcat</th>\n",
       "    </tr>\n",
       "    <tr>\n",
       "      <th>IPTEXPcat</th>\n",
       "      <th></th>\n",
       "      <th></th>\n",
       "      <th></th>\n",
       "      <th></th>\n",
       "      <th></th>\n",
       "      <th></th>\n",
       "      <th></th>\n",
       "      <th></th>\n",
       "      <th></th>\n",
       "      <th></th>\n",
       "      <th></th>\n",
       "      <th></th>\n",
       "      <th></th>\n",
       "      <th></th>\n",
       "      <th></th>\n",
       "      <th></th>\n",
       "      <th></th>\n",
       "      <th></th>\n",
       "      <th></th>\n",
       "      <th></th>\n",
       "      <th></th>\n",
       "    </tr>\n",
       "  </thead>\n",
       "  <tbody>\n",
       "    <tr>\n",
       "      <th>0</th>\n",
       "      <td>36613</td>\n",
       "      <td>36613</td>\n",
       "      <td>36613</td>\n",
       "      <td>36613</td>\n",
       "      <td>36613</td>\n",
       "      <td>36613</td>\n",
       "      <td>36613</td>\n",
       "      <td>36613</td>\n",
       "      <td>36613</td>\n",
       "      <td>36613</td>\n",
       "      <td>...</td>\n",
       "      <td>36613</td>\n",
       "      <td>36613</td>\n",
       "      <td>36613</td>\n",
       "      <td>36613</td>\n",
       "      <td>36613</td>\n",
       "      <td>36613</td>\n",
       "      <td>36613</td>\n",
       "      <td>36613</td>\n",
       "      <td>36613</td>\n",
       "      <td>36613</td>\n",
       "    </tr>\n",
       "    <tr>\n",
       "      <th>1</th>\n",
       "      <td>2361</td>\n",
       "      <td>2361</td>\n",
       "      <td>2361</td>\n",
       "      <td>2361</td>\n",
       "      <td>2361</td>\n",
       "      <td>2361</td>\n",
       "      <td>2361</td>\n",
       "      <td>2361</td>\n",
       "      <td>2361</td>\n",
       "      <td>2361</td>\n",
       "      <td>...</td>\n",
       "      <td>2361</td>\n",
       "      <td>2361</td>\n",
       "      <td>2361</td>\n",
       "      <td>2361</td>\n",
       "      <td>2361</td>\n",
       "      <td>2361</td>\n",
       "      <td>2361</td>\n",
       "      <td>2361</td>\n",
       "      <td>2361</td>\n",
       "      <td>2361</td>\n",
       "    </tr>\n",
       "  </tbody>\n",
       "</table>\n",
       "<p>2 rows × 75 columns</p>\n",
       "</div>"
      ],
      "text/plain": [
       "           Unnamed: 0   DUID    PID  DUPERSID  HIBPAGED  STRKAGED  CHOLAGED  \\\n",
       "IPTEXPcat                                                                     \n",
       "0               36613  36613  36613     36613     36613     36613     36613   \n",
       "1                2361   2361   2361      2361      2361      2361      2361   \n",
       "\n",
       "           DIABAGED  ADHDAGED  BMINDX53    ...      ACTDTY42  HONRDC42  \\\n",
       "IPTEXPcat                                  ...                           \n",
       "0             36613     36613     36613    ...         36613     36613   \n",
       "1              2361      2361      2361    ...          2361      2361   \n",
       "\n",
       "           OBVEXPlog  ERTEXPlog  HHAEXPlog  IPTEXPlog  RXEXPlog  TOTEXPlog  \\\n",
       "IPTEXPcat                                                                    \n",
       "0              36613      36613      36613      36613     36613      36613   \n",
       "1               2361       2361       2361       2361      2361       2361   \n",
       "\n",
       "           OBVEXPcat  ERTEXPcat  \n",
       "IPTEXPcat                        \n",
       "0              36613      36613  \n",
       "1               2361       2361  \n",
       "\n",
       "[2 rows x 75 columns]"
      ]
     },
     "execution_count": 430,
     "metadata": {},
     "output_type": "execute_result"
    }
   ],
   "source": [
    "df.groupby('IPTEXPcat').count()"
   ]
  },
  {
   "cell_type": "code",
   "execution_count": 431,
   "metadata": {
    "collapsed": false
   },
   "outputs": [
    {
     "data": {
      "text/plain": [
       "RandomForestClassifier(bootstrap=True, compute_importances=None,\n",
       "            criterion='gini', max_depth=7, max_features=0.5,\n",
       "            max_leaf_nodes=None, min_density=None, min_samples_leaf=2,\n",
       "            min_samples_split=2, n_estimators=100, n_jobs=100,\n",
       "            oob_score=True, random_state=None, verbose=0)"
      ]
     },
     "execution_count": 431,
     "metadata": {},
     "output_type": "execute_result"
    }
   ],
   "source": [
    "# split the data\n",
    "xri_train, xri_test, yri_train, yri_test = train_test_split(inX2, incY, random_state=42)\n",
    "\n",
    "sw = np.array([16 if i == 1 else 1 for i in yri_train])\n",
    "\n",
    "ri2 = RandomForestClassifier(n_estimators=100, oob_score=True,n_jobs=100, \n",
    "                              max_features=0.5, max_depth=7, min_samples_leaf=2)\n",
    "ri2.fit(xri_train,yri_train,sample_weight=sw)"
   ]
  },
  {
   "cell_type": "code",
   "execution_count": 432,
   "metadata": {
    "collapsed": false
   },
   "outputs": [
    {
     "name": "stdout",
     "output_type": "stream",
     "text": [
      "             precision    recall  f1-score   support\n",
      "\n",
      "          0       0.97      0.75      0.85      9149\n",
      "          1       0.15      0.66      0.24       595\n",
      "\n",
      "avg / total       0.92      0.75      0.81      9744\n",
      "\n",
      "accuracy:   0.746\n"
     ]
    }
   ],
   "source": [
    "# make predictions\n",
    "expected = yri_test\n",
    "predicted = ri2.predict(xri_test)\n",
    "# summarize the fit of the model\n",
    "print(metrics.classification_report(expected, predicted))\n",
    "#print(metrics.confusion_matrix(expected, predicted))\n",
    "score = metrics.accuracy_score(yri_test, predicted)\n",
    "print(\"accuracy:   %0.3f\" % score)"
   ]
  },
  {
   "cell_type": "markdown",
   "metadata": {},
   "source": [
    "### RX"
   ]
  },
  {
   "cell_type": "code",
   "execution_count": 434,
   "metadata": {
    "collapsed": true
   },
   "outputs": [],
   "source": [
    "df['RXEXPcat'] = np.where(df['RXEXP12']>0, 1, 0)\n",
    "rxcY=df['RXEXPcat'].values"
   ]
  },
  {
   "cell_type": "code",
   "execution_count": 435,
   "metadata": {
    "collapsed": false
   },
   "outputs": [
    {
     "data": {
      "text/html": [
       "<div style=\"max-height:1000px;max-width:1500px;overflow:auto;\">\n",
       "<table border=\"1\" class=\"dataframe\">\n",
       "  <thead>\n",
       "    <tr style=\"text-align: right;\">\n",
       "      <th></th>\n",
       "      <th>Unnamed: 0</th>\n",
       "      <th>DUID</th>\n",
       "      <th>PID</th>\n",
       "      <th>DUPERSID</th>\n",
       "      <th>HIBPAGED</th>\n",
       "      <th>STRKAGED</th>\n",
       "      <th>CHOLAGED</th>\n",
       "      <th>DIABAGED</th>\n",
       "      <th>ADHDAGED</th>\n",
       "      <th>BMINDX53</th>\n",
       "      <th>...</th>\n",
       "      <th>HONRDC42</th>\n",
       "      <th>OBVEXPlog</th>\n",
       "      <th>ERTEXPlog</th>\n",
       "      <th>HHAEXPlog</th>\n",
       "      <th>IPTEXPlog</th>\n",
       "      <th>RXEXPlog</th>\n",
       "      <th>TOTEXPlog</th>\n",
       "      <th>OBVEXPcat</th>\n",
       "      <th>ERTEXPcat</th>\n",
       "      <th>IPTEXPcat</th>\n",
       "    </tr>\n",
       "    <tr>\n",
       "      <th>RXEXPcat</th>\n",
       "      <th></th>\n",
       "      <th></th>\n",
       "      <th></th>\n",
       "      <th></th>\n",
       "      <th></th>\n",
       "      <th></th>\n",
       "      <th></th>\n",
       "      <th></th>\n",
       "      <th></th>\n",
       "      <th></th>\n",
       "      <th></th>\n",
       "      <th></th>\n",
       "      <th></th>\n",
       "      <th></th>\n",
       "      <th></th>\n",
       "      <th></th>\n",
       "      <th></th>\n",
       "      <th></th>\n",
       "      <th></th>\n",
       "      <th></th>\n",
       "      <th></th>\n",
       "    </tr>\n",
       "  </thead>\n",
       "  <tbody>\n",
       "    <tr>\n",
       "      <th>0</th>\n",
       "      <td>18598</td>\n",
       "      <td>18598</td>\n",
       "      <td>18598</td>\n",
       "      <td>18598</td>\n",
       "      <td>18598</td>\n",
       "      <td>18598</td>\n",
       "      <td>18598</td>\n",
       "      <td>18598</td>\n",
       "      <td>18598</td>\n",
       "      <td>18598</td>\n",
       "      <td>...</td>\n",
       "      <td>18598</td>\n",
       "      <td>18598</td>\n",
       "      <td>18598</td>\n",
       "      <td>18598</td>\n",
       "      <td>18598</td>\n",
       "      <td>18598</td>\n",
       "      <td>18598</td>\n",
       "      <td>18598</td>\n",
       "      <td>18598</td>\n",
       "      <td>18598</td>\n",
       "    </tr>\n",
       "    <tr>\n",
       "      <th>1</th>\n",
       "      <td>20376</td>\n",
       "      <td>20376</td>\n",
       "      <td>20376</td>\n",
       "      <td>20376</td>\n",
       "      <td>20376</td>\n",
       "      <td>20376</td>\n",
       "      <td>20376</td>\n",
       "      <td>20376</td>\n",
       "      <td>20376</td>\n",
       "      <td>20376</td>\n",
       "      <td>...</td>\n",
       "      <td>20376</td>\n",
       "      <td>20376</td>\n",
       "      <td>20376</td>\n",
       "      <td>20376</td>\n",
       "      <td>20376</td>\n",
       "      <td>20376</td>\n",
       "      <td>20376</td>\n",
       "      <td>20376</td>\n",
       "      <td>20376</td>\n",
       "      <td>20376</td>\n",
       "    </tr>\n",
       "  </tbody>\n",
       "</table>\n",
       "<p>2 rows × 76 columns</p>\n",
       "</div>"
      ],
      "text/plain": [
       "          Unnamed: 0   DUID    PID  DUPERSID  HIBPAGED  STRKAGED  CHOLAGED  \\\n",
       "RXEXPcat                                                                     \n",
       "0              18598  18598  18598     18598     18598     18598     18598   \n",
       "1              20376  20376  20376     20376     20376     20376     20376   \n",
       "\n",
       "          DIABAGED  ADHDAGED  BMINDX53    ...      HONRDC42  OBVEXPlog  \\\n",
       "RXEXPcat                                  ...                            \n",
       "0            18598     18598     18598    ...         18598      18598   \n",
       "1            20376     20376     20376    ...         20376      20376   \n",
       "\n",
       "          ERTEXPlog  HHAEXPlog  IPTEXPlog  RXEXPlog  TOTEXPlog  OBVEXPcat  \\\n",
       "RXEXPcat                                                                    \n",
       "0             18598      18598      18598     18598      18598      18598   \n",
       "1             20376      20376      20376     20376      20376      20376   \n",
       "\n",
       "          ERTEXPcat  IPTEXPcat  \n",
       "RXEXPcat                        \n",
       "0             18598      18598  \n",
       "1             20376      20376  \n",
       "\n",
       "[2 rows x 76 columns]"
      ]
     },
     "execution_count": 435,
     "metadata": {},
     "output_type": "execute_result"
    }
   ],
   "source": [
    "df.groupby('RXEXPcat').count()"
   ]
  },
  {
   "cell_type": "code",
   "execution_count": 436,
   "metadata": {
    "collapsed": false
   },
   "outputs": [
    {
     "data": {
      "text/plain": [
       "RandomForestClassifier(bootstrap=True, compute_importances=None,\n",
       "            criterion='gini', max_depth=7, max_features=0.5,\n",
       "            max_leaf_nodes=None, min_density=None, min_samples_leaf=2,\n",
       "            min_samples_split=2, n_estimators=100, n_jobs=100,\n",
       "            oob_score=True, random_state=None, verbose=0)"
      ]
     },
     "execution_count": 436,
     "metadata": {},
     "output_type": "execute_result"
    }
   ],
   "source": [
    "# split the data\n",
    "xrx_train, xrx_test, yrx_train, yrx_test = train_test_split(rxX2, rxcY, random_state=42)\n",
    "\n",
    "rx2 = RandomForestClassifier(n_estimators=100, oob_score=True,n_jobs=100, \n",
    "                              max_features=0.5, max_depth=7, min_samples_leaf=2)\n",
    "rx2.fit(xrx_train,yrx_train)"
   ]
  },
  {
   "cell_type": "code",
   "execution_count": 437,
   "metadata": {
    "collapsed": false
   },
   "outputs": [
    {
     "name": "stdout",
     "output_type": "stream",
     "text": [
      "             precision    recall  f1-score   support\n",
      "\n",
      "          0       0.66      0.82      0.73      4638\n",
      "          1       0.79      0.61      0.69      5106\n",
      "\n",
      "avg / total       0.73      0.71      0.71      9744\n",
      "\n",
      "accuracy:   0.710\n"
     ]
    }
   ],
   "source": [
    "# make predictions\n",
    "expected = yrx_test\n",
    "predicted = rx2.predict(xrx_test)\n",
    "# summarize the fit of the model\n",
    "print(metrics.classification_report(expected, predicted))\n",
    "#print(metrics.confusion_matrix(expected, predicted))\n",
    "score = metrics.accuracy_score(yrx_test, predicted)\n",
    "print(\"accuracy:   %0.3f\" % score)"
   ]
  },
  {
   "cell_type": "markdown",
   "metadata": {},
   "source": [
    "### Home health"
   ]
  },
  {
   "cell_type": "code",
   "execution_count": 440,
   "metadata": {
    "collapsed": true
   },
   "outputs": [],
   "source": [
    "df['HHAEXPcat'] = np.where(df['HHAEXP12']>0, 1, 0)\n",
    "hhcY=df['HHAEXPcat'].values"
   ]
  },
  {
   "cell_type": "code",
   "execution_count": 441,
   "metadata": {
    "collapsed": false
   },
   "outputs": [
    {
     "data": {
      "text/html": [
       "<div style=\"max-height:1000px;max-width:1500px;overflow:auto;\">\n",
       "<table border=\"1\" class=\"dataframe\">\n",
       "  <thead>\n",
       "    <tr style=\"text-align: right;\">\n",
       "      <th></th>\n",
       "      <th>Unnamed: 0</th>\n",
       "      <th>DUID</th>\n",
       "      <th>PID</th>\n",
       "      <th>DUPERSID</th>\n",
       "      <th>HIBPAGED</th>\n",
       "      <th>STRKAGED</th>\n",
       "      <th>CHOLAGED</th>\n",
       "      <th>DIABAGED</th>\n",
       "      <th>ADHDAGED</th>\n",
       "      <th>BMINDX53</th>\n",
       "      <th>...</th>\n",
       "      <th>OBVEXPlog</th>\n",
       "      <th>ERTEXPlog</th>\n",
       "      <th>HHAEXPlog</th>\n",
       "      <th>IPTEXPlog</th>\n",
       "      <th>RXEXPlog</th>\n",
       "      <th>TOTEXPlog</th>\n",
       "      <th>OBVEXPcat</th>\n",
       "      <th>ERTEXPcat</th>\n",
       "      <th>IPTEXPcat</th>\n",
       "      <th>RXEXPcat</th>\n",
       "    </tr>\n",
       "    <tr>\n",
       "      <th>HHAEXPcat</th>\n",
       "      <th></th>\n",
       "      <th></th>\n",
       "      <th></th>\n",
       "      <th></th>\n",
       "      <th></th>\n",
       "      <th></th>\n",
       "      <th></th>\n",
       "      <th></th>\n",
       "      <th></th>\n",
       "      <th></th>\n",
       "      <th></th>\n",
       "      <th></th>\n",
       "      <th></th>\n",
       "      <th></th>\n",
       "      <th></th>\n",
       "      <th></th>\n",
       "      <th></th>\n",
       "      <th></th>\n",
       "      <th></th>\n",
       "      <th></th>\n",
       "      <th></th>\n",
       "    </tr>\n",
       "  </thead>\n",
       "  <tbody>\n",
       "    <tr>\n",
       "      <th>0</th>\n",
       "      <td>38307</td>\n",
       "      <td>38307</td>\n",
       "      <td>38307</td>\n",
       "      <td>38307</td>\n",
       "      <td>38307</td>\n",
       "      <td>38307</td>\n",
       "      <td>38307</td>\n",
       "      <td>38307</td>\n",
       "      <td>38307</td>\n",
       "      <td>38307</td>\n",
       "      <td>...</td>\n",
       "      <td>38307</td>\n",
       "      <td>38307</td>\n",
       "      <td>38307</td>\n",
       "      <td>38307</td>\n",
       "      <td>38307</td>\n",
       "      <td>38307</td>\n",
       "      <td>38307</td>\n",
       "      <td>38307</td>\n",
       "      <td>38307</td>\n",
       "      <td>38307</td>\n",
       "    </tr>\n",
       "    <tr>\n",
       "      <th>1</th>\n",
       "      <td>667</td>\n",
       "      <td>667</td>\n",
       "      <td>667</td>\n",
       "      <td>667</td>\n",
       "      <td>667</td>\n",
       "      <td>667</td>\n",
       "      <td>667</td>\n",
       "      <td>667</td>\n",
       "      <td>667</td>\n",
       "      <td>667</td>\n",
       "      <td>...</td>\n",
       "      <td>667</td>\n",
       "      <td>667</td>\n",
       "      <td>667</td>\n",
       "      <td>667</td>\n",
       "      <td>667</td>\n",
       "      <td>667</td>\n",
       "      <td>667</td>\n",
       "      <td>667</td>\n",
       "      <td>667</td>\n",
       "      <td>667</td>\n",
       "    </tr>\n",
       "  </tbody>\n",
       "</table>\n",
       "<p>2 rows × 77 columns</p>\n",
       "</div>"
      ],
      "text/plain": [
       "           Unnamed: 0   DUID    PID  DUPERSID  HIBPAGED  STRKAGED  CHOLAGED  \\\n",
       "HHAEXPcat                                                                     \n",
       "0               38307  38307  38307     38307     38307     38307     38307   \n",
       "1                 667    667    667       667       667       667       667   \n",
       "\n",
       "           DIABAGED  ADHDAGED  BMINDX53    ...     OBVEXPlog  ERTEXPlog  \\\n",
       "HHAEXPcat                                  ...                            \n",
       "0             38307     38307     38307    ...         38307      38307   \n",
       "1               667       667       667    ...           667        667   \n",
       "\n",
       "           HHAEXPlog  IPTEXPlog  RXEXPlog  TOTEXPlog  OBVEXPcat  ERTEXPcat  \\\n",
       "HHAEXPcat                                                                    \n",
       "0              38307      38307     38307      38307      38307      38307   \n",
       "1                667        667       667        667        667        667   \n",
       "\n",
       "           IPTEXPcat  RXEXPcat  \n",
       "HHAEXPcat                       \n",
       "0              38307     38307  \n",
       "1                667       667  \n",
       "\n",
       "[2 rows x 77 columns]"
      ]
     },
     "execution_count": 441,
     "metadata": {},
     "output_type": "execute_result"
    }
   ],
   "source": [
    "df.groupby('HHAEXPcat').count()"
   ]
  },
  {
   "cell_type": "code",
   "execution_count": 442,
   "metadata": {
    "collapsed": false
   },
   "outputs": [
    {
     "data": {
      "text/plain": [
       "RandomForestClassifier(bootstrap=True, compute_importances=None,\n",
       "            criterion='gini', max_depth=7, max_features=0.5,\n",
       "            max_leaf_nodes=None, min_density=None, min_samples_leaf=2,\n",
       "            min_samples_split=2, n_estimators=100, n_jobs=100,\n",
       "            oob_score=True, random_state=None, verbose=0)"
      ]
     },
     "execution_count": 442,
     "metadata": {},
     "output_type": "execute_result"
    }
   ],
   "source": [
    "# split the data\n",
    "xrh_train, xrh_test, yrh_train, yrh_test = train_test_split(hhX2, hhcY, random_state=42)\n",
    "\n",
    "sw = np.array([57 if i == 1 else 1 for i in yrh_train])\n",
    "\n",
    "rh2 = RandomForestClassifier(n_estimators=100, oob_score=True,n_jobs=100, \n",
    "                              max_features=0.5, max_depth=7, min_samples_leaf=2)\n",
    "rh2.fit(xrh_train,yrh_train,sample_weight=sw)"
   ]
  },
  {
   "cell_type": "code",
   "execution_count": 443,
   "metadata": {
    "collapsed": false
   },
   "outputs": [
    {
     "name": "stdout",
     "output_type": "stream",
     "text": [
      "             precision    recall  f1-score   support\n",
      "\n",
      "          0       0.99      0.92      0.95      9590\n",
      "          1       0.11      0.62      0.18       154\n",
      "\n",
      "avg / total       0.98      0.91      0.94      9744\n",
      "\n",
      "accuracy:   0.914\n"
     ]
    }
   ],
   "source": [
    "# make predictions\n",
    "expected = yrh_test\n",
    "predicted = rh2.predict(xrh_test)\n",
    "# summarize the fit of the model\n",
    "print(metrics.classification_report(expected, predicted))\n",
    "#print(metrics.confusion_matrix(expected, predicted))\n",
    "score = metrics.accuracy_score(yrh_test, predicted)\n",
    "print(\"accuracy:   %0.3f\" % score)"
   ]
  },
  {
   "cell_type": "markdown",
   "metadata": {},
   "source": [
    "### Total"
   ]
  },
  {
   "cell_type": "code",
   "execution_count": 444,
   "metadata": {
    "collapsed": true
   },
   "outputs": [],
   "source": [
    "df['TOTEXPcat'] = np.where(df['TOTEXP12']>0, 1, 0)\n",
    "totcY=df['TOTEXPcat'].values"
   ]
  },
  {
   "cell_type": "code",
   "execution_count": 445,
   "metadata": {
    "collapsed": false
   },
   "outputs": [
    {
     "data": {
      "text/html": [
       "<div style=\"max-height:1000px;max-width:1500px;overflow:auto;\">\n",
       "<table border=\"1\" class=\"dataframe\">\n",
       "  <thead>\n",
       "    <tr style=\"text-align: right;\">\n",
       "      <th></th>\n",
       "      <th>Unnamed: 0</th>\n",
       "      <th>DUID</th>\n",
       "      <th>PID</th>\n",
       "      <th>DUPERSID</th>\n",
       "      <th>HIBPAGED</th>\n",
       "      <th>STRKAGED</th>\n",
       "      <th>CHOLAGED</th>\n",
       "      <th>DIABAGED</th>\n",
       "      <th>ADHDAGED</th>\n",
       "      <th>BMINDX53</th>\n",
       "      <th>...</th>\n",
       "      <th>ERTEXPlog</th>\n",
       "      <th>HHAEXPlog</th>\n",
       "      <th>IPTEXPlog</th>\n",
       "      <th>RXEXPlog</th>\n",
       "      <th>TOTEXPlog</th>\n",
       "      <th>OBVEXPcat</th>\n",
       "      <th>ERTEXPcat</th>\n",
       "      <th>IPTEXPcat</th>\n",
       "      <th>RXEXPcat</th>\n",
       "      <th>HHAEXPcat</th>\n",
       "    </tr>\n",
       "    <tr>\n",
       "      <th>TOTEXPcat</th>\n",
       "      <th></th>\n",
       "      <th></th>\n",
       "      <th></th>\n",
       "      <th></th>\n",
       "      <th></th>\n",
       "      <th></th>\n",
       "      <th></th>\n",
       "      <th></th>\n",
       "      <th></th>\n",
       "      <th></th>\n",
       "      <th></th>\n",
       "      <th></th>\n",
       "      <th></th>\n",
       "      <th></th>\n",
       "      <th></th>\n",
       "      <th></th>\n",
       "      <th></th>\n",
       "      <th></th>\n",
       "      <th></th>\n",
       "      <th></th>\n",
       "      <th></th>\n",
       "    </tr>\n",
       "  </thead>\n",
       "  <tbody>\n",
       "    <tr>\n",
       "      <th>0</th>\n",
       "      <td>9167</td>\n",
       "      <td>9167</td>\n",
       "      <td>9167</td>\n",
       "      <td>9167</td>\n",
       "      <td>9167</td>\n",
       "      <td>9167</td>\n",
       "      <td>9167</td>\n",
       "      <td>9167</td>\n",
       "      <td>9167</td>\n",
       "      <td>9167</td>\n",
       "      <td>...</td>\n",
       "      <td>9167</td>\n",
       "      <td>9167</td>\n",
       "      <td>9167</td>\n",
       "      <td>9167</td>\n",
       "      <td>9167</td>\n",
       "      <td>9167</td>\n",
       "      <td>9167</td>\n",
       "      <td>9167</td>\n",
       "      <td>9167</td>\n",
       "      <td>9167</td>\n",
       "    </tr>\n",
       "    <tr>\n",
       "      <th>1</th>\n",
       "      <td>29807</td>\n",
       "      <td>29807</td>\n",
       "      <td>29807</td>\n",
       "      <td>29807</td>\n",
       "      <td>29807</td>\n",
       "      <td>29807</td>\n",
       "      <td>29807</td>\n",
       "      <td>29807</td>\n",
       "      <td>29807</td>\n",
       "      <td>29807</td>\n",
       "      <td>...</td>\n",
       "      <td>29807</td>\n",
       "      <td>29807</td>\n",
       "      <td>29807</td>\n",
       "      <td>29807</td>\n",
       "      <td>29807</td>\n",
       "      <td>29807</td>\n",
       "      <td>29807</td>\n",
       "      <td>29807</td>\n",
       "      <td>29807</td>\n",
       "      <td>29807</td>\n",
       "    </tr>\n",
       "  </tbody>\n",
       "</table>\n",
       "<p>2 rows × 78 columns</p>\n",
       "</div>"
      ],
      "text/plain": [
       "           Unnamed: 0   DUID    PID  DUPERSID  HIBPAGED  STRKAGED  CHOLAGED  \\\n",
       "TOTEXPcat                                                                     \n",
       "0                9167   9167   9167      9167      9167      9167      9167   \n",
       "1               29807  29807  29807     29807     29807     29807     29807   \n",
       "\n",
       "           DIABAGED  ADHDAGED  BMINDX53    ...      ERTEXPlog  HHAEXPlog  \\\n",
       "TOTEXPcat                                  ...                             \n",
       "0              9167      9167      9167    ...           9167       9167   \n",
       "1             29807     29807     29807    ...          29807      29807   \n",
       "\n",
       "           IPTEXPlog  RXEXPlog  TOTEXPlog  OBVEXPcat  ERTEXPcat  IPTEXPcat  \\\n",
       "TOTEXPcat                                                                    \n",
       "0               9167      9167       9167       9167       9167       9167   \n",
       "1              29807     29807      29807      29807      29807      29807   \n",
       "\n",
       "           RXEXPcat  HHAEXPcat  \n",
       "TOTEXPcat                       \n",
       "0              9167       9167  \n",
       "1             29807      29807  \n",
       "\n",
       "[2 rows x 78 columns]"
      ]
     },
     "execution_count": 445,
     "metadata": {},
     "output_type": "execute_result"
    }
   ],
   "source": [
    "df.groupby('TOTEXPcat').count()"
   ]
  },
  {
   "cell_type": "code",
   "execution_count": 446,
   "metadata": {
    "collapsed": false
   },
   "outputs": [
    {
     "data": {
      "text/plain": [
       "RandomForestClassifier(bootstrap=True, compute_importances=None,\n",
       "            criterion='gini', max_depth=7, max_features=0.5,\n",
       "            max_leaf_nodes=None, min_density=None, min_samples_leaf=2,\n",
       "            min_samples_split=2, n_estimators=100, n_jobs=100,\n",
       "            oob_score=True, random_state=None, verbose=0)"
      ]
     },
     "execution_count": 446,
     "metadata": {},
     "output_type": "execute_result"
    }
   ],
   "source": [
    "# split the data\n",
    "xrt_train, xrt_test, yrt_train, yrt_test = train_test_split(totX2, totcY, random_state=42)\n",
    "\n",
    "sw = np.array([3 if i == 0 else 1 for i in yrt_train])\n",
    "\n",
    "rt2 = RandomForestClassifier(n_estimators=100, oob_score=True,n_jobs=100, \n",
    "                              max_features=0.5, max_depth=7, min_samples_leaf=2)\n",
    "rt2.fit(xrt_train,yrt_train,sample_weight=sw)"
   ]
  },
  {
   "cell_type": "code",
   "execution_count": 447,
   "metadata": {
    "collapsed": false
   },
   "outputs": [
    {
     "name": "stdout",
     "output_type": "stream",
     "text": [
      "             precision    recall  f1-score   support\n",
      "\n",
      "          0       0.42      0.65      0.51      2274\n",
      "          1       0.87      0.73      0.79      7470\n",
      "\n",
      "avg / total       0.77      0.71      0.73      9744\n",
      "\n",
      "accuracy:   0.708\n"
     ]
    }
   ],
   "source": [
    "# make predictions\n",
    "expected = yrt_test\n",
    "predicted = rt2.predict(xrt_test)\n",
    "# summarize the fit of the model\n",
    "print(metrics.classification_report(expected, predicted))\n",
    "#print(metrics.confusion_matrix(expected, predicted))\n",
    "score = metrics.accuracy_score(yrt_test, predicted)\n",
    "print(\"accuracy:   %0.3f\" % score)"
   ]
  },
  {
   "cell_type": "markdown",
   "metadata": {},
   "source": [
    "# Load information on insurance\n",
    "## try to extract meaning from insurance plan categorices\n",
    "### didn't work, just doing clustering instead"
   ]
  },
  {
   "cell_type": "markdown",
   "metadata": {},
   "source": [
    "# KMeans clustering"
   ]
  },
  {
   "cell_type": "code",
   "execution_count": 155,
   "metadata": {
    "collapsed": true
   },
   "outputs": [],
   "source": [
    "insur = pd.read_csv('consolidated.csv', \n",
    "                        usecols=[\"DUPERSID\", \"INSURC12\"\n",
    "                             ])"
   ]
  },
  {
   "cell_type": "code",
   "execution_count": 156,
   "metadata": {
    "collapsed": true
   },
   "outputs": [],
   "source": [
    "insur_df = pd.merge(df,insur,on=['DUPERSID', 'DUPERSID'],how='outer')"
   ]
  },
  {
   "cell_type": "code",
   "execution_count": 157,
   "metadata": {
    "collapsed": false
   },
   "outputs": [
    {
     "data": {
      "text/html": [
       "<div style=\"max-height:1000px;max-width:1500px;overflow:auto;\">\n",
       "<table border=\"1\" class=\"dataframe\">\n",
       "  <thead>\n",
       "    <tr style=\"text-align: right;\">\n",
       "      <th></th>\n",
       "      <th>Unnamed: 0</th>\n",
       "      <th>DUID</th>\n",
       "      <th>PID</th>\n",
       "      <th>DUPERSID</th>\n",
       "      <th>HIBPAGED</th>\n",
       "      <th>STRKAGED</th>\n",
       "      <th>CHOLAGED</th>\n",
       "      <th>DIABAGED</th>\n",
       "      <th>ADHDAGED</th>\n",
       "      <th>BMINDX53</th>\n",
       "      <th>...</th>\n",
       "      <th>HISPCAT</th>\n",
       "      <th>MARRY12X</th>\n",
       "      <th>HIDEG</th>\n",
       "      <th>EDRECODE</th>\n",
       "      <th>FTSTU12X</th>\n",
       "      <th>ACTDTY42</th>\n",
       "      <th>HONRDC42</th>\n",
       "      <th>OBVEXPlog</th>\n",
       "      <th>OBVEXPcat</th>\n",
       "      <th>INSURC12</th>\n",
       "    </tr>\n",
       "  </thead>\n",
       "  <tbody>\n",
       "    <tr>\n",
       "      <th>0</th>\n",
       "      <td>0</td>\n",
       "      <td>20004</td>\n",
       "      <td>101</td>\n",
       "      <td>20004101</td>\n",
       "      <td>46</td>\n",
       "      <td>58</td>\n",
       "      <td>50</td>\n",
       "      <td>50</td>\n",
       "      <td>7</td>\n",
       "      <td>30.6</td>\n",
       "      <td>...</td>\n",
       "      <td>5</td>\n",
       "      <td>1</td>\n",
       "      <td>3</td>\n",
       "      <td>14</td>\n",
       "      <td>2</td>\n",
       "      <td>2</td>\n",
       "      <td>2</td>\n",
       "      <td>0.000000</td>\n",
       "      <td>0</td>\n",
       "      <td>1 &lt;65 ANY PRIVATE</td>\n",
       "    </tr>\n",
       "    <tr>\n",
       "      <th>1</th>\n",
       "      <td>1</td>\n",
       "      <td>20004</td>\n",
       "      <td>102</td>\n",
       "      <td>20004102</td>\n",
       "      <td>46</td>\n",
       "      <td>58</td>\n",
       "      <td>50</td>\n",
       "      <td>50</td>\n",
       "      <td>7</td>\n",
       "      <td>30.1</td>\n",
       "      <td>...</td>\n",
       "      <td>5</td>\n",
       "      <td>1</td>\n",
       "      <td>3</td>\n",
       "      <td>13</td>\n",
       "      <td>2</td>\n",
       "      <td>2</td>\n",
       "      <td>2</td>\n",
       "      <td>0.000000</td>\n",
       "      <td>0</td>\n",
       "      <td>1 &lt;65 ANY PRIVATE</td>\n",
       "    </tr>\n",
       "    <tr>\n",
       "      <th>2</th>\n",
       "      <td>2</td>\n",
       "      <td>20004</td>\n",
       "      <td>103</td>\n",
       "      <td>20004103</td>\n",
       "      <td>46</td>\n",
       "      <td>58</td>\n",
       "      <td>50</td>\n",
       "      <td>50</td>\n",
       "      <td>7</td>\n",
       "      <td>27.0</td>\n",
       "      <td>...</td>\n",
       "      <td>5</td>\n",
       "      <td>6</td>\n",
       "      <td>3</td>\n",
       "      <td>2</td>\n",
       "      <td>2</td>\n",
       "      <td>3</td>\n",
       "      <td>3</td>\n",
       "      <td>0.000000</td>\n",
       "      <td>0</td>\n",
       "      <td>1 &lt;65 ANY PRIVATE</td>\n",
       "    </tr>\n",
       "    <tr>\n",
       "      <th>3</th>\n",
       "      <td>3</td>\n",
       "      <td>20005</td>\n",
       "      <td>101</td>\n",
       "      <td>20005101</td>\n",
       "      <td>41</td>\n",
       "      <td>58</td>\n",
       "      <td>50</td>\n",
       "      <td>50</td>\n",
       "      <td>7</td>\n",
       "      <td>25.1</td>\n",
       "      <td>...</td>\n",
       "      <td>3</td>\n",
       "      <td>4</td>\n",
       "      <td>3</td>\n",
       "      <td>14</td>\n",
       "      <td>2</td>\n",
       "      <td>2</td>\n",
       "      <td>2</td>\n",
       "      <td>6.111467</td>\n",
       "      <td>1</td>\n",
       "      <td>2 &lt;65 PUBLIC ONLY</td>\n",
       "    </tr>\n",
       "    <tr>\n",
       "      <th>4</th>\n",
       "      <td>4</td>\n",
       "      <td>20005</td>\n",
       "      <td>102</td>\n",
       "      <td>20005102</td>\n",
       "      <td>46</td>\n",
       "      <td>58</td>\n",
       "      <td>50</td>\n",
       "      <td>50</td>\n",
       "      <td>7</td>\n",
       "      <td>21.3</td>\n",
       "      <td>...</td>\n",
       "      <td>3</td>\n",
       "      <td>5</td>\n",
       "      <td>3</td>\n",
       "      <td>14</td>\n",
       "      <td>1</td>\n",
       "      <td>2</td>\n",
       "      <td>2</td>\n",
       "      <td>4.844187</td>\n",
       "      <td>1</td>\n",
       "      <td>2 &lt;65 PUBLIC ONLY</td>\n",
       "    </tr>\n",
       "  </tbody>\n",
       "</table>\n",
       "<p>5 rows × 70 columns</p>\n",
       "</div>"
      ],
      "text/plain": [
       "   Unnamed: 0   DUID  PID  DUPERSID  HIBPAGED  STRKAGED  CHOLAGED  DIABAGED  \\\n",
       "0           0  20004  101  20004101        46        58        50        50   \n",
       "1           1  20004  102  20004102        46        58        50        50   \n",
       "2           2  20004  103  20004103        46        58        50        50   \n",
       "3           3  20005  101  20005101        41        58        50        50   \n",
       "4           4  20005  102  20005102        46        58        50        50   \n",
       "\n",
       "   ADHDAGED  BMINDX53        ...          HISPCAT  MARRY12X  HIDEG  EDRECODE  \\\n",
       "0         7      30.6        ...                5         1      3        14   \n",
       "1         7      30.1        ...                5         1      3        13   \n",
       "2         7      27.0        ...                5         6      3         2   \n",
       "3         7      25.1        ...                3         4      3        14   \n",
       "4         7      21.3        ...                3         5      3        14   \n",
       "\n",
       "   FTSTU12X  ACTDTY42  HONRDC42  OBVEXPlog  OBVEXPcat           INSURC12  \n",
       "0         2         2         2   0.000000          0  1 <65 ANY PRIVATE  \n",
       "1         2         2         2   0.000000          0  1 <65 ANY PRIVATE  \n",
       "2         2         3         3   0.000000          0  1 <65 ANY PRIVATE  \n",
       "3         2         2         2   6.111467          1  2 <65 PUBLIC ONLY  \n",
       "4         1         2         2   4.844187          1  2 <65 PUBLIC ONLY  \n",
       "\n",
       "[5 rows x 70 columns]"
      ]
     },
     "execution_count": 157,
     "metadata": {},
     "output_type": "execute_result"
    }
   ],
   "source": [
    "insur_df.head()"
   ]
  },
  {
   "cell_type": "code",
   "execution_count": 158,
   "metadata": {
    "collapsed": true
   },
   "outputs": [],
   "source": [
    "insur_df[\"INSURC12\"] = insur_df[\"INSURC12\"].str.split(' ').str[0].astype(float)\n",
    "    "
   ]
  },
  {
   "cell_type": "code",
   "execution_count": 159,
   "metadata": {
    "collapsed": false
   },
   "outputs": [
    {
     "data": {
      "text/html": [
       "<div style=\"max-height:1000px;max-width:1500px;overflow:auto;\">\n",
       "<table border=\"1\" class=\"dataframe\">\n",
       "  <thead>\n",
       "    <tr style=\"text-align: right;\">\n",
       "      <th></th>\n",
       "      <th>Unnamed: 0</th>\n",
       "      <th>DUID</th>\n",
       "      <th>PID</th>\n",
       "      <th>DUPERSID</th>\n",
       "      <th>HIBPAGED</th>\n",
       "      <th>STRKAGED</th>\n",
       "      <th>CHOLAGED</th>\n",
       "      <th>DIABAGED</th>\n",
       "      <th>ADHDAGED</th>\n",
       "      <th>BMINDX53</th>\n",
       "      <th>...</th>\n",
       "      <th>HISPCAT</th>\n",
       "      <th>MARRY12X</th>\n",
       "      <th>HIDEG</th>\n",
       "      <th>EDRECODE</th>\n",
       "      <th>FTSTU12X</th>\n",
       "      <th>ACTDTY42</th>\n",
       "      <th>HONRDC42</th>\n",
       "      <th>OBVEXPlog</th>\n",
       "      <th>OBVEXPcat</th>\n",
       "      <th>INSURC12</th>\n",
       "    </tr>\n",
       "  </thead>\n",
       "  <tbody>\n",
       "    <tr>\n",
       "      <th>0</th>\n",
       "      <td>0</td>\n",
       "      <td>20004</td>\n",
       "      <td>101</td>\n",
       "      <td>20004101</td>\n",
       "      <td>46</td>\n",
       "      <td>58</td>\n",
       "      <td>50</td>\n",
       "      <td>50</td>\n",
       "      <td>7</td>\n",
       "      <td>30.6</td>\n",
       "      <td>...</td>\n",
       "      <td>5</td>\n",
       "      <td>1</td>\n",
       "      <td>3</td>\n",
       "      <td>14</td>\n",
       "      <td>2</td>\n",
       "      <td>2</td>\n",
       "      <td>2</td>\n",
       "      <td>0.000000</td>\n",
       "      <td>0</td>\n",
       "      <td>1</td>\n",
       "    </tr>\n",
       "    <tr>\n",
       "      <th>1</th>\n",
       "      <td>1</td>\n",
       "      <td>20004</td>\n",
       "      <td>102</td>\n",
       "      <td>20004102</td>\n",
       "      <td>46</td>\n",
       "      <td>58</td>\n",
       "      <td>50</td>\n",
       "      <td>50</td>\n",
       "      <td>7</td>\n",
       "      <td>30.1</td>\n",
       "      <td>...</td>\n",
       "      <td>5</td>\n",
       "      <td>1</td>\n",
       "      <td>3</td>\n",
       "      <td>13</td>\n",
       "      <td>2</td>\n",
       "      <td>2</td>\n",
       "      <td>2</td>\n",
       "      <td>0.000000</td>\n",
       "      <td>0</td>\n",
       "      <td>1</td>\n",
       "    </tr>\n",
       "    <tr>\n",
       "      <th>2</th>\n",
       "      <td>2</td>\n",
       "      <td>20004</td>\n",
       "      <td>103</td>\n",
       "      <td>20004103</td>\n",
       "      <td>46</td>\n",
       "      <td>58</td>\n",
       "      <td>50</td>\n",
       "      <td>50</td>\n",
       "      <td>7</td>\n",
       "      <td>27.0</td>\n",
       "      <td>...</td>\n",
       "      <td>5</td>\n",
       "      <td>6</td>\n",
       "      <td>3</td>\n",
       "      <td>2</td>\n",
       "      <td>2</td>\n",
       "      <td>3</td>\n",
       "      <td>3</td>\n",
       "      <td>0.000000</td>\n",
       "      <td>0</td>\n",
       "      <td>1</td>\n",
       "    </tr>\n",
       "    <tr>\n",
       "      <th>3</th>\n",
       "      <td>3</td>\n",
       "      <td>20005</td>\n",
       "      <td>101</td>\n",
       "      <td>20005101</td>\n",
       "      <td>41</td>\n",
       "      <td>58</td>\n",
       "      <td>50</td>\n",
       "      <td>50</td>\n",
       "      <td>7</td>\n",
       "      <td>25.1</td>\n",
       "      <td>...</td>\n",
       "      <td>3</td>\n",
       "      <td>4</td>\n",
       "      <td>3</td>\n",
       "      <td>14</td>\n",
       "      <td>2</td>\n",
       "      <td>2</td>\n",
       "      <td>2</td>\n",
       "      <td>6.111467</td>\n",
       "      <td>1</td>\n",
       "      <td>2</td>\n",
       "    </tr>\n",
       "    <tr>\n",
       "      <th>4</th>\n",
       "      <td>4</td>\n",
       "      <td>20005</td>\n",
       "      <td>102</td>\n",
       "      <td>20005102</td>\n",
       "      <td>46</td>\n",
       "      <td>58</td>\n",
       "      <td>50</td>\n",
       "      <td>50</td>\n",
       "      <td>7</td>\n",
       "      <td>21.3</td>\n",
       "      <td>...</td>\n",
       "      <td>3</td>\n",
       "      <td>5</td>\n",
       "      <td>3</td>\n",
       "      <td>14</td>\n",
       "      <td>1</td>\n",
       "      <td>2</td>\n",
       "      <td>2</td>\n",
       "      <td>4.844187</td>\n",
       "      <td>1</td>\n",
       "      <td>2</td>\n",
       "    </tr>\n",
       "  </tbody>\n",
       "</table>\n",
       "<p>5 rows × 70 columns</p>\n",
       "</div>"
      ],
      "text/plain": [
       "   Unnamed: 0   DUID  PID  DUPERSID  HIBPAGED  STRKAGED  CHOLAGED  DIABAGED  \\\n",
       "0           0  20004  101  20004101        46        58        50        50   \n",
       "1           1  20004  102  20004102        46        58        50        50   \n",
       "2           2  20004  103  20004103        46        58        50        50   \n",
       "3           3  20005  101  20005101        41        58        50        50   \n",
       "4           4  20005  102  20005102        46        58        50        50   \n",
       "\n",
       "   ADHDAGED  BMINDX53    ...     HISPCAT  MARRY12X  HIDEG  EDRECODE  FTSTU12X  \\\n",
       "0         7      30.6    ...           5         1      3        14         2   \n",
       "1         7      30.1    ...           5         1      3        13         2   \n",
       "2         7      27.0    ...           5         6      3         2         2   \n",
       "3         7      25.1    ...           3         4      3        14         2   \n",
       "4         7      21.3    ...           3         5      3        14         1   \n",
       "\n",
       "   ACTDTY42  HONRDC42  OBVEXPlog  OBVEXPcat  INSURC12  \n",
       "0         2         2   0.000000          0         1  \n",
       "1         2         2   0.000000          0         1  \n",
       "2         3         3   0.000000          0         1  \n",
       "3         2         2   6.111467          1         2  \n",
       "4         2         2   4.844187          1         2  \n",
       "\n",
       "[5 rows x 70 columns]"
      ]
     },
     "execution_count": 159,
     "metadata": {},
     "output_type": "execute_result"
    }
   ],
   "source": [
    "insur_df.head()"
   ]
  },
  {
   "cell_type": "code",
   "execution_count": 162,
   "metadata": {
    "collapsed": false,
    "scrolled": false
   },
   "outputs": [
    {
     "data": {
      "text/plain": [
       "array([ 1.,  2.,  3.,  6.,  4.,  5.,  7.,  8.])"
      ]
     },
     "execution_count": 162,
     "metadata": {},
     "output_type": "execute_result"
    }
   ],
   "source": [
    "insur_df[\"INSURC12\"].unique()"
   ]
  },
  {
   "cell_type": "code",
   "execution_count": 176,
   "metadata": {
    "collapsed": true
   },
   "outputs": [],
   "source": [
    "insur_df.loc[(insur_df[\"INSURC12\"] > 3), \"INS_red\"] = 0"
   ]
  },
  {
   "cell_type": "code",
   "execution_count": 186,
   "metadata": {
    "collapsed": true
   },
   "outputs": [],
   "source": [
    "indf_dat = insur_df[['POVLEV12','HLTHSTAT',\"BMINDX53\",\n",
    "            'MNHLTHSTAT','AGELAST', \"ADPAIN42\",\"ADCAPE42\", 'EDRECODE',\n",
    "            \"ADNRGY42\"]].values"
   ]
  },
  {
   "cell_type": "code",
   "execution_count": 365,
   "metadata": {
    "collapsed": false
   },
   "outputs": [],
   "source": [
    "from time import time\n",
    "from sklearn import metrics\n",
    "from sklearn.cluster import KMeans\n",
    "from sklearn.datasets import load_digits\n",
    "from sklearn.decomposition import PCA\n",
    "#from sklearn.preprocessing import scale\n",
    "\n",
    "# re-scale (normalize) continuous  & categorical (ordinal) data\n",
    "from sklearn import preprocessing\n",
    "inX = preprocessing.StandardScaler().fit(indf_dat)\n",
    "inX = inX.transform(indf_dat)\n",
    "y = insur_df.OBVGrp\n",
    "\n",
    "n_samples, n_features = inX.shape\n",
    "n_groups = 4\n",
    "labels = y\n",
    "sample_size = 300\n",
    "\n",
    "# in this case the seeding of the centers is deterministic, hence we run the\n",
    "# kmeans algorithm only once with n_init=1\n",
    "def bench_k_means(estimator, name, data):\n",
    "    t0 = time()\n",
    "    estimator.fit(data)\n",
    "    #print('% 9s   %.2fs    %i   %.3f   %.3f   %.3f   %.3f   %.3f    %.3f'\n",
    "    #      % (name, (time() - t0), estimator.inertia_,\n",
    "    #         metrics.homogeneity_score(labels, estimator.labels_),\n",
    "    #         metrics.completeness_score(labels, estimator.labels_),\n",
    "    #         metrics.v_measure_score(labels, estimator.labels_),\n",
    "    #         metrics.adjusted_rand_score(labels, estimator.labels_),\n",
    "    #         metrics.adjusted_mutual_info_score(labels,  estimator.labels_),\n",
    "    #         metrics.silhouette_score(data, estimator.labels_,\n",
    "    #                                  metric='euclidean',\n",
    "    #                                  sample_size=sample_size)))\n",
    "    \n",
    "pca = PCA(n_components=n_groups).fit(inX)\n",
    "bench_k_means(KMeans(init=pca.components_, n_clusters=n_groups, n_init=1),\n",
    "              name=\"PCA-based\",\n",
    "              data=inX)\n"
   ]
  },
  {
   "cell_type": "code",
   "execution_count": 366,
   "metadata": {
    "collapsed": false,
    "scrolled": false
   },
   "outputs": [
    {
     "data": {
      "image/png": "[encoded data removed]",
      "text/plain": [
       "<matplotlib.figure.Figure at 0x14c2bebd0>"
      ]
     },
     "metadata": {},
     "output_type": "display_data"
    }
   ],
   "source": [
    "# Visualize the results on PCA-reduced data\n",
    "\n",
    "reduced_data = PCA(n_components=2).fit_transform(inX)\n",
    "kmeans = KMeans(init='k-means++', n_clusters=n_groups, n_init=10)\n",
    "kmeans.fit(reduced_data)\n",
    "\n",
    "# Step size of the mesh. Decrease to increase the quality of the VQ.\n",
    "h = .02     # point in the mesh [x_min, m_max]x[y_min, y_max].\n",
    "\n",
    "# Plot the decision boundary. For that, we will assign a color to each\n",
    "x_min, x_max = reduced_data[:, 0].min() + 1, reduced_data[:, 0].max() - 1\n",
    "y_min, y_max = reduced_data[:, 1].min() + 1, reduced_data[:, 1].max() - 1\n",
    "xx, yy = np.meshgrid(np.arange(x_min, x_max, h), np.arange(y_min, y_max, h))\n",
    "\n",
    "# Obtain labels for each point in mesh. Use last trained model.\n",
    "Z = kmeans.predict(np.c_[xx.ravel(), yy.ravel()])\n",
    "\n",
    "# Put the result into a color plot\n",
    "Z = Z.reshape(xx.shape)\n",
    "plt.figure(1)\n",
    "plt.clf()\n",
    "plt.imshow(Z, interpolation='nearest',\n",
    "           extent=(xx.min(), xx.max(), yy.min(), yy.max()),\n",
    "           cmap=plt.cm.Paired,\n",
    "           aspect='auto', origin='lower')\n",
    "\n",
    "plt.plot(reduced_data[:, 0], reduced_data[:, 1], 'k.', markersize=2)\n",
    "# Plot the centroids as a white X\n",
    "centroids = kmeans.cluster_centers_\n",
    "plt.scatter(centroids[:, 0], centroids[:, 1],\n",
    "            marker='x', s=169, linewidths=3,\n",
    "            color='w', zorder=10)\n",
    "plt.title('K-means clustering on the digits dataset (PCA-reduced data)\\n'\n",
    "          'Centroids are marked with white cross')\n",
    "plt.xlim(x_min, x_max)\n",
    "plt.ylim(y_min, y_max)\n",
    "plt.xticks(())\n",
    "plt.yticks(())\n",
    "plt.show()\n"
   ]
  },
  {
   "cell_type": "code",
   "execution_count": 367,
   "metadata": {
    "collapsed": false
   },
   "outputs": [
    {
     "data": {
      "text/plain": [
       "array([2, 0, 1, ..., 1, 2, 1], dtype=int32)"
      ]
     },
     "execution_count": 367,
     "metadata": {},
     "output_type": "execute_result"
    }
   ],
   "source": [
    "lab = kmeans.labels_\n",
    "lab"
   ]
  },
  {
   "cell_type": "code",
   "execution_count": 368,
   "metadata": {
    "collapsed": false
   },
   "outputs": [
    {
     "data": {
      "text/plain": [
       "array([0, 1, 2, 3], dtype=int32)"
      ]
     },
     "execution_count": 368,
     "metadata": {},
     "output_type": "execute_result"
    }
   ],
   "source": [
    "np.unique(lab)"
   ]
  },
  {
   "cell_type": "code",
   "execution_count": 369,
   "metadata": {
    "collapsed": false
   },
   "outputs": [
    {
     "data": {
      "text/plain": [
       "38974"
      ]
     },
     "execution_count": 369,
     "metadata": {},
     "output_type": "execute_result"
    }
   ],
   "source": [
    "len(lab)"
   ]
  },
  {
   "cell_type": "code",
   "execution_count": 370,
   "metadata": {
    "collapsed": false
   },
   "outputs": [],
   "source": [
    "insur_df['km_lab'] = lab"
   ]
  },
  {
   "cell_type": "code",
   "execution_count": 371,
   "metadata": {
    "collapsed": true
   },
   "outputs": [],
   "source": [
    "gb_km = insur_df.groupby('km_lab').mean()"
   ]
  },
  {
   "cell_type": "code",
   "execution_count": 372,
   "metadata": {
    "collapsed": false,
    "scrolled": false
   },
   "outputs": [
    {
     "data": {
      "text/html": [
       "<div style=\"max-height:1000px;max-width:1500px;overflow:auto;\">\n",
       "<table border=\"1\" class=\"dataframe\">\n",
       "  <thead>\n",
       "    <tr style=\"text-align: right;\">\n",
       "      <th></th>\n",
       "      <th>POVLEV12</th>\n",
       "      <th>HLTHSTAT</th>\n",
       "      <th>BMINDX53</th>\n",
       "      <th>MNHLTHSTAT</th>\n",
       "      <th>AGELAST</th>\n",
       "      <th>ADPAIN42</th>\n",
       "      <th>ADCAPE42</th>\n",
       "      <th>EDRECODE</th>\n",
       "      <th>ADNRGY42</th>\n",
       "      <th>OBVEXP12</th>\n",
       "      <th>ERTEXP12</th>\n",
       "      <th>RXEXP12</th>\n",
       "      <th>IPTEXP12</th>\n",
       "      <th>TOTEXP12</th>\n",
       "    </tr>\n",
       "    <tr>\n",
       "      <th>km_lab</th>\n",
       "      <th></th>\n",
       "      <th></th>\n",
       "      <th></th>\n",
       "      <th></th>\n",
       "      <th></th>\n",
       "      <th></th>\n",
       "      <th></th>\n",
       "      <th></th>\n",
       "      <th></th>\n",
       "      <th></th>\n",
       "      <th></th>\n",
       "      <th></th>\n",
       "      <th></th>\n",
       "      <th></th>\n",
       "    </tr>\n",
       "  </thead>\n",
       "  <tbody>\n",
       "    <tr>\n",
       "      <th>0</th>\n",
       "      <td>596.141137</td>\n",
       "      <td>1.703105</td>\n",
       "      <td>26.232170</td>\n",
       "      <td>1.467944</td>\n",
       "      <td>44.781014</td>\n",
       "      <td>1.252241</td>\n",
       "      <td>1.920873</td>\n",
       "      <td>14.119693</td>\n",
       "      <td>1.978892</td>\n",
       "      <td>846.937972</td>\n",
       "      <td>685.673703</td>\n",
       "      <td>601.225590</td>\n",
       "      <td>9572.245873</td>\n",
       "      <td>2906.062028</td>\n",
       "    </tr>\n",
       "    <tr>\n",
       "      <th>1</th>\n",
       "      <td>179.541226</td>\n",
       "      <td>1.749263</td>\n",
       "      <td>26.776700</td>\n",
       "      <td>1.643166</td>\n",
       "      <td>16.999814</td>\n",
       "      <td>1.042752</td>\n",
       "      <td>1.916476</td>\n",
       "      <td>8.698385</td>\n",
       "      <td>1.896121</td>\n",
       "      <td>180.020664</td>\n",
       "      <td>629.551073</td>\n",
       "      <td>282.268267</td>\n",
       "      <td>9327.814453</td>\n",
       "      <td>1181.275691</td>\n",
       "    </tr>\n",
       "    <tr>\n",
       "      <th>2</th>\n",
       "      <td>259.862535</td>\n",
       "      <td>2.694009</td>\n",
       "      <td>28.912321</td>\n",
       "      <td>2.342470</td>\n",
       "      <td>46.347013</td>\n",
       "      <td>1.772782</td>\n",
       "      <td>2.476765</td>\n",
       "      <td>12.608831</td>\n",
       "      <td>2.600583</td>\n",
       "      <td>866.332931</td>\n",
       "      <td>740.130457</td>\n",
       "      <td>1062.062261</td>\n",
       "      <td>10085.273285</td>\n",
       "      <td>4505.657715</td>\n",
       "    </tr>\n",
       "    <tr>\n",
       "      <th>3</th>\n",
       "      <td>212.279086</td>\n",
       "      <td>3.629908</td>\n",
       "      <td>31.180314</td>\n",
       "      <td>3.109099</td>\n",
       "      <td>55.424926</td>\n",
       "      <td>3.354978</td>\n",
       "      <td>3.309410</td>\n",
       "      <td>11.983140</td>\n",
       "      <td>3.815448</td>\n",
       "      <td>2050.835270</td>\n",
       "      <td>840.877421</td>\n",
       "      <td>2821.503759</td>\n",
       "      <td>11497.079973</td>\n",
       "      <td>11127.079745</td>\n",
       "    </tr>\n",
       "  </tbody>\n",
       "</table>\n",
       "</div>"
      ],
      "text/plain": [
       "          POVLEV12  HLTHSTAT   BMINDX53  MNHLTHSTAT    AGELAST  ADPAIN42  \\\n",
       "km_lab                                                                     \n",
       "0       596.141137  1.703105  26.232170    1.467944  44.781014  1.252241   \n",
       "1       179.541226  1.749263  26.776700    1.643166  16.999814  1.042752   \n",
       "2       259.862535  2.694009  28.912321    2.342470  46.347013  1.772782   \n",
       "3       212.279086  3.629908  31.180314    3.109099  55.424926  3.354978   \n",
       "\n",
       "        ADCAPE42   EDRECODE  ADNRGY42     OBVEXP12    ERTEXP12      RXEXP12  \\\n",
       "km_lab                                                                        \n",
       "0       1.920873  14.119693  1.978892   846.937972  685.673703   601.225590   \n",
       "1       1.916476   8.698385  1.896121   180.020664  629.551073   282.268267   \n",
       "2       2.476765  12.608831  2.600583   866.332931  740.130457  1062.062261   \n",
       "3       3.309410  11.983140  3.815448  2050.835270  840.877421  2821.503759   \n",
       "\n",
       "            IPTEXP12      TOTEXP12  \n",
       "km_lab                              \n",
       "0        9572.245873   2906.062028  \n",
       "1        9327.814453   1181.275691  \n",
       "2       10085.273285   4505.657715  \n",
       "3       11497.079973  11127.079745  "
      ]
     },
     "execution_count": 372,
     "metadata": {},
     "output_type": "execute_result"
    }
   ],
   "source": [
    "gb_km[['POVLEV12','HLTHSTAT',\"BMINDX53\",\n",
    "            'MNHLTHSTAT','AGELAST', \"ADPAIN42\",\"ADCAPE42\", 'EDRECODE',\n",
    "            \"ADNRGY42\",\"OBVEXP12\",'ERTEXP12',\"RXEXP12\",\"IPTEXP12\",\"TOTEXP12\"]]"
   ]
  },
  {
   "cell_type": "markdown",
   "metadata": {},
   "source": [
    "Group 0: 44, poorest, feel ok, low BMI - pay middle on OBV, but lowish on RX, ER & IPT\n",
    "Group 1: 16, richest, feel ok, low BMI - pay least on OBV, ER, RX, IPT\n",
    "Group 2: 46, not very poor, feel not great, higher BMI - pay equivalent to Group 0 on OBV, but pay more on ER, IPT and a lot more on RX\n",
    "Group 3: 55, not very poor, feel the worst, highest BMI - pay the most on OBV, ER, RX, IPT"
   ]
  },
  {
   "cell_type": "code",
   "execution_count": 140,
   "metadata": {
    "collapsed": false
   },
   "outputs": [
    {
     "data": {
      "text/plain": [
       "array([0, 1])"
      ]
     },
     "execution_count": 140,
     "metadata": {},
     "output_type": "execute_result"
    }
   ],
   "source": [
    "obY.unique()"
   ]
  },
  {
   "cell_type": "code",
   "execution_count": 175,
   "metadata": {
    "collapsed": false,
    "scrolled": true
   },
   "outputs": [
    {
     "data": {
      "text/plain": [
       "<matplotlib.axes._subplots.AxesSubplot at 0x12b57b990>"
      ]
     },
     "execution_count": 175,
     "metadata": {},
     "output_type": "execute_result"
    },
    {
     "data": {
      "image/png": "[encoded data removed]",
      "text/plain": [
       "<matplotlib.figure.Figure at 0x12b57b150>"
      ]
     },
     "metadata": {},
     "output_type": "display_data"
    }
   ],
   "source": [
    "insur_df.INSURC12.hist()"
   ]
  },
  {
   "cell_type": "code",
   "execution_count": 183,
   "metadata": {
    "collapsed": false
   },
   "outputs": [
    {
     "data": {
      "image/png": "[encoded data removed]",
      "text/plain": [
       "<matplotlib.figure.Figure at 0x11c0dce90>"
      ]
     },
     "metadata": {},
     "output_type": "display_data"
    }
   ],
   "source": [
    "from pylab import plot,show\n",
    "from numpy import vstack,array\n",
    "from numpy.random import rand\n",
    "from scipy.cluster.vq import kmeans,vq\n",
    "\n",
    "\n",
    "centroids,_ = kmeans(inX,4)\n",
    "idx,_ = vq(inX,centroids)\n",
    "\n",
    "plot(inX[idx==0,0],inX[idx==0,1],'ob',\n",
    "     inX[idx==1,0],inX[idx==1,1],'or',\n",
    "     inX[idx==2,0],inX[idx==2,1],'og',\n",
    "     inX[idx==3,0],inX[idx==3,1],'oc') \n",
    "plot(centroids[:,0],centroids[:,1],'sm',markersize=8)\n",
    "show()"
   ]
  },
  {
   "cell_type": "code",
   "execution_count": 223,
   "metadata": {
    "collapsed": true
   },
   "outputs": [],
   "source": [
    "inX = preprocessing.StandardScaler().fit(indf_dat)\n",
    "inX = inX.transform(indf_dat)\n",
    "y = insur_df.OBVGrp\n",
    "\n",
    "n_samples, n_features = inX.shape\n",
    "n_groups = 6\n",
    "labels = y\n",
    "sample_size = 300\n",
    "\n",
    "# in this case the seeding of the centers is deterministic, hence we run the\n",
    "# kmeans algorithm only once with n_init=1\n",
    "def bench_k_means(estimator, name, data):\n",
    "    t0 = time()\n",
    "    estimator.fit(data)\n",
    "    #print('% 9s   %.2fs    %i   %.3f   %.3f   %.3f   %.3f   %.3f    %.3f'\n",
    "    #      % (name, (time() - t0), estimator.inertia_,\n",
    "    #         metrics.homogeneity_score(labels, estimator.labels_),\n",
    "    #         metrics.completeness_score(labels, estimator.labels_),\n",
    "    #         metrics.v_measure_score(labels, estimator.labels_),\n",
    "    #         metrics.adjusted_rand_score(labels, estimator.labels_),\n",
    "    #         metrics.adjusted_mutual_info_score(labels,  estimator.labels_),\n",
    "    #         metrics.silhouette_score(data, estimator.labels_,\n",
    "    #                                  metric='euclidean',\n",
    "    #                                  sample_size=sample_size)))\n",
    "    \n",
    "pca = PCA(n_components=n_groups).fit(inX)\n",
    "bench_k_means(KMeans(init=pca.components_, n_clusters=n_groups, n_init=1),\n",
    "              name=\"PCA-based\",\n",
    "              data=inX)\n"
   ]
  },
  {
   "cell_type": "code",
   "execution_count": 224,
   "metadata": {
    "collapsed": false
   },
   "outputs": [
    {
     "data": {
      "image/png": "[encoded data removed]",
      "text/plain": [
       "<matplotlib.figure.Figure at 0x11c89d290>"
      ]
     },
     "metadata": {},
     "output_type": "display_data"
    }
   ],
   "source": [
    "# Visualize the results on PCA-reduced data\n",
    "\n",
    "reduced_data = PCA(n_components=2).fit_transform(inX)\n",
    "kmeans = KMeans(init='k-means++', n_clusters=n_groups, n_init=10)\n",
    "kmeans.fit(reduced_data)\n",
    "\n",
    "# Step size of the mesh. Decrease to increase the quality of the VQ.\n",
    "h = .02     # point in the mesh [x_min, m_max]x[y_min, y_max].\n",
    "\n",
    "# Plot the decision boundary. For that, we will assign a color to each\n",
    "x_min, x_max = reduced_data[:, 0].min() + 1, reduced_data[:, 0].max() - 1\n",
    "y_min, y_max = reduced_data[:, 1].min() + 1, reduced_data[:, 1].max() - 1\n",
    "xx, yy = np.meshgrid(np.arange(x_min, x_max, h), np.arange(y_min, y_max, h))\n",
    "\n",
    "# Obtain labels for each point in mesh. Use last trained model.\n",
    "Z = kmeans.predict(np.c_[xx.ravel(), yy.ravel()])\n",
    "\n",
    "# Put the result into a color plot\n",
    "Z = Z.reshape(xx.shape)\n",
    "plt.figure(1)\n",
    "plt.clf()\n",
    "plt.imshow(Z, interpolation='nearest',\n",
    "           extent=(xx.min(), xx.max(), yy.min(), yy.max()),\n",
    "           cmap=plt.cm.Paired,\n",
    "           aspect='auto', origin='lower')\n",
    "\n",
    "plt.plot(reduced_data[:, 0], reduced_data[:, 1], 'k.', markersize=2)\n",
    "# Plot the centroids as a white X\n",
    "centroids = kmeans.cluster_centers_\n",
    "plt.scatter(centroids[:, 0], centroids[:, 1],\n",
    "            marker='x', s=169, linewidths=3,\n",
    "            color='w', zorder=10)\n",
    "plt.title('K-means clustering on the digits dataset (PCA-reduced data)\\n'\n",
    "          'Centroids are marked with white cross')\n",
    "plt.xlim(x_min, x_max)\n",
    "plt.ylim(y_min, y_max)\n",
    "plt.xticks(())\n",
    "plt.yticks(())\n",
    "plt.show()"
   ]
  },
  {
   "cell_type": "code",
   "execution_count": 359,
   "metadata": {
    "collapsed": true
   },
   "outputs": [],
   "source": [
    "lab6 = kmeans.labels_\n",
    "insur_df['km_lab'] = lab6"
   ]
  },
  {
   "cell_type": "code",
   "execution_count": 360,
   "metadata": {
    "collapsed": false
   },
   "outputs": [
    {
     "data": {
      "text/plain": [
       "0.093068226379614677"
      ]
     },
     "execution_count": 360,
     "metadata": {},
     "output_type": "execute_result"
    }
   ],
   "source": [
    "metrics.silhouette_score(inX, kmeans.labels_,\n",
    "                                      metric='euclidean',\n",
    "                                      sample_size=sample_size)"
   ]
  },
  {
   "cell_type": "code",
   "execution_count": 361,
   "metadata": {
    "collapsed": false
   },
   "outputs": [
    {
     "data": {
      "text/html": [
       "<div style=\"max-height:1000px;max-width:1500px;overflow:auto;\">\n",
       "<table border=\"1\" class=\"dataframe\">\n",
       "  <thead>\n",
       "    <tr style=\"text-align: right;\">\n",
       "      <th></th>\n",
       "      <th>POVLEV12</th>\n",
       "      <th>HLTHSTAT</th>\n",
       "      <th>BMINDX53</th>\n",
       "      <th>MNHLTHSTAT</th>\n",
       "      <th>AGELAST</th>\n",
       "      <th>ADPAIN42</th>\n",
       "      <th>ADCAPE42</th>\n",
       "      <th>EDRECODE</th>\n",
       "      <th>ADNRGY42</th>\n",
       "      <th>OBVEXP12</th>\n",
       "      <th>ERTEXP12</th>\n",
       "      <th>RXEXP12</th>\n",
       "      <th>IPTEXP12</th>\n",
       "      <th>TOTEXP12</th>\n",
       "    </tr>\n",
       "    <tr>\n",
       "      <th>km_lab</th>\n",
       "      <th></th>\n",
       "      <th></th>\n",
       "      <th></th>\n",
       "      <th></th>\n",
       "      <th></th>\n",
       "      <th></th>\n",
       "      <th></th>\n",
       "      <th></th>\n",
       "      <th></th>\n",
       "      <th></th>\n",
       "      <th></th>\n",
       "      <th></th>\n",
       "      <th></th>\n",
       "      <th></th>\n",
       "    </tr>\n",
       "  </thead>\n",
       "  <tbody>\n",
       "    <tr>\n",
       "      <th>0</th>\n",
       "      <td>695.510158</td>\n",
       "      <td>1.873883</td>\n",
       "      <td>26.567344</td>\n",
       "      <td>1.585831</td>\n",
       "      <td>52.490447</td>\n",
       "      <td>1.401578</td>\n",
       "      <td>2.018580</td>\n",
       "      <td>14.478703</td>\n",
       "      <td>2.127257</td>\n",
       "      <td>1189.188431</td>\n",
       "      <td>711.648729</td>\n",
       "      <td>871.993690</td>\n",
       "      <td>9755.147590</td>\n",
       "      <td>4046.810868</td>\n",
       "    </tr>\n",
       "    <tr>\n",
       "      <th>1</th>\n",
       "      <td>141.275133</td>\n",
       "      <td>1.808402</td>\n",
       "      <td>27.008281</td>\n",
       "      <td>1.757447</td>\n",
       "      <td>12.676704</td>\n",
       "      <td>1.011989</td>\n",
       "      <td>1.966820</td>\n",
       "      <td>5.048934</td>\n",
       "      <td>1.946187</td>\n",
       "      <td>144.405270</td>\n",
       "      <td>617.228078</td>\n",
       "      <td>260.101352</td>\n",
       "      <td>9305.574237</td>\n",
       "      <td>986.762024</td>\n",
       "    </tr>\n",
       "    <tr>\n",
       "      <th>2</th>\n",
       "      <td>283.828220</td>\n",
       "      <td>2.933434</td>\n",
       "      <td>29.503724</td>\n",
       "      <td>2.509184</td>\n",
       "      <td>52.962926</td>\n",
       "      <td>2.302663</td>\n",
       "      <td>2.726828</td>\n",
       "      <td>12.850354</td>\n",
       "      <td>3.023256</td>\n",
       "      <td>1396.785811</td>\n",
       "      <td>780.247556</td>\n",
       "      <td>1469.975902</td>\n",
       "      <td>10575.169194</td>\n",
       "      <td>6627.646613</td>\n",
       "    </tr>\n",
       "    <tr>\n",
       "      <th>3</th>\n",
       "      <td>291.178344</td>\n",
       "      <td>1.447447</td>\n",
       "      <td>26.142658</td>\n",
       "      <td>1.314015</td>\n",
       "      <td>22.915972</td>\n",
       "      <td>1.048348</td>\n",
       "      <td>1.792463</td>\n",
       "      <td>12.272142</td>\n",
       "      <td>1.791724</td>\n",
       "      <td>244.987755</td>\n",
       "      <td>641.336113</td>\n",
       "      <td>230.844717</td>\n",
       "      <td>9321.319856</td>\n",
       "      <td>1215.621978</td>\n",
       "    </tr>\n",
       "    <tr>\n",
       "      <th>4</th>\n",
       "      <td>194.645519</td>\n",
       "      <td>2.505506</td>\n",
       "      <td>28.186144</td>\n",
       "      <td>2.235007</td>\n",
       "      <td>35.455500</td>\n",
       "      <td>1.342425</td>\n",
       "      <td>2.251505</td>\n",
       "      <td>11.938148</td>\n",
       "      <td>2.232808</td>\n",
       "      <td>345.447176</td>\n",
       "      <td>687.378794</td>\n",
       "      <td>662.260981</td>\n",
       "      <td>9604.758868</td>\n",
       "      <td>2482.257267</td>\n",
       "    </tr>\n",
       "    <tr>\n",
       "      <th>5</th>\n",
       "      <td>183.555542</td>\n",
       "      <td>3.848900</td>\n",
       "      <td>31.739618</td>\n",
       "      <td>3.297801</td>\n",
       "      <td>55.530556</td>\n",
       "      <td>3.642361</td>\n",
       "      <td>3.488542</td>\n",
       "      <td>11.711111</td>\n",
       "      <td>4.022222</td>\n",
       "      <td>2284.331250</td>\n",
       "      <td>860.588542</td>\n",
       "      <td>3361.681250</td>\n",
       "      <td>11877.465625</td>\n",
       "      <td>12838.638194</td>\n",
       "    </tr>\n",
       "  </tbody>\n",
       "</table>\n",
       "</div>"
      ],
      "text/plain": [
       "          POVLEV12  HLTHSTAT   BMINDX53  MNHLTHSTAT    AGELAST  ADPAIN42  \\\n",
       "km_lab                                                                     \n",
       "0       695.510158  1.873883  26.567344    1.585831  52.490447  1.401578   \n",
       "1       141.275133  1.808402  27.008281    1.757447  12.676704  1.011989   \n",
       "2       283.828220  2.933434  29.503724    2.509184  52.962926  2.302663   \n",
       "3       291.178344  1.447447  26.142658    1.314015  22.915972  1.048348   \n",
       "4       194.645519  2.505506  28.186144    2.235007  35.455500  1.342425   \n",
       "5       183.555542  3.848900  31.739618    3.297801  55.530556  3.642361   \n",
       "\n",
       "        ADCAPE42   EDRECODE  ADNRGY42     OBVEXP12    ERTEXP12      RXEXP12  \\\n",
       "km_lab                                                                        \n",
       "0       2.018580  14.478703  2.127257  1189.188431  711.648729   871.993690   \n",
       "1       1.966820   5.048934  1.946187   144.405270  617.228078   260.101352   \n",
       "2       2.726828  12.850354  3.023256  1396.785811  780.247556  1469.975902   \n",
       "3       1.792463  12.272142  1.791724   244.987755  641.336113   230.844717   \n",
       "4       2.251505  11.938148  2.232808   345.447176  687.378794   662.260981   \n",
       "5       3.488542  11.711111  4.022222  2284.331250  860.588542  3361.681250   \n",
       "\n",
       "            IPTEXP12      TOTEXP12  \n",
       "km_lab                              \n",
       "0        9755.147590   4046.810868  \n",
       "1        9305.574237    986.762024  \n",
       "2       10575.169194   6627.646613  \n",
       "3        9321.319856   1215.621978  \n",
       "4        9604.758868   2482.257267  \n",
       "5       11877.465625  12838.638194  "
      ]
     },
     "execution_count": 361,
     "metadata": {},
     "output_type": "execute_result"
    }
   ],
   "source": [
    "gb_km6 = insur_df.groupby('km_lab').mean()\n",
    "gb_km6[['POVLEV12','HLTHSTAT',\"BMINDX53\",\n",
    "            'MNHLTHSTAT','AGELAST', \"ADPAIN42\",\"ADCAPE42\", 'EDRECODE',\n",
    "            \"ADNRGY42\",\"OBVEXP12\",'ERTEXP12',\"RXEXP12\",\"IPTEXP12\",\"TOTEXP12\"]]"
   ]
  },
  {
   "cell_type": "markdown",
   "metadata": {},
   "source": [
    "Group 0: 50s, feel good, poorest, low BMI - pay a lot for OBV, IPT, but middle for RX & ER\n",
    "\n",
    "Group 1: 12s, feel good, lower BMI, not poor - pay least for OBV, ER, IPT, almost pay least for RX\n",
    "\n",
    "Group 2: 50s, feel not great, higher BMI, not too poor - pay alot for OBV, ER, RX, IPT\n",
    "\n",
    "Group 3: 20s, feel good, low BMI, not too poor - pay low for OBV, ER, RX, IPT\n",
    "\n",
    "Group 4: 30s, don't feel okish, higher BMI, not poor - pay not much for OBV, ER, pay middle for IPT/RX\\\n",
    "\n",
    "Group 5: old, feel worst, not poor, highest BMI - pay the most for OBV, RX, IPT, ERV"
   ]
  },
  {
   "cell_type": "code",
   "execution_count": null,
   "metadata": {
    "collapsed": true
   },
   "outputs": [],
   "source": []
  }
 ],
 "metadata": {
  "kernelspec": {
   "display_name": "Python 2",
   "language": "python",
   "name": "python2"
  },
  "language_info": {
   "codemirror_mode": {
    "name": "ipython",
    "version": 2
   },
   "file_extension": ".py",
   "mimetype": "text/x-python",
   "name": "python",
   "nbconvert_exporter": "python",
   "pygments_lexer": "ipython2",
   "version": "2.7.10"
  }
 },
 "nbformat": 4,
 "nbformat_minor": 0
}
