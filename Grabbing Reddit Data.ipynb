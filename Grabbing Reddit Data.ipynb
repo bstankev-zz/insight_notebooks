{
 "cells": [
  {
   "cell_type": "markdown",
   "metadata": {},
   "source": [
    "# Grabbing Data from r/SkinCareAddiction using PRAW API Wrapper\n",
    "\n",
    "Beth Stankevich (09/2015)\n",
    "\n",
    "notebooks: https://github.com/bstankev/Insight_DataProject\n",
    "\n",
    "Input: r/SkinCareAddiction comments/posts\n",
    "Output: DataFrame\n",
    "\n",
    "## Outcome : too little data possibly to get a good predictive model going"
   ]
  },
  {
   "cell_type": "code",
   "execution_count": 93,
   "metadata": {
    "collapsed": true
   },
   "outputs": [],
   "source": [
    "%matplotlib inline\n",
    "import matplotlib.pyplot as plt\n",
    "import seaborn as sns\n",
    "\n",
    "import pandas as pd\n",
    "\n",
    "import praw #Reddit API Wrapper\n",
    "import time #We need to request data at a maximum of 30 times/min"
   ]
  },
  {
   "cell_type": "code",
   "execution_count": 94,
   "metadata": {
    "collapsed": true
   },
   "outputs": [],
   "source": [
    "user_agent = \"Skin Care Help 1.0 by /u/flocculonodular\"\n",
    "r = praw.Reddit(user_agent=user_agent)"
   ]
  },
  {
   "cell_type": "code",
   "execution_count": 95,
   "metadata": {
    "collapsed": false
   },
   "outputs": [
    {
     "name": "stdout",
     "output_type": "stream",
     "text": [
      "{'_api_link': u'https://api.reddit.com/r/SkincareAddiction/comments/3ke3a4/acne_can_anyone_recommend_any_effective_products/',\n",
      " '_comment_sort': None,\n",
      " '_comments': [<praw.objects.Comment object at 0x104e36990>,\n",
      "               <praw.objects.Comment object at 0x104e36810>,\n",
      "               <praw.objects.Comment object at 0x104e36a10>],\n",
      " '_comments_by_id': {u't1_cuwpc3x': <praw.objects.Comment object at 0x104e36990>,\n",
      "                     u't1_cuwqt4g': <praw.objects.Comment object at 0x104e36790>,\n",
      "                     u't1_cuwr2pf': <praw.objects.Comment object at 0x104e36a10>,\n",
      "                     u't1_cuwxu7j': <praw.objects.Comment object at 0x104e36810>,\n",
      "                     u't1_cux46wn': <praw.objects.Comment object at 0x104e36910>,\n",
      "                     u't1_cux5b5h': <praw.objects.Comment object at 0x104e36710>,\n",
      "                     u't1_cux5r9t': <praw.objects.Comment object at 0x104e36dd0>},\n",
      " '_has_fetched': True,\n",
      " '_info_url': u'https://api.reddit.com/api/info/',\n",
      " '_orphaned': {},\n",
      " '_params': {},\n",
      " '_replaced_more': False,\n",
      " '_underscore_names': None,\n",
      " '_uniq': None,\n",
      " 'approved_by': None,\n",
      " 'archived': False,\n",
      " 'author': Redditor(user_name='LeeJackman'),\n",
      " 'author_flair_css_class': None,\n",
      " 'author_flair_text': None,\n",
      " 'banned_by': None,\n",
      " 'clicked': False,\n",
      " 'created': 1441917118.0,\n",
      " 'created_utc': 1441888318.0,\n",
      " 'distinguished': None,\n",
      " 'domain': u'self.SkincareAddiction',\n",
      " 'downs': 0,\n",
      " 'edited': False,\n",
      " 'from': None,\n",
      " 'from_id': None,\n",
      " 'from_kind': None,\n",
      " 'gilded': 0,\n",
      " 'hidden': False,\n",
      " 'hide_score': False,\n",
      " 'id': u'3ke3a4',\n",
      " 'is_self': True,\n",
      " 'json_dict': None,\n",
      " 'likes': None,\n",
      " 'link_flair_css_class': u'Acne',\n",
      " 'link_flair_text': u'Acne',\n",
      " 'media': None,\n",
      " 'media_embed': {},\n",
      " 'mod_reports': [],\n",
      " 'name': u't3_3ke3a4',\n",
      " 'num_comments': 7,\n",
      " 'num_reports': None,\n",
      " 'over_18': False,\n",
      " 'permalink': u'https://www.reddit.com/r/SkincareAddiction/comments/3ke3a4/acne_can_anyone_recommend_any_effective_products/',\n",
      " 'quarantine': False,\n",
      " 'reddit_session': <praw.Reddit object at 0x104e1dd50>,\n",
      " 'removal_reason': None,\n",
      " 'report_reasons': None,\n",
      " 'saved': False,\n",
      " 'score': 6,\n",
      " 'secure_media': None,\n",
      " 'secure_media_embed': {},\n",
      " 'selftext': u'Preferably something you can buy in the UK? Any price really',\n",
      " 'selftext_html': u'<!-- SC_OFF --><div class=\"md\"><p>Preferably something you can buy in the UK? Any price really</p>\\n</div><!-- SC_ON -->',\n",
      " 'stickied': False,\n",
      " 'subreddit': Subreddit(subreddit_name='SkincareAddiction'),\n",
      " 'subreddit_id': u't5_2tbbg',\n",
      " 'suggested_sort': None,\n",
      " 'thumbnail': u'self',\n",
      " 'title': u'[Acne] Can anyone recommend any effective products for healing acne scars?',\n",
      " 'ups': 6,\n",
      " 'upvote_ratio': 1.0,\n",
      " 'url': u'http://www.reddit.com/r/SkincareAddiction/comments/3ke3a4/acne_can_anyone_recommend_any_effective_products/',\n",
      " 'user_reports': [],\n",
      " 'visited': False}\n"
     ]
    }
   ],
   "source": [
    "#proof of concept - Can we get a submission from Reddit via the API?\n",
    "from pprint import pprint\n",
    "submission = r.get_submission(submission_id='3ke3a4')\n",
    "pprint(vars(submission))"
   ]
  },
  {
   "cell_type": "code",
   "execution_count": 98,
   "metadata": {
    "collapsed": false
   },
   "outputs": [],
   "source": [
    "#get all recent comments to a subreddit - r/SkincareAddiction \n",
    "#comments related to acne\n",
    "acne_comments = []\n",
    "for i in xrange(0,10):\n",
    "    comments = r.get_comments('SkincareAddiction')\n",
    "    for comment in comments:\n",
    "        body = comment.body.lower()\n",
    "        if body.find(\"acne\") != -1:\n",
    "            acne_comments.append(body)\n",
    "    #time.sleep(120) #sleep for 2 minutes"
   ]
  },
  {
   "cell_type": "code",
   "execution_count": 99,
   "metadata": {
    "collapsed": false
   },
   "outputs": [
    {
     "data": {
      "text/plain": [
       "30"
      ]
     },
     "execution_count": 99,
     "metadata": {},
     "output_type": "execute_result"
    }
   ],
   "source": [
    "len(acne_comments)"
   ]
  },
  {
   "cell_type": "code",
   "execution_count": 100,
   "metadata": {
    "collapsed": false
   },
   "outputs": [
    {
     "data": {
      "text/plain": [
       "u\"sorry, i'm a month late, so clearly the situation is over. this is my alt and i forgot to check it. i've never really had a reaction to any products though, so that wasn't really a concern of mine. i usually just use whatever face cleanser helps with acne and is cheap and i've been fine so far with like 3 different ones.\""
      ]
     },
     "execution_count": 100,
     "metadata": {},
     "output_type": "execute_result"
    }
   ],
   "source": [
    "acne_comments[0]"
   ]
  }
 ],
 "metadata": {
  "kernelspec": {
   "display_name": "Python 2",
   "language": "python",
   "name": "python2"
  },
  "language_info": {
   "codemirror_mode": {
    "name": "ipython",
    "version": 2
   },
   "file_extension": ".py",
   "mimetype": "text/x-python",
   "name": "python",
   "nbconvert_exporter": "python",
   "pygments_lexer": "ipython2",
   "version": "2.7.10"
  }
 },
 "nbformat": 4,
 "nbformat_minor": 0
}
