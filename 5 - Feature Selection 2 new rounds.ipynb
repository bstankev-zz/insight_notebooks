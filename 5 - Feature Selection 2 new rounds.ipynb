{
 "cells": [
  {
   "cell_type": "markdown",
   "metadata": {},
   "source": [
    "# Feature selection/search - new rounds \n",
    "\n",
    "Increasing the number of features to be used in the model"
   ]
  },
  {
   "cell_type": "code",
   "execution_count": 1,
   "metadata": {
    "collapsed": true
   },
   "outputs": [],
   "source": [
    "%matplotlib inline\n",
    "import pandas as pd\n",
    "import numpy as np\n",
    "import matplotlib.pyplot as plt\n",
    "import seaborn as sns"
   ]
  },
  {
   "cell_type": "code",
   "execution_count": 2,
   "metadata": {
    "collapsed": false
   },
   "outputs": [
    {
     "name": "stdout",
     "output_type": "stream",
     "text": [
      "/Users/bstankev/Desktop/Insight/2012_MEPS\n"
     ]
    }
   ],
   "source": [
    "cd ../Desktop/Insight/2012_MEPS/"
   ]
  },
  {
   "cell_type": "markdown",
   "metadata": {},
   "source": [
    "## Load a new subset of features from consolidated.csv"
   ]
  },
  {
   "cell_type": "code",
   "execution_count": 136,
   "metadata": {
    "collapsed": false
   },
   "outputs": [],
   "source": [
    "# load MEPS dataset with only a subset of columns - race, marriage\n",
    "# education, active duty, student, honorable discharge\n",
    "MEPS_newsub = pd.read_csv('consolidated.csv', \n",
    "                        usecols=[\"DUID\", \"PID\", \"DUPERSID\", \"HISPANX\",\n",
    "                                 \"HISPCAT\",\n",
    "                                 \"MARRY42X\", \"MARRY53X\", \"MARRY12X\", \n",
    "                                 \"HIDEG\", \"EDRECODE\", \"FTSTU31X\", \n",
    "                                 \"FTSTU42X\", \"FTSTU53X\", \"FTSTU12X\",\n",
    "                                 \"ACTDTY31\", \"ACTDTY42\", \"ACTDTY53\",\n",
    "                                 \"HONRDC31\", \"HONRDC42\", \"HONRDC53\",\n",
    "                             ])"
   ]
  },
  {
   "cell_type": "code",
   "execution_count": 137,
   "metadata": {
    "collapsed": false,
    "scrolled": true
   },
   "outputs": [
    {
     "data": {
      "text/html": [
       "<div style=\"max-height:1000px;max-width:1500px;overflow:auto;\">\n",
       "<table border=\"1\" class=\"dataframe\">\n",
       "  <thead>\n",
       "    <tr style=\"text-align: right;\">\n",
       "      <th></th>\n",
       "      <th>DUID</th>\n",
       "      <th>PID</th>\n",
       "      <th>DUPERSID</th>\n",
       "      <th>HISPANX</th>\n",
       "      <th>HISPCAT</th>\n",
       "      <th>MARRY42X</th>\n",
       "      <th>MARRY53X</th>\n",
       "      <th>MARRY12X</th>\n",
       "      <th>HIDEG</th>\n",
       "      <th>EDRECODE</th>\n",
       "      <th>FTSTU31X</th>\n",
       "      <th>FTSTU42X</th>\n",
       "      <th>FTSTU53X</th>\n",
       "      <th>FTSTU12X</th>\n",
       "      <th>ACTDTY31</th>\n",
       "      <th>ACTDTY42</th>\n",
       "      <th>ACTDTY53</th>\n",
       "      <th>HONRDC31</th>\n",
       "      <th>HONRDC42</th>\n",
       "      <th>HONRDC53</th>\n",
       "    </tr>\n",
       "  </thead>\n",
       "  <tbody>\n",
       "    <tr>\n",
       "      <th>0</th>\n",
       "      <td>20004</td>\n",
       "      <td>101</td>\n",
       "      <td>20004101</td>\n",
       "      <td>1 HISPANIC</td>\n",
       "      <td>5 CENTRAL OR SOUTH AMERICAN</td>\n",
       "      <td>1 MARRIED</td>\n",
       "      <td>1 MARRIED</td>\n",
       "      <td>1 MARRIED</td>\n",
       "      <td>-1 INAPPLICABLE</td>\n",
       "      <td>14 BEYOND HS,COLLEGE(NO 4YR DEG),ASSOC DEG</td>\n",
       "      <td>-1 INAPPLICABLE</td>\n",
       "      <td>-1 INAPPLICABLE</td>\n",
       "      <td>-1 INAPPLICABLE</td>\n",
       "      <td>-1 INAPPLICABLE</td>\n",
       "      <td>2 NO - NOT FT ACTIVE DUTY</td>\n",
       "      <td>2 NO - NOT FT ACTIVE DUTY</td>\n",
       "      <td>2 NO - NOT FT ACTIVE DUTY</td>\n",
       "      <td>2 NO - NOT HONORABLY DISCHARGED</td>\n",
       "      <td>2 NO - NOT HONORABLY DISCHARGED</td>\n",
       "      <td>2 NO - NOT HONORABLY DISCHARGED</td>\n",
       "    </tr>\n",
       "    <tr>\n",
       "      <th>1</th>\n",
       "      <td>20004</td>\n",
       "      <td>102</td>\n",
       "      <td>20004102</td>\n",
       "      <td>1 HISPANIC</td>\n",
       "      <td>5 CENTRAL OR SOUTH AMERICAN</td>\n",
       "      <td>1 MARRIED</td>\n",
       "      <td>1 MARRIED</td>\n",
       "      <td>1 MARRIED</td>\n",
       "      <td>-1 INAPPLICABLE</td>\n",
       "      <td>13 GED OR HS GRAD</td>\n",
       "      <td>-1 INAPPLICABLE</td>\n",
       "      <td>-1 INAPPLICABLE</td>\n",
       "      <td>-1 INAPPLICABLE</td>\n",
       "      <td>-1 INAPPLICABLE</td>\n",
       "      <td>2 NO - NOT FT ACTIVE DUTY</td>\n",
       "      <td>2 NO - NOT FT ACTIVE DUTY</td>\n",
       "      <td>2 NO - NOT FT ACTIVE DUTY</td>\n",
       "      <td>2 NO - NOT HONORABLY DISCHARGED</td>\n",
       "      <td>2 NO - NOT HONORABLY DISCHARGED</td>\n",
       "      <td>2 NO - NOT HONORABLY DISCHARGED</td>\n",
       "    </tr>\n",
       "    <tr>\n",
       "      <th>2</th>\n",
       "      <td>20004</td>\n",
       "      <td>103</td>\n",
       "      <td>20004103</td>\n",
       "      <td>1 HISPANIC</td>\n",
       "      <td>5 CENTRAL OR SOUTH AMERICAN</td>\n",
       "      <td>6 UNDER 16 - INAPPLICABLE</td>\n",
       "      <td>6 UNDER 16 - INAPPLICABLE</td>\n",
       "      <td>6 UNDER 16 - INAPPLICABLE</td>\n",
       "      <td>-1 INAPPLICABLE</td>\n",
       "      <td>2 2ND GRADE</td>\n",
       "      <td>-1 INAPPLICABLE</td>\n",
       "      <td>-1 INAPPLICABLE</td>\n",
       "      <td>-1 INAPPLICABLE</td>\n",
       "      <td>-1 INAPPLICABLE</td>\n",
       "      <td>3 UNDER 16 - INAPPLICABLE</td>\n",
       "      <td>3 UNDER 16 - INAPPLICABLE</td>\n",
       "      <td>3 UNDER 16 - INAPPLICABLE</td>\n",
       "      <td>3 16 OR YOUNGER - INAPPLICABLE</td>\n",
       "      <td>3 16 OR YOUNGER - INAPPLICABLE</td>\n",
       "      <td>3 16 OR YOUNGER - INAPPLICABLE</td>\n",
       "    </tr>\n",
       "    <tr>\n",
       "      <th>3</th>\n",
       "      <td>20005</td>\n",
       "      <td>101</td>\n",
       "      <td>20005101</td>\n",
       "      <td>1 HISPANIC</td>\n",
       "      <td>3 DOMINICAN</td>\n",
       "      <td>4 SEPARATED</td>\n",
       "      <td>4 SEPARATED</td>\n",
       "      <td>4 SEPARATED</td>\n",
       "      <td>-1 INAPPLICABLE</td>\n",
       "      <td>14 BEYOND HS,COLLEGE(NO 4YR DEG),ASSOC DEG</td>\n",
       "      <td>-1 INAPPLICABLE</td>\n",
       "      <td>-1 INAPPLICABLE</td>\n",
       "      <td>-1 INAPPLICABLE</td>\n",
       "      <td>-1 INAPPLICABLE</td>\n",
       "      <td>2 NO - NOT FT ACTIVE DUTY</td>\n",
       "      <td>2 NO - NOT FT ACTIVE DUTY</td>\n",
       "      <td>2 NO - NOT FT ACTIVE DUTY</td>\n",
       "      <td>2 NO - NOT HONORABLY DISCHARGED</td>\n",
       "      <td>2 NO - NOT HONORABLY DISCHARGED</td>\n",
       "      <td>2 NO - NOT HONORABLY DISCHARGED</td>\n",
       "    </tr>\n",
       "    <tr>\n",
       "      <th>4</th>\n",
       "      <td>20005</td>\n",
       "      <td>102</td>\n",
       "      <td>20005102</td>\n",
       "      <td>1 HISPANIC</td>\n",
       "      <td>3 DOMINICAN</td>\n",
       "      <td>5 NEVER MARRIED</td>\n",
       "      <td>5 NEVER MARRIED</td>\n",
       "      <td>5 NEVER MARRIED</td>\n",
       "      <td>-1 INAPPLICABLE</td>\n",
       "      <td>14 BEYOND HS,COLLEGE(NO 4YR DEG),ASSOC DEG</td>\n",
       "      <td>1 FULL-TIME</td>\n",
       "      <td>1 FULL-TIME</td>\n",
       "      <td>1 FULL-TIME</td>\n",
       "      <td>1 FULL-TIME</td>\n",
       "      <td>2 NO - NOT FT ACTIVE DUTY</td>\n",
       "      <td>2 NO - NOT FT ACTIVE DUTY</td>\n",
       "      <td>2 NO - NOT FT ACTIVE DUTY</td>\n",
       "      <td>2 NO - NOT HONORABLY DISCHARGED</td>\n",
       "      <td>2 NO - NOT HONORABLY DISCHARGED</td>\n",
       "      <td>2 NO - NOT HONORABLY DISCHARGED</td>\n",
       "    </tr>\n",
       "  </tbody>\n",
       "</table>\n",
       "</div>"
      ],
      "text/plain": [
       "    DUID  PID  DUPERSID     HISPANX                      HISPCAT  \\\n",
       "0  20004  101  20004101  1 HISPANIC  5 CENTRAL OR SOUTH AMERICAN   \n",
       "1  20004  102  20004102  1 HISPANIC  5 CENTRAL OR SOUTH AMERICAN   \n",
       "2  20004  103  20004103  1 HISPANIC  5 CENTRAL OR SOUTH AMERICAN   \n",
       "3  20005  101  20005101  1 HISPANIC                  3 DOMINICAN   \n",
       "4  20005  102  20005102  1 HISPANIC                  3 DOMINICAN   \n",
       "\n",
       "                    MARRY42X                   MARRY53X  \\\n",
       "0                  1 MARRIED                  1 MARRIED   \n",
       "1                  1 MARRIED                  1 MARRIED   \n",
       "2  6 UNDER 16 - INAPPLICABLE  6 UNDER 16 - INAPPLICABLE   \n",
       "3                4 SEPARATED                4 SEPARATED   \n",
       "4            5 NEVER MARRIED            5 NEVER MARRIED   \n",
       "\n",
       "                    MARRY12X            HIDEG  \\\n",
       "0                  1 MARRIED  -1 INAPPLICABLE   \n",
       "1                  1 MARRIED  -1 INAPPLICABLE   \n",
       "2  6 UNDER 16 - INAPPLICABLE  -1 INAPPLICABLE   \n",
       "3                4 SEPARATED  -1 INAPPLICABLE   \n",
       "4            5 NEVER MARRIED  -1 INAPPLICABLE   \n",
       "\n",
       "                                     EDRECODE         FTSTU31X  \\\n",
       "0  14 BEYOND HS,COLLEGE(NO 4YR DEG),ASSOC DEG  -1 INAPPLICABLE   \n",
       "1                           13 GED OR HS GRAD  -1 INAPPLICABLE   \n",
       "2                                 2 2ND GRADE  -1 INAPPLICABLE   \n",
       "3  14 BEYOND HS,COLLEGE(NO 4YR DEG),ASSOC DEG  -1 INAPPLICABLE   \n",
       "4  14 BEYOND HS,COLLEGE(NO 4YR DEG),ASSOC DEG      1 FULL-TIME   \n",
       "\n",
       "          FTSTU42X         FTSTU53X         FTSTU12X  \\\n",
       "0  -1 INAPPLICABLE  -1 INAPPLICABLE  -1 INAPPLICABLE   \n",
       "1  -1 INAPPLICABLE  -1 INAPPLICABLE  -1 INAPPLICABLE   \n",
       "2  -1 INAPPLICABLE  -1 INAPPLICABLE  -1 INAPPLICABLE   \n",
       "3  -1 INAPPLICABLE  -1 INAPPLICABLE  -1 INAPPLICABLE   \n",
       "4      1 FULL-TIME      1 FULL-TIME      1 FULL-TIME   \n",
       "\n",
       "                    ACTDTY31                   ACTDTY42  \\\n",
       "0  2 NO - NOT FT ACTIVE DUTY  2 NO - NOT FT ACTIVE DUTY   \n",
       "1  2 NO - NOT FT ACTIVE DUTY  2 NO - NOT FT ACTIVE DUTY   \n",
       "2  3 UNDER 16 - INAPPLICABLE  3 UNDER 16 - INAPPLICABLE   \n",
       "3  2 NO - NOT FT ACTIVE DUTY  2 NO - NOT FT ACTIVE DUTY   \n",
       "4  2 NO - NOT FT ACTIVE DUTY  2 NO - NOT FT ACTIVE DUTY   \n",
       "\n",
       "                    ACTDTY53                         HONRDC31  \\\n",
       "0  2 NO - NOT FT ACTIVE DUTY  2 NO - NOT HONORABLY DISCHARGED   \n",
       "1  2 NO - NOT FT ACTIVE DUTY  2 NO - NOT HONORABLY DISCHARGED   \n",
       "2  3 UNDER 16 - INAPPLICABLE   3 16 OR YOUNGER - INAPPLICABLE   \n",
       "3  2 NO - NOT FT ACTIVE DUTY  2 NO - NOT HONORABLY DISCHARGED   \n",
       "4  2 NO - NOT FT ACTIVE DUTY  2 NO - NOT HONORABLY DISCHARGED   \n",
       "\n",
       "                          HONRDC42                         HONRDC53  \n",
       "0  2 NO - NOT HONORABLY DISCHARGED  2 NO - NOT HONORABLY DISCHARGED  \n",
       "1  2 NO - NOT HONORABLY DISCHARGED  2 NO - NOT HONORABLY DISCHARGED  \n",
       "2   3 16 OR YOUNGER - INAPPLICABLE   3 16 OR YOUNGER - INAPPLICABLE  \n",
       "3  2 NO - NOT HONORABLY DISCHARGED  2 NO - NOT HONORABLY DISCHARGED  \n",
       "4  2 NO - NOT HONORABLY DISCHARGED  2 NO - NOT HONORABLY DISCHARGED  "
      ]
     },
     "execution_count": 137,
     "metadata": {},
     "output_type": "execute_result"
    }
   ],
   "source": [
    "MEPS_newsub.head()"
   ]
  },
  {
   "cell_type": "code",
   "execution_count": 138,
   "metadata": {
    "collapsed": true
   },
   "outputs": [],
   "source": [
    "# drop superfluous columns\n",
    "MEPS_newsub = MEPS_newsub.drop(['MARRY42X','MARRY53X','FTSTU31X','FTSTU42X','FTSTU53X',\n",
    "                                'ACTDTY31','ACTDTY42','HONRDC31','HONRDC42'],axis = 1)"
   ]
  },
  {
   "cell_type": "code",
   "execution_count": 139,
   "metadata": {
    "collapsed": false,
    "scrolled": true
   },
   "outputs": [
    {
     "data": {
      "text/plain": [
       "DUID         int64\n",
       "PID          int64\n",
       "DUPERSID     int64\n",
       "HISPANX     object\n",
       "HISPCAT     object\n",
       "MARRY12X    object\n",
       "HIDEG       object\n",
       "EDRECODE    object\n",
       "FTSTU12X    object\n",
       "ACTDTY53    object\n",
       "HONRDC53    object\n",
       "dtype: object"
      ]
     },
     "execution_count": 139,
     "metadata": {},
     "output_type": "execute_result"
    }
   ],
   "source": [
    "MEPS_newsub.dtypes"
   ]
  },
  {
   "cell_type": "code",
   "execution_count": 140,
   "metadata": {
    "collapsed": false
   },
   "outputs": [],
   "source": [
    "# get rid of string information in column, keep integer information\n",
    "cols = ['HISPANX','HISPCAT','MARRY12X','HIDEG','EDRECODE','FTSTU12X',\n",
    "        'ACTDTY53','HONRDC53']\n",
    "for col in cols:\n",
    "    MEPS_newsub[col] = MEPS_newsub[col].str.split(' ').str[0].astype(float)"
   ]
  },
  {
   "cell_type": "code",
   "execution_count": 141,
   "metadata": {
    "collapsed": false,
    "scrolled": true
   },
   "outputs": [
    {
     "data": {
      "text/html": [
       "<div style=\"max-height:1000px;max-width:1500px;overflow:auto;\">\n",
       "<table border=\"1\" class=\"dataframe\">\n",
       "  <thead>\n",
       "    <tr style=\"text-align: right;\">\n",
       "      <th></th>\n",
       "      <th>DUID</th>\n",
       "      <th>PID</th>\n",
       "      <th>DUPERSID</th>\n",
       "      <th>HISPANX</th>\n",
       "      <th>HISPCAT</th>\n",
       "      <th>MARRY12X</th>\n",
       "      <th>HIDEG</th>\n",
       "      <th>EDRECODE</th>\n",
       "      <th>FTSTU12X</th>\n",
       "      <th>ACTDTY53</th>\n",
       "      <th>HONRDC53</th>\n",
       "    </tr>\n",
       "  </thead>\n",
       "  <tbody>\n",
       "    <tr>\n",
       "      <th>0</th>\n",
       "      <td>20004</td>\n",
       "      <td>101</td>\n",
       "      <td>20004101</td>\n",
       "      <td>1</td>\n",
       "      <td>5</td>\n",
       "      <td>1</td>\n",
       "      <td>-1</td>\n",
       "      <td>14</td>\n",
       "      <td>-1</td>\n",
       "      <td>2</td>\n",
       "      <td>2</td>\n",
       "    </tr>\n",
       "    <tr>\n",
       "      <th>1</th>\n",
       "      <td>20004</td>\n",
       "      <td>102</td>\n",
       "      <td>20004102</td>\n",
       "      <td>1</td>\n",
       "      <td>5</td>\n",
       "      <td>1</td>\n",
       "      <td>-1</td>\n",
       "      <td>13</td>\n",
       "      <td>-1</td>\n",
       "      <td>2</td>\n",
       "      <td>2</td>\n",
       "    </tr>\n",
       "    <tr>\n",
       "      <th>2</th>\n",
       "      <td>20004</td>\n",
       "      <td>103</td>\n",
       "      <td>20004103</td>\n",
       "      <td>1</td>\n",
       "      <td>5</td>\n",
       "      <td>6</td>\n",
       "      <td>-1</td>\n",
       "      <td>2</td>\n",
       "      <td>-1</td>\n",
       "      <td>3</td>\n",
       "      <td>3</td>\n",
       "    </tr>\n",
       "    <tr>\n",
       "      <th>3</th>\n",
       "      <td>20005</td>\n",
       "      <td>101</td>\n",
       "      <td>20005101</td>\n",
       "      <td>1</td>\n",
       "      <td>3</td>\n",
       "      <td>4</td>\n",
       "      <td>-1</td>\n",
       "      <td>14</td>\n",
       "      <td>-1</td>\n",
       "      <td>2</td>\n",
       "      <td>2</td>\n",
       "    </tr>\n",
       "    <tr>\n",
       "      <th>4</th>\n",
       "      <td>20005</td>\n",
       "      <td>102</td>\n",
       "      <td>20005102</td>\n",
       "      <td>1</td>\n",
       "      <td>3</td>\n",
       "      <td>5</td>\n",
       "      <td>-1</td>\n",
       "      <td>14</td>\n",
       "      <td>1</td>\n",
       "      <td>2</td>\n",
       "      <td>2</td>\n",
       "    </tr>\n",
       "  </tbody>\n",
       "</table>\n",
       "</div>"
      ],
      "text/plain": [
       "    DUID  PID  DUPERSID  HISPANX  HISPCAT  MARRY12X  HIDEG  EDRECODE  \\\n",
       "0  20004  101  20004101        1        5         1     -1        14   \n",
       "1  20004  102  20004102        1        5         1     -1        13   \n",
       "2  20004  103  20004103        1        5         6     -1         2   \n",
       "3  20005  101  20005101        1        3         4     -1        14   \n",
       "4  20005  102  20005102        1        3         5     -1        14   \n",
       "\n",
       "   FTSTU12X  ACTDTY53  HONRDC53  \n",
       "0        -1         2         2  \n",
       "1        -1         2         2  \n",
       "2        -1         3         3  \n",
       "3        -1         2         2  \n",
       "4         1         2         2  "
      ]
     },
     "execution_count": 141,
     "metadata": {},
     "output_type": "execute_result"
    }
   ],
   "source": [
    "MEPS_newsub.head()"
   ]
  },
  {
   "cell_type": "code",
   "execution_count": 145,
   "metadata": {
    "collapsed": false
   },
   "outputs": [],
   "source": [
    "# change negative numbers to NaN\n",
    "for col in cols:\n",
    "    MEPS_newsub[col].loc[MEPS_newsub[col] < 0] = np.nan\n"
   ]
  },
  {
   "cell_type": "code",
   "execution_count": 146,
   "metadata": {
    "collapsed": false
   },
   "outputs": [
    {
     "data": {
      "text/html": [
       "<div style=\"max-height:1000px;max-width:1500px;overflow:auto;\">\n",
       "<table border=\"1\" class=\"dataframe\">\n",
       "  <thead>\n",
       "    <tr style=\"text-align: right;\">\n",
       "      <th></th>\n",
       "      <th>DUID</th>\n",
       "      <th>PID</th>\n",
       "      <th>DUPERSID</th>\n",
       "      <th>HISPANX</th>\n",
       "      <th>HISPCAT</th>\n",
       "      <th>MARRY12X</th>\n",
       "      <th>HIDEG</th>\n",
       "      <th>EDRECODE</th>\n",
       "      <th>FTSTU12X</th>\n",
       "      <th>ACTDTY53</th>\n",
       "      <th>HONRDC53</th>\n",
       "    </tr>\n",
       "  </thead>\n",
       "  <tbody>\n",
       "    <tr>\n",
       "      <th>0</th>\n",
       "      <td>20004</td>\n",
       "      <td>101</td>\n",
       "      <td>20004101</td>\n",
       "      <td>1</td>\n",
       "      <td>5</td>\n",
       "      <td>1</td>\n",
       "      <td>NaN</td>\n",
       "      <td>14</td>\n",
       "      <td>NaN</td>\n",
       "      <td>2</td>\n",
       "      <td>2</td>\n",
       "    </tr>\n",
       "    <tr>\n",
       "      <th>1</th>\n",
       "      <td>20004</td>\n",
       "      <td>102</td>\n",
       "      <td>20004102</td>\n",
       "      <td>1</td>\n",
       "      <td>5</td>\n",
       "      <td>1</td>\n",
       "      <td>NaN</td>\n",
       "      <td>13</td>\n",
       "      <td>NaN</td>\n",
       "      <td>2</td>\n",
       "      <td>2</td>\n",
       "    </tr>\n",
       "    <tr>\n",
       "      <th>2</th>\n",
       "      <td>20004</td>\n",
       "      <td>103</td>\n",
       "      <td>20004103</td>\n",
       "      <td>1</td>\n",
       "      <td>5</td>\n",
       "      <td>6</td>\n",
       "      <td>NaN</td>\n",
       "      <td>2</td>\n",
       "      <td>NaN</td>\n",
       "      <td>3</td>\n",
       "      <td>3</td>\n",
       "    </tr>\n",
       "    <tr>\n",
       "      <th>3</th>\n",
       "      <td>20005</td>\n",
       "      <td>101</td>\n",
       "      <td>20005101</td>\n",
       "      <td>1</td>\n",
       "      <td>3</td>\n",
       "      <td>4</td>\n",
       "      <td>NaN</td>\n",
       "      <td>14</td>\n",
       "      <td>NaN</td>\n",
       "      <td>2</td>\n",
       "      <td>2</td>\n",
       "    </tr>\n",
       "    <tr>\n",
       "      <th>4</th>\n",
       "      <td>20005</td>\n",
       "      <td>102</td>\n",
       "      <td>20005102</td>\n",
       "      <td>1</td>\n",
       "      <td>3</td>\n",
       "      <td>5</td>\n",
       "      <td>NaN</td>\n",
       "      <td>14</td>\n",
       "      <td>1</td>\n",
       "      <td>2</td>\n",
       "      <td>2</td>\n",
       "    </tr>\n",
       "  </tbody>\n",
       "</table>\n",
       "</div>"
      ],
      "text/plain": [
       "    DUID  PID  DUPERSID  HISPANX  HISPCAT  MARRY12X  HIDEG  EDRECODE  \\\n",
       "0  20004  101  20004101        1        5         1    NaN        14   \n",
       "1  20004  102  20004102        1        5         1    NaN        13   \n",
       "2  20004  103  20004103        1        5         6    NaN         2   \n",
       "3  20005  101  20005101        1        3         4    NaN        14   \n",
       "4  20005  102  20005102        1        3         5    NaN        14   \n",
       "\n",
       "   FTSTU12X  ACTDTY53  HONRDC53  \n",
       "0       NaN         2         2  \n",
       "1       NaN         2         2  \n",
       "2       NaN         3         3  \n",
       "3       NaN         2         2  \n",
       "4         1         2         2  "
      ]
     },
     "execution_count": 146,
     "metadata": {},
     "output_type": "execute_result"
    }
   ],
   "source": [
    "MEPS_newsub.head()"
   ]
  },
  {
   "cell_type": "markdown",
   "metadata": {},
   "source": [
    "# Understand the shape of new features"
   ]
  },
  {
   "cell_type": "markdown",
   "metadata": {},
   "source": [
    "## HISPANX category\n",
    "\n",
    "Binary - yes or no whether person is hispanic"
   ]
  },
  {
   "cell_type": "code",
   "execution_count": 147,
   "metadata": {
    "collapsed": false,
    "scrolled": true
   },
   "outputs": [
    {
     "data": {
      "text/plain": [
       "<matplotlib.axes._subplots.AxesSubplot at 0x10cc0eed0>"
      ]
     },
     "execution_count": 147,
     "metadata": {},
     "output_type": "execute_result"
    },
    {
     "data": {
      "image/png": "[encoded data removed]",
      "text/plain": [
       "<matplotlib.figure.Figure at 0x10c401950>"
      ]
     },
     "metadata": {},
     "output_type": "display_data"
    }
   ],
   "source": [
    "# 1 = Hispanic\n",
    "# 2 = Not Hispanic\n",
    "MEPS_newsub['HISPANX'].dropna().hist()"
   ]
  },
  {
   "cell_type": "markdown",
   "metadata": {},
   "source": [
    "## HISPCAT category\n",
    "\n",
    "gives more information on exact ethnicity of the person - could be useful given the large and diverse population of hispanic people in the US\n",
    "\n",
    "largest category (other than non-hispanic) is Mexican/Mexican American"
   ]
  },
  {
   "cell_type": "code",
   "execution_count": 148,
   "metadata": {
    "collapsed": false,
    "scrolled": true
   },
   "outputs": [
    {
     "data": {
      "text/plain": [
       "<matplotlib.axes._subplots.AxesSubplot at 0x10d88b350>"
      ]
     },
     "execution_count": 148,
     "metadata": {},
     "output_type": "execute_result"
    },
    {
     "data": {
      "image/png": "[encoded data removed]",
      "text/plain": [
       "<matplotlib.figure.Figure at 0x10cbef4d0>"
      ]
     },
     "metadata": {},
     "output_type": "display_data"
    }
   ],
   "source": [
    "# 1 = Puerto Rican\n",
    "# 2 = CUban/Cuban American\n",
    "# 3 = Dominican\n",
    "# 4 = Mexican/Mexican American\n",
    "# 5 = Central or South AMerican \n",
    "# 6 = Non-Hispanic\n",
    "# 91 = Other Latin AMerican\n",
    "# 92 = Other Hispanic/Latin\n",
    "sns.countplot(MEPS_newsub['HISPCAT'].dropna(), palette='Blues_d',\n",
    "              order=[1,2,3,4,5,6,91,92])"
   ]
  },
  {
   "cell_type": "markdown",
   "metadata": {},
   "source": [
    "## Marriage status\n",
    "\n",
    "need to go to the documentation for what each value represents"
   ]
  },
  {
   "cell_type": "code",
   "execution_count": 149,
   "metadata": {
    "collapsed": false,
    "scrolled": true
   },
   "outputs": [
    {
     "data": {
      "text/plain": [
       "<matplotlib.axes._subplots.AxesSubplot at 0x10d270050>"
      ]
     },
     "execution_count": 149,
     "metadata": {},
     "output_type": "execute_result"
    },
    {
     "data": {
      "image/png": "[encoded data removed]",
      "text/plain": [
       "<matplotlib.figure.Figure at 0x10cf06a10>"
      ]
     },
     "metadata": {},
     "output_type": "display_data"
    }
   ],
   "source": [
    "# MARRY12X - no clue what things mean\n",
    "# 6 = Under 16 – Inapplicable\n",
    "sns.countplot(MEPS_newsub['MARRY12X'].dropna(), palette='Blues_d',\n",
    "             order=[1,2,3,4,5,6])"
   ]
  },
  {
   "cell_type": "markdown",
   "metadata": {},
   "source": [
    "## HIDEG category\n",
    "\n",
    "highest degress attained\n",
    "\n",
    "need to go to the documentation to better understand what each value represents"
   ]
  },
  {
   "cell_type": "code",
   "execution_count": 153,
   "metadata": {
    "collapsed": false,
    "scrolled": true
   },
   "outputs": [
    {
     "data": {
      "text/plain": [
       "<matplotlib.axes._subplots.AxesSubplot at 0x10e323fd0>"
      ]
     },
     "execution_count": 153,
     "metadata": {},
     "output_type": "execute_result"
    },
    {
     "data": {
      "image/png": "[encoded data removed]",
      "text/plain": [
       "<matplotlib.figure.Figure at 0x10e323090>"
      ]
     },
     "metadata": {},
     "output_type": "display_data"
    }
   ],
   "source": [
    "# HIDEG\n",
    "# 1 = no deg\n",
    "# 2 =\n",
    "# 3 = \n",
    "# 4 = \n",
    "# 5 = \n",
    "# 6 = \n",
    "# 7 = \n",
    "# 8 = Under 16 – Inapplicable\n",
    "sns.countplot(MEPS_newsub['HIDEG'].dropna(), palette='Blues_d',\n",
    "             order=[1,2,3,4,5,6,7,8])"
   ]
  },
  {
   "cell_type": "markdown",
   "metadata": {},
   "source": [
    "## EDRECODE category\n",
    "\n",
    "represents \"years\" of education with 16 being the maximum"
   ]
  },
  {
   "cell_type": "code",
   "execution_count": 152,
   "metadata": {
    "collapsed": false
   },
   "outputs": [
    {
     "data": {
      "text/plain": [
       "<matplotlib.axes._subplots.AxesSubplot at 0x10d975c90>"
      ]
     },
     "execution_count": 152,
     "metadata": {},
     "output_type": "execute_result"
    },
    {
     "data": {
      "image/png": "[encoded data removed]",
      "text/plain": [
       "<matplotlib.figure.Figure at 0x1032a9f90>"
      ]
     },
     "metadata": {},
     "output_type": "display_data"
    }
   ],
   "source": [
    "sns.countplot(MEPS_newsub['EDRECODE'].dropna(), palette='Blues_d',\n",
    "             order=[0,1,2,3,4,5,6,7,8,9,10,11,12,13,14,15,16])"
   ]
  },
  {
   "cell_type": "markdown",
   "metadata": {},
   "source": [
    "## FTSTU12X category\n",
    "\n",
    "Full time student? \n"
   ]
  },
  {
   "cell_type": "code",
   "execution_count": 154,
   "metadata": {
    "collapsed": false,
    "scrolled": true
   },
   "outputs": [
    {
     "data": {
      "text/plain": [
       "<matplotlib.axes._subplots.AxesSubplot at 0x10fd44c50>"
      ]
     },
     "execution_count": 154,
     "metadata": {},
     "output_type": "execute_result"
    },
    {
     "data": {
      "image/png": "[encoded data removed]",
      "text/plain": [
       "<matplotlib.figure.Figure at 0x112484e90>"
      ]
     },
     "metadata": {},
     "output_type": "display_data"
    }
   ],
   "source": [
    "sns.countplot(MEPS_newsub['FTSTU12X'].dropna(), palette='Blues_d',\n",
    "             order=[1,2,3])"
   ]
  },
  {
   "cell_type": "markdown",
   "metadata": {},
   "source": [
    "## ACTDTY53 category\n",
    "\n",
    "is the person on active duty?\n",
    "\n",
    "need to understand what the values represent"
   ]
  },
  {
   "cell_type": "code",
   "execution_count": 553,
   "metadata": {
    "collapsed": false
   },
   "outputs": [
    {
     "data": {
      "text/plain": [
       "<matplotlib.axes._subplots.AxesSubplot at 0x11b62ef90>"
      ]
     },
     "execution_count": 553,
     "metadata": {},
     "output_type": "execute_result"
    },
    {
     "data": {
      "image/png": "[encoded data removed]",
      "text/plain": [
       "<matplotlib.figure.Figure at 0x11cc20d90>"
      ]
     },
     "metadata": {},
     "output_type": "display_data"
    }
   ],
   "source": [
    "sns.countplot(MEPS_newsub['ACTDTY53'].dropna(), palette='Blues_d',\n",
    "             order=[1,2,3,4])"
   ]
  },
  {
   "cell_type": "markdown",
   "metadata": {},
   "source": [
    "## HONRDC category\n",
    "\n",
    "was the person honorably discharged?\n",
    "\n",
    "need to understand what the values represent"
   ]
  },
  {
   "cell_type": "code",
   "execution_count": 155,
   "metadata": {
    "collapsed": false,
    "scrolled": true
   },
   "outputs": [
    {
     "data": {
      "text/plain": [
       "<matplotlib.axes._subplots.AxesSubplot at 0x10da3c650>"
      ]
     },
     "execution_count": 155,
     "metadata": {},
     "output_type": "execute_result"
    },
    {
     "data": {
      "image/png": "[encoded data removed]",
      "text/plain": [
       "<matplotlib.figure.Figure at 0x10d229290>"
      ]
     },
     "metadata": {},
     "output_type": "display_data"
    }
   ],
   "source": [
    "sns.countplot(MEPS_newsub['HONRDC53'].dropna(), palette='Blues_d',\n",
    "             order=[1,2,3,4])"
   ]
  },
  {
   "cell_type": "code",
   "execution_count": null,
   "metadata": {
    "collapsed": true
   },
   "outputs": [],
   "source": []
  },
  {
   "cell_type": "markdown",
   "metadata": {},
   "source": [
    "# Exploratory Modeling\n",
    "\n",
    "Quick modeling detour to see where I'm at, also to see initial feature importances. Only on OBVEXP12 data\n",
    "\n",
    "1. one-hot encoding of categorical nominal features\n",
    "2. standardization of continuous/categorical ordinal features\n",
    "3. Gradient boosted regression tree\n",
    "4. output MAE\n",
    "5. output feature importances"
   ]
  },
  {
   "cell_type": "code",
   "execution_count": 167,
   "metadata": {
    "collapsed": true
   },
   "outputs": [],
   "source": [
    "# bring in other dataset with expenditure and initial features\n",
    "cls_lbl = pd.read_csv('cls_lbl.csv')"
   ]
  },
  {
   "cell_type": "code",
   "execution_count": 157,
   "metadata": {
    "collapsed": false
   },
   "outputs": [],
   "source": [
    "# merge datasets\n",
    "ndf =  pd.merge(cls_lbl, MEPS_newsub, on=['DUPERSID', 'DUPERSID'])"
   ]
  },
  {
   "cell_type": "code",
   "execution_count": 158,
   "metadata": {
    "collapsed": false,
    "scrolled": false
   },
   "outputs": [
    {
     "data": {
      "text/html": [
       "<div style=\"max-height:1000px;max-width:1500px;overflow:auto;\">\n",
       "<table border=\"1\" class=\"dataframe\">\n",
       "  <thead>\n",
       "    <tr style=\"text-align: right;\">\n",
       "      <th></th>\n",
       "      <th>Unnamed: 0</th>\n",
       "      <th>DUID_x</th>\n",
       "      <th>PID_x</th>\n",
       "      <th>DUPERSID</th>\n",
       "      <th>OBVTCH12</th>\n",
       "      <th>OBVEXP12</th>\n",
       "      <th>ERTTCH12</th>\n",
       "      <th>ERTEXP12</th>\n",
       "      <th>IPTTCH12</th>\n",
       "      <th>IPTEXP12</th>\n",
       "      <th>...</th>\n",
       "      <th>DUID</th>\n",
       "      <th>PID</th>\n",
       "      <th>HISPANX</th>\n",
       "      <th>HISPCAT</th>\n",
       "      <th>MARRY12X</th>\n",
       "      <th>HIDEG</th>\n",
       "      <th>EDRECODE</th>\n",
       "      <th>FTSTU12X</th>\n",
       "      <th>ACTDTY53</th>\n",
       "      <th>HONRDC53</th>\n",
       "    </tr>\n",
       "  </thead>\n",
       "  <tbody>\n",
       "    <tr>\n",
       "      <th>0</th>\n",
       "      <td>0</td>\n",
       "      <td>20004</td>\n",
       "      <td>101</td>\n",
       "      <td>20004101</td>\n",
       "      <td>NaN</td>\n",
       "      <td>NaN</td>\n",
       "      <td>NaN</td>\n",
       "      <td>NaN</td>\n",
       "      <td>NaN</td>\n",
       "      <td>NaN</td>\n",
       "      <td>...</td>\n",
       "      <td>20004</td>\n",
       "      <td>101</td>\n",
       "      <td>1</td>\n",
       "      <td>5</td>\n",
       "      <td>1</td>\n",
       "      <td>NaN</td>\n",
       "      <td>14</td>\n",
       "      <td>NaN</td>\n",
       "      <td>2</td>\n",
       "      <td>2</td>\n",
       "    </tr>\n",
       "    <tr>\n",
       "      <th>1</th>\n",
       "      <td>1</td>\n",
       "      <td>20004</td>\n",
       "      <td>102</td>\n",
       "      <td>20004102</td>\n",
       "      <td>NaN</td>\n",
       "      <td>NaN</td>\n",
       "      <td>NaN</td>\n",
       "      <td>NaN</td>\n",
       "      <td>NaN</td>\n",
       "      <td>NaN</td>\n",
       "      <td>...</td>\n",
       "      <td>20004</td>\n",
       "      <td>102</td>\n",
       "      <td>1</td>\n",
       "      <td>5</td>\n",
       "      <td>1</td>\n",
       "      <td>NaN</td>\n",
       "      <td>13</td>\n",
       "      <td>NaN</td>\n",
       "      <td>2</td>\n",
       "      <td>2</td>\n",
       "    </tr>\n",
       "    <tr>\n",
       "      <th>2</th>\n",
       "      <td>2</td>\n",
       "      <td>20004</td>\n",
       "      <td>103</td>\n",
       "      <td>20004103</td>\n",
       "      <td>NaN</td>\n",
       "      <td>NaN</td>\n",
       "      <td>NaN</td>\n",
       "      <td>NaN</td>\n",
       "      <td>NaN</td>\n",
       "      <td>NaN</td>\n",
       "      <td>...</td>\n",
       "      <td>20004</td>\n",
       "      <td>103</td>\n",
       "      <td>1</td>\n",
       "      <td>5</td>\n",
       "      <td>6</td>\n",
       "      <td>NaN</td>\n",
       "      <td>2</td>\n",
       "      <td>NaN</td>\n",
       "      <td>3</td>\n",
       "      <td>3</td>\n",
       "    </tr>\n",
       "    <tr>\n",
       "      <th>3</th>\n",
       "      <td>3</td>\n",
       "      <td>20005</td>\n",
       "      <td>101</td>\n",
       "      <td>20005101</td>\n",
       "      <td>1100</td>\n",
       "      <td>451</td>\n",
       "      <td>NaN</td>\n",
       "      <td>NaN</td>\n",
       "      <td>NaN</td>\n",
       "      <td>NaN</td>\n",
       "      <td>...</td>\n",
       "      <td>20005</td>\n",
       "      <td>101</td>\n",
       "      <td>1</td>\n",
       "      <td>3</td>\n",
       "      <td>4</td>\n",
       "      <td>NaN</td>\n",
       "      <td>14</td>\n",
       "      <td>NaN</td>\n",
       "      <td>2</td>\n",
       "      <td>2</td>\n",
       "    </tr>\n",
       "    <tr>\n",
       "      <th>4</th>\n",
       "      <td>4</td>\n",
       "      <td>20005</td>\n",
       "      <td>102</td>\n",
       "      <td>20005102</td>\n",
       "      <td>490</td>\n",
       "      <td>127</td>\n",
       "      <td>NaN</td>\n",
       "      <td>NaN</td>\n",
       "      <td>NaN</td>\n",
       "      <td>NaN</td>\n",
       "      <td>...</td>\n",
       "      <td>20005</td>\n",
       "      <td>102</td>\n",
       "      <td>1</td>\n",
       "      <td>3</td>\n",
       "      <td>5</td>\n",
       "      <td>NaN</td>\n",
       "      <td>14</td>\n",
       "      <td>1</td>\n",
       "      <td>2</td>\n",
       "      <td>2</td>\n",
       "    </tr>\n",
       "  </tbody>\n",
       "</table>\n",
       "<p>5 rows × 41 columns</p>\n",
       "</div>"
      ],
      "text/plain": [
       "   Unnamed: 0  DUID_x  PID_x  DUPERSID  OBVTCH12  OBVEXP12  ERTTCH12  \\\n",
       "0           0   20004    101  20004101       NaN       NaN       NaN   \n",
       "1           1   20004    102  20004102       NaN       NaN       NaN   \n",
       "2           2   20004    103  20004103       NaN       NaN       NaN   \n",
       "3           3   20005    101  20005101      1100       451       NaN   \n",
       "4           4   20005    102  20005102       490       127       NaN   \n",
       "\n",
       "   ERTEXP12  IPTTCH12  IPTEXP12    ...      DUID  PID  HISPANX  HISPCAT  \\\n",
       "0       NaN       NaN       NaN    ...     20004  101        1        5   \n",
       "1       NaN       NaN       NaN    ...     20004  102        1        5   \n",
       "2       NaN       NaN       NaN    ...     20004  103        1        5   \n",
       "3       NaN       NaN       NaN    ...     20005  101        1        3   \n",
       "4       NaN       NaN       NaN    ...     20005  102        1        3   \n",
       "\n",
       "   MARRY12X  HIDEG  EDRECODE  FTSTU12X  ACTDTY53  HONRDC53  \n",
       "0         1    NaN        14       NaN         2         2  \n",
       "1         1    NaN        13       NaN         2         2  \n",
       "2         6    NaN         2       NaN         3         3  \n",
       "3         4    NaN        14       NaN         2         2  \n",
       "4         5    NaN        14         1         2         2  \n",
       "\n",
       "[5 rows x 41 columns]"
      ]
     },
     "execution_count": 158,
     "metadata": {},
     "output_type": "execute_result"
    }
   ],
   "source": [
    "ndf.head()"
   ]
  },
  {
   "cell_type": "markdown",
   "metadata": {},
   "source": [
    "## Only doing the modeling on OBVEXP12 data\n",
    "\n",
    "Dataset is one that is missing the least number of data points"
   ]
  },
  {
   "cell_type": "code",
   "execution_count": 159,
   "metadata": {
    "collapsed": false,
    "scrolled": true
   },
   "outputs": [],
   "source": [
    "df = ndf[np.isfinite(ndf['OBVEXP12'])]"
   ]
  },
  {
   "cell_type": "code",
   "execution_count": 160,
   "metadata": {
    "collapsed": false
   },
   "outputs": [],
   "source": [
    "X = df[['MNHLTHSTAT','HLTHSTAT','RACEV1X', 'SEX', 'AGELAST','POVCAT12','POVLEV12',\n",
    "         'HISPANX','HISPCAT','MARRY12X','HIDEG','EDRECODE','FTSTU12X','ACTDTY53','HONRDC53']]\n",
    "y = df['OBVEXP12'].values\n",
    "ylog = df['OBVEXP12'].values"
   ]
  },
  {
   "cell_type": "code",
   "execution_count": 161,
   "metadata": {
    "collapsed": false,
    "scrolled": true
   },
   "outputs": [
    {
     "name": "stderr",
     "output_type": "stream",
     "text": [
      "/Users/bstankev/anaconda/lib/python2.7/site-packages/ipykernel/__main__.py:1: SettingWithCopyWarning: \n",
      "A value is trying to be set on a copy of a slice from a DataFrame\n",
      "\n",
      "See the the caveats in the documentation: http://pandas.pydata.org/pandas-docs/stable/indexing.html#indexing-view-versus-copy\n",
      "  if __name__ == '__main__':\n"
     ]
    }
   ],
   "source": [
    "X.fillna(0, inplace=True)"
   ]
  },
  {
   "cell_type": "code",
   "execution_count": 162,
   "metadata": {
    "collapsed": false,
    "scrolled": true
   },
   "outputs": [
    {
     "data": {
      "text/html": [
       "<div style=\"max-height:1000px;max-width:1500px;overflow:auto;\">\n",
       "<table border=\"1\" class=\"dataframe\">\n",
       "  <thead>\n",
       "    <tr style=\"text-align: right;\">\n",
       "      <th></th>\n",
       "      <th>MNHLTHSTAT</th>\n",
       "      <th>HLTHSTAT</th>\n",
       "      <th>RACEV1X</th>\n",
       "      <th>SEX</th>\n",
       "      <th>AGELAST</th>\n",
       "      <th>POVCAT12</th>\n",
       "      <th>POVLEV12</th>\n",
       "      <th>HISPANX</th>\n",
       "      <th>HISPCAT</th>\n",
       "      <th>MARRY12X</th>\n",
       "      <th>HIDEG</th>\n",
       "      <th>EDRECODE</th>\n",
       "      <th>FTSTU12X</th>\n",
       "      <th>ACTDTY53</th>\n",
       "      <th>HONRDC53</th>\n",
       "    </tr>\n",
       "  </thead>\n",
       "  <tbody>\n",
       "    <tr>\n",
       "      <th>3</th>\n",
       "      <td>2.333333</td>\n",
       "      <td>4.000000</td>\n",
       "      <td>1</td>\n",
       "      <td>1</td>\n",
       "      <td>51</td>\n",
       "      <td>3</td>\n",
       "      <td>132.8</td>\n",
       "      <td>1</td>\n",
       "      <td>3</td>\n",
       "      <td>4</td>\n",
       "      <td>0</td>\n",
       "      <td>14</td>\n",
       "      <td>0</td>\n",
       "      <td>2</td>\n",
       "      <td>2</td>\n",
       "    </tr>\n",
       "    <tr>\n",
       "      <th>4</th>\n",
       "      <td>1.333333</td>\n",
       "      <td>1.666667</td>\n",
       "      <td>1</td>\n",
       "      <td>1</td>\n",
       "      <td>21</td>\n",
       "      <td>3</td>\n",
       "      <td>132.8</td>\n",
       "      <td>1</td>\n",
       "      <td>3</td>\n",
       "      <td>5</td>\n",
       "      <td>0</td>\n",
       "      <td>14</td>\n",
       "      <td>1</td>\n",
       "      <td>2</td>\n",
       "      <td>2</td>\n",
       "    </tr>\n",
       "    <tr>\n",
       "      <th>5</th>\n",
       "      <td>1.000000</td>\n",
       "      <td>1.000000</td>\n",
       "      <td>1</td>\n",
       "      <td>1</td>\n",
       "      <td>18</td>\n",
       "      <td>3</td>\n",
       "      <td>132.8</td>\n",
       "      <td>1</td>\n",
       "      <td>3</td>\n",
       "      <td>5</td>\n",
       "      <td>0</td>\n",
       "      <td>10</td>\n",
       "      <td>1</td>\n",
       "      <td>2</td>\n",
       "      <td>2</td>\n",
       "    </tr>\n",
       "    <tr>\n",
       "      <th>11</th>\n",
       "      <td>1.000000</td>\n",
       "      <td>2.000000</td>\n",
       "      <td>1</td>\n",
       "      <td>2</td>\n",
       "      <td>34</td>\n",
       "      <td>3</td>\n",
       "      <td>167.5</td>\n",
       "      <td>2</td>\n",
       "      <td>6</td>\n",
       "      <td>1</td>\n",
       "      <td>0</td>\n",
       "      <td>16</td>\n",
       "      <td>0</td>\n",
       "      <td>2</td>\n",
       "      <td>2</td>\n",
       "    </tr>\n",
       "    <tr>\n",
       "      <th>12</th>\n",
       "      <td>1.000000</td>\n",
       "      <td>4.666667</td>\n",
       "      <td>1</td>\n",
       "      <td>1</td>\n",
       "      <td>36</td>\n",
       "      <td>3</td>\n",
       "      <td>167.5</td>\n",
       "      <td>2</td>\n",
       "      <td>6</td>\n",
       "      <td>1</td>\n",
       "      <td>0</td>\n",
       "      <td>13</td>\n",
       "      <td>0</td>\n",
       "      <td>2</td>\n",
       "      <td>2</td>\n",
       "    </tr>\n",
       "  </tbody>\n",
       "</table>\n",
       "</div>"
      ],
      "text/plain": [
       "    MNHLTHSTAT  HLTHSTAT  RACEV1X  SEX  AGELAST  POVCAT12  POVLEV12  HISPANX  \\\n",
       "3     2.333333  4.000000        1    1       51         3     132.8        1   \n",
       "4     1.333333  1.666667        1    1       21         3     132.8        1   \n",
       "5     1.000000  1.000000        1    1       18         3     132.8        1   \n",
       "11    1.000000  2.000000        1    2       34         3     167.5        2   \n",
       "12    1.000000  4.666667        1    1       36         3     167.5        2   \n",
       "\n",
       "    HISPCAT  MARRY12X  HIDEG  EDRECODE  FTSTU12X  ACTDTY53  HONRDC53  \n",
       "3         3         4      0        14         0         2         2  \n",
       "4         3         5      0        14         1         2         2  \n",
       "5         3         5      0        10         1         2         2  \n",
       "11        6         1      0        16         0         2         2  \n",
       "12        6         1      0        13         0         2         2  "
      ]
     },
     "execution_count": 162,
     "metadata": {},
     "output_type": "execute_result"
    }
   ],
   "source": [
    "X.head()"
   ]
  },
  {
   "cell_type": "code",
   "execution_count": 163,
   "metadata": {
    "collapsed": false,
    "scrolled": true
   },
   "outputs": [],
   "source": [
    "# one hot encoding of categorical features\n",
    "from sklearn.preprocessing import OneHotEncoder\n",
    "x1 = X[['RACEV1X', 'SEX','HISPANX','HISPCAT','MARRY12X','HIDEG','FTSTU12X','ACTDTY53','HONRDC53']]\n",
    "x1 = x1.values\n",
    "enc = OneHotEncoder()\n",
    "enc.fit(x1)\n",
    "\n",
    "x2 = enc.transform(x1).toarray()"
   ]
  },
  {
   "cell_type": "code",
   "execution_count": 164,
   "metadata": {
    "collapsed": false
   },
   "outputs": [],
   "source": [
    "# re-scale (normalize) continuous  & categorical (ordinal) data\n",
    "from sklearn import preprocessing\n",
    "\n",
    "s1 = preprocessing.StandardScaler().fit(X[['MNHLTHSTAT','HLTHSTAT','AGELAST','POVLEV12','POVCAT12','EDRECODE']])\n",
    "s2 = s1.transform(X[['MNHLTHSTAT','HLTHSTAT','AGELAST','POVLEV12','POVCAT12','EDRECODE']])"
   ]
  },
  {
   "cell_type": "code",
   "execution_count": 165,
   "metadata": {
    "collapsed": true
   },
   "outputs": [],
   "source": [
    "x4 = np.append(x2,s2, axis=1)"
   ]
  },
  {
   "cell_type": "code",
   "execution_count": 166,
   "metadata": {
    "collapsed": false
   },
   "outputs": [
    {
     "data": {
      "text/plain": [
       "GradientBoostingRegressor(alpha=0.9, init=None, learning_rate=0.01, loss='ls',\n",
       "             max_depth=2, max_features=0.3, max_leaf_nodes=None,\n",
       "             min_samples_leaf=5, min_samples_split=2, n_estimators=20000,\n",
       "             random_state=None, subsample=1.0, verbose=0, warm_start=False)"
      ]
     },
     "execution_count": 166,
     "metadata": {},
     "output_type": "execute_result"
    }
   ],
   "source": [
    "from sklearn.ensemble import GradientBoostingRegressor\n",
    "import numpy as np\n",
    "from sklearn.cross_validation import train_test_split\n",
    "rng = np.random.RandomState(42)\n",
    "xg_train, xg_test, yg_train, yg_test = train_test_split(x4, y, random_state=rng)\n",
    "clf_2 = GradientBoostingRegressor(n_estimators=20000,learning_rate=0.01,\n",
    "                                 max_depth=2,max_features=0.3,min_samples_leaf=5)\n",
    "clf_2.fit(xg_train,yg_train)"
   ]
  },
  {
   "cell_type": "code",
   "execution_count": 168,
   "metadata": {
    "collapsed": false
   },
   "outputs": [
    {
     "name": "stdout",
     "output_type": "stream",
     "text": [
      "Tuned GBRT MAE: 1179.7076\n"
     ]
    }
   ],
   "source": [
    "from sklearn.metrics import mean_absolute_error\n",
    "mae = mean_absolute_error(yg_test, clf_2.predict(xg_test))\n",
    "print('Tuned GBRT MAE: %.4f' % mae)"
   ]
  },
  {
   "cell_type": "code",
   "execution_count": 169,
   "metadata": {
    "collapsed": false
   },
   "outputs": [
    {
     "data": {
      "text/plain": [
       "(23509, 52)"
      ]
     },
     "execution_count": 169,
     "metadata": {},
     "output_type": "execute_result"
    }
   ],
   "source": [
    "x4.shape"
   ]
  },
  {
   "cell_type": "code",
   "execution_count": 171,
   "metadata": {
    "collapsed": false,
    "scrolled": true
   },
   "outputs": [
    {
     "data": {
      "image/png": "[encoded data removed]",
      "text/plain": [
       "<matplotlib.figure.Figure at 0x10ebb37d0>"
      ]
     },
     "metadata": {},
     "output_type": "display_data"
    }
   ],
   "source": [
    "names = range(52)\n",
    "# sort importances\n",
    "indices = np.argsort(clf_2.feature_importances_)\n",
    "# plot as bar chart\n",
    "plt.barh(np.arange(len(names)), clf_2.feature_importances_[indices])\n",
    "plt.yticks(np.arange(len(names)) + 0.25, np.array(names)[indices])\n",
    "_ = plt.xlabel('Relative importance')"
   ]
  },
  {
   "cell_type": "markdown",
   "metadata": {},
   "source": [
    "# Round 2 of importing features - Health Status ones this time!\n",
    "## Pre-imputation of features (hence the large number of 0's) \n",
    "Focusing on health status features this round (both concrete and abstract)"
   ]
  },
  {
   "cell_type": "code",
   "execution_count": 173,
   "metadata": {
    "collapsed": true
   },
   "outputs": [],
   "source": [
    "# load MEPS dataset with only a subset of columns - race, marriage\n",
    "# education, active duty, student, honorable discharge\n",
    "MEPS_ns2 = pd.read_csv('consolidated.csv', \n",
    "                        usecols=[\"DUID\", \"PID\", \"DUPERSID\", \n",
    "                                 \"HIBPDX\",\"HIBPAGED\", \"STRKDX\", \"STRKAGED\", \n",
    "                                 \"CHOLDX\", \"CHOLAGED\", \"CANCERDX\", \n",
    "                                 \"DIABDX\", \"DIABAGED\", \"JTPAIN31\",\n",
    "                                 \"JTPAIN53\", \"ADHDADDX\", \"ADHDAGED\",\n",
    "                                 \"ANYLIM12\", \"BMINDX53\", \"ADSMOK42\",\n",
    "                                 \"ADNSMK42\", \"ADMALS42\", \"ADMWLM42\",\n",
    "                                 \"ADPAIN42\", \"ADCAPE42\", \"ADNRGY42\",\n",
    "                                 \"ADDOWN42\", \"ADSOCA42\",\n",
    "                             ])"
   ]
  },
  {
   "cell_type": "code",
   "execution_count": 174,
   "metadata": {
    "collapsed": false,
    "scrolled": true
   },
   "outputs": [
    {
     "data": {
      "text/html": [
       "<div style=\"max-height:1000px;max-width:1500px;overflow:auto;\">\n",
       "<table border=\"1\" class=\"dataframe\">\n",
       "  <thead>\n",
       "    <tr style=\"text-align: right;\">\n",
       "      <th></th>\n",
       "      <th>DUID</th>\n",
       "      <th>PID</th>\n",
       "      <th>DUPERSID</th>\n",
       "      <th>HIBPDX</th>\n",
       "      <th>HIBPAGED</th>\n",
       "      <th>STRKDX</th>\n",
       "      <th>STRKAGED</th>\n",
       "      <th>CHOLDX</th>\n",
       "      <th>CHOLAGED</th>\n",
       "      <th>CANCERDX</th>\n",
       "      <th>...</th>\n",
       "      <th>BMINDX53</th>\n",
       "      <th>ADSMOK42</th>\n",
       "      <th>ADNSMK42</th>\n",
       "      <th>ADMALS42</th>\n",
       "      <th>ADMWLM42</th>\n",
       "      <th>ADPAIN42</th>\n",
       "      <th>ADCAPE42</th>\n",
       "      <th>ADNRGY42</th>\n",
       "      <th>ADDOWN42</th>\n",
       "      <th>ADSOCA42</th>\n",
       "    </tr>\n",
       "  </thead>\n",
       "  <tbody>\n",
       "    <tr>\n",
       "      <th>0</th>\n",
       "      <td>20004</td>\n",
       "      <td>101</td>\n",
       "      <td>20004101</td>\n",
       "      <td>2 NO</td>\n",
       "      <td>-1</td>\n",
       "      <td>2 NO</td>\n",
       "      <td>-1</td>\n",
       "      <td>2 NO</td>\n",
       "      <td>-1</td>\n",
       "      <td>2 NO</td>\n",
       "      <td>...</td>\n",
       "      <td>30.6</td>\n",
       "      <td>2 NO</td>\n",
       "      <td>-1 INAPPLICABLE</td>\n",
       "      <td>3 SOME OF THE TIME</td>\n",
       "      <td>3 SOME OF THE TIME</td>\n",
       "      <td>1 NOT AT ALL</td>\n",
       "      <td>2 MOST OF THE TIME</td>\n",
       "      <td>3 SOME OF THE TIME</td>\n",
       "      <td>4 LITTLE OF THE TIME</td>\n",
       "      <td>5 NONE OF THE TIME</td>\n",
       "    </tr>\n",
       "    <tr>\n",
       "      <th>1</th>\n",
       "      <td>20004</td>\n",
       "      <td>102</td>\n",
       "      <td>20004102</td>\n",
       "      <td>2 NO</td>\n",
       "      <td>-1</td>\n",
       "      <td>2 NO</td>\n",
       "      <td>-1</td>\n",
       "      <td>2 NO</td>\n",
       "      <td>-1</td>\n",
       "      <td>2 NO</td>\n",
       "      <td>...</td>\n",
       "      <td>30.1</td>\n",
       "      <td>2 NO</td>\n",
       "      <td>-1 INAPPLICABLE</td>\n",
       "      <td>3 SOME OF THE TIME</td>\n",
       "      <td>5 NONE OF THE TIME</td>\n",
       "      <td>1 NOT AT ALL</td>\n",
       "      <td>3 SOME OF THE TIME</td>\n",
       "      <td>3 SOME OF THE TIME</td>\n",
       "      <td>4 LITTLE OF THE TIME</td>\n",
       "      <td>5 NONE OF THE TIME</td>\n",
       "    </tr>\n",
       "    <tr>\n",
       "      <th>2</th>\n",
       "      <td>20004</td>\n",
       "      <td>103</td>\n",
       "      <td>20004103</td>\n",
       "      <td>-1 INAPPLICABLE</td>\n",
       "      <td>-1</td>\n",
       "      <td>-1 INAPPLICABLE</td>\n",
       "      <td>-1</td>\n",
       "      <td>-1 INAPPLICABLE</td>\n",
       "      <td>-1</td>\n",
       "      <td>-1  INAPPLICABLE</td>\n",
       "      <td>...</td>\n",
       "      <td>-1.0</td>\n",
       "      <td>-1 INAPPLICABLE</td>\n",
       "      <td>-1 INAPPLICABLE</td>\n",
       "      <td>-1 INAPPLICABLE</td>\n",
       "      <td>-1 INAPPLICABLE</td>\n",
       "      <td>-1 INAPPLICABLE</td>\n",
       "      <td>-1 INAPPLICABLE</td>\n",
       "      <td>-1 INAPPLICABLE</td>\n",
       "      <td>-1 INAPPLICABLE</td>\n",
       "      <td>-1 INAPPLICABLE</td>\n",
       "    </tr>\n",
       "    <tr>\n",
       "      <th>3</th>\n",
       "      <td>20005</td>\n",
       "      <td>101</td>\n",
       "      <td>20005101</td>\n",
       "      <td>1 YES</td>\n",
       "      <td>41</td>\n",
       "      <td>2 NO</td>\n",
       "      <td>-1</td>\n",
       "      <td>2 NO</td>\n",
       "      <td>-1</td>\n",
       "      <td>2 NO</td>\n",
       "      <td>...</td>\n",
       "      <td>25.1</td>\n",
       "      <td>2 NO</td>\n",
       "      <td>-1 INAPPLICABLE</td>\n",
       "      <td>1 ALL OF THE TIME</td>\n",
       "      <td>5 NONE OF THE TIME</td>\n",
       "      <td>5 EXTREMELY</td>\n",
       "      <td>3 SOME OF THE TIME</td>\n",
       "      <td>4 LITTLE OF THE TIME</td>\n",
       "      <td>2 MOST OF THE TIME</td>\n",
       "      <td>2 MOST OF THE TIME</td>\n",
       "    </tr>\n",
       "    <tr>\n",
       "      <th>4</th>\n",
       "      <td>20005</td>\n",
       "      <td>102</td>\n",
       "      <td>20005102</td>\n",
       "      <td>2 NO</td>\n",
       "      <td>-1</td>\n",
       "      <td>2 NO</td>\n",
       "      <td>-1</td>\n",
       "      <td>2 NO</td>\n",
       "      <td>-1</td>\n",
       "      <td>2 NO</td>\n",
       "      <td>...</td>\n",
       "      <td>21.3</td>\n",
       "      <td>2 NO</td>\n",
       "      <td>-1 INAPPLICABLE</td>\n",
       "      <td>5 NONE OF THE TIME</td>\n",
       "      <td>5 NONE OF THE TIME</td>\n",
       "      <td>1 NOT AT ALL</td>\n",
       "      <td>1 ALL OF THE TIME</td>\n",
       "      <td>1 ALL OF THE TIME</td>\n",
       "      <td>5 NONE OF THE TIME</td>\n",
       "      <td>5 NONE OF THE TIME</td>\n",
       "    </tr>\n",
       "  </tbody>\n",
       "</table>\n",
       "<p>5 rows × 27 columns</p>\n",
       "</div>"
      ],
      "text/plain": [
       "    DUID  PID  DUPERSID           HIBPDX  HIBPAGED           STRKDX  STRKAGED  \\\n",
       "0  20004  101  20004101             2 NO        -1             2 NO        -1   \n",
       "1  20004  102  20004102             2 NO        -1             2 NO        -1   \n",
       "2  20004  103  20004103  -1 INAPPLICABLE        -1  -1 INAPPLICABLE        -1   \n",
       "3  20005  101  20005101            1 YES        41             2 NO        -1   \n",
       "4  20005  102  20005102             2 NO        -1             2 NO        -1   \n",
       "\n",
       "            CHOLDX  CHOLAGED          CANCERDX         ...         BMINDX53  \\\n",
       "0             2 NO        -1              2 NO         ...             30.6   \n",
       "1             2 NO        -1              2 NO         ...             30.1   \n",
       "2  -1 INAPPLICABLE        -1  -1  INAPPLICABLE         ...             -1.0   \n",
       "3             2 NO        -1              2 NO         ...             25.1   \n",
       "4             2 NO        -1              2 NO         ...             21.3   \n",
       "\n",
       "          ADSMOK42         ADNSMK42            ADMALS42            ADMWLM42  \\\n",
       "0             2 NO  -1 INAPPLICABLE  3 SOME OF THE TIME  3 SOME OF THE TIME   \n",
       "1             2 NO  -1 INAPPLICABLE  3 SOME OF THE TIME  5 NONE OF THE TIME   \n",
       "2  -1 INAPPLICABLE  -1 INAPPLICABLE     -1 INAPPLICABLE     -1 INAPPLICABLE   \n",
       "3             2 NO  -1 INAPPLICABLE   1 ALL OF THE TIME  5 NONE OF THE TIME   \n",
       "4             2 NO  -1 INAPPLICABLE  5 NONE OF THE TIME  5 NONE OF THE TIME   \n",
       "\n",
       "          ADPAIN42            ADCAPE42              ADNRGY42  \\\n",
       "0     1 NOT AT ALL  2 MOST OF THE TIME    3 SOME OF THE TIME   \n",
       "1     1 NOT AT ALL  3 SOME OF THE TIME    3 SOME OF THE TIME   \n",
       "2  -1 INAPPLICABLE     -1 INAPPLICABLE       -1 INAPPLICABLE   \n",
       "3      5 EXTREMELY  3 SOME OF THE TIME  4 LITTLE OF THE TIME   \n",
       "4     1 NOT AT ALL   1 ALL OF THE TIME     1 ALL OF THE TIME   \n",
       "\n",
       "               ADDOWN42            ADSOCA42  \n",
       "0  4 LITTLE OF THE TIME  5 NONE OF THE TIME  \n",
       "1  4 LITTLE OF THE TIME  5 NONE OF THE TIME  \n",
       "2       -1 INAPPLICABLE     -1 INAPPLICABLE  \n",
       "3    2 MOST OF THE TIME  2 MOST OF THE TIME  \n",
       "4    5 NONE OF THE TIME  5 NONE OF THE TIME  \n",
       "\n",
       "[5 rows x 27 columns]"
      ]
     },
     "execution_count": 174,
     "metadata": {},
     "output_type": "execute_result"
    }
   ],
   "source": [
    "MEPS_ns2.head()"
   ]
  },
  {
   "cell_type": "code",
   "execution_count": 175,
   "metadata": {
    "collapsed": false
   },
   "outputs": [],
   "source": [
    "cat_col = [\"HIBPDX\",\"STRKDX\",\"CHOLDX\", \"CANCERDX\", \n",
    "           \"DIABDX\", \"JTPAIN31\",\"JTPAIN53\", \"ADHDADDX\", \n",
    "           \"ANYLIM12\", \"ADSMOK42\",\"ADMALS42\", \"ADMWLM42\",\n",
    "           \"ADPAIN42\", \"ADCAPE42\", \"ADNRGY42\",\"ADDOWN42\", \"ADSOCA42\"]\n",
    "for col in cat_col:\n",
    "    MEPS_ns2[col] = MEPS_ns2[col].str.split(' ').str[0].astype(float)\n",
    "    "
   ]
  },
  {
   "cell_type": "code",
   "execution_count": 177,
   "metadata": {
    "collapsed": false
   },
   "outputs": [
    {
     "data": {
      "text/html": [
       "<div style=\"max-height:1000px;max-width:1500px;overflow:auto;\">\n",
       "<table border=\"1\" class=\"dataframe\">\n",
       "  <thead>\n",
       "    <tr style=\"text-align: right;\">\n",
       "      <th></th>\n",
       "      <th>DUID</th>\n",
       "      <th>PID</th>\n",
       "      <th>DUPERSID</th>\n",
       "      <th>HIBPDX</th>\n",
       "      <th>HIBPAGED</th>\n",
       "      <th>STRKDX</th>\n",
       "      <th>STRKAGED</th>\n",
       "      <th>CHOLDX</th>\n",
       "      <th>CHOLAGED</th>\n",
       "      <th>CANCERDX</th>\n",
       "      <th>...</th>\n",
       "      <th>BMINDX53</th>\n",
       "      <th>ADSMOK42</th>\n",
       "      <th>ADNSMK42</th>\n",
       "      <th>ADMALS42</th>\n",
       "      <th>ADMWLM42</th>\n",
       "      <th>ADPAIN42</th>\n",
       "      <th>ADCAPE42</th>\n",
       "      <th>ADNRGY42</th>\n",
       "      <th>ADDOWN42</th>\n",
       "      <th>ADSOCA42</th>\n",
       "    </tr>\n",
       "  </thead>\n",
       "  <tbody>\n",
       "    <tr>\n",
       "      <th>0</th>\n",
       "      <td>20004</td>\n",
       "      <td>101</td>\n",
       "      <td>20004101</td>\n",
       "      <td>2</td>\n",
       "      <td>-1</td>\n",
       "      <td>2</td>\n",
       "      <td>-1</td>\n",
       "      <td>2</td>\n",
       "      <td>-1</td>\n",
       "      <td>2</td>\n",
       "      <td>...</td>\n",
       "      <td>30.6</td>\n",
       "      <td>2</td>\n",
       "      <td>-1 INAPPLICABLE</td>\n",
       "      <td>3</td>\n",
       "      <td>3</td>\n",
       "      <td>1</td>\n",
       "      <td>2</td>\n",
       "      <td>3</td>\n",
       "      <td>4</td>\n",
       "      <td>5</td>\n",
       "    </tr>\n",
       "    <tr>\n",
       "      <th>1</th>\n",
       "      <td>20004</td>\n",
       "      <td>102</td>\n",
       "      <td>20004102</td>\n",
       "      <td>2</td>\n",
       "      <td>-1</td>\n",
       "      <td>2</td>\n",
       "      <td>-1</td>\n",
       "      <td>2</td>\n",
       "      <td>-1</td>\n",
       "      <td>2</td>\n",
       "      <td>...</td>\n",
       "      <td>30.1</td>\n",
       "      <td>2</td>\n",
       "      <td>-1 INAPPLICABLE</td>\n",
       "      <td>3</td>\n",
       "      <td>5</td>\n",
       "      <td>1</td>\n",
       "      <td>3</td>\n",
       "      <td>3</td>\n",
       "      <td>4</td>\n",
       "      <td>5</td>\n",
       "    </tr>\n",
       "    <tr>\n",
       "      <th>2</th>\n",
       "      <td>20004</td>\n",
       "      <td>103</td>\n",
       "      <td>20004103</td>\n",
       "      <td>-1</td>\n",
       "      <td>-1</td>\n",
       "      <td>-1</td>\n",
       "      <td>-1</td>\n",
       "      <td>-1</td>\n",
       "      <td>-1</td>\n",
       "      <td>-1</td>\n",
       "      <td>...</td>\n",
       "      <td>-1.0</td>\n",
       "      <td>-1</td>\n",
       "      <td>-1 INAPPLICABLE</td>\n",
       "      <td>-1</td>\n",
       "      <td>-1</td>\n",
       "      <td>-1</td>\n",
       "      <td>-1</td>\n",
       "      <td>-1</td>\n",
       "      <td>-1</td>\n",
       "      <td>-1</td>\n",
       "    </tr>\n",
       "    <tr>\n",
       "      <th>3</th>\n",
       "      <td>20005</td>\n",
       "      <td>101</td>\n",
       "      <td>20005101</td>\n",
       "      <td>1</td>\n",
       "      <td>41</td>\n",
       "      <td>2</td>\n",
       "      <td>-1</td>\n",
       "      <td>2</td>\n",
       "      <td>-1</td>\n",
       "      <td>2</td>\n",
       "      <td>...</td>\n",
       "      <td>25.1</td>\n",
       "      <td>2</td>\n",
       "      <td>-1 INAPPLICABLE</td>\n",
       "      <td>1</td>\n",
       "      <td>5</td>\n",
       "      <td>5</td>\n",
       "      <td>3</td>\n",
       "      <td>4</td>\n",
       "      <td>2</td>\n",
       "      <td>2</td>\n",
       "    </tr>\n",
       "    <tr>\n",
       "      <th>4</th>\n",
       "      <td>20005</td>\n",
       "      <td>102</td>\n",
       "      <td>20005102</td>\n",
       "      <td>2</td>\n",
       "      <td>-1</td>\n",
       "      <td>2</td>\n",
       "      <td>-1</td>\n",
       "      <td>2</td>\n",
       "      <td>-1</td>\n",
       "      <td>2</td>\n",
       "      <td>...</td>\n",
       "      <td>21.3</td>\n",
       "      <td>2</td>\n",
       "      <td>-1 INAPPLICABLE</td>\n",
       "      <td>5</td>\n",
       "      <td>5</td>\n",
       "      <td>1</td>\n",
       "      <td>1</td>\n",
       "      <td>1</td>\n",
       "      <td>5</td>\n",
       "      <td>5</td>\n",
       "    </tr>\n",
       "  </tbody>\n",
       "</table>\n",
       "<p>5 rows × 27 columns</p>\n",
       "</div>"
      ],
      "text/plain": [
       "    DUID  PID  DUPERSID  HIBPDX  HIBPAGED  STRKDX  STRKAGED  CHOLDX  CHOLAGED  \\\n",
       "0  20004  101  20004101       2        -1       2        -1       2        -1   \n",
       "1  20004  102  20004102       2        -1       2        -1       2        -1   \n",
       "2  20004  103  20004103      -1        -1      -1        -1      -1        -1   \n",
       "3  20005  101  20005101       1        41       2        -1       2        -1   \n",
       "4  20005  102  20005102       2        -1       2        -1       2        -1   \n",
       "\n",
       "   CANCERDX   ...     BMINDX53  ADSMOK42         ADNSMK42  ADMALS42  ADMWLM42  \\\n",
       "0         2   ...         30.6         2  -1 INAPPLICABLE         3         3   \n",
       "1         2   ...         30.1         2  -1 INAPPLICABLE         3         5   \n",
       "2        -1   ...         -1.0        -1  -1 INAPPLICABLE        -1        -1   \n",
       "3         2   ...         25.1         2  -1 INAPPLICABLE         1         5   \n",
       "4         2   ...         21.3         2  -1 INAPPLICABLE         5         5   \n",
       "\n",
       "   ADPAIN42  ADCAPE42  ADNRGY42  ADDOWN42 ADSOCA42  \n",
       "0         1         2         3         4        5  \n",
       "1         1         3         3         4        5  \n",
       "2        -1        -1        -1        -1       -1  \n",
       "3         5         3         4         2        2  \n",
       "4         1         1         1         5        5  \n",
       "\n",
       "[5 rows x 27 columns]"
      ]
     },
     "execution_count": 177,
     "metadata": {},
     "output_type": "execute_result"
    }
   ],
   "source": [
    "MEPS_ns2.head()"
   ]
  },
  {
   "cell_type": "code",
   "execution_count": 178,
   "metadata": {
    "collapsed": false
   },
   "outputs": [],
   "source": [
    "# get rid of ADNSMK42 - unhelpful\n",
    "hlthdf = MEPS_ns2.drop('ADNSMK42',axis=1)"
   ]
  },
  {
   "cell_type": "code",
   "execution_count": 179,
   "metadata": {
    "collapsed": false
   },
   "outputs": [],
   "source": [
    "# change negative numbers to 0\n",
    "for column in hlthdf:\n",
    "    hlthdf[hlthdf < 0] = 0\n"
   ]
  },
  {
   "cell_type": "code",
   "execution_count": 180,
   "metadata": {
    "collapsed": false
   },
   "outputs": [
    {
     "data": {
      "text/html": [
       "<div style=\"max-height:1000px;max-width:1500px;overflow:auto;\">\n",
       "<table border=\"1\" class=\"dataframe\">\n",
       "  <thead>\n",
       "    <tr style=\"text-align: right;\">\n",
       "      <th></th>\n",
       "      <th>DUID</th>\n",
       "      <th>PID</th>\n",
       "      <th>DUPERSID</th>\n",
       "      <th>HIBPDX</th>\n",
       "      <th>HIBPAGED</th>\n",
       "      <th>STRKDX</th>\n",
       "      <th>STRKAGED</th>\n",
       "      <th>CHOLDX</th>\n",
       "      <th>CHOLAGED</th>\n",
       "      <th>CANCERDX</th>\n",
       "      <th>...</th>\n",
       "      <th>ANYLIM12</th>\n",
       "      <th>BMINDX53</th>\n",
       "      <th>ADSMOK42</th>\n",
       "      <th>ADMALS42</th>\n",
       "      <th>ADMWLM42</th>\n",
       "      <th>ADPAIN42</th>\n",
       "      <th>ADCAPE42</th>\n",
       "      <th>ADNRGY42</th>\n",
       "      <th>ADDOWN42</th>\n",
       "      <th>ADSOCA42</th>\n",
       "    </tr>\n",
       "  </thead>\n",
       "  <tbody>\n",
       "    <tr>\n",
       "      <th>0</th>\n",
       "      <td>20004</td>\n",
       "      <td>101</td>\n",
       "      <td>20004101</td>\n",
       "      <td>2</td>\n",
       "      <td>0</td>\n",
       "      <td>2</td>\n",
       "      <td>0</td>\n",
       "      <td>2</td>\n",
       "      <td>0</td>\n",
       "      <td>2</td>\n",
       "      <td>...</td>\n",
       "      <td>2</td>\n",
       "      <td>30.6</td>\n",
       "      <td>2</td>\n",
       "      <td>3</td>\n",
       "      <td>3</td>\n",
       "      <td>1</td>\n",
       "      <td>2</td>\n",
       "      <td>3</td>\n",
       "      <td>4</td>\n",
       "      <td>5</td>\n",
       "    </tr>\n",
       "    <tr>\n",
       "      <th>1</th>\n",
       "      <td>20004</td>\n",
       "      <td>102</td>\n",
       "      <td>20004102</td>\n",
       "      <td>2</td>\n",
       "      <td>0</td>\n",
       "      <td>2</td>\n",
       "      <td>0</td>\n",
       "      <td>2</td>\n",
       "      <td>0</td>\n",
       "      <td>2</td>\n",
       "      <td>...</td>\n",
       "      <td>2</td>\n",
       "      <td>30.1</td>\n",
       "      <td>2</td>\n",
       "      <td>3</td>\n",
       "      <td>5</td>\n",
       "      <td>1</td>\n",
       "      <td>3</td>\n",
       "      <td>3</td>\n",
       "      <td>4</td>\n",
       "      <td>5</td>\n",
       "    </tr>\n",
       "    <tr>\n",
       "      <th>2</th>\n",
       "      <td>20004</td>\n",
       "      <td>103</td>\n",
       "      <td>20004103</td>\n",
       "      <td>0</td>\n",
       "      <td>0</td>\n",
       "      <td>0</td>\n",
       "      <td>0</td>\n",
       "      <td>0</td>\n",
       "      <td>0</td>\n",
       "      <td>0</td>\n",
       "      <td>...</td>\n",
       "      <td>2</td>\n",
       "      <td>0.0</td>\n",
       "      <td>0</td>\n",
       "      <td>0</td>\n",
       "      <td>0</td>\n",
       "      <td>0</td>\n",
       "      <td>0</td>\n",
       "      <td>0</td>\n",
       "      <td>0</td>\n",
       "      <td>0</td>\n",
       "    </tr>\n",
       "    <tr>\n",
       "      <th>3</th>\n",
       "      <td>20005</td>\n",
       "      <td>101</td>\n",
       "      <td>20005101</td>\n",
       "      <td>1</td>\n",
       "      <td>41</td>\n",
       "      <td>2</td>\n",
       "      <td>0</td>\n",
       "      <td>2</td>\n",
       "      <td>0</td>\n",
       "      <td>2</td>\n",
       "      <td>...</td>\n",
       "      <td>1</td>\n",
       "      <td>25.1</td>\n",
       "      <td>2</td>\n",
       "      <td>1</td>\n",
       "      <td>5</td>\n",
       "      <td>5</td>\n",
       "      <td>3</td>\n",
       "      <td>4</td>\n",
       "      <td>2</td>\n",
       "      <td>2</td>\n",
       "    </tr>\n",
       "    <tr>\n",
       "      <th>4</th>\n",
       "      <td>20005</td>\n",
       "      <td>102</td>\n",
       "      <td>20005102</td>\n",
       "      <td>2</td>\n",
       "      <td>0</td>\n",
       "      <td>2</td>\n",
       "      <td>0</td>\n",
       "      <td>2</td>\n",
       "      <td>0</td>\n",
       "      <td>2</td>\n",
       "      <td>...</td>\n",
       "      <td>2</td>\n",
       "      <td>21.3</td>\n",
       "      <td>2</td>\n",
       "      <td>5</td>\n",
       "      <td>5</td>\n",
       "      <td>1</td>\n",
       "      <td>1</td>\n",
       "      <td>1</td>\n",
       "      <td>5</td>\n",
       "      <td>5</td>\n",
       "    </tr>\n",
       "  </tbody>\n",
       "</table>\n",
       "<p>5 rows × 26 columns</p>\n",
       "</div>"
      ],
      "text/plain": [
       "    DUID  PID  DUPERSID  HIBPDX  HIBPAGED  STRKDX  STRKAGED  CHOLDX  CHOLAGED  \\\n",
       "0  20004  101  20004101       2         0       2         0       2         0   \n",
       "1  20004  102  20004102       2         0       2         0       2         0   \n",
       "2  20004  103  20004103       0         0       0         0       0         0   \n",
       "3  20005  101  20005101       1        41       2         0       2         0   \n",
       "4  20005  102  20005102       2         0       2         0       2         0   \n",
       "\n",
       "   CANCERDX    ...     ANYLIM12  BMINDX53  ADSMOK42  ADMALS42  ADMWLM42  \\\n",
       "0         2    ...            2      30.6         2         3         3   \n",
       "1         2    ...            2      30.1         2         3         5   \n",
       "2         0    ...            2       0.0         0         0         0   \n",
       "3         2    ...            1      25.1         2         1         5   \n",
       "4         2    ...            2      21.3         2         5         5   \n",
       "\n",
       "   ADPAIN42  ADCAPE42  ADNRGY42  ADDOWN42  ADSOCA42  \n",
       "0         1         2         3         4         5  \n",
       "1         1         3         3         4         5  \n",
       "2         0         0         0         0         0  \n",
       "3         5         3         4         2         2  \n",
       "4         1         1         1         5         5  \n",
       "\n",
       "[5 rows x 26 columns]"
      ]
     },
     "execution_count": 180,
     "metadata": {},
     "output_type": "execute_result"
    }
   ],
   "source": [
    "hlthdf.head()"
   ]
  },
  {
   "cell_type": "code",
   "execution_count": 181,
   "metadata": {
    "collapsed": false
   },
   "outputs": [
    {
     "data": {
      "text/plain": [
       "(38974, 26)"
      ]
     },
     "execution_count": 181,
     "metadata": {},
     "output_type": "execute_result"
    }
   ],
   "source": [
    "hlthdf.shape"
   ]
  },
  {
   "cell_type": "markdown",
   "metadata": {},
   "source": [
    "# Plot and understand the new features\n",
    "\n",
    "every plot has large column on '0' because the data is sparse (e.g., not many people have a stroke diagnosis)"
   ]
  },
  {
   "cell_type": "markdown",
   "metadata": {},
   "source": [
    "## high blood pressure, age at diagnosis"
   ]
  },
  {
   "cell_type": "code",
   "execution_count": 182,
   "metadata": {
    "collapsed": false,
    "scrolled": true
   },
   "outputs": [
    {
     "data": {
      "text/plain": [
       "<matplotlib.axes._subplots.AxesSubplot at 0x10ebf6290>"
      ]
     },
     "execution_count": 182,
     "metadata": {},
     "output_type": "execute_result"
    },
    {
     "data": {
      "image/png": "[encoded data removed]",
      "text/plain": [
       "<matplotlib.figure.Figure at 0x10ebf65d0>"
      ]
     },
     "metadata": {},
     "output_type": "display_data"
    }
   ],
   "source": [
    "hlthdf['HIBPAGED'].dropna().hist()"
   ]
  },
  {
   "cell_type": "markdown",
   "metadata": {},
   "source": [
    "## stroke, age at diagnosis"
   ]
  },
  {
   "cell_type": "code",
   "execution_count": 183,
   "metadata": {
    "collapsed": false,
    "scrolled": true
   },
   "outputs": [
    {
     "data": {
      "text/plain": [
       "<matplotlib.axes._subplots.AxesSubplot at 0x11d4711d0>"
      ]
     },
     "execution_count": 183,
     "metadata": {},
     "output_type": "execute_result"
    },
    {
     "data": {
      "image/png": "[encoded data removed]",
      "text/plain": [
       "<matplotlib.figure.Figure at 0x10ebf6b10>"
      ]
     },
     "metadata": {},
     "output_type": "display_data"
    }
   ],
   "source": [
    "hlthdf['STRKAGED'].dropna().hist()"
   ]
  },
  {
   "cell_type": "markdown",
   "metadata": {},
   "source": [
    "## high cholesterol, age at diagnosis"
   ]
  },
  {
   "cell_type": "code",
   "execution_count": 184,
   "metadata": {
    "collapsed": false,
    "scrolled": true
   },
   "outputs": [
    {
     "data": {
      "text/plain": [
       "<matplotlib.axes._subplots.AxesSubplot at 0x11d415f90>"
      ]
     },
     "execution_count": 184,
     "metadata": {},
     "output_type": "execute_result"
    },
    {
     "data": {
      "image/png": "[encoded data removed]",
      "text/plain": [
       "<matplotlib.figure.Figure at 0x11d5fef50>"
      ]
     },
     "metadata": {},
     "output_type": "display_data"
    }
   ],
   "source": [
    "hlthdf['CHOLAGED'].dropna().hist()"
   ]
  },
  {
   "cell_type": "markdown",
   "metadata": {},
   "source": [
    "## Smoking status"
   ]
  },
  {
   "cell_type": "code",
   "execution_count": 185,
   "metadata": {
    "collapsed": false,
    "scrolled": false
   },
   "outputs": [
    {
     "data": {
      "text/plain": [
       "<matplotlib.axes._subplots.AxesSubplot at 0x11d2750d0>"
      ]
     },
     "execution_count": 185,
     "metadata": {},
     "output_type": "execute_result"
    },
    {
     "data": {
      "image/png": "[encoded data removed]",
      "text/plain": [
       "<matplotlib.figure.Figure at 0x11d53c6d0>"
      ]
     },
     "metadata": {},
     "output_type": "display_data"
    }
   ],
   "source": [
    "hlthdf['ADSMOK42'].dropna().hist()"
   ]
  },
  {
   "cell_type": "markdown",
   "metadata": {},
   "source": [
    "# Merge into one mega-dataset with all the features + expenditures from the 3 rounds of feature inspection/selection"
   ]
  },
  {
   "cell_type": "code",
   "execution_count": 186,
   "metadata": {
    "collapsed": true
   },
   "outputs": [],
   "source": [
    "# merge previous dataframe with the new hlthdf with the health feature additions\n",
    "nhlthdf =  pd.merge(ndf, hlthdf, on=['DUPERSID', 'DUPERSID'], how='outer')"
   ]
  },
  {
   "cell_type": "code",
   "execution_count": 187,
   "metadata": {
    "collapsed": false,
    "scrolled": true
   },
   "outputs": [
    {
     "data": {
      "text/html": [
       "<div style=\"max-height:1000px;max-width:1500px;overflow:auto;\">\n",
       "<table border=\"1\" class=\"dataframe\">\n",
       "  <thead>\n",
       "    <tr style=\"text-align: right;\">\n",
       "      <th></th>\n",
       "      <th>Unnamed: 0</th>\n",
       "      <th>DUID_x</th>\n",
       "      <th>PID_x</th>\n",
       "      <th>DUPERSID</th>\n",
       "      <th>OBVTCH12</th>\n",
       "      <th>OBVEXP12</th>\n",
       "      <th>ERTTCH12</th>\n",
       "      <th>ERTEXP12</th>\n",
       "      <th>IPTTCH12</th>\n",
       "      <th>IPTEXP12</th>\n",
       "      <th>...</th>\n",
       "      <th>ANYLIM12</th>\n",
       "      <th>BMINDX53</th>\n",
       "      <th>ADSMOK42</th>\n",
       "      <th>ADMALS42</th>\n",
       "      <th>ADMWLM42</th>\n",
       "      <th>ADPAIN42</th>\n",
       "      <th>ADCAPE42</th>\n",
       "      <th>ADNRGY42</th>\n",
       "      <th>ADDOWN42</th>\n",
       "      <th>ADSOCA42</th>\n",
       "    </tr>\n",
       "  </thead>\n",
       "  <tbody>\n",
       "    <tr>\n",
       "      <th>0</th>\n",
       "      <td>0</td>\n",
       "      <td>20004</td>\n",
       "      <td>101</td>\n",
       "      <td>20004101</td>\n",
       "      <td>NaN</td>\n",
       "      <td>NaN</td>\n",
       "      <td>NaN</td>\n",
       "      <td>NaN</td>\n",
       "      <td>NaN</td>\n",
       "      <td>NaN</td>\n",
       "      <td>...</td>\n",
       "      <td>2</td>\n",
       "      <td>30.6</td>\n",
       "      <td>2</td>\n",
       "      <td>3</td>\n",
       "      <td>3</td>\n",
       "      <td>1</td>\n",
       "      <td>2</td>\n",
       "      <td>3</td>\n",
       "      <td>4</td>\n",
       "      <td>5</td>\n",
       "    </tr>\n",
       "    <tr>\n",
       "      <th>1</th>\n",
       "      <td>1</td>\n",
       "      <td>20004</td>\n",
       "      <td>102</td>\n",
       "      <td>20004102</td>\n",
       "      <td>NaN</td>\n",
       "      <td>NaN</td>\n",
       "      <td>NaN</td>\n",
       "      <td>NaN</td>\n",
       "      <td>NaN</td>\n",
       "      <td>NaN</td>\n",
       "      <td>...</td>\n",
       "      <td>2</td>\n",
       "      <td>30.1</td>\n",
       "      <td>2</td>\n",
       "      <td>3</td>\n",
       "      <td>5</td>\n",
       "      <td>1</td>\n",
       "      <td>3</td>\n",
       "      <td>3</td>\n",
       "      <td>4</td>\n",
       "      <td>5</td>\n",
       "    </tr>\n",
       "    <tr>\n",
       "      <th>2</th>\n",
       "      <td>2</td>\n",
       "      <td>20004</td>\n",
       "      <td>103</td>\n",
       "      <td>20004103</td>\n",
       "      <td>NaN</td>\n",
       "      <td>NaN</td>\n",
       "      <td>NaN</td>\n",
       "      <td>NaN</td>\n",
       "      <td>NaN</td>\n",
       "      <td>NaN</td>\n",
       "      <td>...</td>\n",
       "      <td>2</td>\n",
       "      <td>0.0</td>\n",
       "      <td>0</td>\n",
       "      <td>0</td>\n",
       "      <td>0</td>\n",
       "      <td>0</td>\n",
       "      <td>0</td>\n",
       "      <td>0</td>\n",
       "      <td>0</td>\n",
       "      <td>0</td>\n",
       "    </tr>\n",
       "    <tr>\n",
       "      <th>3</th>\n",
       "      <td>3</td>\n",
       "      <td>20005</td>\n",
       "      <td>101</td>\n",
       "      <td>20005101</td>\n",
       "      <td>1100</td>\n",
       "      <td>451</td>\n",
       "      <td>NaN</td>\n",
       "      <td>NaN</td>\n",
       "      <td>NaN</td>\n",
       "      <td>NaN</td>\n",
       "      <td>...</td>\n",
       "      <td>1</td>\n",
       "      <td>25.1</td>\n",
       "      <td>2</td>\n",
       "      <td>1</td>\n",
       "      <td>5</td>\n",
       "      <td>5</td>\n",
       "      <td>3</td>\n",
       "      <td>4</td>\n",
       "      <td>2</td>\n",
       "      <td>2</td>\n",
       "    </tr>\n",
       "    <tr>\n",
       "      <th>4</th>\n",
       "      <td>4</td>\n",
       "      <td>20005</td>\n",
       "      <td>102</td>\n",
       "      <td>20005102</td>\n",
       "      <td>490</td>\n",
       "      <td>127</td>\n",
       "      <td>NaN</td>\n",
       "      <td>NaN</td>\n",
       "      <td>NaN</td>\n",
       "      <td>NaN</td>\n",
       "      <td>...</td>\n",
       "      <td>2</td>\n",
       "      <td>21.3</td>\n",
       "      <td>2</td>\n",
       "      <td>5</td>\n",
       "      <td>5</td>\n",
       "      <td>1</td>\n",
       "      <td>1</td>\n",
       "      <td>1</td>\n",
       "      <td>5</td>\n",
       "      <td>5</td>\n",
       "    </tr>\n",
       "  </tbody>\n",
       "</table>\n",
       "<p>5 rows × 66 columns</p>\n",
       "</div>"
      ],
      "text/plain": [
       "   Unnamed: 0  DUID_x  PID_x  DUPERSID  OBVTCH12  OBVEXP12  ERTTCH12  \\\n",
       "0           0   20004    101  20004101       NaN       NaN       NaN   \n",
       "1           1   20004    102  20004102       NaN       NaN       NaN   \n",
       "2           2   20004    103  20004103       NaN       NaN       NaN   \n",
       "3           3   20005    101  20005101      1100       451       NaN   \n",
       "4           4   20005    102  20005102       490       127       NaN   \n",
       "\n",
       "   ERTEXP12  IPTTCH12  IPTEXP12    ...     ANYLIM12  BMINDX53  ADSMOK42  \\\n",
       "0       NaN       NaN       NaN    ...            2      30.6         2   \n",
       "1       NaN       NaN       NaN    ...            2      30.1         2   \n",
       "2       NaN       NaN       NaN    ...            2       0.0         0   \n",
       "3       NaN       NaN       NaN    ...            1      25.1         2   \n",
       "4       NaN       NaN       NaN    ...            2      21.3         2   \n",
       "\n",
       "   ADMALS42  ADMWLM42  ADPAIN42  ADCAPE42  ADNRGY42  ADDOWN42  ADSOCA42  \n",
       "0         3         3         1         2         3         4         5  \n",
       "1         3         5         1         3         3         4         5  \n",
       "2         0         0         0         0         0         0         0  \n",
       "3         1         5         5         3         4         2         2  \n",
       "4         5         5         1         1         1         5         5  \n",
       "\n",
       "[5 rows x 66 columns]"
      ]
     },
     "execution_count": 187,
     "metadata": {},
     "output_type": "execute_result"
    }
   ],
   "source": [
    "nhlthdf.head()"
   ]
  },
  {
   "cell_type": "markdown",
   "metadata": {},
   "source": [
    "# SAVE NEW .csv file with updated features"
   ]
  },
  {
   "cell_type": "code",
   "execution_count": 627,
   "metadata": {
    "collapsed": true
   },
   "outputs": [],
   "source": [
    "nhlthdf.to_csv('feat_new.csv')"
   ]
  },
  {
   "cell_type": "code",
   "execution_count": null,
   "metadata": {
    "collapsed": true
   },
   "outputs": [],
   "source": []
  },
  {
   "cell_type": "code",
   "execution_count": 598,
   "metadata": {
    "collapsed": false
   },
   "outputs": [],
   "source": [
    "#A = testdf[['MNHLTHSTAT','HLTHSTAT','AGELAST','POVLEV12',\n",
    "#         'EDRECODE',\"HIBPAGED\", \"STRKAGED\",\"CHOLAGED\",  \n",
    "#        \"DIABAGED\", \"BMINDX53\", \"ADPAIN42\", \"ADCAPE42\", \"ADNRGY42\"]]\n",
    "\n",
    "\n",
    "#b = testdf['OBVEXP12].values\n",
    "A = testdf[['MNHLTHSTAT','HLTHSTAT','RACEV1X', 'SEX', 'AGELAST',\n",
    "            'POVCAT12','POVLEV12','HISPANX','HISPCAT','MARRY12X',\n",
    "            'HIDEG', \n",
    "            'EDRECODE','FTSTU12X','ACTDTY53','HONRDC53',\n",
    "            \"HIBPDX\",\"HIBPAGED\", \"STRKDX\", \"STRKAGED\",\"CHOLDX\", \n",
    "            \"CHOLAGED\", \"CANCERDX\",\"DIABDX\", \"DIABAGED\", \"JTPAIN31\",\n",
    "            \"JTPAIN53\", \"ADHDADDX\", \"ADHDAGED\",\"ANYLIM12\", \"BMINDX53\", \n",
    "            \"ADSMOK42\",\"ADMALS42\", \"ADMWLM42\",\"ADPAIN42\", \"ADCAPE42\", \n",
    "            \"ADNRGY42\",\"ADDOWN42\", \"ADSOCA42\"]]"
   ]
  },
  {
   "cell_type": "code",
   "execution_count": 601,
   "metadata": {
    "collapsed": false
   },
   "outputs": [],
   "source": [
    "A = A.fillna(0)"
   ]
  },
  {
   "cell_type": "code",
   "execution_count": 421,
   "metadata": {
    "collapsed": true
   },
   "outputs": [],
   "source": [
    "# re-scale (normalize) continuous  & categorical (ordinal) data\n",
    "from sklearn import preprocessing\n",
    "\n",
    "sa1 = preprocessing.StandardScaler().fit(A[['MNHLTHSTAT','HLTHSTAT','AGELAST','POVLEV12',\n",
    "                                             'EDRECODE',\"HIBPAGED\", \"STRKAGED\",\"CHOLAGED\",  \n",
    "                                            \"DIABAGED\", \"BMINDX53\", \"ADPAIN42\", \"ADCAPE42\", \"ADNRGY42\"]])\n",
    "sa2 = sa1.transform(A[['MNHLTHSTAT','HLTHSTAT','AGELAST','POVLEV12',\n",
    "                        'EDRECODE',\"HIBPAGED\", \"STRKAGED\",\"CHOLAGED\",  \n",
    "                        \"DIABAGED\", \"BMINDX53\", \"ADPAIN42\", \"ADCAPE42\", \"ADNRGY42\"]])"
   ]
  },
  {
   "cell_type": "code",
   "execution_count": 327,
   "metadata": {
    "collapsed": true
   },
   "outputs": [],
   "source": [
    "#a4 = np.append(a1,sa2, axis=1)"
   ]
  },
  {
   "cell_type": "code",
   "execution_count": 422,
   "metadata": {
    "collapsed": false
   },
   "outputs": [
    {
     "data": {
      "text/plain": [
       "GradientBoostingRegressor(alpha=0.9, init=None, learning_rate=0.01, loss='ls',\n",
       "             max_depth=2, max_features=0.3, max_leaf_nodes=None,\n",
       "             min_samples_leaf=5, min_samples_split=2, n_estimators=20000,\n",
       "             random_state=None, subsample=1.0, verbose=0, warm_start=False)"
      ]
     },
     "execution_count": 422,
     "metadata": {},
     "output_type": "execute_result"
    }
   ],
   "source": [
    "from sklearn.ensemble import GradientBoostingRegressor\n",
    "import numpy as np\n",
    "from sklearn.cross_validation import train_test_split\n",
    "rng = np.random.RandomState(42)\n",
    "ag_train, ag_test, bg_train, bg_test = train_test_split(sa2, b, random_state=rng)\n",
    "aclf = GradientBoostingRegressor(n_estimators=20000,learning_rate=0.01,\n",
    "                                 max_depth=2,max_features=0.3,min_samples_leaf=5)\n",
    "aclf.fit(ag_train,bg_train)"
   ]
  },
  {
   "cell_type": "code",
   "execution_count": 423,
   "metadata": {
    "collapsed": false,
    "scrolled": true
   },
   "outputs": [
    {
     "name": "stdout",
     "output_type": "stream",
     "text": [
      "Tuned GBRT MAE: 1.2310\n"
     ]
    }
   ],
   "source": [
    "from sklearn.metrics import mean_absolute_error\n",
    "mae = mean_absolute_error(bg_test, aclf.predict(ag_test))\n",
    "print('Tuned GBRT MAE: %.4f' % mae)"
   ]
  },
  {
   "cell_type": "code",
   "execution_count": 424,
   "metadata": {
    "collapsed": false
   },
   "outputs": [
    {
     "data": {
      "text/plain": [
       "0.0017732302969004632"
      ]
     },
     "execution_count": 424,
     "metadata": {},
     "output_type": "execute_result"
    }
   ],
   "source": [
    "b_pred = aclf.predict(ag_test)\n",
    "from sklearn.metrics import r2_score\n",
    "r2_score(bg_test, b_pred)  "
   ]
  },
  {
   "cell_type": "code",
   "execution_count": 426,
   "metadata": {
    "collapsed": false
   },
   "outputs": [
    {
     "data": {
      "text/plain": [
       "(311, 13)"
      ]
     },
     "execution_count": 426,
     "metadata": {},
     "output_type": "execute_result"
    }
   ],
   "source": [
    "sa2.shape"
   ]
  },
  {
   "cell_type": "code",
   "execution_count": 427,
   "metadata": {
    "collapsed": false
   },
   "outputs": [
    {
     "data": {
      "image/png": "[encoded data removed]",
      "text/plain": [
       "<matplotlib.figure.Figure at 0x11e9bea50>"
      ]
     },
     "metadata": {},
     "output_type": "display_data"
    }
   ],
   "source": [
    "names = ['MNHLTHSTAT','HLTHSTAT','AGELAST','POVLEV12',\n",
    "         'EDRECODE',\"HIBPAGED\", \"STRKAGED\",\"CHOLAGED\",  \n",
    "         \"DIABAGED\", \"BMINDX53\", \"ADPAIN42\", \"ADCAPE42\", \"ADNRGY42\"]\n",
    "\n",
    "m\n",
    "fig = plt.figure(figsize=(20,15))\n",
    "# sort importances\n",
    "indices = np.argsort(aclf.feature_importances_)\n",
    "# plot as bar chart\n",
    "plt.barh(np.arange(len(names)), aclf.feature_importances_[indices])\n",
    "plt.yticks(np.arange(len(names)) + 0.5, np.array(names)[indices])\n",
    "_ = plt.xlabel('Relative importance')"
   ]
  },
  {
   "cell_type": "code",
   "execution_count": 335,
   "metadata": {
    "collapsed": true
   },
   "outputs": [],
   "source": [
    "indices = np.argsort(aclf.feature_importances_)"
   ]
  },
  {
   "cell_type": "code",
   "execution_count": 336,
   "metadata": {
    "collapsed": false,
    "scrolled": true
   },
   "outputs": [
    {
     "data": {
      "text/plain": [
       "array([16,  9, 10, 13,  2, 11, 29, 14,  6, 23, 18, 15,  0,  1,  8, 36, 32,\n",
       "        7,  4, 17, 37, 12,  3,  5, 31, 35, 24, 34, 27, 33, 21, 28, 19, 26,\n",
       "       25, 30, 20, 22])"
      ]
     },
     "execution_count": 336,
     "metadata": {},
     "output_type": "execute_result"
    }
   ],
   "source": [
    "indices"
   ]
  },
  {
   "cell_type": "code",
   "execution_count": null,
   "metadata": {
    "collapsed": true
   },
   "outputs": [],
   "source": []
  },
  {
   "cell_type": "markdown",
   "metadata": {},
   "source": [
    "## RandomSearchCV - RecursiveFeatureEliminationCV - RandomForest"
   ]
  },
  {
   "cell_type": "markdown",
   "metadata": {},
   "source": [
    "### RandomSearchCV #1 (w/ RandomForest regressor and all features)"
   ]
  },
  {
   "cell_type": "code",
   "execution_count": 613,
   "metadata": {
    "collapsed": true
   },
   "outputs": [],
   "source": [
    "tfeat = nhlthdf[['MNHLTHSTAT','HLTHSTAT','RACEV1X', 'SEX', 'AGELAST','POVCAT12','POVLEV12',\n",
    "                 'HISPANX','HISPCAT','MARRY12X','HIDEG','EDRECODE','FTSTU12X','ACTDTY53','HONRDC53',\n",
    "                 \"HIBPDX\",\"HIBPAGED\", \"STRKDX\", \"STRKAGED\",\"CHOLDX\", \"CHOLAGED\", \"CANCERDX\", \n",
    "                 \"DIABDX\", \"DIABAGED\", \"JTPAIN31\",\"JTPAIN53\", \"ADHDADDX\", \"ADHDAGED\",\n",
    "                 \"ANYLIM12\", \"BMINDX53\", \"ADSMOK42\",\"ADMALS42\", \"ADMWLM42\",\n",
    "                 \"ADPAIN42\", \"ADCAPE42\", \"ADNRGY42\",\"ADDOWN42\", \"ADSOCA42\"]]\n",
    "tfeat = tfeat.fillna(0)\n",
    "\n",
    "afeat = tfeat[['RACEV1X', 'SEX','HISPANX','HISPCAT','MARRY12X','HIDEG','FTSTU12X','ACTDTY53',\n",
    "               'HONRDC53',\"HIBPDX\", \"STRKDX\", \"CHOLDX\", \"CANCERDX\", \n",
    "               \"DIABDX\", \"JTPAIN31\",\"JTPAIN53\", \"ADHDADDX\",\"ANYLIM12\", \"ADSMOK42\"]]\n",
    "\n",
    "# re-scale (normalize) continuous  & categorical (ordinal) data\n",
    "from sklearn import preprocessing\n",
    "\n",
    "sa1 = preprocessing.StandardScaler().fit(tfeat[['MNHLTHSTAT','HLTHSTAT','AGELAST','POVCAT12','POVLEV12',\n",
    "                                                'EDRECODE',\"HIBPAGED\", \"STRKAGED\",\"CHOLAGED\",  \n",
    "                                                \"DIABAGED\", \"BMINDX53\", \"ADHDAGED\",\"ADMALS42\", \"ADMWLM42\",\n",
    "                                                \"ADPAIN42\", \"ADCAPE42\", \"ADNRGY42\",\"ADDOWN42\", \"ADSOCA42\"]])\n",
    "sa2 = sa1.transform(tfeat[['MNHLTHSTAT','HLTHSTAT','AGELAST','POVCAT12','POVLEV12',\n",
    "                                                'EDRECODE',\"HIBPAGED\", \"STRKAGED\",\"CHOLAGED\",  \n",
    "                                                \"DIABAGED\", \"BMINDX53\", \"ADHDAGED\",\"ADMALS42\", \"ADMWLM42\",\n",
    "                                                \"ADPAIN42\", \"ADCAPE42\", \"ADNRGY42\",\"ADDOWN42\", \"ADSOCA42\"]])\n",
    "a4 = np.append(afeat,sa2, axis=1)\n",
    "b = testdf['OBVEXPlog'].values"
   ]
  },
  {
   "cell_type": "code",
   "execution_count": 614,
   "metadata": {
    "collapsed": false
   },
   "outputs": [
    {
     "data": {
      "text/plain": [
       "(24274, 68)"
      ]
     },
     "execution_count": 614,
     "metadata": {},
     "output_type": "execute_result"
    }
   ],
   "source": [
    "nhlthdf.shape"
   ]
  },
  {
   "cell_type": "code",
   "execution_count": 615,
   "metadata": {
    "collapsed": false
   },
   "outputs": [
    {
     "data": {
      "text/plain": [
       "(24274, 38)"
      ]
     },
     "execution_count": 615,
     "metadata": {},
     "output_type": "execute_result"
    }
   ],
   "source": [
    "a4.shape"
   ]
  },
  {
   "cell_type": "code",
   "execution_count": 616,
   "metadata": {
    "collapsed": true
   },
   "outputs": [],
   "source": [
    "xtrain, xtest, ytrain, ytest = train_test_split(a4, b, random_state=rng)"
   ]
  },
  {
   "cell_type": "code",
   "execution_count": 617,
   "metadata": {
    "collapsed": false
   },
   "outputs": [
    {
     "name": "stdout",
     "output_type": "stream",
     "text": [
      "RandomizedSearchCV took 12.32 seconds for 20 candidates parameter settings.\n",
      "Model with rank: 1\n",
      "Mean validation score: 0.214 (std: 0.002)\n",
      "Parameters: {'max_features': 0.7, 'min_samples_split': 7, 'bootstrap': True, 'max_depth': 7, 'min_samples_leaf': 3}\n",
      "\n",
      "Model with rank: 2\n",
      "Mean validation score: 0.206 (std: 0.004)\n",
      "Parameters: {'max_features': 0.3, 'min_samples_split': 9, 'bootstrap': False, 'max_depth': 6, 'min_samples_leaf': 6}\n",
      "\n",
      "Model with rank: 3\n",
      "Mean validation score: 0.202 (std: 0.003)\n",
      "Parameters: {'max_features': 0.7, 'min_samples_split': 8, 'bootstrap': False, 'max_depth': 6, 'min_samples_leaf': 5}\n",
      "\n"
     ]
    }
   ],
   "source": [
    "# RandomSearchCV for hyperparameter space\n",
    "from sklearn.grid_search import RandomizedSearchCV\n",
    "from sklearn.ensemble import RandomForestRegressor\n",
    "from scipy.stats import randint as sp_randint\n",
    "from time import time\n",
    "from operator import itemgetter\n",
    "\n",
    "rfr = RandomForestRegressor(n_estimators=20)\n",
    "\n",
    "# Utility function to report best scores\n",
    "def report(grid_scores, n_top=3):\n",
    "    top_scores = sorted(grid_scores, key=itemgetter(1), reverse=True)[:n_top]\n",
    "    for i, score in enumerate(top_scores):\n",
    "        print(\"Model with rank: {0}\".format(i + 1))\n",
    "        print(\"Mean validation score: {0:.3f} (std: {1:.3f})\".format(\n",
    "              score.mean_validation_score,\n",
    "              np.std(score.cv_validation_scores)))\n",
    "        print(\"Parameters: {0}\".format(score.parameters))\n",
    "        print(\"\")\n",
    "\n",
    "\n",
    "# specify parameters and distributions to sample from\n",
    "param_dist = {\"max_depth\": [1,2,3,4,5,6,7],\n",
    "              \"max_features\": [0.1, 0.3, 0.7],\n",
    "              \"min_samples_split\": sp_randint(1, 11),\n",
    "              \"min_samples_leaf\": sp_randint(1, 11),\n",
    "              \"bootstrap\": [True, False],\n",
    "              }\n",
    "\n",
    "# run randomized search\n",
    "n_iter_search = 20\n",
    "random_search = RandomizedSearchCV(rfr, param_distributions=param_dist,\n",
    "                                   n_iter=n_iter_search)\n",
    "\n",
    "start = time()\n",
    "random_search.fit(xtrain, ytrain)\n",
    "print(\"RandomizedSearchCV took %.2f seconds for %d candidates\"\n",
    "      \" parameter settings.\" % ((time() - start), n_iter_search))\n",
    "report(random_search.grid_scores_)"
   ]
  },
  {
   "cell_type": "markdown",
   "metadata": {},
   "source": [
    "## Recursive Feature Elimination - RFECV (w/ RandomForest, hyperparams defined above)"
   ]
  },
  {
   "cell_type": "code",
   "execution_count": 618,
   "metadata": {
    "collapsed": false
   },
   "outputs": [
    {
     "name": "stdout",
     "output_type": "stream",
     "text": [
      "Optimal number of features : 38\n"
     ]
    }
   ],
   "source": [
    "from sklearn.cross_validation import StratifiedKFold\n",
    "from sklearn.feature_selection import RFECV\n",
    "\n",
    "class RandomForestRegressorWithCoef(RandomForestRegressor):\n",
    "    def fit(self, *args, **kwargs):\n",
    "        super(RandomForestRegressorWithCoef, self).fit(*args, **kwargs)\n",
    "        self.coef_ = self.feature_importances_\n",
    "        \n",
    "rf = RandomForestRegressorWithCoef(max_features=0.7, min_samples_split=10,\n",
    "                                   bootstrap=True,max_depth=7, min_samples_leaf=5)\n",
    "\n",
    "rfecv = RFECV(estimator=rf, step=1)\n",
    "rfecv.fit(xtrain, ytrain)\n",
    "\n",
    "print(\"Optimal number of features : %d\" % rfecv.n_features_)"
   ]
  },
  {
   "cell_type": "code",
   "execution_count": 608,
   "metadata": {
    "collapsed": false
   },
   "outputs": [
    {
     "name": "stdout",
     "output_type": "stream",
     "text": [
      "[1 1 5 1 1 1 4 6 1 3 7 2 1 8 1 1 1 1 1 1 1 1 1 1 1 1 1 1 1 1 1 1 1 1 1 1 1\n",
      " 1]\n",
      "[ 0.11348329  0.13162916  0.15932894  0.17906214  0.18405819  0.19482522\n",
      "  0.20133678  0.20745173  0.20724959  0.20744781  0.20949142  0.20610799\n",
      "  0.20926511  0.21084464  0.21054226  0.21023249  0.21124859  0.21257037\n",
      "  0.21004018  0.21239659  0.21006584  0.21014089  0.21243973  0.21103224\n",
      "  0.21126316  0.21425955  0.2107869   0.21109494  0.21105672  0.2106893\n",
      "  0.21555105  0.21137505  0.21338489  0.21137411  0.21127518  0.21338367\n",
      "  0.21435342  0.21282383]\n",
      "[ True  True False  True  True  True False False  True False False False\n",
      "  True False  True  True  True  True  True  True  True  True  True  True\n",
      "  True  True  True  True  True  True  True  True  True  True  True  True\n",
      "  True  True]\n"
     ]
    }
   ],
   "source": [
    "print rfecv.ranking_\n",
    "print rfecv.grid_scores_ \n",
    "print rfecv.support_"
   ]
  },
  {
   "cell_type": "markdown",
   "metadata": {},
   "source": [
    "# Getting feature Importances and Doing some models"
   ]
  },
  {
   "cell_type": "markdown",
   "metadata": {},
   "source": [
    "## RandomForestRegression (w/ hyperparams and features selected above)"
   ]
  },
  {
   "cell_type": "code",
   "execution_count": 609,
   "metadata": {
    "collapsed": false
   },
   "outputs": [
    {
     "data": {
      "text/plain": [
       "(24274, 31)"
      ]
     },
     "execution_count": 609,
     "metadata": {},
     "output_type": "execute_result"
    }
   ],
   "source": [
    "a4_feat = rfecv.transform(a4)\n",
    "a4_feat.shape\n",
    "#xtrain, xtest, ytrain, ytest = train_test_split(a4, b, random_state=rng)\n"
   ]
  },
  {
   "cell_type": "code",
   "execution_count": 610,
   "metadata": {
    "collapsed": false
   },
   "outputs": [
    {
     "data": {
      "text/plain": [
       "GradientBoostingRegressor(alpha=0.9, init=None, learning_rate=0.01, loss='ls',\n",
       "             max_depth=2, max_features=0.3, max_leaf_nodes=None,\n",
       "             min_samples_leaf=5, min_samples_split=2, n_estimators=20000,\n",
       "             random_state=None, subsample=1.0, verbose=0, warm_start=False)"
      ]
     },
     "execution_count": 610,
     "metadata": {},
     "output_type": "execute_result"
    }
   ],
   "source": [
    "from sklearn.ensemble import GradientBoostingRegressor\n",
    "import numpy as np\n",
    "from sklearn.cross_validation import train_test_split\n",
    "rng = np.random.RandomState(42)\n",
    "ag_train, ag_test, bg_train, bg_test = train_test_split(rxa4, rxb, random_state=rng)\n",
    "rxclf = GradientBoostingRegressor(n_estimators=20000,learning_rate=0.01,\n",
    "                                 max_depth=2,max_features=0.3,min_samples_leaf=5)\n",
    "rxclf.fit(ag_train,bg_train)"
   ]
  },
  {
   "cell_type": "code",
   "execution_count": 611,
   "metadata": {
    "collapsed": false
   },
   "outputs": [
    {
     "name": "stdout",
     "output_type": "stream",
     "text": [
      "Tuned GBRT MAE: 1900.6032\n"
     ]
    }
   ],
   "source": [
    "from sklearn.metrics import mean_absolute_error\n",
    "mae = mean_absolute_error(bg_test, rxclf.predict(ag_test))\n",
    "print('Tuned GBRT MAE: %.4f' % mae)"
   ]
  },
  {
   "cell_type": "code",
   "execution_count": 612,
   "metadata": {
    "collapsed": false
   },
   "outputs": [
    {
     "data": {
      "text/plain": [
       "-0.43964235275462626"
      ]
     },
     "execution_count": 612,
     "metadata": {},
     "output_type": "execute_result"
    }
   ],
   "source": [
    "b_pred = rxclf.predict(ag_test)\n",
    "from sklearn.metrics import r2_score\n",
    "r2_score(bg_test, b_pred) "
   ]
  },
  {
   "cell_type": "code",
   "execution_count": null,
   "metadata": {
    "collapsed": true
   },
   "outputs": [],
   "source": []
  },
  {
   "cell_type": "code",
   "execution_count": 438,
   "metadata": {
    "collapsed": false
   },
   "outputs": [
    {
     "data": {
      "text/plain": [
       "(233, 7)"
      ]
     },
     "execution_count": 438,
     "metadata": {},
     "output_type": "execute_result"
    }
   ],
   "source": [
    "from sklearn.ensemble import ExtraTreesClassifier\n",
    "test = ExtraTreesClassifier()\n",
    "X_new = test.fit(ag_train,bg_train).transform(ag_train)\n",
    "test.feature_importances_   \n",
    "X_new.shape "
   ]
  },
  {
   "cell_type": "code",
   "execution_count": 439,
   "metadata": {
    "collapsed": false
   },
   "outputs": [
    {
     "data": {
      "text/plain": [
       "GradientBoostingRegressor(alpha=0.9, init=None, learning_rate=0.01, loss='ls',\n",
       "             max_depth=2, max_features=0.3, max_leaf_nodes=None,\n",
       "             min_samples_leaf=5, min_samples_split=2, n_estimators=20000,\n",
       "             random_state=None, subsample=1.0, verbose=0, warm_start=False)"
      ]
     },
     "execution_count": 439,
     "metadata": {},
     "output_type": "execute_result"
    }
   ],
   "source": [
    "testc = GradientBoostingRegressor(n_estimators=20000,learning_rate=0.01,\n",
    "                                 max_depth=2,max_features=0.3,min_samples_leaf=5)\n",
    "testc.fit(X_new,bg_train)"
   ]
  },
  {
   "cell_type": "code",
   "execution_count": 443,
   "metadata": {
    "collapsed": false
   },
   "outputs": [
    {
     "data": {
      "image/png": "[encoded data removed]",
      "text/plain": [
       "<matplotlib.figure.Figure at 0x14e7b2890>"
      ]
     },
     "metadata": {},
     "output_type": "display_data"
    }
   ],
   "source": [
    "names = ['MNHLTHSTAT','HLTHSTAT','AGELAST','POVLEV12',\n",
    "         'EDRECODE',\"HIBPAGED\", \"STRKAGED\",\"CHOLAGED\",  \n",
    "         \"DIABAGED\", \"BMINDX53\", \"ADPAIN42\", \"ADCAPE42\", \"ADNRGY42\"]\n",
    "\n",
    "fig = plt.figure(figsize=(20,15))\n",
    "# sort importances\n",
    "indices = np.argsort(test.feature_importances_)\n",
    "# plot as bar chart\n",
    "plt.barh(np.arange(len(names)), test.feature_importances_[indices])\n",
    "plt.yticks(np.arange(len(names)) + 0.5, np.array(names)[indices])\n",
    "_ = plt.xlabel('Relative importance')"
   ]
  },
  {
   "cell_type": "markdown",
   "metadata": {},
   "source": [
    "# Do modeling on other expenditure types"
   ]
  },
  {
   "cell_type": "code",
   "execution_count": 341,
   "metadata": {
    "collapsed": false
   },
   "outputs": [],
   "source": [
    "rxdf = nhlthdf[np.isfinite(nhlthdf['RXEXP12'])]"
   ]
  },
  {
   "cell_type": "code",
   "execution_count": 342,
   "metadata": {
    "collapsed": true
   },
   "outputs": [],
   "source": [
    "rxa = rxdf[['MNHLTHSTAT','HLTHSTAT','RACEV1X', 'SEX', 'AGELAST','POVCAT12','POVLEV12',\n",
    "         'HISPANX','HISPCAT','MARRY12X','HIDEG','EDRECODE','FTSTU12X','ACTDTY53','HONRDC53',\n",
    "         \"HIBPDX\",\"HIBPAGED\", \"STRKDX\", \"STRKAGED\",\"CHOLDX\", \"CHOLAGED\", \"CANCERDX\", \n",
    "         \"DIABDX\", \"DIABAGED\", \"JTPAIN31\",\"JTPAIN53\", \"ADHDADDX\", \"ADHDAGED\",\n",
    "       \"ANYLIM12\", \"BMINDX53\", \"ADSMOK42\",\"ADMALS42\", \"ADMWLM42\",\n",
    "       \"ADPAIN42\", \"ADCAPE42\", \"ADNRGY42\",\"ADDOWN42\", \"ADSOCA42\"]]\n",
    "rxb = rxdf['RXEXP12'].values"
   ]
  },
  {
   "cell_type": "code",
   "execution_count": 343,
   "metadata": {
    "collapsed": true
   },
   "outputs": [],
   "source": [
    "Arx = rxa.fillna(0)"
   ]
  },
  {
   "cell_type": "code",
   "execution_count": 344,
   "metadata": {
    "collapsed": true
   },
   "outputs": [],
   "source": [
    "# one hot encoding of categorical features\n",
    "from sklearn.preprocessing import OneHotEncoder\n",
    "Arx1 = Arx[['RACEV1X', 'SEX','HISPANX','HISPCAT','MARRY12X','HIDEG','FTSTU12X','ACTDTY53','HONRDC53',\n",
    "       \"HIBPDX\",\"STRKDX\", \"CHOLDX\", \"CANCERDX\",\"DIABDX\",\"JTPAIN31\",\"JTPAIN53\", \"ADHDADDX\", \n",
    "       \"ANYLIM12\", \"ADSMOK42\"]]"
   ]
  },
  {
   "cell_type": "code",
   "execution_count": 345,
   "metadata": {
    "collapsed": true
   },
   "outputs": [],
   "source": [
    "# re-scale (normalize) continuous  & categorical (ordinal) data\n",
    "from sklearn import preprocessing\n",
    "\n",
    "rxa1 = preprocessing.StandardScaler().fit(Arx[['MNHLTHSTAT','HLTHSTAT','AGELAST','POVLEV12','POVCAT12','EDRECODE',\n",
    "                                          \"HIBPAGED\", \"STRKAGED\",\"CHOLAGED\",\"DIABAGED\", \"ADHDAGED\", \"BMINDX53\", \n",
    "                                           \"ADMALS42\", \"ADMWLM42\",\"ADPAIN42\", \"ADCAPE42\", \"ADNRGY42\",\"ADDOWN42\", \n",
    "                                           \"ADSOCA42\"]])\n",
    "rxa2 = rxa1.transform(Arx[['MNHLTHSTAT','HLTHSTAT','AGELAST','POVLEV12','POVCAT12','EDRECODE',\"HIBPAGED\", \"STRKAGED\",\n",
    "                     \"CHOLAGED\",\"DIABAGED\", \"ADHDAGED\", \"BMINDX53\",\"ADMALS42\", \"ADMWLM42\",\"ADPAIN42\", \"ADCAPE42\", \n",
    "                     \"ADNRGY42\",\"ADDOWN42\",\"ADSOCA42\"]])"
   ]
  },
  {
   "cell_type": "code",
   "execution_count": 346,
   "metadata": {
    "collapsed": true
   },
   "outputs": [],
   "source": [
    "rxa4 = np.append(Arx1,rxa2, axis=1)"
   ]
  },
  {
   "cell_type": "code",
   "execution_count": 347,
   "metadata": {
    "collapsed": false
   },
   "outputs": [
    {
     "data": {
      "text/plain": [
       "GradientBoostingRegressor(alpha=0.9, init=None, learning_rate=0.01, loss='ls',\n",
       "             max_depth=2, max_features=0.3, max_leaf_nodes=None,\n",
       "             min_samples_leaf=5, min_samples_split=2, n_estimators=20000,\n",
       "             random_state=None, subsample=1.0, verbose=0, warm_start=False)"
      ]
     },
     "execution_count": 347,
     "metadata": {},
     "output_type": "execute_result"
    }
   ],
   "source": [
    "from sklearn.ensemble import GradientBoostingRegressor\n",
    "import numpy as np\n",
    "from sklearn.cross_validation import train_test_split\n",
    "rng = np.random.RandomState(42)\n",
    "ag_train, ag_test, bg_train, bg_test = train_test_split(rxa4, rxb, random_state=rng)\n",
    "rxclf = GradientBoostingRegressor(n_estimators=20000,learning_rate=0.01,\n",
    "                                 max_depth=2,max_features=0.3,min_samples_leaf=5)\n",
    "rxclf.fit(ag_train,bg_train)"
   ]
  },
  {
   "cell_type": "code",
   "execution_count": 461,
   "metadata": {
    "collapsed": false
   },
   "outputs": [
    {
     "name": "stdout",
     "output_type": "stream",
     "text": [
      "Optimal number of features : 30\n"
     ]
    }
   ],
   "source": [
    "from sklearn.cross_validation import StratifiedKFold\n",
    "from sklearn.feature_selection import RFECV\n",
    "from sklearn.ensemble import RandomForestRegressor\n",
    "\n",
    "x_train, x_test, y_train, y_test = train_test_split(rxa4, rxb, random_state=rng)\n",
    "\n",
    "class RandomForestRegressorWithCoef(RandomForestRegressor):\n",
    "    def fit(self, *args, **kwargs):\n",
    "        super(RandomForestRegressorWithCoef, self).fit(*args, **kwargs)\n",
    "        self.coef_ = self.feature_importances_\n",
    "        \n",
    "rf = RandomForestRegressorWithCoef()\n",
    "rfecv = RFECV(estimator=rf, step=1)\n",
    "rfecv.fit(x_train, y_train)\n",
    "\n",
    "print(\"Optimal number of features : %d\" % rfecv.n_features_)\n"
   ]
  },
  {
   "cell_type": "code",
   "execution_count": 462,
   "metadata": {
    "collapsed": false,
    "scrolled": true
   },
   "outputs": [
    {
     "name": "stdout",
     "output_type": "stream",
     "text": [
      "[1 1 5 1 1 1 7 8 2 4 9 1 1 6 1 1 1 1 3 1 1 1 1 1 1 1 1 1 1 1 1 1 1 1 1 1 1\n",
      " 1]\n",
      "[-0.74874764 -0.99544704 -1.1937304  -0.72950111 -0.70969916 -0.74122223\n",
      " -0.88850297 -0.66148582 -0.63975478 -0.81029967 -0.65348043 -0.68801579\n",
      " -0.78126046 -0.66930345 -0.6086369  -0.60637697 -0.45741378 -0.7828014\n",
      " -0.5445404  -0.81407571 -0.4932984  -0.78455425 -0.63397897 -0.9302264\n",
      " -1.20886906 -0.62591584 -0.56259816 -0.80720111 -0.50727359 -0.27710704\n",
      " -0.43334882 -0.99930467 -0.56080305 -1.2540095  -1.0151974  -0.87915054\n",
      " -0.9084617  -0.79453596]\n"
     ]
    }
   ],
   "source": [
    "print rfecv.ranking_\n",
    "print rfecv.grid_scores_ "
   ]
  },
  {
   "cell_type": "code",
   "execution_count": 348,
   "metadata": {
    "collapsed": false
   },
   "outputs": [
    {
     "name": "stdout",
     "output_type": "stream",
     "text": [
      "Tuned GBRT MAE: 1900.6445\n"
     ]
    }
   ],
   "source": [
    "from sklearn.metrics import mean_absolute_error\n",
    "mae = mean_absolute_error(bg_test, rxclf.predict(ag_test))\n",
    "print('Tuned GBRT MAE: %.4f' % mae)"
   ]
  },
  {
   "cell_type": "code",
   "execution_count": 396,
   "metadata": {
    "collapsed": false
   },
   "outputs": [
    {
     "data": {
      "text/plain": [
       "-1.3598807197044498"
      ]
     },
     "execution_count": 396,
     "metadata": {},
     "output_type": "execute_result"
    }
   ],
   "source": [
    "b_pred = rxclf.predict(ag_test)\n",
    "from sklearn.metrics import r2_score\n",
    "r2_score(bg_test, b_pred)  "
   ]
  },
  {
   "cell_type": "code",
   "execution_count": 444,
   "metadata": {
    "collapsed": false,
    "scrolled": false
   },
   "outputs": [
    {
     "data": {
      "image/png": "[encoded data removed]",
      "text/plain": [
       "<matplotlib.figure.Figure at 0x1562a0d10>"
      ]
     },
     "metadata": {},
     "output_type": "display_data"
    }
   ],
   "source": [
    "names = ['RACEV1X', 'SEX','HISPANX','HISPCAT','MARRY12X','HIDEG','FTSTU12X','ACTDTY53','HONRDC53',\n",
    "       \"HIBPDX\",\"STRKDX\", \"CHOLDX\", \"CANCERDX\",\"DIABDX\",\"JTPAIN31\",\"JTPAIN53\", \"ADHDADDX\", \n",
    "       \"ANYLIM12\", \"ADSMOK42\",'MNHLTHSTAT','HLTHSTAT','AGELAST','POVLEV12','POVCAT12','EDRECODE',\n",
    "        \"HIBPAGED\", \"STRKAGED\",\"CHOLAGED\",\"DIABAGED\", \"ADHDAGED\", \"BMINDX53\",\"ADMALS42\", \"ADMWLM42\",\n",
    "         \"ADPAIN42\", \"ADCAPE42\", \"ADNRGY42\",\"ADDOWN42\",\"ADSOCA42\"]\n",
    "\n",
    "fig = plt.figure(figsize=(20,15))\n",
    "# sort importances\n",
    "indices = np.argsort(rxclf.feature_importances_)\n",
    "# plot as bar chart\n",
    "plt.barh(np.arange(len(names)), rxclf.feature_importances_[indices])\n",
    "plt.yticks(np.arange(len(names)) + 0.5, np.array(names)[indices])\n",
    "_ = plt.xlabel('Relative importance')"
   ]
  },
  {
   "cell_type": "code",
   "execution_count": null,
   "metadata": {
    "collapsed": true
   },
   "outputs": [],
   "source": []
  },
  {
   "cell_type": "markdown",
   "metadata": {},
   "source": [
    "# ER visit expenses"
   ]
  },
  {
   "cell_type": "code",
   "execution_count": 350,
   "metadata": {
    "collapsed": true
   },
   "outputs": [],
   "source": [
    "erdf = nhlthdf[np.isfinite(nhlthdf['ERTEXP12'])]"
   ]
  },
  {
   "cell_type": "code",
   "execution_count": 351,
   "metadata": {
    "collapsed": true
   },
   "outputs": [],
   "source": [
    "erA = erdf[['MNHLTHSTAT','HLTHSTAT','RACEV1X', 'SEX', 'AGELAST','POVCAT12','POVLEV12',\n",
    "         'HISPANX','HISPCAT','MARRY12X','HIDEG','EDRECODE','FTSTU12X','ACTDTY53','HONRDC53',\n",
    "         \"HIBPDX\",\"HIBPAGED\", \"STRKDX\", \"STRKAGED\",\"CHOLDX\", \"CHOLAGED\", \"CANCERDX\", \n",
    "         \"DIABDX\", \"DIABAGED\", \"JTPAIN31\",\"JTPAIN53\", \"ADHDADDX\", \"ADHDAGED\",\n",
    "       \"ANYLIM12\", \"BMINDX53\", \"ADSMOK42\",\"ADMALS42\", \"ADMWLM42\",\n",
    "       \"ADPAIN42\", \"ADCAPE42\", \"ADNRGY42\",\"ADDOWN42\", \"ADSOCA42\"]]\n",
    "erb = erdf['ERTEXP12'].values"
   ]
  },
  {
   "cell_type": "code",
   "execution_count": 352,
   "metadata": {
    "collapsed": true
   },
   "outputs": [],
   "source": [
    "erA = erA.fillna(0)"
   ]
  },
  {
   "cell_type": "code",
   "execution_count": 353,
   "metadata": {
    "collapsed": true
   },
   "outputs": [],
   "source": [
    "# one hot encoding of categorical features\n",
    "from sklearn.preprocessing import OneHotEncoder\n",
    "era1 = erA[['RACEV1X', 'SEX','HISPANX','HISPCAT','MARRY12X','HIDEG','FTSTU12X','ACTDTY53','HONRDC53',\n",
    "       \"HIBPDX\",\"STRKDX\", \"CHOLDX\", \"CANCERDX\",\"DIABDX\",\"JTPAIN31\",\"JTPAIN53\", \"ADHDADDX\", \n",
    "       \"ANYLIM12\", \"ADSMOK42\"]]"
   ]
  },
  {
   "cell_type": "code",
   "execution_count": 354,
   "metadata": {
    "collapsed": true
   },
   "outputs": [],
   "source": [
    "# re-scale (normalize) continuous  & categorical (ordinal) data\n",
    "from sklearn import preprocessing\n",
    "\n",
    "ersa1 = preprocessing.StandardScaler().fit(erA[['MNHLTHSTAT','HLTHSTAT','AGELAST','POVLEV12','POVCAT12','EDRECODE',\n",
    "                                          \"HIBPAGED\", \"STRKAGED\",\"CHOLAGED\",\"DIABAGED\", \"ADHDAGED\", \"BMINDX53\", \n",
    "                                           \"ADMALS42\", \"ADMWLM42\",\"ADPAIN42\", \"ADCAPE42\", \"ADNRGY42\",\"ADDOWN42\", \n",
    "                                           \"ADSOCA42\"]])\n",
    "ersa2 = sa1.transform(erA[['MNHLTHSTAT','HLTHSTAT','AGELAST','POVLEV12','POVCAT12','EDRECODE',\"HIBPAGED\", \"STRKAGED\",\n",
    "                     \"CHOLAGED\",\"DIABAGED\", \"ADHDAGED\", \"BMINDX53\",\"ADMALS42\", \"ADMWLM42\",\"ADPAIN42\", \"ADCAPE42\", \n",
    "                     \"ADNRGY42\",\"ADDOWN42\",\"ADSOCA42\"]])"
   ]
  },
  {
   "cell_type": "code",
   "execution_count": 355,
   "metadata": {
    "collapsed": true
   },
   "outputs": [],
   "source": [
    "era4 = np.append(era1,ersa2, axis=1)"
   ]
  },
  {
   "cell_type": "code",
   "execution_count": 356,
   "metadata": {
    "collapsed": false
   },
   "outputs": [
    {
     "data": {
      "text/plain": [
       "GradientBoostingRegressor(alpha=0.9, init=None, learning_rate=0.01, loss='ls',\n",
       "             max_depth=2, max_features=0.3, max_leaf_nodes=None,\n",
       "             min_samples_leaf=5, min_samples_split=2, n_estimators=20000,\n",
       "             random_state=None, subsample=1.0, verbose=0, warm_start=False)"
      ]
     },
     "execution_count": 356,
     "metadata": {},
     "output_type": "execute_result"
    }
   ],
   "source": [
    "from sklearn.ensemble import GradientBoostingRegressor\n",
    "import numpy as np\n",
    "from sklearn.cross_validation import train_test_split\n",
    "rng = np.random.RandomState(42)\n",
    "ag_train, ag_test, bg_train, bg_test = train_test_split(era4, erb, random_state=rng)\n",
    "erclf = GradientBoostingRegressor(n_estimators=20000,learning_rate=0.01,\n",
    "                                 max_depth=2,max_features=0.3,min_samples_leaf=5)\n",
    "erclf.fit(ag_train,bg_train)"
   ]
  },
  {
   "cell_type": "code",
   "execution_count": 468,
   "metadata": {
    "collapsed": false
   },
   "outputs": [
    {
     "name": "stdout",
     "output_type": "stream",
     "text": [
      "Optimal number of features : 12\n"
     ]
    }
   ],
   "source": [
    "from sklearn.cross_validation import StratifiedKFold\n",
    "from sklearn.feature_selection import RFECV\n",
    "from sklearn.ensemble import RandomForestRegressor\n",
    "\n",
    "x1_train, x1_test, y1_train, y1_test = train_test_split(era4, erb, random_state=rng)\n",
    "\n",
    "class RandomForestRegressorWithCoef(RandomForestRegressor):\n",
    "    def fit(self, *args, **kwargs):\n",
    "        super(RandomForestRegressorWithCoef, self).fit(*args, **kwargs)\n",
    "        self.coef_ = self.feature_importances_\n",
    "        \n",
    "rf1 = RandomForestRegressorWithCoef()\n",
    "rfecv1 = RFECV(estimator=rf1, step=1)\n",
    "rfecv1.fit(x1_train, y1_train)\n",
    "\n",
    "print(\"Optimal number of features : %d\" % rfecv1.n_features_)"
   ]
  },
  {
   "cell_type": "code",
   "execution_count": 467,
   "metadata": {
    "collapsed": false
   },
   "outputs": [
    {
     "name": "stdout",
     "output_type": "stream",
     "text": [
      "[1 1 1 1 1 1 1 1 1 1 3 1 1 1 1 1 1 1 1 1 1 1 1 1 1 1 1 1 1 2 1 1 1 1 1 1 1\n",
      " 1]\n",
      "[-0.94377151 -0.75803777 -0.22960312 -0.1855375  -0.19276039 -0.21591671\n",
      " -0.26360669 -0.15952369 -0.20027186 -0.16661188 -0.23191348 -0.18240571\n",
      " -0.22874546 -0.22580638 -0.27472167 -0.24128752 -0.18563792 -0.18547817\n",
      " -0.21059811 -0.20728287 -0.12379159 -0.15914434 -0.15986969 -0.13711846\n",
      " -0.16591042 -0.13098175 -0.12805081 -0.19617046 -0.2020866  -0.17580745\n",
      " -0.20675837 -0.18614641 -0.1213652  -0.14248569 -0.12014043 -0.09243894\n",
      " -0.19242443 -0.10622601]\n"
     ]
    }
   ],
   "source": [
    "print rfecv1.ranking_\n",
    "print rfecv1.grid_scores_ "
   ]
  },
  {
   "cell_type": "code",
   "execution_count": 357,
   "metadata": {
    "collapsed": false
   },
   "outputs": [
    {
     "name": "stdout",
     "output_type": "stream",
     "text": [
      "Tuned GBRT MAE: 1391.4256\n"
     ]
    }
   ],
   "source": [
    "from sklearn.metrics import mean_absolute_error\n",
    "mae = mean_absolute_error(bg_test, erclf.predict(ag_test))\n",
    "print('Tuned GBRT MAE: %.4f' % mae)"
   ]
  },
  {
   "cell_type": "code",
   "execution_count": 399,
   "metadata": {
    "collapsed": false
   },
   "outputs": [
    {
     "data": {
      "text/plain": [
       "-1.4863398383303275"
      ]
     },
     "execution_count": 399,
     "metadata": {},
     "output_type": "execute_result"
    }
   ],
   "source": [
    "b_pred = erclf.predict(ag_test)\n",
    "from sklearn.metrics import r2_score\n",
    "r2_score(bg_test, b_pred)"
   ]
  },
  {
   "cell_type": "code",
   "execution_count": 358,
   "metadata": {
    "collapsed": false,
    "scrolled": true
   },
   "outputs": [
    {
     "data": {
      "image/png": "[encoded data removed]",
      "text/plain": [
       "<matplotlib.figure.Figure at 0x1415ebf90>"
      ]
     },
     "metadata": {},
     "output_type": "display_data"
    }
   ],
   "source": [
    "names = ['RACEV1X', 'SEX','HISPANX','HISPCAT','MARRY12X','HIDEG','FTSTU12X','ACTDTY53','HONRDC53',\n",
    "       \"HIBPDX\",\"STRKDX\", \"CHOLDX\", \"CANCERDX\",\"DIABDX\",\"JTPAIN31\",\"JTPAIN53\", \"ADHDADDX\", \n",
    "       \"ANYLIM12\", \"ADSMOK42\",'MNHLTHSTAT','HLTHSTAT','AGELAST','POVLEV12','POVCAT12','EDRECODE',\n",
    "        \"HIBPAGED\", \"STRKAGED\",\"CHOLAGED\",\"DIABAGED\", \"ADHDAGED\", \"BMINDX53\",\"ADMALS42\", \"ADMWLM42\",\n",
    "         \"ADPAIN42\", \"ADCAPE42\", \"ADNRGY42\",\"ADDOWN42\",\"ADSOCA42\"]\n",
    "\n",
    "fig = plt.figure(figsize=(20,15))\n",
    "# sort importances\n",
    "indices = np.argsort(erclf.feature_importances_)\n",
    "# plot as bar chart\n",
    "plt.barh(np.arange(len(names)), erclf.feature_importances_[indices])\n",
    "plt.yticks(np.arange(len(names)) + 0.5, np.array(names)[indices])\n",
    "_ = plt.xlabel('Relative importance')"
   ]
  },
  {
   "cell_type": "code",
   "execution_count": null,
   "metadata": {
    "collapsed": true
   },
   "outputs": [],
   "source": []
  },
  {
   "cell_type": "code",
   "execution_count": null,
   "metadata": {
    "collapsed": true
   },
   "outputs": [],
   "source": []
  },
  {
   "cell_type": "markdown",
   "metadata": {},
   "source": [
    "# IPTEXP12"
   ]
  },
  {
   "cell_type": "code",
   "execution_count": 368,
   "metadata": {
    "collapsed": true
   },
   "outputs": [],
   "source": [
    "nhlthdf = nhlthdf[np.isfinite(nhlthdf['IPTEXP12'])]"
   ]
  },
  {
   "cell_type": "code",
   "execution_count": 369,
   "metadata": {
    "collapsed": true
   },
   "outputs": [],
   "source": [
    "iptA = nhlthdf[['MNHLTHSTAT','HLTHSTAT','RACEV1X', 'SEX', 'AGELAST','POVCAT12','POVLEV12',\n",
    "         'HISPANX','HISPCAT','MARRY12X','HIDEG','EDRECODE','FTSTU12X','ACTDTY53','HONRDC53',\n",
    "         \"HIBPDX\",\"HIBPAGED\", \"STRKDX\", \"STRKAGED\",\"CHOLDX\", \"CHOLAGED\", \"CANCERDX\", \n",
    "         \"DIABDX\", \"DIABAGED\", \"JTPAIN31\",\"JTPAIN53\", \"ADHDADDX\", \"ADHDAGED\",\n",
    "       \"ANYLIM12\", \"BMINDX53\", \"ADSMOK42\",\"ADMALS42\", \"ADMWLM42\",\n",
    "       \"ADPAIN42\", \"ADCAPE42\", \"ADNRGY42\",\"ADDOWN42\", \"ADSOCA42\"]]\n",
    "iptb = nhlthdf['IPTEXP12'].values"
   ]
  },
  {
   "cell_type": "code",
   "execution_count": 370,
   "metadata": {
    "collapsed": true
   },
   "outputs": [],
   "source": [
    "iptA = iptA.fillna(0)"
   ]
  },
  {
   "cell_type": "code",
   "execution_count": 371,
   "metadata": {
    "collapsed": true
   },
   "outputs": [],
   "source": [
    "# one hot encoding of categorical features\n",
    "from sklearn.preprocessing import OneHotEncoder\n",
    "ipta1 = iptA[['RACEV1X', 'SEX','HISPANX','HISPCAT','MARRY12X','HIDEG','FTSTU12X','ACTDTY53','HONRDC53',\n",
    "       \"HIBPDX\",\"STRKDX\", \"CHOLDX\", \"CANCERDX\",\"DIABDX\",\"JTPAIN31\",\"JTPAIN53\", \"ADHDADDX\", \n",
    "       \"ANYLIM12\", \"ADSMOK42\"]]"
   ]
  },
  {
   "cell_type": "code",
   "execution_count": 372,
   "metadata": {
    "collapsed": true
   },
   "outputs": [],
   "source": [
    "# re-scale (normalize) continuous  & categorical (ordinal) data\n",
    "from sklearn import preprocessing\n",
    "\n",
    "iptsa1 = preprocessing.StandardScaler().fit(iptA[['MNHLTHSTAT','HLTHSTAT','AGELAST','POVLEV12','POVCAT12','EDRECODE',\n",
    "                                          \"HIBPAGED\", \"STRKAGED\",\"CHOLAGED\",\"DIABAGED\", \"ADHDAGED\", \"BMINDX53\", \n",
    "                                           \"ADMALS42\", \"ADMWLM42\",\"ADPAIN42\", \"ADCAPE42\", \"ADNRGY42\",\"ADDOWN42\", \n",
    "                                           \"ADSOCA42\"]])\n",
    "iptsa2 = iptsa1.transform(iptA[['MNHLTHSTAT','HLTHSTAT','AGELAST','POVLEV12','POVCAT12','EDRECODE',\"HIBPAGED\", \"STRKAGED\",\n",
    "                     \"CHOLAGED\",\"DIABAGED\", \"ADHDAGED\", \"BMINDX53\",\"ADMALS42\", \"ADMWLM42\",\"ADPAIN42\", \"ADCAPE42\", \n",
    "                     \"ADNRGY42\",\"ADDOWN42\",\"ADSOCA42\"]])"
   ]
  },
  {
   "cell_type": "code",
   "execution_count": 373,
   "metadata": {
    "collapsed": true
   },
   "outputs": [],
   "source": [
    "ipta4 = np.append(ipta1,iptsa2, axis=1)"
   ]
  },
  {
   "cell_type": "code",
   "execution_count": 374,
   "metadata": {
    "collapsed": false
   },
   "outputs": [
    {
     "data": {
      "text/plain": [
       "GradientBoostingRegressor(alpha=0.9, init=None, learning_rate=0.01, loss='ls',\n",
       "             max_depth=2, max_features=0.3, max_leaf_nodes=None,\n",
       "             min_samples_leaf=5, min_samples_split=2, n_estimators=20000,\n",
       "             random_state=None, subsample=1.0, verbose=0, warm_start=False)"
      ]
     },
     "execution_count": 374,
     "metadata": {},
     "output_type": "execute_result"
    }
   ],
   "source": [
    "from sklearn.ensemble import GradientBoostingRegressor\n",
    "import numpy as np\n",
    "from sklearn.cross_validation import train_test_split\n",
    "rng = np.random.RandomState(42)\n",
    "ag_train, ag_test, bg_train, bg_test = train_test_split(ipta4, iptb, random_state=rng)\n",
    "iptclf = GradientBoostingRegressor(n_estimators=20000,learning_rate=0.01,\n",
    "                                 max_depth=2,max_features=0.3,min_samples_leaf=5)\n",
    "iptclf.fit(ag_train,bg_train)"
   ]
  },
  {
   "cell_type": "code",
   "execution_count": 375,
   "metadata": {
    "collapsed": false
   },
   "outputs": [
    {
     "name": "stdout",
     "output_type": "stream",
     "text": [
      "Tuned GBRT MAE: 17598.0775\n"
     ]
    }
   ],
   "source": [
    "from sklearn.metrics import mean_absolute_error\n",
    "mae = mean_absolute_error(bg_test, iptclf.predict(ag_test))\n",
    "print('Tuned GBRT MAE: %.4f' % mae)"
   ]
  },
  {
   "cell_type": "code",
   "execution_count": 398,
   "metadata": {
    "collapsed": false
   },
   "outputs": [
    {
     "data": {
      "text/plain": [
       "-0.42366312426080177"
      ]
     },
     "execution_count": 398,
     "metadata": {},
     "output_type": "execute_result"
    }
   ],
   "source": [
    "b_pred = iptclf.predict(ag_test)\n",
    "from sklearn.metrics import r2_score\n",
    "r2_score(bg_test, b_pred)"
   ]
  },
  {
   "cell_type": "code",
   "execution_count": 376,
   "metadata": {
    "collapsed": false
   },
   "outputs": [
    {
     "data": {
      "image/png": "[encoded data removed]",
      "text/plain": [
       "<matplotlib.figure.Figure at 0x1278abd10>"
      ]
     },
     "metadata": {},
     "output_type": "display_data"
    }
   ],
   "source": [
    "names = ['RACEV1X', 'SEX','HISPANX','HISPCAT','MARRY12X','HIDEG','FTSTU12X','ACTDTY53','HONRDC53',\n",
    "       \"HIBPDX\",\"STRKDX\", \"CHOLDX\", \"CANCERDX\",\"DIABDX\",\"JTPAIN31\",\"JTPAIN53\", \"ADHDADDX\", \n",
    "       \"ANYLIM12\", \"ADSMOK42\",'MNHLTHSTAT','HLTHSTAT','AGELAST','POVLEV12','POVCAT12','EDRECODE',\n",
    "        \"HIBPAGED\", \"STRKAGED\",\"CHOLAGED\",\"DIABAGED\", \"ADHDAGED\", \"BMINDX53\",\"ADMALS42\", \"ADMWLM42\",\n",
    "         \"ADPAIN42\", \"ADCAPE42\", \"ADNRGY42\",\"ADDOWN42\",\"ADSOCA42\"]\n",
    "\n",
    "fig = plt.figure(figsize=(20,15))\n",
    "# sort importances\n",
    "indices = np.argsort(iptclf.feature_importances_)\n",
    "# plot as bar chart\n",
    "plt.barh(np.arange(len(names)), iptclf.feature_importances_[indices])\n",
    "plt.yticks(np.arange(len(names)) + 0.5, np.array(names)[indices])\n",
    "_ = plt.xlabel('Relative importance')"
   ]
  },
  {
   "cell_type": "code",
   "execution_count": null,
   "metadata": {
    "collapsed": true
   },
   "outputs": [],
   "source": []
  },
  {
   "cell_type": "markdown",
   "metadata": {},
   "source": [
    "# HHAEXP12"
   ]
  },
  {
   "cell_type": "code",
   "execution_count": 377,
   "metadata": {
    "collapsed": true
   },
   "outputs": [],
   "source": [
    "nhlthdf = nhlthdf[np.isfinite(nhlthdf['HHAEXP12'])]"
   ]
  },
  {
   "cell_type": "code",
   "execution_count": 378,
   "metadata": {
    "collapsed": true
   },
   "outputs": [],
   "source": [
    "hhA = nhlthdf[['MNHLTHSTAT','HLTHSTAT','RACEV1X', 'SEX', 'AGELAST','POVCAT12','POVLEV12',\n",
    "         'HISPANX','HISPCAT','MARRY12X','HIDEG','EDRECODE','FTSTU12X','ACTDTY53','HONRDC53',\n",
    "         \"HIBPDX\",\"HIBPAGED\", \"STRKDX\", \"STRKAGED\",\"CHOLDX\", \"CHOLAGED\", \"CANCERDX\", \n",
    "         \"DIABDX\", \"DIABAGED\", \"JTPAIN31\",\"JTPAIN53\", \"ADHDADDX\", \"ADHDAGED\",\n",
    "       \"ANYLIM12\", \"BMINDX53\", \"ADSMOK42\",\"ADMALS42\", \"ADMWLM42\",\n",
    "       \"ADPAIN42\", \"ADCAPE42\", \"ADNRGY42\",\"ADDOWN42\", \"ADSOCA42\"]]\n",
    "hhb = nhlthdf['HHAEXP12'].values"
   ]
  },
  {
   "cell_type": "code",
   "execution_count": 379,
   "metadata": {
    "collapsed": true
   },
   "outputs": [],
   "source": [
    "hhA = hhA.fillna(0)"
   ]
  },
  {
   "cell_type": "code",
   "execution_count": 380,
   "metadata": {
    "collapsed": true
   },
   "outputs": [],
   "source": [
    "# one hot encoding of categorical features\n",
    "from sklearn.preprocessing import OneHotEncoder\n",
    "hha1 = hhA[['RACEV1X', 'SEX','HISPANX','HISPCAT','MARRY12X','HIDEG','FTSTU12X','ACTDTY53','HONRDC53',\n",
    "       \"HIBPDX\",\"STRKDX\", \"CHOLDX\", \"CANCERDX\",\"DIABDX\",\"JTPAIN31\",\"JTPAIN53\", \"ADHDADDX\", \n",
    "       \"ANYLIM12\", \"ADSMOK42\"]]"
   ]
  },
  {
   "cell_type": "code",
   "execution_count": 381,
   "metadata": {
    "collapsed": true
   },
   "outputs": [],
   "source": [
    "# re-scale (normalize) continuous  & categorical (ordinal) data\n",
    "from sklearn import preprocessing\n",
    "\n",
    "hhsa1 = preprocessing.StandardScaler().fit(hhA[['MNHLTHSTAT','HLTHSTAT','AGELAST','POVLEV12','POVCAT12','EDRECODE',\n",
    "                                          \"HIBPAGED\", \"STRKAGED\",\"CHOLAGED\",\"DIABAGED\", \"ADHDAGED\", \"BMINDX53\", \n",
    "                                           \"ADMALS42\", \"ADMWLM42\",\"ADPAIN42\", \"ADCAPE42\", \"ADNRGY42\",\"ADDOWN42\", \n",
    "                                           \"ADSOCA42\"]])\n",
    "hhsa2 = hhsa1.transform(hhA[['MNHLTHSTAT','HLTHSTAT','AGELAST','POVLEV12','POVCAT12','EDRECODE',\"HIBPAGED\", \"STRKAGED\",\n",
    "                     \"CHOLAGED\",\"DIABAGED\", \"ADHDAGED\", \"BMINDX53\",\"ADMALS42\", \"ADMWLM42\",\"ADPAIN42\", \"ADCAPE42\", \n",
    "                     \"ADNRGY42\",\"ADDOWN42\",\"ADSOCA42\"]])"
   ]
  },
  {
   "cell_type": "code",
   "execution_count": 382,
   "metadata": {
    "collapsed": true
   },
   "outputs": [],
   "source": [
    "hha4 = np.append(hha1,hhsa2, axis=1)"
   ]
  },
  {
   "cell_type": "code",
   "execution_count": 383,
   "metadata": {
    "collapsed": false
   },
   "outputs": [
    {
     "data": {
      "text/plain": [
       "GradientBoostingRegressor(alpha=0.9, init=None, learning_rate=0.01, loss='ls',\n",
       "             max_depth=2, max_features=0.3, max_leaf_nodes=None,\n",
       "             min_samples_leaf=5, min_samples_split=2, n_estimators=20000,\n",
       "             random_state=None, subsample=1.0, verbose=0, warm_start=False)"
      ]
     },
     "execution_count": 383,
     "metadata": {},
     "output_type": "execute_result"
    }
   ],
   "source": [
    "from sklearn.ensemble import GradientBoostingRegressor\n",
    "import numpy as np\n",
    "from sklearn.cross_validation import train_test_split\n",
    "rng = np.random.RandomState(42)\n",
    "ag_train, ag_test, bg_train, bg_test = train_test_split(hha4, hhb, random_state=rng)\n",
    "hhclf = GradientBoostingRegressor(n_estimators=20000,learning_rate=0.01,\n",
    "                                 max_depth=2,max_features=0.3,min_samples_leaf=5)\n",
    "hhclf.fit(ag_train,bg_train)"
   ]
  },
  {
   "cell_type": "code",
   "execution_count": 384,
   "metadata": {
    "collapsed": false
   },
   "outputs": [
    {
     "name": "stdout",
     "output_type": "stream",
     "text": [
      "Tuned GBRT MAE: 9969.3493\n"
     ]
    }
   ],
   "source": [
    "from sklearn.metrics import mean_absolute_error\n",
    "mae = mean_absolute_error(bg_test, hhclf.predict(ag_test))\n",
    "print('Tuned GBRT MAE: %.4f' % mae)"
   ]
  },
  {
   "cell_type": "code",
   "execution_count": 400,
   "metadata": {
    "collapsed": false
   },
   "outputs": [
    {
     "data": {
      "text/plain": [
       "-1.2475108099516987"
      ]
     },
     "execution_count": 400,
     "metadata": {},
     "output_type": "execute_result"
    }
   ],
   "source": [
    "b_pred = hhclf.predict(ag_test)\n",
    "from sklearn.metrics import r2_score\n",
    "r2_score(bg_test, b_pred)"
   ]
  },
  {
   "cell_type": "code",
   "execution_count": 385,
   "metadata": {
    "collapsed": false
   },
   "outputs": [
    {
     "data": {
      "image/png": "[encoded data removed]",
      "text/plain": [
       "<matplotlib.figure.Figure at 0x135bd4190>"
      ]
     },
     "metadata": {},
     "output_type": "display_data"
    }
   ],
   "source": [
    "names = ['RACEV1X', 'SEX','HISPANX','HISPCAT','MARRY12X','HIDEG','FTSTU12X','ACTDTY53','HONRDC53',\n",
    "       \"HIBPDX\",\"STRKDX\", \"CHOLDX\", \"CANCERDX\",\"DIABDX\",\"JTPAIN31\",\"JTPAIN53\", \"ADHDADDX\", \n",
    "       \"ANYLIM12\", \"ADSMOK42\",'MNHLTHSTAT','HLTHSTAT','AGELAST','POVLEV12','POVCAT12','EDRECODE',\n",
    "        \"HIBPAGED\", \"STRKAGED\",\"CHOLAGED\",\"DIABAGED\", \"ADHDAGED\", \"BMINDX53\",\"ADMALS42\", \"ADMWLM42\",\n",
    "         \"ADPAIN42\", \"ADCAPE42\", \"ADNRGY42\",\"ADDOWN42\",\"ADSOCA42\"]\n",
    "\n",
    "fig = plt.figure(figsize=(20,15))\n",
    "# sort importances\n",
    "indices = np.argsort(hhclf.feature_importances_)\n",
    "# plot as bar chart\n",
    "plt.barh(np.arange(len(names)), hhclf.feature_importances_[indices])\n",
    "plt.yticks(np.arange(len(names)) + 0.5, np.array(names)[indices])\n",
    "_ = plt.xlabel('Relative importance')"
   ]
  },
  {
   "cell_type": "code",
   "execution_count": null,
   "metadata": {
    "collapsed": true
   },
   "outputs": [],
   "source": []
  },
  {
   "cell_type": "code",
   "execution_count": null,
   "metadata": {
    "collapsed": true
   },
   "outputs": [],
   "source": []
  },
  {
   "cell_type": "code",
   "execution_count": null,
   "metadata": {
    "collapsed": true
   },
   "outputs": [],
   "source": []
  },
  {
   "cell_type": "markdown",
   "metadata": {},
   "source": [
    "# TOTEXP12"
   ]
  },
  {
   "cell_type": "code",
   "execution_count": 386,
   "metadata": {
    "collapsed": true
   },
   "outputs": [],
   "source": [
    "nhlthdf = nhlthdf[np.isfinite(nhlthdf['TOTEXP12'])]"
   ]
  },
  {
   "cell_type": "code",
   "execution_count": 387,
   "metadata": {
    "collapsed": true
   },
   "outputs": [],
   "source": [
    "totA = nhlthdf[['MNHLTHSTAT','HLTHSTAT','RACEV1X', 'SEX', 'AGELAST','POVCAT12','POVLEV12',\n",
    "         'HISPANX','HISPCAT','MARRY12X','HIDEG','EDRECODE','FTSTU12X','ACTDTY53','HONRDC53',\n",
    "         \"HIBPDX\",\"HIBPAGED\", \"STRKDX\", \"STRKAGED\",\"CHOLDX\", \"CHOLAGED\", \"CANCERDX\", \n",
    "         \"DIABDX\", \"DIABAGED\", \"JTPAIN31\",\"JTPAIN53\", \"ADHDADDX\", \"ADHDAGED\",\n",
    "       \"ANYLIM12\", \"BMINDX53\", \"ADSMOK42\",\"ADMALS42\", \"ADMWLM42\",\n",
    "       \"ADPAIN42\", \"ADCAPE42\", \"ADNRGY42\",\"ADDOWN42\", \"ADSOCA42\"]]\n",
    "totb = nhlthdf['TOTEXP12'].values"
   ]
  },
  {
   "cell_type": "code",
   "execution_count": 388,
   "metadata": {
    "collapsed": true
   },
   "outputs": [],
   "source": [
    "totA = totA.fillna(0)"
   ]
  },
  {
   "cell_type": "code",
   "execution_count": 389,
   "metadata": {
    "collapsed": true
   },
   "outputs": [],
   "source": [
    "# one hot encoding of categorical features\n",
    "from sklearn.preprocessing import OneHotEncoder\n",
    "tota1 = totA[['RACEV1X', 'SEX','HISPANX','HISPCAT','MARRY12X','HIDEG','FTSTU12X','ACTDTY53','HONRDC53',\n",
    "       \"HIBPDX\",\"STRKDX\", \"CHOLDX\", \"CANCERDX\",\"DIABDX\",\"JTPAIN31\",\"JTPAIN53\", \"ADHDADDX\", \n",
    "       \"ANYLIM12\", \"ADSMOK42\"]]"
   ]
  },
  {
   "cell_type": "code",
   "execution_count": 390,
   "metadata": {
    "collapsed": true
   },
   "outputs": [],
   "source": [
    "# re-scale (normalize) continuous  & categorical (ordinal) data\n",
    "from sklearn import preprocessing\n",
    "\n",
    "totsa1 = preprocessing.StandardScaler().fit(totA[['MNHLTHSTAT','HLTHSTAT','AGELAST','POVLEV12','POVCAT12','EDRECODE',\n",
    "                                          \"HIBPAGED\", \"STRKAGED\",\"CHOLAGED\",\"DIABAGED\", \"ADHDAGED\", \"BMINDX53\", \n",
    "                                           \"ADMALS42\", \"ADMWLM42\",\"ADPAIN42\", \"ADCAPE42\", \"ADNRGY42\",\"ADDOWN42\", \n",
    "                                           \"ADSOCA42\"]])\n",
    "totsa2 = totsa1.transform(totA[['MNHLTHSTAT','HLTHSTAT','AGELAST','POVLEV12','POVCAT12','EDRECODE',\"HIBPAGED\", \"STRKAGED\",\n",
    "                     \"CHOLAGED\",\"DIABAGED\", \"ADHDAGED\", \"BMINDX53\",\"ADMALS42\", \"ADMWLM42\",\"ADPAIN42\", \"ADCAPE42\", \n",
    "                     \"ADNRGY42\",\"ADDOWN42\",\"ADSOCA42\"]])"
   ]
  },
  {
   "cell_type": "code",
   "execution_count": 391,
   "metadata": {
    "collapsed": true
   },
   "outputs": [],
   "source": [
    "tota4 = np.append(tota1,totsa2, axis=1)"
   ]
  },
  {
   "cell_type": "code",
   "execution_count": 392,
   "metadata": {
    "collapsed": false
   },
   "outputs": [
    {
     "data": {
      "text/plain": [
       "GradientBoostingRegressor(alpha=0.9, init=None, learning_rate=0.01, loss='ls',\n",
       "             max_depth=2, max_features=0.3, max_leaf_nodes=None,\n",
       "             min_samples_leaf=5, min_samples_split=2, n_estimators=20000,\n",
       "             random_state=None, subsample=1.0, verbose=0, warm_start=False)"
      ]
     },
     "execution_count": 392,
     "metadata": {},
     "output_type": "execute_result"
    }
   ],
   "source": [
    "from sklearn.ensemble import GradientBoostingRegressor\n",
    "import numpy as np\n",
    "from sklearn.cross_validation import train_test_split\n",
    "rng = np.random.RandomState(42)\n",
    "ag_train, ag_test, bg_train, bg_test = train_test_split(tota4, totb, random_state=rng)\n",
    "totclf = GradientBoostingRegressor(n_estimators=20000,learning_rate=0.01,\n",
    "                                 max_depth=2,max_features=0.3,min_samples_leaf=5)\n",
    "totclf.fit(ag_train,bg_train)"
   ]
  },
  {
   "cell_type": "code",
   "execution_count": 393,
   "metadata": {
    "collapsed": false
   },
   "outputs": [
    {
     "name": "stdout",
     "output_type": "stream",
     "text": [
      "Tuned GBRT MAE: 33409.4316\n"
     ]
    }
   ],
   "source": [
    "from sklearn.metrics import mean_absolute_error\n",
    "mae = mean_absolute_error(bg_test, totclf.predict(ag_test))\n",
    "print('Tuned GBRT MAE: %.4f' % mae)"
   ]
  },
  {
   "cell_type": "code",
   "execution_count": 401,
   "metadata": {
    "collapsed": false
   },
   "outputs": [
    {
     "data": {
      "text/plain": [
       "-0.69124855702135246"
      ]
     },
     "execution_count": 401,
     "metadata": {},
     "output_type": "execute_result"
    }
   ],
   "source": [
    "b_pred = totclf.predict(ag_test)\n",
    "from sklearn.metrics import r2_score\n",
    "r2_score(bg_test, b_pred)"
   ]
  },
  {
   "cell_type": "code",
   "execution_count": 394,
   "metadata": {
    "collapsed": false
   },
   "outputs": [
    {
     "data": {
      "image/png": "[encoded data removed]",
      "text/plain": [
       "<matplotlib.figure.Figure at 0x14bfb9f90>"
      ]
     },
     "metadata": {},
     "output_type": "display_data"
    }
   ],
   "source": [
    "names = ['RACEV1X', 'SEX','HISPANX','HISPCAT','MARRY12X','HIDEG','FTSTU12X','ACTDTY53','HONRDC53',\n",
    "       \"HIBPDX\",\"STRKDX\", \"CHOLDX\", \"CANCERDX\",\"DIABDX\",\"JTPAIN31\",\"JTPAIN53\", \"ADHDADDX\", \n",
    "       \"ANYLIM12\", \"ADSMOK42\",'MNHLTHSTAT','HLTHSTAT','AGELAST','POVLEV12','POVCAT12','EDRECODE',\n",
    "        \"HIBPAGED\", \"STRKAGED\",\"CHOLAGED\",\"DIABAGED\", \"ADHDAGED\", \"BMINDX53\",\"ADMALS42\", \"ADMWLM42\",\n",
    "         \"ADPAIN42\", \"ADCAPE42\", \"ADNRGY42\",\"ADDOWN42\",\"ADSOCA42\"]\n",
    "\n",
    "fig = plt.figure(figsize=(20,15))\n",
    "# sort importances\n",
    "indices = np.argsort(totclf.feature_importances_)\n",
    "# plot as bar chart\n",
    "plt.barh(np.arange(len(names)), totclf.feature_importances_[indices])\n",
    "plt.yticks(np.arange(len(names)) + 0.5, np.array(names)[indices])\n",
    "_ = plt.xlabel('Relative importance')"
   ]
  },
  {
   "cell_type": "code",
   "execution_count": null,
   "metadata": {
    "collapsed": true
   },
   "outputs": [],
   "source": []
  },
  {
   "cell_type": "markdown",
   "metadata": {},
   "source": [
    "# Non-imputed data is not alright, Doing Imputation"
   ]
  },
  {
   "cell_type": "markdown",
   "metadata": {
    "collapsed": true
   },
   "source": [
    "# Trying out Imputation on features with NaNs"
   ]
  },
  {
   "cell_type": "code",
   "execution_count": 636,
   "metadata": {
    "collapsed": false,
    "scrolled": true
   },
   "outputs": [
    {
     "data": {
      "text/html": [
       "<div style=\"max-height:1000px;max-width:1500px;overflow:auto;\">\n",
       "<table border=\"1\" class=\"dataframe\">\n",
       "  <thead>\n",
       "    <tr style=\"text-align: right;\">\n",
       "      <th></th>\n",
       "      <th>Unnamed: 0</th>\n",
       "      <th>DUID_x</th>\n",
       "      <th>PID_x</th>\n",
       "      <th>DUPERSID</th>\n",
       "      <th>OBVTCH12</th>\n",
       "      <th>OBVEXP12</th>\n",
       "      <th>ERTTCH12</th>\n",
       "      <th>ERTEXP12</th>\n",
       "      <th>IPTTCH12</th>\n",
       "      <th>IPTEXP12</th>\n",
       "      <th>...</th>\n",
       "      <th>DUID</th>\n",
       "      <th>PID</th>\n",
       "      <th>HISPANX</th>\n",
       "      <th>HISPCAT</th>\n",
       "      <th>MARRY12X</th>\n",
       "      <th>HIDEG</th>\n",
       "      <th>EDRECODE</th>\n",
       "      <th>FTSTU12X</th>\n",
       "      <th>ACTDTY53</th>\n",
       "      <th>HONRDC53</th>\n",
       "    </tr>\n",
       "  </thead>\n",
       "  <tbody>\n",
       "    <tr>\n",
       "      <th>0</th>\n",
       "      <td>0</td>\n",
       "      <td>20004</td>\n",
       "      <td>101</td>\n",
       "      <td>20004101</td>\n",
       "      <td>NaN</td>\n",
       "      <td>NaN</td>\n",
       "      <td>NaN</td>\n",
       "      <td>NaN</td>\n",
       "      <td>NaN</td>\n",
       "      <td>NaN</td>\n",
       "      <td>...</td>\n",
       "      <td>20004</td>\n",
       "      <td>101</td>\n",
       "      <td>1</td>\n",
       "      <td>5</td>\n",
       "      <td>1</td>\n",
       "      <td>NaN</td>\n",
       "      <td>14</td>\n",
       "      <td>NaN</td>\n",
       "      <td>2</td>\n",
       "      <td>2</td>\n",
       "    </tr>\n",
       "    <tr>\n",
       "      <th>1</th>\n",
       "      <td>1</td>\n",
       "      <td>20004</td>\n",
       "      <td>102</td>\n",
       "      <td>20004102</td>\n",
       "      <td>NaN</td>\n",
       "      <td>NaN</td>\n",
       "      <td>NaN</td>\n",
       "      <td>NaN</td>\n",
       "      <td>NaN</td>\n",
       "      <td>NaN</td>\n",
       "      <td>...</td>\n",
       "      <td>20004</td>\n",
       "      <td>102</td>\n",
       "      <td>1</td>\n",
       "      <td>5</td>\n",
       "      <td>1</td>\n",
       "      <td>NaN</td>\n",
       "      <td>13</td>\n",
       "      <td>NaN</td>\n",
       "      <td>2</td>\n",
       "      <td>2</td>\n",
       "    </tr>\n",
       "    <tr>\n",
       "      <th>2</th>\n",
       "      <td>2</td>\n",
       "      <td>20004</td>\n",
       "      <td>103</td>\n",
       "      <td>20004103</td>\n",
       "      <td>NaN</td>\n",
       "      <td>NaN</td>\n",
       "      <td>NaN</td>\n",
       "      <td>NaN</td>\n",
       "      <td>NaN</td>\n",
       "      <td>NaN</td>\n",
       "      <td>...</td>\n",
       "      <td>20004</td>\n",
       "      <td>103</td>\n",
       "      <td>1</td>\n",
       "      <td>5</td>\n",
       "      <td>6</td>\n",
       "      <td>NaN</td>\n",
       "      <td>2</td>\n",
       "      <td>NaN</td>\n",
       "      <td>3</td>\n",
       "      <td>3</td>\n",
       "    </tr>\n",
       "    <tr>\n",
       "      <th>3</th>\n",
       "      <td>3</td>\n",
       "      <td>20005</td>\n",
       "      <td>101</td>\n",
       "      <td>20005101</td>\n",
       "      <td>1100</td>\n",
       "      <td>451</td>\n",
       "      <td>NaN</td>\n",
       "      <td>NaN</td>\n",
       "      <td>NaN</td>\n",
       "      <td>NaN</td>\n",
       "      <td>...</td>\n",
       "      <td>20005</td>\n",
       "      <td>101</td>\n",
       "      <td>1</td>\n",
       "      <td>3</td>\n",
       "      <td>4</td>\n",
       "      <td>NaN</td>\n",
       "      <td>14</td>\n",
       "      <td>NaN</td>\n",
       "      <td>2</td>\n",
       "      <td>2</td>\n",
       "    </tr>\n",
       "    <tr>\n",
       "      <th>4</th>\n",
       "      <td>4</td>\n",
       "      <td>20005</td>\n",
       "      <td>102</td>\n",
       "      <td>20005102</td>\n",
       "      <td>490</td>\n",
       "      <td>127</td>\n",
       "      <td>NaN</td>\n",
       "      <td>NaN</td>\n",
       "      <td>NaN</td>\n",
       "      <td>NaN</td>\n",
       "      <td>...</td>\n",
       "      <td>20005</td>\n",
       "      <td>102</td>\n",
       "      <td>1</td>\n",
       "      <td>3</td>\n",
       "      <td>5</td>\n",
       "      <td>NaN</td>\n",
       "      <td>14</td>\n",
       "      <td>1</td>\n",
       "      <td>2</td>\n",
       "      <td>2</td>\n",
       "    </tr>\n",
       "  </tbody>\n",
       "</table>\n",
       "<p>5 rows × 43 columns</p>\n",
       "</div>"
      ],
      "text/plain": [
       "   Unnamed: 0  DUID_x  PID_x  DUPERSID  OBVTCH12  OBVEXP12  ERTTCH12  \\\n",
       "0           0   20004    101  20004101       NaN       NaN       NaN   \n",
       "1           1   20004    102  20004102       NaN       NaN       NaN   \n",
       "2           2   20004    103  20004103       NaN       NaN       NaN   \n",
       "3           3   20005    101  20005101      1100       451       NaN   \n",
       "4           4   20005    102  20005102       490       127       NaN   \n",
       "\n",
       "   ERTEXP12  IPTTCH12  IPTEXP12    ...      DUID  PID  HISPANX  HISPCAT  \\\n",
       "0       NaN       NaN       NaN    ...     20004  101        1        5   \n",
       "1       NaN       NaN       NaN    ...     20004  102        1        5   \n",
       "2       NaN       NaN       NaN    ...     20004  103        1        5   \n",
       "3       NaN       NaN       NaN    ...     20005  101        1        3   \n",
       "4       NaN       NaN       NaN    ...     20005  102        1        3   \n",
       "\n",
       "   MARRY12X  HIDEG  EDRECODE  FTSTU12X  ACTDTY53  HONRDC53  \n",
       "0         1    NaN        14       NaN         2         2  \n",
       "1         1    NaN        13       NaN         2         2  \n",
       "2         6    NaN         2       NaN         3         3  \n",
       "3         4    NaN        14       NaN         2         2  \n",
       "4         5    NaN        14         1         2         2  \n",
       "\n",
       "[5 rows x 43 columns]"
      ]
     },
     "execution_count": 636,
     "metadata": {},
     "output_type": "execute_result"
    }
   ],
   "source": [
    "ndf.head()"
   ]
  },
  {
   "cell_type": "code",
   "execution_count": 670,
   "metadata": {
    "collapsed": true
   },
   "outputs": [],
   "source": [
    "# load MEPS dataset with only a subset of columns - race, marriage\n",
    "# education, active duty, student, honorable discharge\n",
    "imp = pd.read_csv('consolidated.csv', \n",
    "                        usecols=[\"DUID\", \"PID\", \"DUPERSID\", \n",
    "                                 \"HIBPDX\",\"HIBPAGED\", \"STRKDX\", \"STRKAGED\", \n",
    "                                 \"CHOLDX\", \"CHOLAGED\", \"CANCERDX\", \n",
    "                                 \"DIABDX\", \"DIABAGED\", \"JTPAIN31\",\n",
    "                                 \"JTPAIN53\", \"ADHDADDX\", \"ADHDAGED\",\n",
    "                                 \"ANYLIM12\", \"BMINDX53\", \"ADSMOK42\",\n",
    "                                 \"ADNSMK42\", \"ADMALS42\", \"ADMWLM42\",\n",
    "                                 \"ADPAIN42\", \"ADCAPE42\", \"ADNRGY42\",\n",
    "                                 \"ADDOWN42\", \"ADSOCA42\",\n",
    "                             ])"
   ]
  },
  {
   "cell_type": "code",
   "execution_count": 671,
   "metadata": {
    "collapsed": false
   },
   "outputs": [
    {
     "name": "stderr",
     "output_type": "stream",
     "text": [
      "/Users/bstankev/anaconda/lib/python2.7/site-packages/ipykernel/__main__.py:11: SettingWithCopyWarning: \n",
      "A value is trying to be set on a copy of a slice from a DataFrame.\n",
      "Try using .loc[row_indexer,col_indexer] = value instead\n",
      "\n",
      "See the the caveats in the documentation: http://pandas.pydata.org/pandas-docs/stable/indexing.html#indexing-view-versus-copy\n"
     ]
    }
   ],
   "source": [
    "imp_cat = imp[[\"HIBPDX\",\"STRKDX\",  \n",
    "                     \"CHOLDX\", \"CANCERDX\", \n",
    "                     \"DIABDX\", \"JTPAIN31\",\n",
    "                     \"JTPAIN53\", \"ADHDADDX\", \n",
    "                     \"ANYLIM12\", \"ADSMOK42\",\n",
    "                     \"ADMALS42\", \"ADMWLM42\",\n",
    "                     \"ADPAIN42\", \"ADCAPE42\", \"ADNRGY42\",\n",
    "                                 \"ADDOWN42\", \"ADSOCA42\",\n",
    "                             ]]\n",
    "for column in imp_cat:\n",
    "    imp_cat[column] = imp_cat[column].str.split(' ').str[0].astype(float)\n",
    "    \n"
   ]
  },
  {
   "cell_type": "code",
   "execution_count": 672,
   "metadata": {
    "collapsed": true
   },
   "outputs": [],
   "source": [
    "imp2 = imp.drop([\"HIBPDX\",\"STRKDX\",  \n",
    "                     \"CHOLDX\", \"CANCERDX\", \n",
    "                     \"DIABDX\", \"JTPAIN31\",\n",
    "                     \"JTPAIN53\", \"ADHDADDX\", \n",
    "                     \"ANYLIM12\", \"ADSMOK42\",\n",
    "                     \"ADMALS42\", \"ADMWLM42\",\n",
    "                     \"ADPAIN42\", \"ADCAPE42\", \"ADNRGY42\",\n",
    "                                 \"ADDOWN42\", \"ADSOCA42\",\n",
    "                             ],axis=1)"
   ]
  },
  {
   "cell_type": "code",
   "execution_count": 684,
   "metadata": {
    "collapsed": true
   },
   "outputs": [],
   "source": [
    "impdf = pd.concat([imp2, imp_cat],axis=1)"
   ]
  },
  {
   "cell_type": "code",
   "execution_count": 685,
   "metadata": {
    "collapsed": false,
    "scrolled": false
   },
   "outputs": [],
   "source": [
    "impdf = impdf.drop('ADNSMK42',axis = 1)"
   ]
  },
  {
   "cell_type": "code",
   "execution_count": 686,
   "metadata": {
    "collapsed": true
   },
   "outputs": [],
   "source": [
    "# load MEPS dataset with only a subset of columns - race, marriage\n",
    "# education, active duty, student, honorable discharge\n",
    "mp2 = pd.read_csv('consolidated.csv', \n",
    "                        usecols=[\"DUPERSID\", \"HISPANX\",\n",
    "                                 \"HISPCAT\",\"MARRY12X\", \n",
    "                                 \"HIDEG\", \"EDRECODE\",  \"FTSTU12X\",\n",
    "                                 \"ACTDTY42\", \"HONRDC42\"\n",
    "                             ])"
   ]
  },
  {
   "cell_type": "code",
   "execution_count": 687,
   "metadata": {
    "collapsed": true
   },
   "outputs": [],
   "source": [
    "mp3 = pd.read_csv('cls_lbl.csv')"
   ]
  },
  {
   "cell_type": "code",
   "execution_count": 688,
   "metadata": {
    "collapsed": true
   },
   "outputs": [],
   "source": [
    "impdf2 =  pd.merge(impdf, mp3, on=['DUPERSID', 'DUPERSID'])"
   ]
  },
  {
   "cell_type": "code",
   "execution_count": 690,
   "metadata": {
    "collapsed": true
   },
   "outputs": [],
   "source": [
    "impdf3 = pd.merge(impdf2,mp2,on=['DUPERSID', 'DUPERSID'],how='outer')"
   ]
  },
  {
   "cell_type": "code",
   "execution_count": 699,
   "metadata": {
    "collapsed": false,
    "scrolled": true
   },
   "outputs": [],
   "source": [
    "impdf3[\"HISPCAT\"] = impdf3[\"HISPCAT\"].str.split(' ').str[0].astype(float)\n",
    "impdf3[\"MARRY12X\"] = impdf3[\"MARRY12X\"].str.split(' ').str[0].astype(float)\n",
    "impdf3[\"HIDEG\"] = impdf3[\"HIDEG\"].str.split(' ').str[0].astype(float)\n",
    "impdf3[\"EDRECODE\"] = impdf3[\"EDRECODE\"].str.split(' ').str[0].astype(float)\n",
    "impdf3[\"FTSTU12X\"] = impdf3[\"FTSTU12X\"].str.split(' ').str[0].astype(float)\n",
    "impdf3[\"ACTDTY42\"] = impdf3[\"ACTDTY42\"].str.split(' ').str[0].astype(float)\n",
    "impdf3[\"HONRDC42\"] = impdf3[\"HONRDC42\"].str.split(' ').str[0].astype(float)\n",
    "impdf3[\"HISPANX\"] = impdf3[\"HISPANX\"].str.split(' ').str[0].astype(float)"
   ]
  },
  {
   "cell_type": "code",
   "execution_count": 701,
   "metadata": {
    "collapsed": false,
    "scrolled": true
   },
   "outputs": [
    {
     "name": "stderr",
     "output_type": "stream",
     "text": [
      "/Users/bstankev/anaconda/lib/python2.7/site-packages/ipykernel/__main__.py:2: SettingWithCopyWarning: \n",
      "A value is trying to be set on a copy of a slice from a DataFrame\n",
      "\n",
      "See the the caveats in the documentation: http://pandas.pydata.org/pandas-docs/stable/indexing.html#indexing-view-versus-copy\n",
      "  from ipykernel import kernelapp as app\n"
     ]
    }
   ],
   "source": [
    "for column in impdf3:\n",
    "    impdf3[column][(impdf3[column] < 0)] = np.nan"
   ]
  },
  {
   "cell_type": "code",
   "execution_count": 730,
   "metadata": {
    "collapsed": false
   },
   "outputs": [],
   "source": [
    "impdf3.OBVEXP12 = impdf3.OBVEXP12.fillna(0)\n",
    "impdf3.ERTEXP12 = impdf3.ERTEXP12.fillna(0)\n",
    "impdf3.RXEXP12 = impdf3.RXEXP12.fillna(0)\n",
    "impdf3.HHAEXP12 = impdf3.HHAEXP12.fillna(0)\n",
    "impdf3.IPTEXP12 = impdf3.IPTEXP12.fillna(0)\n",
    "impdf3.TOTEXP12 = impdf3.TOTEXP12.fillna(0)"
   ]
  },
  {
   "cell_type": "code",
   "execution_count": 731,
   "metadata": {
    "collapsed": false,
    "scrolled": true
   },
   "outputs": [
    {
     "data": {
      "text/plain": [
       "array([    0.,   451.,   127., ...,  3686.,  5026.,  4179.])"
      ]
     },
     "execution_count": 731,
     "metadata": {},
     "output_type": "execute_result"
    }
   ],
   "source": [
    "impdf3.OBVEXP12.unique()"
   ]
  },
  {
   "cell_type": "code",
   "execution_count": 732,
   "metadata": {
    "collapsed": false,
    "scrolled": false
   },
   "outputs": [
    {
     "data": {
      "text/plain": [
       "Index([u'DUID', u'PID', u'DUPERSID', u'HIBPAGED', u'STRKAGED', u'CHOLAGED', u'DIABAGED', u'ADHDAGED', u'BMINDX53', u'HIBPDX', u'STRKDX', u'CHOLDX', u'CANCERDX', u'DIABDX', u'JTPAIN31', u'JTPAIN53', u'ADHDADDX', u'ANYLIM12', u'ADSMOK42', u'ADMALS42', u'ADMWLM42', u'ADPAIN42', u'ADCAPE42', u'ADNRGY42', u'ADDOWN42', u'ADSOCA42', u'Unnamed: 0', u'DUID_x', u'PID_x', u'OBVTCH12', u'OBVEXP12', u'ERTTCH12', u'ERTEXP12', u'IPTTCH12', u'IPTEXP12', u'HHATCH12', u'HHAEXP12', u'RXEXP12', u'TOTTCH12', u'TOTEXP12', u'DUID_y', u'PID_y', u'AGELAST', u'SEX', u'RACEV1X', u'RTHLTH31', u'RTHLTH42', u'RTHLTH53', u'MNHLTH31', u'MNHLTH42', u'MNHLTH53', u'POVCAT12', u'POVLEV12', u'ageGrp', u'HLTHSTAT', u'MNHLTHSTAT', u'OBVGrp', u'OBVGrp2', u'HISPANX', u'HISPCAT', u'MARRY12X', u'HIDEG', u'EDRECODE', u'FTSTU12X', u'ACTDTY42', u'HONRDC42'], dtype='object')"
      ]
     },
     "execution_count": 732,
     "metadata": {},
     "output_type": "execute_result"
    }
   ],
   "source": [
    "cols = impdf3.columns\n",
    "cols"
   ]
  },
  {
   "cell_type": "code",
   "execution_count": 733,
   "metadata": {
    "collapsed": true
   },
   "outputs": [],
   "source": [
    "from sklearn.preprocessing import Imputer\n",
    "imp=Imputer(missing_values='NaN',strategy=\"median\",axis=0,copy=False)\n",
    "df_imp = imp.fit_transform(impdf3) "
   ]
  },
  {
   "cell_type": "code",
   "execution_count": 734,
   "metadata": {
    "collapsed": true
   },
   "outputs": [],
   "source": [
    "df_imp = pd.DataFrame(df_imp)"
   ]
  },
  {
   "cell_type": "code",
   "execution_count": 735,
   "metadata": {
    "collapsed": true
   },
   "outputs": [],
   "source": [
    "df_imp.columns = cols"
   ]
  },
  {
   "cell_type": "code",
   "execution_count": 736,
   "metadata": {
    "collapsed": false,
    "scrolled": true
   },
   "outputs": [
    {
     "data": {
      "text/html": [
       "<div style=\"max-height:1000px;max-width:1500px;overflow:auto;\">\n",
       "<table border=\"1\" class=\"dataframe\">\n",
       "  <thead>\n",
       "    <tr style=\"text-align: right;\">\n",
       "      <th></th>\n",
       "      <th>DUID</th>\n",
       "      <th>PID</th>\n",
       "      <th>DUPERSID</th>\n",
       "      <th>HIBPAGED</th>\n",
       "      <th>STRKAGED</th>\n",
       "      <th>CHOLAGED</th>\n",
       "      <th>DIABAGED</th>\n",
       "      <th>ADHDAGED</th>\n",
       "      <th>BMINDX53</th>\n",
       "      <th>HIBPDX</th>\n",
       "      <th>...</th>\n",
       "      <th>OBVGrp</th>\n",
       "      <th>OBVGrp2</th>\n",
       "      <th>HISPANX</th>\n",
       "      <th>HISPCAT</th>\n",
       "      <th>MARRY12X</th>\n",
       "      <th>HIDEG</th>\n",
       "      <th>EDRECODE</th>\n",
       "      <th>FTSTU12X</th>\n",
       "      <th>ACTDTY42</th>\n",
       "      <th>HONRDC42</th>\n",
       "    </tr>\n",
       "  </thead>\n",
       "  <tbody>\n",
       "    <tr>\n",
       "      <th>0</th>\n",
       "      <td>20004</td>\n",
       "      <td>101</td>\n",
       "      <td>20004101</td>\n",
       "      <td>46</td>\n",
       "      <td>58</td>\n",
       "      <td>50</td>\n",
       "      <td>50</td>\n",
       "      <td>7</td>\n",
       "      <td>30.6</td>\n",
       "      <td>2</td>\n",
       "      <td>...</td>\n",
       "      <td>1</td>\n",
       "      <td>1</td>\n",
       "      <td>1</td>\n",
       "      <td>5</td>\n",
       "      <td>1</td>\n",
       "      <td>3</td>\n",
       "      <td>14</td>\n",
       "      <td>2</td>\n",
       "      <td>2</td>\n",
       "      <td>2</td>\n",
       "    </tr>\n",
       "    <tr>\n",
       "      <th>1</th>\n",
       "      <td>20004</td>\n",
       "      <td>102</td>\n",
       "      <td>20004102</td>\n",
       "      <td>46</td>\n",
       "      <td>58</td>\n",
       "      <td>50</td>\n",
       "      <td>50</td>\n",
       "      <td>7</td>\n",
       "      <td>30.1</td>\n",
       "      <td>2</td>\n",
       "      <td>...</td>\n",
       "      <td>1</td>\n",
       "      <td>1</td>\n",
       "      <td>1</td>\n",
       "      <td>5</td>\n",
       "      <td>1</td>\n",
       "      <td>3</td>\n",
       "      <td>13</td>\n",
       "      <td>2</td>\n",
       "      <td>2</td>\n",
       "      <td>2</td>\n",
       "    </tr>\n",
       "    <tr>\n",
       "      <th>2</th>\n",
       "      <td>20004</td>\n",
       "      <td>103</td>\n",
       "      <td>20004103</td>\n",
       "      <td>46</td>\n",
       "      <td>58</td>\n",
       "      <td>50</td>\n",
       "      <td>50</td>\n",
       "      <td>7</td>\n",
       "      <td>27.0</td>\n",
       "      <td>2</td>\n",
       "      <td>...</td>\n",
       "      <td>1</td>\n",
       "      <td>1</td>\n",
       "      <td>1</td>\n",
       "      <td>5</td>\n",
       "      <td>6</td>\n",
       "      <td>3</td>\n",
       "      <td>2</td>\n",
       "      <td>2</td>\n",
       "      <td>3</td>\n",
       "      <td>3</td>\n",
       "    </tr>\n",
       "    <tr>\n",
       "      <th>3</th>\n",
       "      <td>20005</td>\n",
       "      <td>101</td>\n",
       "      <td>20005101</td>\n",
       "      <td>41</td>\n",
       "      <td>58</td>\n",
       "      <td>50</td>\n",
       "      <td>50</td>\n",
       "      <td>7</td>\n",
       "      <td>25.1</td>\n",
       "      <td>1</td>\n",
       "      <td>...</td>\n",
       "      <td>4</td>\n",
       "      <td>6</td>\n",
       "      <td>1</td>\n",
       "      <td>3</td>\n",
       "      <td>4</td>\n",
       "      <td>3</td>\n",
       "      <td>14</td>\n",
       "      <td>2</td>\n",
       "      <td>2</td>\n",
       "      <td>2</td>\n",
       "    </tr>\n",
       "    <tr>\n",
       "      <th>4</th>\n",
       "      <td>20005</td>\n",
       "      <td>102</td>\n",
       "      <td>20005102</td>\n",
       "      <td>46</td>\n",
       "      <td>58</td>\n",
       "      <td>50</td>\n",
       "      <td>50</td>\n",
       "      <td>7</td>\n",
       "      <td>21.3</td>\n",
       "      <td>2</td>\n",
       "      <td>...</td>\n",
       "      <td>2</td>\n",
       "      <td>3</td>\n",
       "      <td>1</td>\n",
       "      <td>3</td>\n",
       "      <td>5</td>\n",
       "      <td>3</td>\n",
       "      <td>14</td>\n",
       "      <td>1</td>\n",
       "      <td>2</td>\n",
       "      <td>2</td>\n",
       "    </tr>\n",
       "  </tbody>\n",
       "</table>\n",
       "<p>5 rows × 66 columns</p>\n",
       "</div>"
      ],
      "text/plain": [
       "    DUID  PID  DUPERSID  HIBPAGED  STRKAGED  CHOLAGED  DIABAGED  ADHDAGED  \\\n",
       "0  20004  101  20004101        46        58        50        50         7   \n",
       "1  20004  102  20004102        46        58        50        50         7   \n",
       "2  20004  103  20004103        46        58        50        50         7   \n",
       "3  20005  101  20005101        41        58        50        50         7   \n",
       "4  20005  102  20005102        46        58        50        50         7   \n",
       "\n",
       "   BMINDX53  HIBPDX    ...     OBVGrp  OBVGrp2  HISPANX  HISPCAT  MARRY12X  \\\n",
       "0      30.6       2    ...          1        1        1        5         1   \n",
       "1      30.1       2    ...          1        1        1        5         1   \n",
       "2      27.0       2    ...          1        1        1        5         6   \n",
       "3      25.1       1    ...          4        6        1        3         4   \n",
       "4      21.3       2    ...          2        3        1        3         5   \n",
       "\n",
       "   HIDEG  EDRECODE  FTSTU12X  ACTDTY42  HONRDC42  \n",
       "0      3        14         2         2         2  \n",
       "1      3        13         2         2         2  \n",
       "2      3         2         2         3         3  \n",
       "3      3        14         2         2         2  \n",
       "4      3        14         1         2         2  \n",
       "\n",
       "[5 rows x 66 columns]"
      ]
     },
     "execution_count": 736,
     "metadata": {},
     "output_type": "execute_result"
    }
   ],
   "source": [
    "df_imp.head()"
   ]
  },
  {
   "cell_type": "markdown",
   "metadata": {},
   "source": [
    "# Save Imputed, merged, full dataset to imp.csv"
   ]
  },
  {
   "cell_type": "code",
   "execution_count": 737,
   "metadata": {
    "collapsed": false
   },
   "outputs": [],
   "source": [
    "# save to csv\n",
    "df_imp.to_csv('imp.csv')"
   ]
  },
  {
   "cell_type": "code",
   "execution_count": null,
   "metadata": {
    "collapsed": true
   },
   "outputs": [],
   "source": []
  }
 ],
 "metadata": {
  "kernelspec": {
   "display_name": "Python 2",
   "language": "python",
   "name": "python2"
  },
  "language_info": {
   "codemirror_mode": {
    "name": "ipython",
    "version": 2
   },
   "file_extension": ".py",
   "mimetype": "text/x-python",
   "name": "python",
   "nbconvert_exporter": "python",
   "pygments_lexer": "ipython2",
   "version": "2.7.10"
  }
 },
 "nbformat": 4,
 "nbformat_minor": 0
}
