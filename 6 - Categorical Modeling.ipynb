{
 "cells": [
  {
   "cell_type": "markdown",
   "metadata": {},
   "source": [
    "# Import Non-Imputed data for Categorical Modeling"
   ]
  },
  {
   "cell_type": "code",
   "execution_count": 1,
   "metadata": {
    "collapsed": true
   },
   "outputs": [],
   "source": [
    "%matplotlib inline\n",
    "import pandas as pd\n",
    "import numpy as np\n",
    "import matplotlib.pyplot as plt\n",
    "import seaborn as sns"
   ]
  },
  {
   "cell_type": "code",
   "execution_count": 2,
   "metadata": {
    "collapsed": false
   },
   "outputs": [
    {
     "name": "stdout",
     "output_type": "stream",
     "text": [
      "/Users/bstankev/Desktop/Insight/2012_MEPS\n"
     ]
    }
   ],
   "source": [
    "cd ../Desktop/Insight/2012_MEPS/"
   ]
  },
  {
   "cell_type": "code",
   "execution_count": 17,
   "metadata": {
    "collapsed": true
   },
   "outputs": [],
   "source": [
    "df = pd.read_csv('feat_new.csv')"
   ]
  },
  {
   "cell_type": "code",
   "execution_count": 18,
   "metadata": {
    "collapsed": false,
    "scrolled": true
   },
   "outputs": [
    {
     "data": {
      "text/html": [
       "<div style=\"max-height:1000px;max-width:1500px;overflow:auto;\">\n",
       "<table border=\"1\" class=\"dataframe\">\n",
       "  <thead>\n",
       "    <tr style=\"text-align: right;\">\n",
       "      <th></th>\n",
       "      <th>Unnamed: 0</th>\n",
       "      <th>Unnamed: 0.1</th>\n",
       "      <th>DUID_x</th>\n",
       "      <th>PID_x</th>\n",
       "      <th>DUPERSID</th>\n",
       "      <th>OBVTCH12</th>\n",
       "      <th>OBVEXP12</th>\n",
       "      <th>ERTTCH12</th>\n",
       "      <th>ERTEXP12</th>\n",
       "      <th>IPTTCH12</th>\n",
       "      <th>...</th>\n",
       "      <th>ADHDADDX</th>\n",
       "      <th>ANYLIM12</th>\n",
       "      <th>ADSMOK42</th>\n",
       "      <th>ADMALS42</th>\n",
       "      <th>ADMWLM42</th>\n",
       "      <th>ADPAIN42</th>\n",
       "      <th>ADCAPE42</th>\n",
       "      <th>ADNRGY42</th>\n",
       "      <th>ADDOWN42</th>\n",
       "      <th>ADSOCA42</th>\n",
       "    </tr>\n",
       "  </thead>\n",
       "  <tbody>\n",
       "    <tr>\n",
       "      <th>0</th>\n",
       "      <td>0</td>\n",
       "      <td>0</td>\n",
       "      <td>20004</td>\n",
       "      <td>101</td>\n",
       "      <td>20004101</td>\n",
       "      <td>NaN</td>\n",
       "      <td>NaN</td>\n",
       "      <td>NaN</td>\n",
       "      <td>NaN</td>\n",
       "      <td>NaN</td>\n",
       "      <td>...</td>\n",
       "      <td>0</td>\n",
       "      <td>2</td>\n",
       "      <td>2</td>\n",
       "      <td>3</td>\n",
       "      <td>3</td>\n",
       "      <td>1</td>\n",
       "      <td>2</td>\n",
       "      <td>3</td>\n",
       "      <td>4</td>\n",
       "      <td>5</td>\n",
       "    </tr>\n",
       "    <tr>\n",
       "      <th>1</th>\n",
       "      <td>1</td>\n",
       "      <td>1</td>\n",
       "      <td>20004</td>\n",
       "      <td>102</td>\n",
       "      <td>20004102</td>\n",
       "      <td>NaN</td>\n",
       "      <td>NaN</td>\n",
       "      <td>NaN</td>\n",
       "      <td>NaN</td>\n",
       "      <td>NaN</td>\n",
       "      <td>...</td>\n",
       "      <td>0</td>\n",
       "      <td>2</td>\n",
       "      <td>2</td>\n",
       "      <td>3</td>\n",
       "      <td>5</td>\n",
       "      <td>1</td>\n",
       "      <td>3</td>\n",
       "      <td>3</td>\n",
       "      <td>4</td>\n",
       "      <td>5</td>\n",
       "    </tr>\n",
       "    <tr>\n",
       "      <th>2</th>\n",
       "      <td>2</td>\n",
       "      <td>2</td>\n",
       "      <td>20004</td>\n",
       "      <td>103</td>\n",
       "      <td>20004103</td>\n",
       "      <td>NaN</td>\n",
       "      <td>NaN</td>\n",
       "      <td>NaN</td>\n",
       "      <td>NaN</td>\n",
       "      <td>NaN</td>\n",
       "      <td>...</td>\n",
       "      <td>2</td>\n",
       "      <td>2</td>\n",
       "      <td>0</td>\n",
       "      <td>0</td>\n",
       "      <td>0</td>\n",
       "      <td>0</td>\n",
       "      <td>0</td>\n",
       "      <td>0</td>\n",
       "      <td>0</td>\n",
       "      <td>0</td>\n",
       "    </tr>\n",
       "    <tr>\n",
       "      <th>3</th>\n",
       "      <td>3</td>\n",
       "      <td>3</td>\n",
       "      <td>20005</td>\n",
       "      <td>101</td>\n",
       "      <td>20005101</td>\n",
       "      <td>1100</td>\n",
       "      <td>451</td>\n",
       "      <td>NaN</td>\n",
       "      <td>NaN</td>\n",
       "      <td>NaN</td>\n",
       "      <td>...</td>\n",
       "      <td>0</td>\n",
       "      <td>1</td>\n",
       "      <td>2</td>\n",
       "      <td>1</td>\n",
       "      <td>5</td>\n",
       "      <td>5</td>\n",
       "      <td>3</td>\n",
       "      <td>4</td>\n",
       "      <td>2</td>\n",
       "      <td>2</td>\n",
       "    </tr>\n",
       "    <tr>\n",
       "      <th>4</th>\n",
       "      <td>4</td>\n",
       "      <td>4</td>\n",
       "      <td>20005</td>\n",
       "      <td>102</td>\n",
       "      <td>20005102</td>\n",
       "      <td>490</td>\n",
       "      <td>127</td>\n",
       "      <td>NaN</td>\n",
       "      <td>NaN</td>\n",
       "      <td>NaN</td>\n",
       "      <td>...</td>\n",
       "      <td>0</td>\n",
       "      <td>2</td>\n",
       "      <td>2</td>\n",
       "      <td>5</td>\n",
       "      <td>5</td>\n",
       "      <td>1</td>\n",
       "      <td>1</td>\n",
       "      <td>1</td>\n",
       "      <td>5</td>\n",
       "      <td>5</td>\n",
       "    </tr>\n",
       "  </tbody>\n",
       "</table>\n",
       "<p>5 rows × 69 columns</p>\n",
       "</div>"
      ],
      "text/plain": [
       "   Unnamed: 0  Unnamed: 0.1  DUID_x  PID_x  DUPERSID  OBVTCH12  OBVEXP12  \\\n",
       "0           0             0   20004    101  20004101       NaN       NaN   \n",
       "1           1             1   20004    102  20004102       NaN       NaN   \n",
       "2           2             2   20004    103  20004103       NaN       NaN   \n",
       "3           3             3   20005    101  20005101      1100       451   \n",
       "4           4             4   20005    102  20005102       490       127   \n",
       "\n",
       "   ERTTCH12  ERTEXP12  IPTTCH12    ...     ADHDADDX  ANYLIM12  ADSMOK42  \\\n",
       "0       NaN       NaN       NaN    ...            0         2         2   \n",
       "1       NaN       NaN       NaN    ...            0         2         2   \n",
       "2       NaN       NaN       NaN    ...            2         2         0   \n",
       "3       NaN       NaN       NaN    ...            0         1         2   \n",
       "4       NaN       NaN       NaN    ...            0         2         2   \n",
       "\n",
       "   ADMALS42  ADMWLM42  ADPAIN42  ADCAPE42  ADNRGY42  ADDOWN42  ADSOCA42  \n",
       "0         3         3         1         2         3         4         5  \n",
       "1         3         5         1         3         3         4         5  \n",
       "2         0         0         0         0         0         0         0  \n",
       "3         1         5         5         3         4         2         2  \n",
       "4         5         5         1         1         1         5         5  \n",
       "\n",
       "[5 rows x 69 columns]"
      ]
     },
     "execution_count": 18,
     "metadata": {},
     "output_type": "execute_result"
    }
   ],
   "source": [
    "df.head()"
   ]
  },
  {
   "cell_type": "code",
   "execution_count": 19,
   "metadata": {
    "collapsed": false
   },
   "outputs": [
    {
     "data": {
      "text/plain": [
       "38974"
      ]
     },
     "execution_count": 19,
     "metadata": {},
     "output_type": "execute_result"
    }
   ],
   "source": [
    "len(df)"
   ]
  },
  {
   "cell_type": "markdown",
   "metadata": {},
   "source": [
    "# Create Categorical columns for spend or not (yes, no)"
   ]
  },
  {
   "cell_type": "code",
   "execution_count": 20,
   "metadata": {
    "collapsed": true
   },
   "outputs": [],
   "source": [
    "df['OBVEXPcat'] = np.where(df['OBVEXP12']>0, 1, 0)\n",
    "df['ERTEXPcat'] = np.where(df['ERTEXP12']>0, 1, 0)\n",
    "df['HHAEXPcat'] = np.where(df['HHAEXP12']>0, 1, 0)\n",
    "df['IPTEXPcat'] = np.where(df['IPTEXP12']>0, 1, 0)\n",
    "df['RXEXPcat'] = np.where(df['RXEXP12']>0, 1, 0)\n",
    "df['TOTEXPcat'] = np.where(df['TOTEXP12']>0, 1, 0)"
   ]
  },
  {
   "cell_type": "code",
   "execution_count": 21,
   "metadata": {
    "collapsed": false
   },
   "outputs": [
    {
     "data": {
      "text/html": [
       "<div style=\"max-height:1000px;max-width:1500px;overflow:auto;\">\n",
       "<table border=\"1\" class=\"dataframe\">\n",
       "  <thead>\n",
       "    <tr style=\"text-align: right;\">\n",
       "      <th></th>\n",
       "      <th>Unnamed: 0</th>\n",
       "      <th>Unnamed: 0.1</th>\n",
       "      <th>DUID_x</th>\n",
       "      <th>PID_x</th>\n",
       "      <th>DUPERSID</th>\n",
       "      <th>OBVTCH12</th>\n",
       "      <th>OBVEXP12</th>\n",
       "      <th>ERTTCH12</th>\n",
       "      <th>ERTEXP12</th>\n",
       "      <th>IPTTCH12</th>\n",
       "      <th>...</th>\n",
       "      <th>ADCAPE42</th>\n",
       "      <th>ADNRGY42</th>\n",
       "      <th>ADDOWN42</th>\n",
       "      <th>ADSOCA42</th>\n",
       "      <th>OBVEXPcat</th>\n",
       "      <th>ERTEXPcat</th>\n",
       "      <th>HHAEXPcat</th>\n",
       "      <th>IPTEXPcat</th>\n",
       "      <th>RXEXPcat</th>\n",
       "      <th>TOTEXPcat</th>\n",
       "    </tr>\n",
       "  </thead>\n",
       "  <tbody>\n",
       "    <tr>\n",
       "      <th>0</th>\n",
       "      <td>0</td>\n",
       "      <td>0</td>\n",
       "      <td>20004</td>\n",
       "      <td>101</td>\n",
       "      <td>20004101</td>\n",
       "      <td>NaN</td>\n",
       "      <td>NaN</td>\n",
       "      <td>NaN</td>\n",
       "      <td>NaN</td>\n",
       "      <td>NaN</td>\n",
       "      <td>...</td>\n",
       "      <td>2</td>\n",
       "      <td>3</td>\n",
       "      <td>4</td>\n",
       "      <td>5</td>\n",
       "      <td>0</td>\n",
       "      <td>0</td>\n",
       "      <td>0</td>\n",
       "      <td>0</td>\n",
       "      <td>0</td>\n",
       "      <td>0</td>\n",
       "    </tr>\n",
       "    <tr>\n",
       "      <th>1</th>\n",
       "      <td>1</td>\n",
       "      <td>1</td>\n",
       "      <td>20004</td>\n",
       "      <td>102</td>\n",
       "      <td>20004102</td>\n",
       "      <td>NaN</td>\n",
       "      <td>NaN</td>\n",
       "      <td>NaN</td>\n",
       "      <td>NaN</td>\n",
       "      <td>NaN</td>\n",
       "      <td>...</td>\n",
       "      <td>3</td>\n",
       "      <td>3</td>\n",
       "      <td>4</td>\n",
       "      <td>5</td>\n",
       "      <td>0</td>\n",
       "      <td>0</td>\n",
       "      <td>0</td>\n",
       "      <td>0</td>\n",
       "      <td>0</td>\n",
       "      <td>0</td>\n",
       "    </tr>\n",
       "    <tr>\n",
       "      <th>2</th>\n",
       "      <td>2</td>\n",
       "      <td>2</td>\n",
       "      <td>20004</td>\n",
       "      <td>103</td>\n",
       "      <td>20004103</td>\n",
       "      <td>NaN</td>\n",
       "      <td>NaN</td>\n",
       "      <td>NaN</td>\n",
       "      <td>NaN</td>\n",
       "      <td>NaN</td>\n",
       "      <td>...</td>\n",
       "      <td>0</td>\n",
       "      <td>0</td>\n",
       "      <td>0</td>\n",
       "      <td>0</td>\n",
       "      <td>0</td>\n",
       "      <td>0</td>\n",
       "      <td>0</td>\n",
       "      <td>0</td>\n",
       "      <td>0</td>\n",
       "      <td>1</td>\n",
       "    </tr>\n",
       "    <tr>\n",
       "      <th>3</th>\n",
       "      <td>3</td>\n",
       "      <td>3</td>\n",
       "      <td>20005</td>\n",
       "      <td>101</td>\n",
       "      <td>20005101</td>\n",
       "      <td>1100</td>\n",
       "      <td>451</td>\n",
       "      <td>NaN</td>\n",
       "      <td>NaN</td>\n",
       "      <td>NaN</td>\n",
       "      <td>...</td>\n",
       "      <td>3</td>\n",
       "      <td>4</td>\n",
       "      <td>2</td>\n",
       "      <td>2</td>\n",
       "      <td>1</td>\n",
       "      <td>0</td>\n",
       "      <td>0</td>\n",
       "      <td>0</td>\n",
       "      <td>1</td>\n",
       "      <td>1</td>\n",
       "    </tr>\n",
       "    <tr>\n",
       "      <th>4</th>\n",
       "      <td>4</td>\n",
       "      <td>4</td>\n",
       "      <td>20005</td>\n",
       "      <td>102</td>\n",
       "      <td>20005102</td>\n",
       "      <td>490</td>\n",
       "      <td>127</td>\n",
       "      <td>NaN</td>\n",
       "      <td>NaN</td>\n",
       "      <td>NaN</td>\n",
       "      <td>...</td>\n",
       "      <td>1</td>\n",
       "      <td>1</td>\n",
       "      <td>5</td>\n",
       "      <td>5</td>\n",
       "      <td>1</td>\n",
       "      <td>0</td>\n",
       "      <td>0</td>\n",
       "      <td>0</td>\n",
       "      <td>0</td>\n",
       "      <td>1</td>\n",
       "    </tr>\n",
       "  </tbody>\n",
       "</table>\n",
       "<p>5 rows × 75 columns</p>\n",
       "</div>"
      ],
      "text/plain": [
       "   Unnamed: 0  Unnamed: 0.1  DUID_x  PID_x  DUPERSID  OBVTCH12  OBVEXP12  \\\n",
       "0           0             0   20004    101  20004101       NaN       NaN   \n",
       "1           1             1   20004    102  20004102       NaN       NaN   \n",
       "2           2             2   20004    103  20004103       NaN       NaN   \n",
       "3           3             3   20005    101  20005101      1100       451   \n",
       "4           4             4   20005    102  20005102       490       127   \n",
       "\n",
       "   ERTTCH12  ERTEXP12  IPTTCH12    ...      ADCAPE42  ADNRGY42  ADDOWN42  \\\n",
       "0       NaN       NaN       NaN    ...             2         3         4   \n",
       "1       NaN       NaN       NaN    ...             3         3         4   \n",
       "2       NaN       NaN       NaN    ...             0         0         0   \n",
       "3       NaN       NaN       NaN    ...             3         4         2   \n",
       "4       NaN       NaN       NaN    ...             1         1         5   \n",
       "\n",
       "   ADSOCA42  OBVEXPcat  ERTEXPcat  HHAEXPcat  IPTEXPcat  RXEXPcat  TOTEXPcat  \n",
       "0         5          0          0          0          0         0          0  \n",
       "1         5          0          0          0          0         0          0  \n",
       "2         0          0          0          0          0         0          1  \n",
       "3         2          1          0          0          0         1          1  \n",
       "4         5          1          0          0          0         0          1  \n",
       "\n",
       "[5 rows x 75 columns]"
      ]
     },
     "execution_count": 21,
     "metadata": {},
     "output_type": "execute_result"
    }
   ],
   "source": [
    "df.head()"
   ]
  },
  {
   "cell_type": "markdown",
   "metadata": {},
   "source": [
    "# Create Feature & class arrays for each expenditure type\n",
    "\n",
    "Taking into account best features for each model"
   ]
  },
  {
   "cell_type": "markdown",
   "metadata": {},
   "source": [
    "### Office based visits"
   ]
  },
  {
   "cell_type": "code",
   "execution_count": 22,
   "metadata": {
    "collapsed": true
   },
   "outputs": [],
   "source": [
    "obX = df[['POVLEV12','HLTHSTAT',\"BMINDX53\",\"HIBPAGED\",\n",
    "            \"STRKAGED\",'MNHLTHSTAT',\"DIABAGED\",'AGELAST',\n",
    "            \"ADPAIN42\",\"CHOLAGED\", \"ADCAPE42\", 'EDRECODE',\n",
    "            \"ADNRGY42\"]]\n",
    "obX0 = obX.fillna(0)\n",
    "\n",
    "obY = df['OBVEXPcat']"
   ]
  },
  {
   "cell_type": "markdown",
   "metadata": {},
   "source": [
    "### Scale continuous & categorical (ordinal) features"
   ]
  },
  {
   "cell_type": "markdown",
   "metadata": {},
   "source": [
    "### Office-based visits"
   ]
  },
  {
   "cell_type": "code",
   "execution_count": 23,
   "metadata": {
    "collapsed": true
   },
   "outputs": [],
   "source": [
    "# re-scale (normalize) continuous  & categorical (ordinal) data\n",
    "from sklearn import preprocessing\n",
    "\n",
    "obX1 = preprocessing.StandardScaler().fit(obX0)\n",
    "obX1 = obX1.transform(obX0)"
   ]
  },
  {
   "cell_type": "code",
   "execution_count": 24,
   "metadata": {
    "collapsed": false
   },
   "outputs": [
    {
     "data": {
      "text/plain": [
       "array([0, 1])"
      ]
     },
     "execution_count": 24,
     "metadata": {},
     "output_type": "execute_result"
    }
   ],
   "source": [
    "obY.unique()"
   ]
  },
  {
   "cell_type": "markdown",
   "metadata": {},
   "source": [
    "### Model Round 1 - LogisticRegression"
   ]
  },
  {
   "cell_type": "markdown",
   "metadata": {},
   "source": [
    "### Office-based visits"
   ]
  },
  {
   "cell_type": "code",
   "execution_count": 25,
   "metadata": {
    "collapsed": false
   },
   "outputs": [
    {
     "data": {
      "text/plain": [
       "LogisticRegression(C=1.0, class_weight=None, dual=False, fit_intercept=True,\n",
       "          intercept_scaling=1, penalty='l2', random_state=None, tol=0.0001)"
      ]
     },
     "execution_count": 25,
     "metadata": {},
     "output_type": "execute_result"
    }
   ],
   "source": [
    "from sklearn import metrics\n",
    "from sklearn.linear_model import LogisticRegression\n",
    "from sklearn.cross_validation import train_test_split\n",
    "\n",
    "rng = np.random.RandomState(42)\n",
    "obx_train, obx_test, oby_train, oby_test = train_test_split(obX1,obY, random_state=rng)\n",
    "\n",
    "model = LogisticRegression()\n",
    "model.fit(obx_train, oby_train)"
   ]
  },
  {
   "cell_type": "code",
   "execution_count": 26,
   "metadata": {
    "collapsed": false
   },
   "outputs": [
    {
     "name": "stdout",
     "output_type": "stream",
     "text": [
      "             precision    recall  f1-score   support\n",
      "\n",
      "          0       0.60      0.38      0.46      3612\n",
      "          1       0.70      0.85      0.77      6132\n",
      "\n",
      "avg / total       0.66      0.68      0.65      9744\n",
      "\n",
      "[[1356 2256]\n",
      " [ 899 5233]]\n"
     ]
    }
   ],
   "source": [
    "# make predictions\n",
    "expected = oby_test\n",
    "predicted = model.predict(obx_test)\n",
    "# summarize the fit of the model\n",
    "print(metrics.classification_report(expected, predicted))\n",
    "print(metrics.confusion_matrix(expected, predicted))"
   ]
  },
  {
   "cell_type": "code",
   "execution_count": 29,
   "metadata": {
    "collapsed": false,
    "scrolled": true
   },
   "outputs": [
    {
     "name": "stdout",
     "output_type": "stream",
     "text": [
      "[[ 0.24102949  0.75897051]\n",
      " [ 0.5114778   0.4885222 ]\n",
      " [ 0.62098244  0.37901756]\n",
      " ..., \n",
      " [ 0.37211228  0.62788772]\n",
      " [ 0.18691837  0.81308163]\n",
      " [ 0.3726148   0.6273852 ]]\n"
     ]
    }
   ],
   "source": [
    "print model.predict_proba(obx_test)"
   ]
  },
  {
   "cell_type": "code",
   "execution_count": 32,
   "metadata": {
    "collapsed": false
   },
   "outputs": [
    {
     "name": "stdout",
     "output_type": "stream",
     "text": [
      "accuracy:   0.676\n"
     ]
    }
   ],
   "source": [
    "score = metrics.accuracy_score(oby_test, predicted)\n",
    "print(\"accuracy:   %0.3f\" % score)"
   ]
  },
  {
   "cell_type": "code",
   "execution_count": 143,
   "metadata": {
    "collapsed": false,
    "scrolled": true
   },
   "outputs": [
    {
     "data": {
      "text/html": [
       "<div style=\"max-height:1000px;max-width:1500px;overflow:auto;\">\n",
       "<table border=\"1\" class=\"dataframe\">\n",
       "  <thead>\n",
       "    <tr style=\"text-align: right;\">\n",
       "      <th></th>\n",
       "      <th>Unnamed: 0</th>\n",
       "      <th>Unnamed: 0.1</th>\n",
       "      <th>DUID_x</th>\n",
       "      <th>PID_x</th>\n",
       "      <th>DUPERSID</th>\n",
       "      <th>OBVTCH12</th>\n",
       "      <th>OBVEXP12</th>\n",
       "      <th>ERTTCH12</th>\n",
       "      <th>ERTEXP12</th>\n",
       "      <th>IPTTCH12</th>\n",
       "      <th>...</th>\n",
       "      <th>ADPAIN42</th>\n",
       "      <th>ADCAPE42</th>\n",
       "      <th>ADNRGY42</th>\n",
       "      <th>ADDOWN42</th>\n",
       "      <th>ADSOCA42</th>\n",
       "      <th>ERTEXPcat</th>\n",
       "      <th>HHAEXPcat</th>\n",
       "      <th>IPTEXPcat</th>\n",
       "      <th>RXEXPcat</th>\n",
       "      <th>TOTEXPcat</th>\n",
       "    </tr>\n",
       "    <tr>\n",
       "      <th>OBVEXPcat</th>\n",
       "      <th></th>\n",
       "      <th></th>\n",
       "      <th></th>\n",
       "      <th></th>\n",
       "      <th></th>\n",
       "      <th></th>\n",
       "      <th></th>\n",
       "      <th></th>\n",
       "      <th></th>\n",
       "      <th></th>\n",
       "      <th></th>\n",
       "      <th></th>\n",
       "      <th></th>\n",
       "      <th></th>\n",
       "      <th></th>\n",
       "      <th></th>\n",
       "      <th></th>\n",
       "      <th></th>\n",
       "      <th></th>\n",
       "      <th></th>\n",
       "      <th></th>\n",
       "    </tr>\n",
       "  </thead>\n",
       "  <tbody>\n",
       "    <tr>\n",
       "      <th>0</th>\n",
       "      <td>14700</td>\n",
       "      <td>14700</td>\n",
       "      <td>14700</td>\n",
       "      <td>14700</td>\n",
       "      <td>14700</td>\n",
       "      <td>322</td>\n",
       "      <td>0</td>\n",
       "      <td>1007</td>\n",
       "      <td>926</td>\n",
       "      <td>259</td>\n",
       "      <td>...</td>\n",
       "      <td>14700</td>\n",
       "      <td>14700</td>\n",
       "      <td>14700</td>\n",
       "      <td>14700</td>\n",
       "      <td>14700</td>\n",
       "      <td>14700</td>\n",
       "      <td>14700</td>\n",
       "      <td>14700</td>\n",
       "      <td>14700</td>\n",
       "      <td>14700</td>\n",
       "    </tr>\n",
       "    <tr>\n",
       "      <th>1</th>\n",
       "      <td>24274</td>\n",
       "      <td>24274</td>\n",
       "      <td>24274</td>\n",
       "      <td>24274</td>\n",
       "      <td>24274</td>\n",
       "      <td>24274</td>\n",
       "      <td>24274</td>\n",
       "      <td>3792</td>\n",
       "      <td>3701</td>\n",
       "      <td>2121</td>\n",
       "      <td>...</td>\n",
       "      <td>24274</td>\n",
       "      <td>24274</td>\n",
       "      <td>24274</td>\n",
       "      <td>24274</td>\n",
       "      <td>24274</td>\n",
       "      <td>24274</td>\n",
       "      <td>24274</td>\n",
       "      <td>24274</td>\n",
       "      <td>24274</td>\n",
       "      <td>24274</td>\n",
       "    </tr>\n",
       "  </tbody>\n",
       "</table>\n",
       "<p>2 rows × 74 columns</p>\n",
       "</div>"
      ],
      "text/plain": [
       "           Unnamed: 0  Unnamed: 0.1  DUID_x  PID_x  DUPERSID  OBVTCH12  \\\n",
       "OBVEXPcat                                                                \n",
       "0               14700         14700   14700  14700     14700       322   \n",
       "1               24274         24274   24274  24274     24274     24274   \n",
       "\n",
       "           OBVEXP12  ERTTCH12  ERTEXP12  IPTTCH12    ...      ADPAIN42  \\\n",
       "OBVEXPcat                                            ...                 \n",
       "0                 0      1007       926       259    ...         14700   \n",
       "1             24274      3792      3701      2121    ...         24274   \n",
       "\n",
       "           ADCAPE42  ADNRGY42  ADDOWN42  ADSOCA42  ERTEXPcat  HHAEXPcat  \\\n",
       "OBVEXPcat                                                                 \n",
       "0             14700     14700     14700     14700      14700      14700   \n",
       "1             24274     24274     24274     24274      24274      24274   \n",
       "\n",
       "           IPTEXPcat  RXEXPcat  TOTEXPcat  \n",
       "OBVEXPcat                                  \n",
       "0              14700     14700      14700  \n",
       "1              24274     24274      24274  \n",
       "\n",
       "[2 rows x 74 columns]"
      ]
     },
     "execution_count": 143,
     "metadata": {},
     "output_type": "execute_result"
    }
   ],
   "source": [
    "df.groupby('OBVEXPcat').count()"
   ]
  },
  {
   "cell_type": "code",
   "execution_count": 144,
   "metadata": {
    "collapsed": false
   },
   "outputs": [
    {
     "data": {
      "text/plain": [
       "RandomForestClassifier(bootstrap=True, compute_importances=None,\n",
       "            criterion='gini', max_depth=7, max_features=0.5,\n",
       "            max_leaf_nodes=None, min_density=None, min_samples_leaf=2,\n",
       "            min_samples_split=2, n_estimators=100, n_jobs=100,\n",
       "            oob_score=True, random_state=None, verbose=0)"
      ]
     },
     "execution_count": 144,
     "metadata": {},
     "output_type": "execute_result"
    }
   ],
   "source": [
    "from sklearn.ensemble import RandomForestClassifier\n",
    "\n",
    "# split the data\n",
    "xro_train, xro_test, yro_train, yro_test = train_test_split(obX1, obY, random_state=42)\n",
    "\n",
    "sw = np.array([2 if i == 0 else 1 for i in yro_train])\n",
    "\n",
    "ro2 = RandomForestClassifier(n_estimators=100, oob_score=True,n_jobs=100, \n",
    "                              max_features=0.5, max_depth=7, min_samples_leaf=2)\n",
    "ro2.fit(xro_train,yro_train,sample_weight=sw)"
   ]
  },
  {
   "cell_type": "code",
   "execution_count": 145,
   "metadata": {
    "collapsed": false
   },
   "outputs": [
    {
     "name": "stdout",
     "output_type": "stream",
     "text": [
      "             precision    recall  f1-score   support\n",
      "\n",
      "          0       0.50      0.81      0.62      3612\n",
      "          1       0.83      0.53      0.64      6132\n",
      "\n",
      "avg / total       0.71      0.63      0.64      9744\n",
      "\n",
      "[[2930  682]\n",
      " [2898 3234]]\n",
      "accuracy:   0.633\n"
     ]
    }
   ],
   "source": [
    "# make predictions\n",
    "expected = yro_test\n",
    "predicted = ro2.predict(xro_test)\n",
    "# summarize the fit of the model\n",
    "print(metrics.classification_report(expected, predicted))\n",
    "print(metrics.confusion_matrix(expected, predicted))\n",
    "score = metrics.accuracy_score(yro_test, predicted)\n",
    "print(\"accuracy:   %0.3f\" % score)"
   ]
  },
  {
   "cell_type": "markdown",
   "metadata": {},
   "source": [
    "### ER Visits"
   ]
  },
  {
   "cell_type": "code",
   "execution_count": 35,
   "metadata": {
    "collapsed": false
   },
   "outputs": [],
   "source": [
    "erX = df[['POVLEV12','HLTHSTAT',\"BMINDX53\",\"HIBPAGED\",\n",
    "            \"STRKAGED\",'MNHLTHSTAT',\"DIABAGED\",'AGELAST',\n",
    "            \"ADPAIN42\",\"CHOLAGED\", \"ADCAPE42\", 'EDRECODE',\n",
    "            \"ADNRGY42\",'ACTDTY53','MARRY12X']]\n",
    "erX0 = erX.fillna(0)\n",
    "# re-scale (normalize) continuous  & categorical (ordinal) data\n",
    "erX1 = preprocessing.StandardScaler().fit(erX0[['POVLEV12','HLTHSTAT',\"BMINDX53\",\"HIBPAGED\",\n",
    "            \"STRKAGED\",'MNHLTHSTAT',\"DIABAGED\",'AGELAST',\n",
    "            \"ADPAIN42\",\"CHOLAGED\", \"ADCAPE42\", 'EDRECODE',\n",
    "            \"ADNRGY42\"]])\n",
    "erX1 = erX1.transform(erX0[['POVLEV12','HLTHSTAT',\"BMINDX53\",\"HIBPAGED\",\n",
    "            \"STRKAGED\",'MNHLTHSTAT',\"DIABAGED\",'AGELAST',\n",
    "            \"ADPAIN42\",\"CHOLAGED\", \"ADCAPE42\", 'EDRECODE',\n",
    "            \"ADNRGY42\"]])\n",
    "\n",
    "erX2 = np.append(erX1,erX0[['ACTDTY53','MARRY12X']], axis=1)\n",
    "\n",
    "\n",
    "erY = df['ERTEXPcat']"
   ]
  },
  {
   "cell_type": "code",
   "execution_count": 36,
   "metadata": {
    "collapsed": false
   },
   "outputs": [
    {
     "data": {
      "text/plain": [
       "LogisticRegression(C=1.0, class_weight=None, dual=False, fit_intercept=True,\n",
       "          intercept_scaling=1, penalty='l2', random_state=None, tol=0.0001)"
      ]
     },
     "execution_count": 36,
     "metadata": {},
     "output_type": "execute_result"
    }
   ],
   "source": [
    "rng = np.random.RandomState(42)\n",
    "erx_train, erx_test, ery_train, ery_test = train_test_split(erX2,erY, random_state=rng)\n",
    "\n",
    "model = LogisticRegression()\n",
    "model.fit(erx_train, ery_train)"
   ]
  },
  {
   "cell_type": "code",
   "execution_count": 37,
   "metadata": {
    "collapsed": false
   },
   "outputs": [
    {
     "name": "stdout",
     "output_type": "stream",
     "text": [
      "             precision    recall  f1-score   support\n",
      "\n",
      "          0       0.88      1.00      0.94      8604\n",
      "          1       0.32      0.01      0.02      1140\n",
      "\n",
      "avg / total       0.82      0.88      0.83      9744\n",
      "\n",
      "[[8576   28]\n",
      " [1127   13]]\n"
     ]
    }
   ],
   "source": [
    "# make predictions\n",
    "expected = ery_test\n",
    "predicted = model.predict(erx_test)\n",
    "# summarize the fit of the model\n",
    "print(metrics.classification_report(expected, predicted))\n",
    "print(metrics.confusion_matrix(expected, predicted))"
   ]
  },
  {
   "cell_type": "code",
   "execution_count": 38,
   "metadata": {
    "collapsed": false,
    "scrolled": true
   },
   "outputs": [
    {
     "name": "stdout",
     "output_type": "stream",
     "text": [
      "accuracy:   0.881\n"
     ]
    }
   ],
   "source": [
    "score = metrics.accuracy_score(ery_test, predicted)\n",
    "print(\"accuracy:   %0.3f\" % score)"
   ]
  },
  {
   "cell_type": "code",
   "execution_count": 137,
   "metadata": {
    "collapsed": false,
    "scrolled": true
   },
   "outputs": [
    {
     "data": {
      "text/html": [
       "<div style=\"max-height:1000px;max-width:1500px;overflow:auto;\">\n",
       "<table border=\"1\" class=\"dataframe\">\n",
       "  <thead>\n",
       "    <tr style=\"text-align: right;\">\n",
       "      <th></th>\n",
       "      <th>Unnamed: 0</th>\n",
       "      <th>Unnamed: 0.1</th>\n",
       "      <th>DUID_x</th>\n",
       "      <th>PID_x</th>\n",
       "      <th>DUPERSID</th>\n",
       "      <th>OBVTCH12</th>\n",
       "      <th>OBVEXP12</th>\n",
       "      <th>ERTTCH12</th>\n",
       "      <th>ERTEXP12</th>\n",
       "      <th>IPTTCH12</th>\n",
       "      <th>...</th>\n",
       "      <th>ADPAIN42</th>\n",
       "      <th>ADCAPE42</th>\n",
       "      <th>ADNRGY42</th>\n",
       "      <th>ADDOWN42</th>\n",
       "      <th>ADSOCA42</th>\n",
       "      <th>OBVEXPcat</th>\n",
       "      <th>HHAEXPcat</th>\n",
       "      <th>IPTEXPcat</th>\n",
       "      <th>RXEXPcat</th>\n",
       "      <th>TOTEXPcat</th>\n",
       "    </tr>\n",
       "    <tr>\n",
       "      <th>ERTEXPcat</th>\n",
       "      <th></th>\n",
       "      <th></th>\n",
       "      <th></th>\n",
       "      <th></th>\n",
       "      <th></th>\n",
       "      <th></th>\n",
       "      <th></th>\n",
       "      <th></th>\n",
       "      <th></th>\n",
       "      <th></th>\n",
       "      <th></th>\n",
       "      <th></th>\n",
       "      <th></th>\n",
       "      <th></th>\n",
       "      <th></th>\n",
       "      <th></th>\n",
       "      <th></th>\n",
       "      <th></th>\n",
       "      <th></th>\n",
       "      <th></th>\n",
       "      <th></th>\n",
       "    </tr>\n",
       "  </thead>\n",
       "  <tbody>\n",
       "    <tr>\n",
       "      <th>0</th>\n",
       "      <td>34347</td>\n",
       "      <td>34347</td>\n",
       "      <td>34347</td>\n",
       "      <td>34347</td>\n",
       "      <td>34347</td>\n",
       "      <td>20859</td>\n",
       "      <td>20573</td>\n",
       "      <td>172</td>\n",
       "      <td>0</td>\n",
       "      <td>1275</td>\n",
       "      <td>...</td>\n",
       "      <td>34347</td>\n",
       "      <td>34347</td>\n",
       "      <td>34347</td>\n",
       "      <td>34347</td>\n",
       "      <td>34347</td>\n",
       "      <td>34347</td>\n",
       "      <td>34347</td>\n",
       "      <td>34347</td>\n",
       "      <td>34347</td>\n",
       "      <td>34347</td>\n",
       "    </tr>\n",
       "    <tr>\n",
       "      <th>1</th>\n",
       "      <td>4627</td>\n",
       "      <td>4627</td>\n",
       "      <td>4627</td>\n",
       "      <td>4627</td>\n",
       "      <td>4627</td>\n",
       "      <td>3737</td>\n",
       "      <td>3701</td>\n",
       "      <td>4627</td>\n",
       "      <td>4627</td>\n",
       "      <td>1105</td>\n",
       "      <td>...</td>\n",
       "      <td>4627</td>\n",
       "      <td>4627</td>\n",
       "      <td>4627</td>\n",
       "      <td>4627</td>\n",
       "      <td>4627</td>\n",
       "      <td>4627</td>\n",
       "      <td>4627</td>\n",
       "      <td>4627</td>\n",
       "      <td>4627</td>\n",
       "      <td>4627</td>\n",
       "    </tr>\n",
       "  </tbody>\n",
       "</table>\n",
       "<p>2 rows × 74 columns</p>\n",
       "</div>"
      ],
      "text/plain": [
       "           Unnamed: 0  Unnamed: 0.1  DUID_x  PID_x  DUPERSID  OBVTCH12  \\\n",
       "ERTEXPcat                                                                \n",
       "0               34347         34347   34347  34347     34347     20859   \n",
       "1                4627          4627    4627   4627      4627      3737   \n",
       "\n",
       "           OBVEXP12  ERTTCH12  ERTEXP12  IPTTCH12    ...      ADPAIN42  \\\n",
       "ERTEXPcat                                            ...                 \n",
       "0             20573       172         0      1275    ...         34347   \n",
       "1              3701      4627      4627      1105    ...          4627   \n",
       "\n",
       "           ADCAPE42  ADNRGY42  ADDOWN42  ADSOCA42  OBVEXPcat  HHAEXPcat  \\\n",
       "ERTEXPcat                                                                 \n",
       "0             34347     34347     34347     34347      34347      34347   \n",
       "1              4627      4627      4627      4627       4627       4627   \n",
       "\n",
       "           IPTEXPcat  RXEXPcat  TOTEXPcat  \n",
       "ERTEXPcat                                  \n",
       "0              34347     34347      34347  \n",
       "1               4627      4627       4627  \n",
       "\n",
       "[2 rows x 74 columns]"
      ]
     },
     "execution_count": 137,
     "metadata": {},
     "output_type": "execute_result"
    }
   ],
   "source": [
    "df.groupby('ERTEXPcat').count()"
   ]
  },
  {
   "cell_type": "code",
   "execution_count": 141,
   "metadata": {
    "collapsed": false
   },
   "outputs": [
    {
     "data": {
      "text/plain": [
       "RandomForestClassifier(bootstrap=True, compute_importances=None,\n",
       "            criterion='gini', max_depth=7, max_features=0.5,\n",
       "            max_leaf_nodes=None, min_density=None, min_samples_leaf=2,\n",
       "            min_samples_split=2, n_estimators=100, n_jobs=100,\n",
       "            oob_score=True, random_state=None, verbose=0)"
      ]
     },
     "execution_count": 141,
     "metadata": {},
     "output_type": "execute_result"
    }
   ],
   "source": [
    "from sklearn.ensemble import RandomForestClassifier\n",
    "\n",
    "# split the data\n",
    "xre_train, xre_test, yre_train, yre_test = train_test_split(erX2, erY, random_state=42)\n",
    "\n",
    "sw = np.array([7 if i == 1 else 1 for i in yre_train])\n",
    "\n",
    "re2 = RandomForestClassifier(n_estimators=100, oob_score=True,n_jobs=100, \n",
    "                              max_features=0.5, max_depth=7, min_samples_leaf=2)\n",
    "re2.fit(xre_train,yre_train,sample_weight=sw)"
   ]
  },
  {
   "cell_type": "code",
   "execution_count": 142,
   "metadata": {
    "collapsed": false
   },
   "outputs": [
    {
     "name": "stdout",
     "output_type": "stream",
     "text": [
      "             precision    recall  f1-score   support\n",
      "\n",
      "          0       0.92      0.78      0.84      8604\n",
      "          1       0.22      0.45      0.29      1140\n",
      "\n",
      "avg / total       0.83      0.74      0.78      9744\n",
      "\n",
      "[[6722 1882]\n",
      " [ 622  518]]\n",
      "accuracy:   0.743\n"
     ]
    }
   ],
   "source": [
    "# make predictions\n",
    "expected = yre_test\n",
    "predicted = re2.predict(xre_test)\n",
    "# summarize the fit of the model\n",
    "print(metrics.classification_report(expected, predicted))\n",
    "print(metrics.confusion_matrix(expected, predicted))\n",
    "score = metrics.accuracy_score(yre_test, predicted)\n",
    "print(\"accuracy:   %0.3f\" % score)"
   ]
  },
  {
   "cell_type": "code",
   "execution_count": null,
   "metadata": {
    "collapsed": true
   },
   "outputs": [],
   "source": []
  },
  {
   "cell_type": "markdown",
   "metadata": {},
   "source": [
    "### RX "
   ]
  },
  {
   "cell_type": "code",
   "execution_count": 41,
   "metadata": {
    "collapsed": false
   },
   "outputs": [],
   "source": [
    "rxX = df[['POVLEV12','HLTHSTAT',\"BMINDX53\",\"HIBPAGED\",\n",
    "            \"STRKAGED\",'MNHLTHSTAT',\"DIABAGED\",'AGELAST',\n",
    "            \"CHOLAGED\", 'EDRECODE',\"ADNRGY42\",'ANYLIM12', \n",
    "            'ADHDAGED','HIDEG','ADPAIN42','RACEV1X']]\n",
    "rxX0 = rxX.fillna(0)\n",
    "\n",
    "columns = ['POVLEV12','HLTHSTAT',\"BMINDX53\",\"HIBPAGED\",\n",
    "            \"STRKAGED\",'MNHLTHSTAT',\"DIABAGED\",'AGELAST',\n",
    "            \"CHOLAGED\", 'EDRECODE',\"ADNRGY42\", 'ADHDAGED',\n",
    "            'ADPAIN42']\n",
    "#'ANYLIM12',,'HIDEG','RACEV1X'\n",
    "# re-scale (normalize) continuous  & categorical (ordinal) data\n",
    "rxX1 = preprocessing.StandardScaler().fit(rxX0[columns])\n",
    "rxX1 = rxX1.transform(rxX0[columns])\n",
    "\n",
    "rxX2 = np.append(rxX1,rxX0[['ANYLIM12','HIDEG','RACEV1X']], axis=1)\n",
    "\n",
    "rxY = df['RXEXPcat']"
   ]
  },
  {
   "cell_type": "code",
   "execution_count": 42,
   "metadata": {
    "collapsed": false
   },
   "outputs": [
    {
     "data": {
      "text/plain": [
       "LogisticRegression(C=1.0, class_weight=None, dual=False, fit_intercept=True,\n",
       "          intercept_scaling=1, penalty='l2', random_state=None, tol=0.0001)"
      ]
     },
     "execution_count": 42,
     "metadata": {},
     "output_type": "execute_result"
    }
   ],
   "source": [
    "rng = np.random.RandomState(42)\n",
    "rxx_train, rxx_test, rxy_train, rxy_test = train_test_split(rxX2,rxY, random_state=rng)\n",
    "\n",
    "model = LogisticRegression()\n",
    "model.fit(rxx_train, rxy_train)"
   ]
  },
  {
   "cell_type": "code",
   "execution_count": 43,
   "metadata": {
    "collapsed": false
   },
   "outputs": [
    {
     "name": "stdout",
     "output_type": "stream",
     "text": [
      "             precision    recall  f1-score   support\n",
      "\n",
      "          0       0.66      0.79      0.72      4638\n",
      "          1       0.77      0.62      0.69      5106\n",
      "\n",
      "avg / total       0.71      0.70      0.70      9744\n",
      "\n",
      "[[3674  964]\n",
      " [1929 3177]]\n"
     ]
    }
   ],
   "source": [
    "# make predictions\n",
    "expected = rxy_test\n",
    "predicted = model.predict(rxx_test)\n",
    "# summarize the fit of the model\n",
    "print(metrics.classification_report(expected, predicted))\n",
    "print(metrics.confusion_matrix(expected, predicted))"
   ]
  },
  {
   "cell_type": "code",
   "execution_count": 44,
   "metadata": {
    "collapsed": false
   },
   "outputs": [
    {
     "name": "stdout",
     "output_type": "stream",
     "text": [
      "accuracy:   0.703\n"
     ]
    }
   ],
   "source": [
    "score = metrics.accuracy_score(rxy_test, predicted)\n",
    "print(\"accuracy:   %0.3f\" % score)"
   ]
  },
  {
   "cell_type": "markdown",
   "metadata": {},
   "source": [
    "### Inpatient Visits"
   ]
  },
  {
   "cell_type": "code",
   "execution_count": 46,
   "metadata": {
    "collapsed": true
   },
   "outputs": [],
   "source": [
    "inX = df[['POVLEV12','HLTHSTAT',\"BMINDX53\",\"HIBPAGED\",\n",
    "            \"STRKAGED\",'MNHLTHSTAT',\"DIABAGED\",'AGELAST',\n",
    "            \"ADPAIN42\",\"CHOLAGED\", \"ADCAPE42\", 'EDRECODE',\n",
    "            \"ADNRGY42\",'HIDEG','SEX','ANYLIM12', 'HISPCAT']]\n",
    "inX0 = inX.fillna(0)\n",
    "\n",
    "columns = ['POVLEV12','HLTHSTAT',\"BMINDX53\",\"HIBPAGED\",\n",
    "            \"STRKAGED\",'MNHLTHSTAT',\"DIABAGED\",'AGELAST',\n",
    "            \"ADPAIN42\",\"CHOLAGED\", \"ADCAPE42\", 'EDRECODE',\n",
    "            \"ADNRGY42\"]\n",
    "\n",
    "#'HIDEG','SEX','ANYLIM12', 'HISPCAT'\n",
    "# re-scale (normalize) continuous  & categorical (ordinal) data\n",
    "inX1 = preprocessing.StandardScaler().fit(inX0[columns])\n",
    "inX1 = inX1.transform(inX0[columns])\n",
    "\n",
    "inX2 = np.append(inX1,inX0[['HIDEG','SEX','ANYLIM12', 'HISPCAT']], axis=1)\n",
    "\n",
    "inY = df['IPTEXPcat']\n",
    "\n",
    "\n"
   ]
  },
  {
   "cell_type": "code",
   "execution_count": 138,
   "metadata": {
    "collapsed": false
   },
   "outputs": [
    {
     "data": {
      "text/plain": [
       "RandomForestClassifier(bootstrap=True, compute_importances=None,\n",
       "            criterion='gini', max_depth=7, max_features=0.5,\n",
       "            max_leaf_nodes=None, min_density=None, min_samples_leaf=2,\n",
       "            min_samples_split=2, n_estimators=100, n_jobs=100,\n",
       "            oob_score=True, random_state=None, verbose=0)"
      ]
     },
     "execution_count": 138,
     "metadata": {},
     "output_type": "execute_result"
    }
   ],
   "source": [
    "from sklearn.ensemble import RandomForestClassifier\n",
    "\n",
    "# split the data\n",
    "xri_train, xri_test, yri_train, yri_test = train_test_split(inX2, inY, random_state=42)\n",
    "\n",
    "sw = np.array([15 if i == 1 else 1 for i in yri_train])\n",
    "\n",
    "ri2 = RandomForestClassifier(n_estimators=100, oob_score=True,n_jobs=100, \n",
    "                              max_features=0.5, max_depth=7, min_samples_leaf=2)\n",
    "ri2.fit(xri_train,yri_train,sample_weight=sw)"
   ]
  },
  {
   "cell_type": "code",
   "execution_count": 139,
   "metadata": {
    "collapsed": false
   },
   "outputs": [
    {
     "name": "stdout",
     "output_type": "stream",
     "text": [
      "             precision    recall  f1-score   support\n",
      "\n",
      "          0       0.97      0.82      0.89      9149\n",
      "          1       0.17      0.58      0.27       595\n",
      "\n",
      "avg / total       0.92      0.80      0.85      9744\n",
      "\n",
      "[[7499 1650]\n",
      " [ 251  344]]\n"
     ]
    }
   ],
   "source": [
    "# make predictions\n",
    "expected = yri_test\n",
    "predicted = ri2.predict(xri_test)\n",
    "# summarize the fit of the model\n",
    "print(metrics.classification_report(expected, predicted))\n",
    "print(metrics.confusion_matrix(expected, predicted))\n"
   ]
  },
  {
   "cell_type": "code",
   "execution_count": 140,
   "metadata": {
    "collapsed": false
   },
   "outputs": [
    {
     "name": "stdout",
     "output_type": "stream",
     "text": [
      "accuracy:   0.805\n"
     ]
    }
   ],
   "source": [
    "score = metrics.accuracy_score(yri_test, predicted)\n",
    "print(\"accuracy:   %0.3f\" % score)"
   ]
  },
  {
   "cell_type": "code",
   "execution_count": null,
   "metadata": {
    "collapsed": true
   },
   "outputs": [],
   "source": []
  },
  {
   "cell_type": "code",
   "execution_count": 130,
   "metadata": {
    "collapsed": false
   },
   "outputs": [
    {
     "data": {
      "text/html": [
       "<div style=\"max-height:1000px;max-width:1500px;overflow:auto;\">\n",
       "<table border=\"1\" class=\"dataframe\">\n",
       "  <thead>\n",
       "    <tr style=\"text-align: right;\">\n",
       "      <th></th>\n",
       "      <th>Unnamed: 0</th>\n",
       "      <th>Unnamed: 0.1</th>\n",
       "      <th>DUID_x</th>\n",
       "      <th>PID_x</th>\n",
       "      <th>DUPERSID</th>\n",
       "      <th>OBVTCH12</th>\n",
       "      <th>OBVEXP12</th>\n",
       "      <th>ERTTCH12</th>\n",
       "      <th>ERTEXP12</th>\n",
       "      <th>IPTTCH12</th>\n",
       "      <th>...</th>\n",
       "      <th>ADPAIN42</th>\n",
       "      <th>ADCAPE42</th>\n",
       "      <th>ADNRGY42</th>\n",
       "      <th>ADDOWN42</th>\n",
       "      <th>ADSOCA42</th>\n",
       "      <th>OBVEXPcat</th>\n",
       "      <th>ERTEXPcat</th>\n",
       "      <th>HHAEXPcat</th>\n",
       "      <th>RXEXPcat</th>\n",
       "      <th>TOTEXPcat</th>\n",
       "    </tr>\n",
       "    <tr>\n",
       "      <th>IPTEXPcat</th>\n",
       "      <th></th>\n",
       "      <th></th>\n",
       "      <th></th>\n",
       "      <th></th>\n",
       "      <th></th>\n",
       "      <th></th>\n",
       "      <th></th>\n",
       "      <th></th>\n",
       "      <th></th>\n",
       "      <th></th>\n",
       "      <th></th>\n",
       "      <th></th>\n",
       "      <th></th>\n",
       "      <th></th>\n",
       "      <th></th>\n",
       "      <th></th>\n",
       "      <th></th>\n",
       "      <th></th>\n",
       "      <th></th>\n",
       "      <th></th>\n",
       "      <th></th>\n",
       "    </tr>\n",
       "  </thead>\n",
       "  <tbody>\n",
       "    <tr>\n",
       "      <th>0</th>\n",
       "      <td>36613</td>\n",
       "      <td>36613</td>\n",
       "      <td>36613</td>\n",
       "      <td>36613</td>\n",
       "      <td>36613</td>\n",
       "      <td>22478</td>\n",
       "      <td>22169</td>\n",
       "      <td>3684</td>\n",
       "      <td>3532</td>\n",
       "      <td>19</td>\n",
       "      <td>...</td>\n",
       "      <td>36613</td>\n",
       "      <td>36613</td>\n",
       "      <td>36613</td>\n",
       "      <td>36613</td>\n",
       "      <td>36613</td>\n",
       "      <td>36613</td>\n",
       "      <td>36613</td>\n",
       "      <td>36613</td>\n",
       "      <td>36613</td>\n",
       "      <td>36613</td>\n",
       "    </tr>\n",
       "    <tr>\n",
       "      <th>1</th>\n",
       "      <td>2361</td>\n",
       "      <td>2361</td>\n",
       "      <td>2361</td>\n",
       "      <td>2361</td>\n",
       "      <td>2361</td>\n",
       "      <td>2118</td>\n",
       "      <td>2105</td>\n",
       "      <td>1115</td>\n",
       "      <td>1095</td>\n",
       "      <td>2361</td>\n",
       "      <td>...</td>\n",
       "      <td>2361</td>\n",
       "      <td>2361</td>\n",
       "      <td>2361</td>\n",
       "      <td>2361</td>\n",
       "      <td>2361</td>\n",
       "      <td>2361</td>\n",
       "      <td>2361</td>\n",
       "      <td>2361</td>\n",
       "      <td>2361</td>\n",
       "      <td>2361</td>\n",
       "    </tr>\n",
       "  </tbody>\n",
       "</table>\n",
       "<p>2 rows × 74 columns</p>\n",
       "</div>"
      ],
      "text/plain": [
       "           Unnamed: 0  Unnamed: 0.1  DUID_x  PID_x  DUPERSID  OBVTCH12  \\\n",
       "IPTEXPcat                                                                \n",
       "0               36613         36613   36613  36613     36613     22478   \n",
       "1                2361          2361    2361   2361      2361      2118   \n",
       "\n",
       "           OBVEXP12  ERTTCH12  ERTEXP12  IPTTCH12    ...      ADPAIN42  \\\n",
       "IPTEXPcat                                            ...                 \n",
       "0             22169      3684      3532        19    ...         36613   \n",
       "1              2105      1115      1095      2361    ...          2361   \n",
       "\n",
       "           ADCAPE42  ADNRGY42  ADDOWN42  ADSOCA42  OBVEXPcat  ERTEXPcat  \\\n",
       "IPTEXPcat                                                                 \n",
       "0             36613     36613     36613     36613      36613      36613   \n",
       "1              2361      2361      2361      2361       2361       2361   \n",
       "\n",
       "           HHAEXPcat  RXEXPcat  TOTEXPcat  \n",
       "IPTEXPcat                                  \n",
       "0              36613     36613      36613  \n",
       "1               2361      2361       2361  \n",
       "\n",
       "[2 rows x 74 columns]"
      ]
     },
     "execution_count": 130,
     "metadata": {},
     "output_type": "execute_result"
    }
   ],
   "source": [
    "df.groupby('IPTEXPcat').count()"
   ]
  },
  {
   "cell_type": "code",
   "execution_count": 47,
   "metadata": {
    "collapsed": false
   },
   "outputs": [
    {
     "data": {
      "text/plain": [
       "LogisticRegression(C=1.0, class_weight=None, dual=False, fit_intercept=True,\n",
       "          intercept_scaling=1, penalty='l2', random_state=None, tol=0.0001)"
      ]
     },
     "execution_count": 47,
     "metadata": {},
     "output_type": "execute_result"
    }
   ],
   "source": [
    "rng = np.random.RandomState(42)\n",
    "inx_train, inx_test, iny_train, iny_test = train_test_split(inX2,inY, random_state=rng)\n",
    "\n",
    "model = LogisticRegression()\n",
    "model.fit(inx_train, iny_train)"
   ]
  },
  {
   "cell_type": "code",
   "execution_count": 48,
   "metadata": {
    "collapsed": false
   },
   "outputs": [
    {
     "name": "stdout",
     "output_type": "stream",
     "text": [
      "             precision    recall  f1-score   support\n",
      "\n",
      "          0       0.94      1.00      0.97      9149\n",
      "          1       0.53      0.02      0.03       595\n",
      "\n",
      "avg / total       0.91      0.94      0.91      9744\n",
      "\n",
      "[[9141    8]\n",
      " [ 586    9]]\n"
     ]
    }
   ],
   "source": [
    "# make predictions\n",
    "expected = iny_test\n",
    "predicted = model.predict(inx_test)\n",
    "# summarize the fit of the model\n",
    "print(metrics.classification_report(expected, predicted))\n",
    "print(metrics.confusion_matrix(expected, predicted))"
   ]
  },
  {
   "cell_type": "code",
   "execution_count": 50,
   "metadata": {
    "collapsed": false
   },
   "outputs": [
    {
     "name": "stdout",
     "output_type": "stream",
     "text": [
      "accuracy:   0.939\n"
     ]
    }
   ],
   "source": [
    "score = metrics.accuracy_score(iny_test, predicted)\n",
    "print(\"accuracy:   %0.3f\" % score)"
   ]
  },
  {
   "cell_type": "markdown",
   "metadata": {},
   "source": [
    "### Home Health"
   ]
  },
  {
   "cell_type": "code",
   "execution_count": 52,
   "metadata": {
    "collapsed": false
   },
   "outputs": [],
   "source": [
    "hhX = df[['POVLEV12','HLTHSTAT',\"BMINDX53\",\"HIBPAGED\",\n",
    "            \"STRKAGED\",'MNHLTHSTAT',\"DIABAGED\",'AGELAST',\n",
    "            \"CHOLAGED\", \"ADCAPE42\", 'EDRECODE',\"ADNRGY42\",'MARRY12X', 'RACEV1X']]\n",
    "hhX0 = hhX.fillna(0)\n",
    "\n",
    "columns = ['POVLEV12','HLTHSTAT',\"BMINDX53\",\"HIBPAGED\",\n",
    "            \"STRKAGED\",'MNHLTHSTAT',\"DIABAGED\",'AGELAST',\n",
    "            \"CHOLAGED\", \"ADCAPE42\", 'EDRECODE',\"ADNRGY42\",\n",
    "            ]\n",
    "\n",
    "#'HIDEG','SEX','ANYLIM12', 'HISPCAT'\n",
    "# re-scale (normalize) continuous  & categorical (ordinal) data\n",
    "hhX1 = preprocessing.StandardScaler().fit(hhX0[columns])\n",
    "hhX1 = hhX1.transform(hhX0[columns])\n",
    "\n",
    "hhX2 = np.append(hhX1,hhX0[['MARRY12X', 'RACEV1X']], axis=1)\n",
    "\n",
    "hhY = df['HHAEXPcat']\n"
   ]
  },
  {
   "cell_type": "code",
   "execution_count": 100,
   "metadata": {
    "collapsed": false,
    "scrolled": true
   },
   "outputs": [
    {
     "data": {
      "text/html": [
       "<div style=\"max-height:1000px;max-width:1500px;overflow:auto;\">\n",
       "<table border=\"1\" class=\"dataframe\">\n",
       "  <thead>\n",
       "    <tr style=\"text-align: right;\">\n",
       "      <th></th>\n",
       "      <th>Unnamed: 0</th>\n",
       "      <th>Unnamed: 0.1</th>\n",
       "      <th>DUID_x</th>\n",
       "      <th>PID_x</th>\n",
       "      <th>DUPERSID</th>\n",
       "      <th>OBVTCH12</th>\n",
       "      <th>OBVEXP12</th>\n",
       "      <th>ERTTCH12</th>\n",
       "      <th>ERTEXP12</th>\n",
       "      <th>IPTTCH12</th>\n",
       "      <th>...</th>\n",
       "      <th>ADPAIN42</th>\n",
       "      <th>ADCAPE42</th>\n",
       "      <th>ADNRGY42</th>\n",
       "      <th>ADDOWN42</th>\n",
       "      <th>ADSOCA42</th>\n",
       "      <th>OBVEXPcat</th>\n",
       "      <th>ERTEXPcat</th>\n",
       "      <th>IPTEXPcat</th>\n",
       "      <th>RXEXPcat</th>\n",
       "      <th>TOTEXPcat</th>\n",
       "    </tr>\n",
       "    <tr>\n",
       "      <th>HHAEXPcat</th>\n",
       "      <th></th>\n",
       "      <th></th>\n",
       "      <th></th>\n",
       "      <th></th>\n",
       "      <th></th>\n",
       "      <th></th>\n",
       "      <th></th>\n",
       "      <th></th>\n",
       "      <th></th>\n",
       "      <th></th>\n",
       "      <th></th>\n",
       "      <th></th>\n",
       "      <th></th>\n",
       "      <th></th>\n",
       "      <th></th>\n",
       "      <th></th>\n",
       "      <th></th>\n",
       "      <th></th>\n",
       "      <th></th>\n",
       "      <th></th>\n",
       "      <th></th>\n",
       "    </tr>\n",
       "  </thead>\n",
       "  <tbody>\n",
       "    <tr>\n",
       "      <th>0</th>\n",
       "      <td>38307</td>\n",
       "      <td>38307</td>\n",
       "      <td>38307</td>\n",
       "      <td>38307</td>\n",
       "      <td>38307</td>\n",
       "      <td>23981</td>\n",
       "      <td>23660</td>\n",
       "      <td>4561</td>\n",
       "      <td>4389</td>\n",
       "      <td>2049</td>\n",
       "      <td>...</td>\n",
       "      <td>38307</td>\n",
       "      <td>38307</td>\n",
       "      <td>38307</td>\n",
       "      <td>38307</td>\n",
       "      <td>38307</td>\n",
       "      <td>38307</td>\n",
       "      <td>38307</td>\n",
       "      <td>38307</td>\n",
       "      <td>38307</td>\n",
       "      <td>38307</td>\n",
       "    </tr>\n",
       "    <tr>\n",
       "      <th>1</th>\n",
       "      <td>667</td>\n",
       "      <td>667</td>\n",
       "      <td>667</td>\n",
       "      <td>667</td>\n",
       "      <td>667</td>\n",
       "      <td>615</td>\n",
       "      <td>614</td>\n",
       "      <td>238</td>\n",
       "      <td>238</td>\n",
       "      <td>331</td>\n",
       "      <td>...</td>\n",
       "      <td>667</td>\n",
       "      <td>667</td>\n",
       "      <td>667</td>\n",
       "      <td>667</td>\n",
       "      <td>667</td>\n",
       "      <td>667</td>\n",
       "      <td>667</td>\n",
       "      <td>667</td>\n",
       "      <td>667</td>\n",
       "      <td>667</td>\n",
       "    </tr>\n",
       "  </tbody>\n",
       "</table>\n",
       "<p>2 rows × 74 columns</p>\n",
       "</div>"
      ],
      "text/plain": [
       "           Unnamed: 0  Unnamed: 0.1  DUID_x  PID_x  DUPERSID  OBVTCH12  \\\n",
       "HHAEXPcat                                                                \n",
       "0               38307         38307   38307  38307     38307     23981   \n",
       "1                 667           667     667    667       667       615   \n",
       "\n",
       "           OBVEXP12  ERTTCH12  ERTEXP12  IPTTCH12    ...      ADPAIN42  \\\n",
       "HHAEXPcat                                            ...                 \n",
       "0             23660      4561      4389      2049    ...         38307   \n",
       "1               614       238       238       331    ...           667   \n",
       "\n",
       "           ADCAPE42  ADNRGY42  ADDOWN42  ADSOCA42  OBVEXPcat  ERTEXPcat  \\\n",
       "HHAEXPcat                                                                 \n",
       "0             38307     38307     38307     38307      38307      38307   \n",
       "1               667       667       667       667        667        667   \n",
       "\n",
       "           IPTEXPcat  RXEXPcat  TOTEXPcat  \n",
       "HHAEXPcat                                  \n",
       "0              38307     38307      38307  \n",
       "1                667       667        667  \n",
       "\n",
       "[2 rows x 74 columns]"
      ]
     },
     "execution_count": 100,
     "metadata": {},
     "output_type": "execute_result"
    }
   ],
   "source": [
    "df.groupby('HHAEXPcat').count()"
   ]
  },
  {
   "cell_type": "code",
   "execution_count": 53,
   "metadata": {
    "collapsed": false,
    "scrolled": false
   },
   "outputs": [
    {
     "data": {
      "text/plain": [
       "LogisticRegression(C=1.0, class_weight=None, dual=False, fit_intercept=True,\n",
       "          intercept_scaling=1, penalty='l2', random_state=None, tol=0.0001)"
      ]
     },
     "execution_count": 53,
     "metadata": {},
     "output_type": "execute_result"
    }
   ],
   "source": [
    "rng = np.random.RandomState(42)\n",
    "hhx_train, hhx_test, hhy_train, hhy_test = train_test_split(hhX2,hhY, random_state=rng)\n",
    "\n",
    "model = LogisticRegression()\n",
    "model.fit(hhx_train, hhy_train)"
   ]
  },
  {
   "cell_type": "code",
   "execution_count": 106,
   "metadata": {
    "collapsed": false,
    "scrolled": true
   },
   "outputs": [
    {
     "data": {
      "text/plain": [
       "RandomForestClassifier(bootstrap=True, compute_importances=None,\n",
       "            criterion='gini', max_depth=7, max_features=0.5,\n",
       "            max_leaf_nodes=None, min_density=None, min_samples_leaf=2,\n",
       "            min_samples_split=2, n_estimators=100, n_jobs=100,\n",
       "            oob_score=True, random_state=None, verbose=0)"
      ]
     },
     "execution_count": 106,
     "metadata": {},
     "output_type": "execute_result"
    }
   ],
   "source": [
    "from sklearn.ensemble import RandomForestClassifier\n",
    "\n",
    "# split the data\n",
    "xrf_train, xrf_test, yrf_train, yrf_test = train_test_split(hhX2, hhY, random_state=42)\n",
    "\n",
    "sw = np.array([57 if i == 1 else 1 for i in yrf_train])\n",
    "\n",
    "rf2 = RandomForestClassifier(n_estimators=100, oob_score=True,n_jobs=100, \n",
    "                              max_features=0.5, max_depth=7, min_samples_leaf=2)\n",
    "rf2.fit(xrf_train,yrf_train,sample_weight=sw)"
   ]
  },
  {
   "cell_type": "code",
   "execution_count": 119,
   "metadata": {
    "collapsed": false
   },
   "outputs": [
    {
     "data": {
      "text/plain": [
       "(9744, 14)"
      ]
     },
     "execution_count": 119,
     "metadata": {},
     "output_type": "execute_result"
    }
   ],
   "source": [
    "xrf_test.shape"
   ]
  },
  {
   "cell_type": "code",
   "execution_count": 129,
   "metadata": {
    "collapsed": false
   },
   "outputs": [
    {
     "name": "stdout",
     "output_type": "stream",
     "text": [
      "             precision    recall  f1-score   support\n",
      "\n",
      "          0       0.99      0.93      0.96      9590\n",
      "          1       0.12      0.60      0.19       154\n",
      "\n",
      "avg / total       0.98      0.92      0.95      9744\n",
      "\n",
      "[[8884  706]\n",
      " [  62   92]]\n"
     ]
    }
   ],
   "source": [
    "# make predictions\n",
    "expected = yrf_test\n",
    "predicted = rf2.predict(xrf_test)\n",
    "# summarize the fit of the model\n",
    "print(metrics.classification_report(expected, predicted))\n",
    "print(metrics.confusion_matrix(expected, predicted))\n"
   ]
  },
  {
   "cell_type": "code",
   "execution_count": 128,
   "metadata": {
    "collapsed": false
   },
   "outputs": [
    {
     "name": "stdout",
     "output_type": "stream",
     "text": [
      "accuracy:   0.921\n"
     ]
    }
   ],
   "source": [
    "score = metrics.accuracy_score(yrf_test, predicted)\n",
    "print(\"accuracy:   %0.3f\" % score)"
   ]
  },
  {
   "cell_type": "code",
   "execution_count": 54,
   "metadata": {
    "collapsed": false,
    "scrolled": true
   },
   "outputs": [
    {
     "name": "stdout",
     "output_type": "stream",
     "text": [
      "             precision    recall  f1-score   support\n",
      "\n",
      "          0       0.98      1.00      0.99      9590\n",
      "          1       0.58      0.05      0.08       154\n",
      "\n",
      "avg / total       0.98      0.98      0.98      9744\n",
      "\n",
      "[[9585    5]\n",
      " [ 147    7]]\n"
     ]
    }
   ],
   "source": [
    "# make predictions\n",
    "expected = hhy_test\n",
    "predicted = model.predict(hhx_test)\n",
    "# summarize the fit of the model\n",
    "print(metrics.classification_report(expected, predicted))\n",
    "print(metrics.confusion_matrix(expected, predicted))"
   ]
  },
  {
   "cell_type": "code",
   "execution_count": 55,
   "metadata": {
    "collapsed": false,
    "scrolled": true
   },
   "outputs": [
    {
     "name": "stdout",
     "output_type": "stream",
     "text": [
      "accuracy:   0.939\n"
     ]
    }
   ],
   "source": [
    "score = metrics.accuracy_score(iny_test, predicted)\n",
    "print(\"accuracy:   %0.3f\" % score)"
   ]
  },
  {
   "cell_type": "markdown",
   "metadata": {},
   "source": [
    "# Total"
   ]
  },
  {
   "cell_type": "code",
   "execution_count": 86,
   "metadata": {
    "collapsed": false
   },
   "outputs": [],
   "source": [
    "totX = df[['MNHLTHSTAT','HLTHSTAT', 'AGELAST',\n",
    "            'POVLEV12','EDRECODE',\"HIBPAGED\", \n",
    "            \"STRKAGED\",\"CHOLAGED\", \"DIABAGED\", \"JTPAIN31\",\n",
    "            \"BMINDX53\",\"ADMALS42\", \"ADMWLM42\",\"ADPAIN42\",  \n",
    "            \"ADNRGY42\"]]\n",
    "totX0 = totX.fillna(0)\n",
    "\n",
    "# re-scale (normalize) continuous  & categorical (ordinal) data\n",
    "totX1 = preprocessing.StandardScaler().fit(totX0)\n",
    "totX1 = totX1.transform(totX0)\n",
    "\n",
    "subX = df[['HIDEG', 'SEX']].fillna(0)\n",
    "totX2 = np.append(totX1,subX, axis=1)\n",
    "\n",
    "\n",
    "totY = df['TOTEXPcat'].values"
   ]
  },
  {
   "cell_type": "code",
   "execution_count": 88,
   "metadata": {
    "collapsed": false
   },
   "outputs": [
    {
     "data": {
      "text/plain": [
       "LogisticRegression(C=1.0, class_weight=None, dual=False, fit_intercept=True,\n",
       "          intercept_scaling=1, penalty='l2', random_state=None, tol=0.0001)"
      ]
     },
     "execution_count": 88,
     "metadata": {},
     "output_type": "execute_result"
    }
   ],
   "source": [
    "rng = np.random.RandomState(42)\n",
    "totx_train, totx_test, toty_train, toty_test = train_test_split(totX2,totY, random_state=rng)\n",
    "\n",
    "model = LogisticRegression()\n",
    "model.fit(totx_train, toty_train)"
   ]
  },
  {
   "cell_type": "code",
   "execution_count": 89,
   "metadata": {
    "collapsed": false
   },
   "outputs": [
    {
     "name": "stdout",
     "output_type": "stream",
     "text": [
      "             precision    recall  f1-score   support\n",
      "\n",
      "          0       0.60      0.20      0.30      2274\n",
      "          1       0.80      0.96      0.87      7470\n",
      "\n",
      "avg / total       0.75      0.78      0.74      9744\n",
      "\n",
      "[[ 465 1809]\n",
      " [ 313 7157]]\n"
     ]
    }
   ],
   "source": [
    "# make predictions\n",
    "expected = toty_test\n",
    "predicted = model.predict(totx_test)\n",
    "# summarize the fit of the model\n",
    "print(metrics.classification_report(expected, predicted))\n",
    "print(metrics.confusion_matrix(expected, predicted))"
   ]
  },
  {
   "cell_type": "code",
   "execution_count": 90,
   "metadata": {
    "collapsed": false
   },
   "outputs": [
    {
     "name": "stdout",
     "output_type": "stream",
     "text": [
      "accuracy:   0.782\n"
     ]
    }
   ],
   "source": [
    "score = metrics.accuracy_score(toty_test, predicted)\n",
    "print(\"accuracy:   %0.3f\" % score)"
   ]
  },
  {
   "cell_type": "code",
   "execution_count": null,
   "metadata": {
    "collapsed": true
   },
   "outputs": [],
   "source": [
    "#sample_weight = np.array([5 if i == 0 else 1 for i in y])"
   ]
  },
  {
   "cell_type": "code",
   "execution_count": 146,
   "metadata": {
    "collapsed": false
   },
   "outputs": [
    {
     "data": {
      "text/html": [
       "<div style=\"max-height:1000px;max-width:1500px;overflow:auto;\">\n",
       "<table border=\"1\" class=\"dataframe\">\n",
       "  <thead>\n",
       "    <tr style=\"text-align: right;\">\n",
       "      <th></th>\n",
       "      <th>Unnamed: 0</th>\n",
       "      <th>Unnamed: 0.1</th>\n",
       "      <th>DUID_x</th>\n",
       "      <th>PID_x</th>\n",
       "      <th>DUPERSID</th>\n",
       "      <th>OBVTCH12</th>\n",
       "      <th>OBVEXP12</th>\n",
       "      <th>ERTTCH12</th>\n",
       "      <th>ERTEXP12</th>\n",
       "      <th>IPTTCH12</th>\n",
       "      <th>...</th>\n",
       "      <th>ADPAIN42</th>\n",
       "      <th>ADCAPE42</th>\n",
       "      <th>ADNRGY42</th>\n",
       "      <th>ADDOWN42</th>\n",
       "      <th>ADSOCA42</th>\n",
       "      <th>OBVEXPcat</th>\n",
       "      <th>ERTEXPcat</th>\n",
       "      <th>HHAEXPcat</th>\n",
       "      <th>IPTEXPcat</th>\n",
       "      <th>RXEXPcat</th>\n",
       "    </tr>\n",
       "    <tr>\n",
       "      <th>TOTEXPcat</th>\n",
       "      <th></th>\n",
       "      <th></th>\n",
       "      <th></th>\n",
       "      <th></th>\n",
       "      <th></th>\n",
       "      <th></th>\n",
       "      <th></th>\n",
       "      <th></th>\n",
       "      <th></th>\n",
       "      <th></th>\n",
       "      <th></th>\n",
       "      <th></th>\n",
       "      <th></th>\n",
       "      <th></th>\n",
       "      <th></th>\n",
       "      <th></th>\n",
       "      <th></th>\n",
       "      <th></th>\n",
       "      <th></th>\n",
       "      <th></th>\n",
       "      <th></th>\n",
       "    </tr>\n",
       "  </thead>\n",
       "  <tbody>\n",
       "    <tr>\n",
       "      <th>0</th>\n",
       "      <td>9167</td>\n",
       "      <td>9167</td>\n",
       "      <td>9167</td>\n",
       "      <td>9167</td>\n",
       "      <td>9167</td>\n",
       "      <td>122</td>\n",
       "      <td>0</td>\n",
       "      <td>24</td>\n",
       "      <td>0</td>\n",
       "      <td>0</td>\n",
       "      <td>...</td>\n",
       "      <td>9167</td>\n",
       "      <td>9167</td>\n",
       "      <td>9167</td>\n",
       "      <td>9167</td>\n",
       "      <td>9167</td>\n",
       "      <td>9167</td>\n",
       "      <td>9167</td>\n",
       "      <td>9167</td>\n",
       "      <td>9167</td>\n",
       "      <td>9167</td>\n",
       "    </tr>\n",
       "    <tr>\n",
       "      <th>1</th>\n",
       "      <td>29807</td>\n",
       "      <td>29807</td>\n",
       "      <td>29807</td>\n",
       "      <td>29807</td>\n",
       "      <td>29807</td>\n",
       "      <td>24474</td>\n",
       "      <td>24274</td>\n",
       "      <td>4775</td>\n",
       "      <td>4627</td>\n",
       "      <td>2380</td>\n",
       "      <td>...</td>\n",
       "      <td>29807</td>\n",
       "      <td>29807</td>\n",
       "      <td>29807</td>\n",
       "      <td>29807</td>\n",
       "      <td>29807</td>\n",
       "      <td>29807</td>\n",
       "      <td>29807</td>\n",
       "      <td>29807</td>\n",
       "      <td>29807</td>\n",
       "      <td>29807</td>\n",
       "    </tr>\n",
       "  </tbody>\n",
       "</table>\n",
       "<p>2 rows × 74 columns</p>\n",
       "</div>"
      ],
      "text/plain": [
       "           Unnamed: 0  Unnamed: 0.1  DUID_x  PID_x  DUPERSID  OBVTCH12  \\\n",
       "TOTEXPcat                                                                \n",
       "0                9167          9167    9167   9167      9167       122   \n",
       "1               29807         29807   29807  29807     29807     24474   \n",
       "\n",
       "           OBVEXP12  ERTTCH12  ERTEXP12  IPTTCH12    ...     ADPAIN42  \\\n",
       "TOTEXPcat                                            ...                \n",
       "0                 0        24         0         0    ...         9167   \n",
       "1             24274      4775      4627      2380    ...        29807   \n",
       "\n",
       "           ADCAPE42  ADNRGY42  ADDOWN42  ADSOCA42  OBVEXPcat  ERTEXPcat  \\\n",
       "TOTEXPcat                                                                 \n",
       "0              9167      9167      9167      9167       9167       9167   \n",
       "1             29807     29807     29807     29807      29807      29807   \n",
       "\n",
       "           HHAEXPcat  IPTEXPcat  RXEXPcat  \n",
       "TOTEXPcat                                  \n",
       "0               9167       9167      9167  \n",
       "1              29807      29807     29807  \n",
       "\n",
       "[2 rows x 74 columns]"
      ]
     },
     "execution_count": 146,
     "metadata": {},
     "output_type": "execute_result"
    }
   ],
   "source": [
    "df.groupby('TOTEXPcat').count()"
   ]
  },
  {
   "cell_type": "code",
   "execution_count": 147,
   "metadata": {
    "collapsed": false
   },
   "outputs": [
    {
     "data": {
      "text/plain": [
       "RandomForestClassifier(bootstrap=True, compute_importances=None,\n",
       "            criterion='gini', max_depth=7, max_features=0.5,\n",
       "            max_leaf_nodes=None, min_density=None, min_samples_leaf=2,\n",
       "            min_samples_split=2, n_estimators=100, n_jobs=100,\n",
       "            oob_score=True, random_state=None, verbose=0)"
      ]
     },
     "execution_count": 147,
     "metadata": {},
     "output_type": "execute_result"
    }
   ],
   "source": [
    "from sklearn.ensemble import RandomForestClassifier\n",
    "\n",
    "# split the data\n",
    "xrt_train, xrt_test, yrt_train, yrt_test = train_test_split(totX2, totY, random_state=42)\n",
    "\n",
    "sw = np.array([3 if i == 0 else 1 for i in yrt_train])\n",
    "\n",
    "rt2 = RandomForestClassifier(n_estimators=100, oob_score=True,n_jobs=100, \n",
    "                              max_features=0.5, max_depth=7, min_samples_leaf=2)\n",
    "rt2.fit(xrt_train,yrt_train,sample_weight=sw)"
   ]
  },
  {
   "cell_type": "code",
   "execution_count": 148,
   "metadata": {
    "collapsed": false
   },
   "outputs": [
    {
     "name": "stdout",
     "output_type": "stream",
     "text": [
      "             precision    recall  f1-score   support\n",
      "\n",
      "          0       0.43      0.67      0.52      2274\n",
      "          1       0.88      0.73      0.80      7470\n",
      "\n",
      "avg / total       0.77      0.71      0.73      9744\n",
      "\n",
      "[[1519  755]\n",
      " [2026 5444]]\n"
     ]
    }
   ],
   "source": [
    "# make predictions\n",
    "expected = yrt_test\n",
    "predicted = rt2.predict(xrt_test)\n",
    "# summarize the fit of the model\n",
    "print(metrics.classification_report(expected, predicted))\n",
    "print(metrics.confusion_matrix(expected, predicted))\n"
   ]
  },
  {
   "cell_type": "code",
   "execution_count": 149,
   "metadata": {
    "collapsed": false
   },
   "outputs": [
    {
     "name": "stdout",
     "output_type": "stream",
     "text": [
      "accuracy:   0.715\n"
     ]
    }
   ],
   "source": [
    "score = metrics.accuracy_score(yrt_test, predicted)\n",
    "print(\"accuracy:   %0.3f\" % score)"
   ]
  },
  {
   "cell_type": "code",
   "execution_count": null,
   "metadata": {
    "collapsed": true
   },
   "outputs": [],
   "source": []
  }
 ],
 "metadata": {
  "kernelspec": {
   "display_name": "Python 2",
   "language": "python",
   "name": "python2"
  },
  "language_info": {
   "codemirror_mode": {
    "name": "ipython",
    "version": 2
   },
   "file_extension": ".py",
   "mimetype": "text/x-python",
   "name": "python",
   "nbconvert_exporter": "python",
   "pygments_lexer": "ipython2",
   "version": "2.7.10"
  }
 },
 "nbformat": 4,
 "nbformat_minor": 0
}
