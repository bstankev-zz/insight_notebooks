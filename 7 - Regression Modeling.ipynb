{
 "cells": [
  {
   "cell_type": "markdown",
   "metadata": {},
   "source": [
    "# Import non-imputed data for modeling"
   ]
  },
  {
   "cell_type": "code",
   "execution_count": 2,
   "metadata": {
    "collapsed": true
   },
   "outputs": [],
   "source": [
    "%matplotlib inline\n",
    "import pandas as pd\n",
    "import numpy as np\n",
    "import matplotlib.pyplot as plt\n",
    "import seaborn as sns"
   ]
  },
  {
   "cell_type": "code",
   "execution_count": 3,
   "metadata": {
    "collapsed": false,
    "scrolled": true
   },
   "outputs": [
    {
     "name": "stdout",
     "output_type": "stream",
     "text": [
      "/Users/bstankev/Desktop/Insight/2012_MEPS\n"
     ]
    }
   ],
   "source": [
    "cd ../Desktop/Insight/2012_MEPS/"
   ]
  },
  {
   "cell_type": "code",
   "execution_count": 4,
   "metadata": {
    "collapsed": false
   },
   "outputs": [],
   "source": [
    "df = pd.read_csv('feat_new.csv')"
   ]
  },
  {
   "cell_type": "code",
   "execution_count": 5,
   "metadata": {
    "collapsed": false
   },
   "outputs": [
    {
     "data": {
      "text/plain": [
       "(38974, 69)"
      ]
     },
     "execution_count": 5,
     "metadata": {},
     "output_type": "execute_result"
    }
   ],
   "source": [
    "df.shape"
   ]
  },
  {
   "cell_type": "code",
   "execution_count": 6,
   "metadata": {
    "collapsed": false,
    "scrolled": true
   },
   "outputs": [
    {
     "data": {
      "text/html": [
       "<div style=\"max-height:1000px;max-width:1500px;overflow:auto;\">\n",
       "<table border=\"1\" class=\"dataframe\">\n",
       "  <thead>\n",
       "    <tr style=\"text-align: right;\">\n",
       "      <th></th>\n",
       "      <th>Unnamed: 0</th>\n",
       "      <th>Unnamed: 0.1</th>\n",
       "      <th>DUID_x</th>\n",
       "      <th>PID_x</th>\n",
       "      <th>DUPERSID</th>\n",
       "      <th>OBVTCH12</th>\n",
       "      <th>OBVEXP12</th>\n",
       "      <th>ERTTCH12</th>\n",
       "      <th>ERTEXP12</th>\n",
       "      <th>IPTTCH12</th>\n",
       "      <th>...</th>\n",
       "      <th>ADHDADDX</th>\n",
       "      <th>ANYLIM12</th>\n",
       "      <th>ADSMOK42</th>\n",
       "      <th>ADMALS42</th>\n",
       "      <th>ADMWLM42</th>\n",
       "      <th>ADPAIN42</th>\n",
       "      <th>ADCAPE42</th>\n",
       "      <th>ADNRGY42</th>\n",
       "      <th>ADDOWN42</th>\n",
       "      <th>ADSOCA42</th>\n",
       "    </tr>\n",
       "  </thead>\n",
       "  <tbody>\n",
       "    <tr>\n",
       "      <th>0</th>\n",
       "      <td>0</td>\n",
       "      <td>0</td>\n",
       "      <td>20004</td>\n",
       "      <td>101</td>\n",
       "      <td>20004101</td>\n",
       "      <td>NaN</td>\n",
       "      <td>NaN</td>\n",
       "      <td>NaN</td>\n",
       "      <td>NaN</td>\n",
       "      <td>NaN</td>\n",
       "      <td>...</td>\n",
       "      <td>0</td>\n",
       "      <td>2</td>\n",
       "      <td>2</td>\n",
       "      <td>3</td>\n",
       "      <td>3</td>\n",
       "      <td>1</td>\n",
       "      <td>2</td>\n",
       "      <td>3</td>\n",
       "      <td>4</td>\n",
       "      <td>5</td>\n",
       "    </tr>\n",
       "    <tr>\n",
       "      <th>1</th>\n",
       "      <td>1</td>\n",
       "      <td>1</td>\n",
       "      <td>20004</td>\n",
       "      <td>102</td>\n",
       "      <td>20004102</td>\n",
       "      <td>NaN</td>\n",
       "      <td>NaN</td>\n",
       "      <td>NaN</td>\n",
       "      <td>NaN</td>\n",
       "      <td>NaN</td>\n",
       "      <td>...</td>\n",
       "      <td>0</td>\n",
       "      <td>2</td>\n",
       "      <td>2</td>\n",
       "      <td>3</td>\n",
       "      <td>5</td>\n",
       "      <td>1</td>\n",
       "      <td>3</td>\n",
       "      <td>3</td>\n",
       "      <td>4</td>\n",
       "      <td>5</td>\n",
       "    </tr>\n",
       "    <tr>\n",
       "      <th>2</th>\n",
       "      <td>2</td>\n",
       "      <td>2</td>\n",
       "      <td>20004</td>\n",
       "      <td>103</td>\n",
       "      <td>20004103</td>\n",
       "      <td>NaN</td>\n",
       "      <td>NaN</td>\n",
       "      <td>NaN</td>\n",
       "      <td>NaN</td>\n",
       "      <td>NaN</td>\n",
       "      <td>...</td>\n",
       "      <td>2</td>\n",
       "      <td>2</td>\n",
       "      <td>0</td>\n",
       "      <td>0</td>\n",
       "      <td>0</td>\n",
       "      <td>0</td>\n",
       "      <td>0</td>\n",
       "      <td>0</td>\n",
       "      <td>0</td>\n",
       "      <td>0</td>\n",
       "    </tr>\n",
       "    <tr>\n",
       "      <th>3</th>\n",
       "      <td>3</td>\n",
       "      <td>3</td>\n",
       "      <td>20005</td>\n",
       "      <td>101</td>\n",
       "      <td>20005101</td>\n",
       "      <td>1100</td>\n",
       "      <td>451</td>\n",
       "      <td>NaN</td>\n",
       "      <td>NaN</td>\n",
       "      <td>NaN</td>\n",
       "      <td>...</td>\n",
       "      <td>0</td>\n",
       "      <td>1</td>\n",
       "      <td>2</td>\n",
       "      <td>1</td>\n",
       "      <td>5</td>\n",
       "      <td>5</td>\n",
       "      <td>3</td>\n",
       "      <td>4</td>\n",
       "      <td>2</td>\n",
       "      <td>2</td>\n",
       "    </tr>\n",
       "    <tr>\n",
       "      <th>4</th>\n",
       "      <td>4</td>\n",
       "      <td>4</td>\n",
       "      <td>20005</td>\n",
       "      <td>102</td>\n",
       "      <td>20005102</td>\n",
       "      <td>490</td>\n",
       "      <td>127</td>\n",
       "      <td>NaN</td>\n",
       "      <td>NaN</td>\n",
       "      <td>NaN</td>\n",
       "      <td>...</td>\n",
       "      <td>0</td>\n",
       "      <td>2</td>\n",
       "      <td>2</td>\n",
       "      <td>5</td>\n",
       "      <td>5</td>\n",
       "      <td>1</td>\n",
       "      <td>1</td>\n",
       "      <td>1</td>\n",
       "      <td>5</td>\n",
       "      <td>5</td>\n",
       "    </tr>\n",
       "  </tbody>\n",
       "</table>\n",
       "<p>5 rows × 69 columns</p>\n",
       "</div>"
      ],
      "text/plain": [
       "   Unnamed: 0  Unnamed: 0.1  DUID_x  PID_x  DUPERSID  OBVTCH12  OBVEXP12  \\\n",
       "0           0             0   20004    101  20004101       NaN       NaN   \n",
       "1           1             1   20004    102  20004102       NaN       NaN   \n",
       "2           2             2   20004    103  20004103       NaN       NaN   \n",
       "3           3             3   20005    101  20005101      1100       451   \n",
       "4           4             4   20005    102  20005102       490       127   \n",
       "\n",
       "   ERTTCH12  ERTEXP12  IPTTCH12    ...     ADHDADDX  ANYLIM12  ADSMOK42  \\\n",
       "0       NaN       NaN       NaN    ...            0         2         2   \n",
       "1       NaN       NaN       NaN    ...            0         2         2   \n",
       "2       NaN       NaN       NaN    ...            2         2         0   \n",
       "3       NaN       NaN       NaN    ...            0         1         2   \n",
       "4       NaN       NaN       NaN    ...            0         2         2   \n",
       "\n",
       "   ADMALS42  ADMWLM42  ADPAIN42  ADCAPE42  ADNRGY42  ADDOWN42  ADSOCA42  \n",
       "0         3         3         1         2         3         4         5  \n",
       "1         3         5         1         3         3         4         5  \n",
       "2         0         0         0         0         0         0         0  \n",
       "3         1         5         5         3         4         2         2  \n",
       "4         5         5         1         1         1         5         5  \n",
       "\n",
       "[5 rows x 69 columns]"
      ]
     },
     "execution_count": 6,
     "metadata": {},
     "output_type": "execute_result"
    }
   ],
   "source": [
    "df.head()"
   ]
  },
  {
   "cell_type": "markdown",
   "metadata": {},
   "source": [
    "# Create log(expenditure) columns for each expenditure type"
   ]
  },
  {
   "cell_type": "code",
   "execution_count": 7,
   "metadata": {
    "collapsed": true
   },
   "outputs": [],
   "source": [
    "df['OBVEXPlog'] = np.log(df['OBVEXP12'])\n",
    "df['ERTEXPlog'] = np.log(df['ERTEXP12'])\n",
    "df['HHAEXPlog'] = np.log(df['HHAEXP12'])\n",
    "df['IPTEXPlog'] = np.log(df['IPTEXP12'])\n",
    "df['RXEXPlog'] = np.log(df['RXEXP12'])\n",
    "df['TOTEXPlog'] = np.log(df['TOTEXP12'])"
   ]
  },
  {
   "cell_type": "code",
   "execution_count": 8,
   "metadata": {
    "collapsed": false,
    "scrolled": false
   },
   "outputs": [
    {
     "data": {
      "text/html": [
       "<div style=\"max-height:1000px;max-width:1500px;overflow:auto;\">\n",
       "<table border=\"1\" class=\"dataframe\">\n",
       "  <thead>\n",
       "    <tr style=\"text-align: right;\">\n",
       "      <th></th>\n",
       "      <th>Unnamed: 0</th>\n",
       "      <th>Unnamed: 0.1</th>\n",
       "      <th>DUID_x</th>\n",
       "      <th>PID_x</th>\n",
       "      <th>DUPERSID</th>\n",
       "      <th>OBVTCH12</th>\n",
       "      <th>OBVEXP12</th>\n",
       "      <th>ERTTCH12</th>\n",
       "      <th>ERTEXP12</th>\n",
       "      <th>IPTTCH12</th>\n",
       "      <th>...</th>\n",
       "      <th>ADCAPE42</th>\n",
       "      <th>ADNRGY42</th>\n",
       "      <th>ADDOWN42</th>\n",
       "      <th>ADSOCA42</th>\n",
       "      <th>OBVEXPlog</th>\n",
       "      <th>ERTEXPlog</th>\n",
       "      <th>HHAEXPlog</th>\n",
       "      <th>IPTEXPlog</th>\n",
       "      <th>RXEXPlog</th>\n",
       "      <th>TOTEXPlog</th>\n",
       "    </tr>\n",
       "  </thead>\n",
       "  <tbody>\n",
       "    <tr>\n",
       "      <th>0</th>\n",
       "      <td>0</td>\n",
       "      <td>0</td>\n",
       "      <td>20004</td>\n",
       "      <td>101</td>\n",
       "      <td>20004101</td>\n",
       "      <td>NaN</td>\n",
       "      <td>NaN</td>\n",
       "      <td>NaN</td>\n",
       "      <td>NaN</td>\n",
       "      <td>NaN</td>\n",
       "      <td>...</td>\n",
       "      <td>2</td>\n",
       "      <td>3</td>\n",
       "      <td>4</td>\n",
       "      <td>5</td>\n",
       "      <td>NaN</td>\n",
       "      <td>NaN</td>\n",
       "      <td>NaN</td>\n",
       "      <td>NaN</td>\n",
       "      <td>NaN</td>\n",
       "      <td>NaN</td>\n",
       "    </tr>\n",
       "    <tr>\n",
       "      <th>1</th>\n",
       "      <td>1</td>\n",
       "      <td>1</td>\n",
       "      <td>20004</td>\n",
       "      <td>102</td>\n",
       "      <td>20004102</td>\n",
       "      <td>NaN</td>\n",
       "      <td>NaN</td>\n",
       "      <td>NaN</td>\n",
       "      <td>NaN</td>\n",
       "      <td>NaN</td>\n",
       "      <td>...</td>\n",
       "      <td>3</td>\n",
       "      <td>3</td>\n",
       "      <td>4</td>\n",
       "      <td>5</td>\n",
       "      <td>NaN</td>\n",
       "      <td>NaN</td>\n",
       "      <td>NaN</td>\n",
       "      <td>NaN</td>\n",
       "      <td>NaN</td>\n",
       "      <td>NaN</td>\n",
       "    </tr>\n",
       "    <tr>\n",
       "      <th>2</th>\n",
       "      <td>2</td>\n",
       "      <td>2</td>\n",
       "      <td>20004</td>\n",
       "      <td>103</td>\n",
       "      <td>20004103</td>\n",
       "      <td>NaN</td>\n",
       "      <td>NaN</td>\n",
       "      <td>NaN</td>\n",
       "      <td>NaN</td>\n",
       "      <td>NaN</td>\n",
       "      <td>...</td>\n",
       "      <td>0</td>\n",
       "      <td>0</td>\n",
       "      <td>0</td>\n",
       "      <td>0</td>\n",
       "      <td>NaN</td>\n",
       "      <td>NaN</td>\n",
       "      <td>NaN</td>\n",
       "      <td>NaN</td>\n",
       "      <td>NaN</td>\n",
       "      <td>4.317488</td>\n",
       "    </tr>\n",
       "    <tr>\n",
       "      <th>3</th>\n",
       "      <td>3</td>\n",
       "      <td>3</td>\n",
       "      <td>20005</td>\n",
       "      <td>101</td>\n",
       "      <td>20005101</td>\n",
       "      <td>1100</td>\n",
       "      <td>451</td>\n",
       "      <td>NaN</td>\n",
       "      <td>NaN</td>\n",
       "      <td>NaN</td>\n",
       "      <td>...</td>\n",
       "      <td>3</td>\n",
       "      <td>4</td>\n",
       "      <td>2</td>\n",
       "      <td>2</td>\n",
       "      <td>6.111467</td>\n",
       "      <td>NaN</td>\n",
       "      <td>NaN</td>\n",
       "      <td>NaN</td>\n",
       "      <td>5.68358</td>\n",
       "      <td>6.613384</td>\n",
       "    </tr>\n",
       "    <tr>\n",
       "      <th>4</th>\n",
       "      <td>4</td>\n",
       "      <td>4</td>\n",
       "      <td>20005</td>\n",
       "      <td>102</td>\n",
       "      <td>20005102</td>\n",
       "      <td>490</td>\n",
       "      <td>127</td>\n",
       "      <td>NaN</td>\n",
       "      <td>NaN</td>\n",
       "      <td>NaN</td>\n",
       "      <td>...</td>\n",
       "      <td>1</td>\n",
       "      <td>1</td>\n",
       "      <td>5</td>\n",
       "      <td>5</td>\n",
       "      <td>4.844187</td>\n",
       "      <td>NaN</td>\n",
       "      <td>NaN</td>\n",
       "      <td>NaN</td>\n",
       "      <td>NaN</td>\n",
       "      <td>4.844187</td>\n",
       "    </tr>\n",
       "  </tbody>\n",
       "</table>\n",
       "<p>5 rows × 75 columns</p>\n",
       "</div>"
      ],
      "text/plain": [
       "   Unnamed: 0  Unnamed: 0.1  DUID_x  PID_x  DUPERSID  OBVTCH12  OBVEXP12  \\\n",
       "0           0             0   20004    101  20004101       NaN       NaN   \n",
       "1           1             1   20004    102  20004102       NaN       NaN   \n",
       "2           2             2   20004    103  20004103       NaN       NaN   \n",
       "3           3             3   20005    101  20005101      1100       451   \n",
       "4           4             4   20005    102  20005102       490       127   \n",
       "\n",
       "   ERTTCH12  ERTEXP12  IPTTCH12    ...      ADCAPE42  ADNRGY42  ADDOWN42  \\\n",
       "0       NaN       NaN       NaN    ...             2         3         4   \n",
       "1       NaN       NaN       NaN    ...             3         3         4   \n",
       "2       NaN       NaN       NaN    ...             0         0         0   \n",
       "3       NaN       NaN       NaN    ...             3         4         2   \n",
       "4       NaN       NaN       NaN    ...             1         1         5   \n",
       "\n",
       "   ADSOCA42  OBVEXPlog  ERTEXPlog  HHAEXPlog  IPTEXPlog  RXEXPlog  TOTEXPlog  \n",
       "0         5        NaN        NaN        NaN        NaN       NaN        NaN  \n",
       "1         5        NaN        NaN        NaN        NaN       NaN        NaN  \n",
       "2         0        NaN        NaN        NaN        NaN       NaN   4.317488  \n",
       "3         2   6.111467        NaN        NaN        NaN   5.68358   6.613384  \n",
       "4         5   4.844187        NaN        NaN        NaN       NaN   4.844187  \n",
       "\n",
       "[5 rows x 75 columns]"
      ]
     },
     "execution_count": 8,
     "metadata": {},
     "output_type": "execute_result"
    }
   ],
   "source": [
    "df.head()"
   ]
  },
  {
   "cell_type": "markdown",
   "metadata": {},
   "source": [
    "# Create Feature & class arrays for each expenditure type\n",
    "\n",
    "Taking into account best features for each model"
   ]
  },
  {
   "cell_type": "markdown",
   "metadata": {},
   "source": [
    "### Office based visits"
   ]
  },
  {
   "cell_type": "code",
   "execution_count": 9,
   "metadata": {
    "collapsed": true
   },
   "outputs": [],
   "source": [
    "obdf = df[np.isfinite(df['OBVEXP12'])]\n",
    "\n",
    "obX = obdf[['POVLEV12','HLTHSTAT',\"BMINDX53\",\"HIBPAGED\",\n",
    "            \"STRKAGED\",'MNHLTHSTAT',\"DIABAGED\",'AGELAST',\n",
    "            \"ADPAIN42\",\"CHOLAGED\", \"ADCAPE42\", 'EDRECODE',\n",
    "            \"ADNRGY42\"]]\n",
    "obX0 = obX.fillna(0)\n",
    "\n",
    "obY = obdf['OBVEXPlog']"
   ]
  },
  {
   "cell_type": "code",
   "execution_count": 10,
   "metadata": {
    "collapsed": false,
    "scrolled": true
   },
   "outputs": [
    {
     "data": {
      "text/plain": [
       "<matplotlib.collections.PathCollection at 0x10de4b9d0>"
      ]
     },
     "execution_count": 10,
     "metadata": {},
     "output_type": "execute_result"
    },
    {
     "data": {
      "image/png": "[encoded data removed]",
      "text/plain": [
       "<matplotlib.figure.Figure at 0x106657e10>"
      ]
     },
     "metadata": {},
     "output_type": "display_data"
    }
   ],
   "source": [
    "x = np.arange(len(obY))\n",
    "plt.scatter(x,obY)"
   ]
  },
  {
   "cell_type": "code",
   "execution_count": 11,
   "metadata": {
    "collapsed": false,
    "scrolled": true
   },
   "outputs": [
    {
     "data": {
      "text/plain": [
       "784.0"
      ]
     },
     "execution_count": 11,
     "metadata": {},
     "output_type": "execute_result"
    }
   ],
   "source": [
    "np.median(obdf['RXEXP12'])"
   ]
  },
  {
   "cell_type": "code",
   "execution_count": 12,
   "metadata": {
    "collapsed": false
   },
   "outputs": [
    {
     "data": {
      "text/plain": [
       "<matplotlib.collections.PathCollection at 0x10dbc5550>"
      ]
     },
     "execution_count": 12,
     "metadata": {},
     "output_type": "execute_result"
    },
    {
     "data": {
      "image/png": "[encoded data removed]",
      "text/plain": [
       "<matplotlib.figure.Figure at 0x10de7f310>"
      ]
     },
     "metadata": {},
     "output_type": "display_data"
    }
   ],
   "source": [
    "plt.scatter(x,obdf['IPTEXP12'])"
   ]
  },
  {
   "cell_type": "code",
   "execution_count": 13,
   "metadata": {
    "collapsed": false
   },
   "outputs": [
    {
     "data": {
      "text/plain": [
       "(24274, 75)"
      ]
     },
     "execution_count": 13,
     "metadata": {},
     "output_type": "execute_result"
    }
   ],
   "source": [
    "obdf.shape"
   ]
  },
  {
   "cell_type": "markdown",
   "metadata": {},
   "source": [
    "### ER Visits"
   ]
  },
  {
   "cell_type": "code",
   "execution_count": 14,
   "metadata": {
    "collapsed": true
   },
   "outputs": [],
   "source": [
    "erdf = df[np.isfinite(df['ERTEXP12'])]\n",
    "\n",
    "erX = erdf[['POVLEV12','HLTHSTAT',\"BMINDX53\",\"HIBPAGED\",\n",
    "            \"STRKAGED\",'MNHLTHSTAT',\"DIABAGED\",'AGELAST',\n",
    "            \"ADPAIN42\",\"CHOLAGED\", \"ADCAPE42\", 'EDRECODE',\n",
    "            \"ADNRGY42\",'ACTDTY53','MARRY12X']]\n",
    "erX0 = erX.fillna(0)\n",
    "\n",
    "erY = erdf['ERTEXPlog']"
   ]
  },
  {
   "cell_type": "code",
   "execution_count": 15,
   "metadata": {
    "collapsed": false
   },
   "outputs": [
    {
     "data": {
      "text/plain": [
       "(4627, 75)"
      ]
     },
     "execution_count": 15,
     "metadata": {},
     "output_type": "execute_result"
    }
   ],
   "source": [
    "erdf.shape"
   ]
  },
  {
   "cell_type": "markdown",
   "metadata": {},
   "source": [
    "### Inpatient Visits"
   ]
  },
  {
   "cell_type": "code",
   "execution_count": 16,
   "metadata": {
    "collapsed": true
   },
   "outputs": [],
   "source": [
    "indf = df[np.isfinite(df['IPTEXP12'])]\n",
    "\n",
    "inX = indf[['POVLEV12','HLTHSTAT',\"BMINDX53\",\"HIBPAGED\",\n",
    "            \"STRKAGED\",'MNHLTHSTAT',\"DIABAGED\",'AGELAST',\n",
    "            \"ADPAIN42\",\"CHOLAGED\", \"ADCAPE42\", 'EDRECODE',\n",
    "            \"ADNRGY42\",'HIDEG','SEX','ANYLIM12', 'HISPCAT']]\n",
    "inX0 = inX.fillna(0)\n",
    "\n",
    "inY = indf['IPTEXPlog']"
   ]
  },
  {
   "cell_type": "code",
   "execution_count": 17,
   "metadata": {
    "collapsed": false
   },
   "outputs": [
    {
     "data": {
      "text/plain": [
       "(2361, 75)"
      ]
     },
     "execution_count": 17,
     "metadata": {},
     "output_type": "execute_result"
    }
   ],
   "source": [
    "indf.shape"
   ]
  },
  {
   "cell_type": "markdown",
   "metadata": {},
   "source": [
    "### Home Health"
   ]
  },
  {
   "cell_type": "code",
   "execution_count": 18,
   "metadata": {
    "collapsed": true
   },
   "outputs": [],
   "source": [
    "hhdf = df[np.isfinite(df['HHAEXP12'])]\n",
    "\n",
    "hhX = hhdf[['POVLEV12','HLTHSTAT',\"BMINDX53\",\"HIBPAGED\",\n",
    "            \"STRKAGED\",'MNHLTHSTAT',\"DIABAGED\",'AGELAST',\n",
    "            \"CHOLAGED\", \"ADCAPE42\", 'EDRECODE',\"ADNRGY42\",\n",
    "            'MARRY12X', 'RACEV1X']]\n",
    "hhX0 = hhX.fillna(0)\n",
    "\n",
    "hhY = hhdf['HHAEXPlog']"
   ]
  },
  {
   "cell_type": "markdown",
   "metadata": {},
   "source": [
    "### RX "
   ]
  },
  {
   "cell_type": "code",
   "execution_count": 19,
   "metadata": {
    "collapsed": false
   },
   "outputs": [],
   "source": [
    "rxdf = df[np.isfinite(df['RXEXP12'])]\n",
    "\n",
    "rxX = rxdf[['POVLEV12','HLTHSTAT',\"BMINDX53\",\"HIBPAGED\",\n",
    "            \"STRKAGED\",'MNHLTHSTAT',\"DIABAGED\",'AGELAST',\n",
    "            \"CHOLAGED\", 'EDRECODE',\"ADNRGY42\",'ANYLIM12', \n",
    "            'ADHDAGED','HIDEG','ADPAIN42','RACEV1X']]\n",
    "rxX0 = rxX.fillna(0)\n",
    "\n",
    "rxY = rxdf['RXEXPlog']"
   ]
  },
  {
   "cell_type": "code",
   "execution_count": 20,
   "metadata": {
    "collapsed": false
   },
   "outputs": [
    {
     "data": {
      "text/plain": [
       "(20376, 75)"
      ]
     },
     "execution_count": 20,
     "metadata": {},
     "output_type": "execute_result"
    }
   ],
   "source": [
    "rxdf.shape"
   ]
  },
  {
   "cell_type": "markdown",
   "metadata": {},
   "source": [
    "### Total"
   ]
  },
  {
   "cell_type": "code",
   "execution_count": 22,
   "metadata": {
    "collapsed": false
   },
   "outputs": [],
   "source": [
    "totdf = df[np.isfinite(df['TOTEXP12'])]\n",
    "\n",
    "totX = totdf[['MNHLTHSTAT','HLTHSTAT', 'SEX', 'AGELAST',\n",
    "            'POVLEV12','HIDEG','EDRECODE',\"HIBPAGED\", \n",
    "             \"STRKAGED\",\"CHOLAGED\", \"DIABAGED\", \"JTPAIN31\",\n",
    "            \"BMINDX53\",\"ADMALS42\", \"ADMWLM42\",\"ADPAIN42\",  \n",
    "            \"ADNRGY42\"]]\n",
    "totX0 = totX.fillna(0)\n",
    "\n",
    "totY = totdf['TOTEXPlog']"
   ]
  },
  {
   "cell_type": "code",
   "execution_count": 23,
   "metadata": {
    "collapsed": false
   },
   "outputs": [
    {
     "data": {
      "text/plain": [
       "(29807, 75)"
      ]
     },
     "execution_count": 23,
     "metadata": {},
     "output_type": "execute_result"
    }
   ],
   "source": [
    "totdf.shape"
   ]
  },
  {
   "cell_type": "code",
   "execution_count": 24,
   "metadata": {
    "collapsed": true
   },
   "outputs": [],
   "source": [
    "# bank of column labels\n",
    "#df[['MNHLTHSTAT','HLTHSTAT','RACEV1X', 'SEX', 'AGELAST',\n",
    "#            'POVCAT12','POVLEV12','HISPANX','HISPCAT',\n",
    "#            'HIDEG', \n",
    "#            'EDRECODE','FTSTU12X','HONRDC53',\n",
    "#           \"HIBPDX\",\"HIBPAGED\", \"STRKDX\", \"STRKAGED\",\"CHOLDX\", \n",
    "#          \"CHOLAGED\", \"CANCERDX\",\"DIABDX\", \"DIABAGED\", \"JTPAIN31\",\n",
    "#            \"JTPAIN53\", \"ADHDADDX\", \"ADHDAGED\",\"ANYLIM12\", \"BMINDX53\", \n",
    "#            \"ADSMOK42\",\"ADMALS42\", \"ADMWLM42\",\"ADPAIN42\", \"ADCAPE42\", \n",
    "#            \"ADNRGY42\",\"ADDOWN42\", \"ADSOCA42\"]]"
   ]
  },
  {
   "cell_type": "markdown",
   "metadata": {},
   "source": [
    "### Scale continuous & categorical (ordinal) features"
   ]
  },
  {
   "cell_type": "markdown",
   "metadata": {},
   "source": [
    "### Office-based visits"
   ]
  },
  {
   "cell_type": "code",
   "execution_count": 25,
   "metadata": {
    "collapsed": false
   },
   "outputs": [],
   "source": [
    "# re-scale (normalize) continuous  & categorical (ordinal) data\n",
    "from sklearn import preprocessing\n",
    "\n",
    "obX1 = preprocessing.StandardScaler().fit(obX0)\n",
    "obX1 = obX1.transform(obX0)"
   ]
  },
  {
   "cell_type": "markdown",
   "metadata": {},
   "source": [
    "### ER Visits"
   ]
  },
  {
   "cell_type": "code",
   "execution_count": 26,
   "metadata": {
    "collapsed": false
   },
   "outputs": [],
   "source": [
    "columns = ['POVLEV12','HLTHSTAT',\"BMINDX53\",\"HIBPAGED\",\n",
    "            \"STRKAGED\",'MNHLTHSTAT',\"DIABAGED\",'AGELAST',\n",
    "            \"ADPAIN42\",\"CHOLAGED\", \"ADCAPE42\", 'EDRECODE',\n",
    "            \"ADNRGY42\"]\n",
    "#'ACTDTY53','MARRY12X'\n",
    "\n",
    "# re-scale (normalize) continuous  & categorical (ordinal) data\n",
    "erX1 = preprocessing.StandardScaler().fit(erX0[columns])\n",
    "erX1 = erX1.transform(erX0[columns])\n",
    "\n",
    "erX2 = np.append(erX1,erX0[['ACTDTY53','MARRY12X']], axis=1)\n"
   ]
  },
  {
   "cell_type": "markdown",
   "metadata": {},
   "source": [
    "### Inpatient Visits\n",
    "\n"
   ]
  },
  {
   "cell_type": "code",
   "execution_count": 27,
   "metadata": {
    "collapsed": true
   },
   "outputs": [],
   "source": [
    "columns = ['POVLEV12','HLTHSTAT',\"BMINDX53\",\"HIBPAGED\",\n",
    "            \"STRKAGED\",'MNHLTHSTAT',\"DIABAGED\",'AGELAST',\n",
    "            \"ADPAIN42\",\"CHOLAGED\", \"ADCAPE42\", 'EDRECODE',\n",
    "            \"ADNRGY42\"]\n",
    "#'HIDEG','SEX','ANYLIM12', 'HISPCAT'\n",
    "# re-scale (normalize) continuous  & categorical (ordinal) data\n",
    "inX1 = preprocessing.StandardScaler().fit(inX0[columns])\n",
    "inX1 = inX1.transform(inX0[columns])\n",
    "\n",
    "inX2 = np.append(inX1,inX0[['HIDEG','SEX','ANYLIM12', 'HISPCAT']], axis=1)"
   ]
  },
  {
   "cell_type": "markdown",
   "metadata": {},
   "source": [
    "### Home Health"
   ]
  },
  {
   "cell_type": "code",
   "execution_count": 28,
   "metadata": {
    "collapsed": true
   },
   "outputs": [],
   "source": [
    "columns = ['POVLEV12','HLTHSTAT',\"BMINDX53\",\"HIBPAGED\",\n",
    "            \"STRKAGED\",'MNHLTHSTAT',\"DIABAGED\",'AGELAST',\n",
    "            \"CHOLAGED\", \"ADCAPE42\", 'EDRECODE',\"ADNRGY42\",\n",
    "            ]\n",
    "#'MARRY12X', 'RACEV1X'\n",
    "# re-scale (normalize) continuous  & categorical (ordinal) data\n",
    "hhX1 = preprocessing.StandardScaler().fit(hhX0[columns])\n",
    "hhX1 = hhX1.transform(hhX0[columns])\n",
    "\n",
    "hhX2 = np.append(hhX1,hhX0[['MARRY12X', 'RACEV1X']], axis=1)"
   ]
  },
  {
   "cell_type": "markdown",
   "metadata": {},
   "source": [
    "### RX"
   ]
  },
  {
   "cell_type": "code",
   "execution_count": 29,
   "metadata": {
    "collapsed": true
   },
   "outputs": [],
   "source": [
    "columns = ['POVLEV12','HLTHSTAT',\"BMINDX53\",\"HIBPAGED\",\n",
    "            \"STRKAGED\",'MNHLTHSTAT',\"DIABAGED\",'AGELAST',\n",
    "            \"CHOLAGED\", 'EDRECODE',\"ADNRGY42\", 'ADHDAGED',\n",
    "            'ADPAIN42']\n",
    "#'ANYLIM12',,'HIDEG','RACEV1X'\n",
    "# re-scale (normalize) continuous  & categorical (ordinal) data\n",
    "rxX1 = preprocessing.StandardScaler().fit(rxX0[columns])\n",
    "rxX1 = rxX1.transform(rxX0[columns])\n",
    "\n",
    "rxX2 = np.append(rxX1,rxX0[['ANYLIM12','HIDEG','RACEV1X']], axis=1)"
   ]
  },
  {
   "cell_type": "markdown",
   "metadata": {},
   "source": [
    "### Total"
   ]
  },
  {
   "cell_type": "code",
   "execution_count": 30,
   "metadata": {
    "collapsed": true
   },
   "outputs": [],
   "source": [
    "columns = ['MNHLTHSTAT','HLTHSTAT', 'AGELAST',\n",
    "            'POVLEV12','EDRECODE',\"HIBPAGED\", \n",
    "            \"STRKAGED\",\"CHOLAGED\", \"DIABAGED\", \"JTPAIN31\",\n",
    "            \"BMINDX53\",\"ADMALS42\", \"ADMWLM42\",\"ADPAIN42\",  \n",
    "            \"ADNRGY42\"]\n",
    "#''HIDEG', 'SEX',\n",
    "# re-scale (normalize) continuous  & categorical (ordinal) data\n",
    "totX1 = preprocessing.StandardScaler().fit(totX0[columns])\n",
    "totX1 = totX1.transform(totX0[columns])\n",
    "\n",
    "totX2 = np.append(totX1,totX0[['HIDEG', 'SEX']], axis=1)"
   ]
  },
  {
   "cell_type": "markdown",
   "metadata": {},
   "source": [
    "# Modeling round 1 (GBRT)"
   ]
  },
  {
   "cell_type": "markdown",
   "metadata": {},
   "source": [
    "### Office based visits"
   ]
  },
  {
   "cell_type": "code",
   "execution_count": null,
   "metadata": {
    "collapsed": true
   },
   "outputs": [],
   "source": []
  },
  {
   "cell_type": "code",
   "execution_count": 31,
   "metadata": {
    "collapsed": false
   },
   "outputs": [
    {
     "data": {
      "text/plain": [
       "GradientBoostingRegressor(alpha=0.9, init=None, learning_rate=0.01, loss='ls',\n",
       "             max_depth=2, max_features=0.3, max_leaf_nodes=None,\n",
       "             min_samples_leaf=5, min_samples_split=2, n_estimators=20000,\n",
       "             random_state=None, subsample=1.0, verbose=0, warm_start=False)"
      ]
     },
     "execution_count": 31,
     "metadata": {},
     "output_type": "execute_result"
    }
   ],
   "source": [
    "# run model (using hyperparameters from optimization)\n",
    "from sklearn.ensemble import GradientBoostingRegressor\n",
    "import numpy as np\n",
    "from sklearn.cross_validation import train_test_split\n",
    "\n",
    "rng = np.random.RandomState(42)\n",
    "obx_train, obx_test, oby_train, oby_test = train_test_split(obX1,obY, random_state=rng)\n",
    "obclf = GradientBoostingRegressor(n_estimators=20000,learning_rate=0.01,\n",
    "                                 max_depth=2,max_features=0.3,min_samples_leaf=5)\n",
    "obclf.fit(obx_train,oby_train)"
   ]
  },
  {
   "cell_type": "code",
   "execution_count": 32,
   "metadata": {
    "collapsed": false
   },
   "outputs": [
    {
     "name": "stdout",
     "output_type": "stream",
     "text": [
      "Fitting 3 folds for each of 20 candidates, totalling 60 fits\n"
     ]
    },
    {
     "name": "stderr",
     "output_type": "stream",
     "text": [
      "[Parallel(n_jobs=4)]: Done   1 jobs       | elapsed:    0.2s\n",
      "[Parallel(n_jobs=4)]: Done  50 jobs       | elapsed:    3.5s\n",
      "[Parallel(n_jobs=4)]: Done  60 out of  60 | elapsed:    7.9s finished\n"
     ]
    },
    {
     "name": "stdout",
     "output_type": "stream",
     "text": [
      "RandomizedSearchCV took 10.14 seconds parameter settings.\n",
      "Model with rank: 1\n",
      "Mean validation score: 0.186 (std: 0.010)\n",
      "Parameters: {'bootstrap': False, 'min_samples_leaf': 75, 'n_estimators': 100, 'min_samples_split': 65, 'max_features': 5, 'max_depth': None}\n",
      "\n",
      "Model with rank: 2\n",
      "Mean validation score: 0.186 (std: 0.011)\n",
      "Parameters: {'bootstrap': False, 'min_samples_leaf': 53, 'n_estimators': 10, 'min_samples_split': 38, 'max_features': 4, 'max_depth': None}\n",
      "\n",
      "Model with rank: 3\n",
      "Mean validation score: 0.185 (std: 0.013)\n",
      "Parameters: {'bootstrap': False, 'min_samples_leaf': 34, 'n_estimators': 100, 'min_samples_split': 30, 'max_features': 8, 'max_depth': None}\n",
      "\n"
     ]
    }
   ],
   "source": [
    "from time import time\n",
    "from scipy.stats import randint as sp_randint\n",
    "from operator import itemgetter\n",
    "from sklearn.grid_search import RandomizedSearchCV\n",
    "from sklearn.ensemble import RandomForestRegressor\n",
    "\n",
    "# Utility function to report best scores\n",
    "def report(grid_scores, n_top=3):\n",
    "    top_scores = sorted(grid_scores, key=itemgetter(1), reverse=True)[:n_top]\n",
    "    for i, score in enumerate(top_scores):\n",
    "        print(\"Model with rank: {0}\".format(i + 1))\n",
    "        print(\"Mean validation score: {0:.3f} (std: {1:.3f})\".format(\n",
    "              score.mean_validation_score,\n",
    "              np.std(score.cv_validation_scores)))\n",
    "        print(\"Parameters: {0}\".format(score.parameters))\n",
    "        print(\"\")\n",
    "\n",
    "clf = RandomForestRegressor()\n",
    "\n",
    "# specify parameters and distributions to sample from\n",
    "# from http://scikit-learn.org/stable/auto_examples/model_selection/randomized_search.html\n",
    "param_dist = {\"n_estimators\": [10, 20, 50, 100, 1000],\n",
    "              \"max_depth\": [3, None],\n",
    "              \"max_features\": sp_randint(1, 10),\n",
    "              \"min_samples_split\": sp_randint(1, 100),\n",
    "              \"min_samples_leaf\": sp_randint(1, 100),\n",
    "              \"bootstrap\": [True, False]}\n",
    "\n",
    "# run randomized search\n",
    "RS_RF= {\"f\": RandomizedSearchCV(clf, param_distributions=param_dist,\n",
    "                                                n_iter=20, n_jobs=4, verbose=1)}\n",
    "# Fit\n",
    "start = time()\n",
    "RS_RF[\"f\"].fit(obx_train,oby_train)\n",
    "print(\"RandomizedSearchCV took %.2f seconds\"\n",
    "      \" parameter settings.\" % ((time() - start),))\n",
    "\n",
    "report(RS_RF[\"f\"].grid_scores_)"
   ]
  },
  {
   "cell_type": "code",
   "execution_count": 33,
   "metadata": {
    "collapsed": false
   },
   "outputs": [
    {
     "name": "stdout",
     "output_type": "stream",
     "text": [
      "Tuned GBRT MAE: 0.9837\n"
     ]
    }
   ],
   "source": [
    "# Calculate Mean Absolute Value\n",
    "from sklearn.metrics import mean_absolute_error\n",
    "\n",
    "mae = mean_absolute_error(oby_test, obclf.predict(obx_test))\n",
    "print('Tuned GBRT MAE: %.4f' % mae)"
   ]
  },
  {
   "cell_type": "code",
   "execution_count": 34,
   "metadata": {
    "collapsed": false
   },
   "outputs": [
    {
     "name": "stdout",
     "output_type": "stream",
     "text": [
      "0.216357495014\n"
     ]
    }
   ],
   "source": [
    "# Calculate r^2 score\n",
    "from sklearn.metrics import r2_score\n",
    "\n",
    "ob_pred = obclf.predict(obx_test)\n",
    "obr2 = r2_score(oby_test, ob_pred) \n",
    "print obr2"
   ]
  },
  {
   "cell_type": "code",
   "execution_count": 35,
   "metadata": {
    "collapsed": false
   },
   "outputs": [
    {
     "data": {
      "text/plain": [
       "array([ 6.93527729])"
      ]
     },
     "execution_count": 35,
     "metadata": {},
     "output_type": "execute_result"
    }
   ],
   "source": [
    "\n",
    "obclf.predict([234,3,25,0,0,3,0,30,0,0,2,16,3])"
   ]
  },
  {
   "cell_type": "code",
   "execution_count": 38,
   "metadata": {
    "collapsed": false,
    "scrolled": true
   },
   "outputs": [
    {
     "data": {
      "image/png": "[encoded data removed]",
      "text/plain": [
       "<matplotlib.figure.Figure at 0x11600d210>"
      ]
     },
     "metadata": {},
     "output_type": "display_data"
    }
   ],
   "source": [
    "# plot feature importances (as a confirmation)\n",
    "names = obX0.columns\n",
    "sns.set_style(\"whitegrid\")\n",
    "sns.set_style(\"ticks\")\n",
    "sns.set_context(\"notebook\", font_scale=2)\n",
    "\n",
    "fig = plt.figure(figsize=(15,10))\n",
    "# sort importances\n",
    "indices = np.argsort(obclf.feature_importances_)\n",
    "# plot as bar chart\n",
    "plt.barh(np.arange(len(names)), obclf.feature_importances_[indices])\n",
    "plt.yticks(np.arange(len(names)) + 0.5, np.array(names)[indices])\n",
    "_ = plt.xlabel('Relative importance')\n",
    "plt.tick_params(axis='x', labelsize=20)\n",
    "plt.tick_params(axis='y', labelsize=20)\n"
   ]
  },
  {
   "cell_type": "code",
   "execution_count": 44,
   "metadata": {
    "collapsed": false,
    "scrolled": false
   },
   "outputs": [
    {
     "name": "stdout",
     "output_type": "stream",
     "text": [
      "[12 10  8  4  3  6  9  1 11  5  7  2  0]\n",
      "['ADNRGY42' 'ADCAPE42' 'ADPAIN42' 'STRKAGED' 'HIBPAGED' 'DIABAGED'\n",
      " 'CHOLAGED' 'HLTHSTAT' 'EDRECODE' 'MNHLTHSTAT' 'AGELAST' 'BMINDX53'\n",
      " 'POVLEV12']\n",
      "[ 0.02520773  0.03494622  0.04111321  0.04765657  0.05784357  0.06078251\n",
      "  0.0657352   0.07046923  0.07989462  0.08377015  0.10646701  0.13149703\n",
      "  0.19461696]\n"
     ]
    }
   ],
   "source": [
    "print indices\n",
    "print np.array(names)[indices]\n",
    "print obclf.feature_importances_[indices]"
   ]
  },
  {
   "cell_type": "code",
   "execution_count": 55,
   "metadata": {
    "collapsed": false
   },
   "outputs": [
    {
     "data": {
      "image/png": "[encoded data removed]",
      "text/plain": [
       "<matplotlib.figure.Figure at 0x119d3db50>"
      ]
     },
     "metadata": {},
     "output_type": "display_data"
    }
   ],
   "source": [
    "x = [0.07046923, 0.07989462, 0.08377015, 0.10646701, 0.13149703,  0.19461696]\n",
    "y = ['Poverty Level','BMI','Age','Mental Health','Physical Health','Education Level']\n",
    "y1 = np.arange(6)\n",
    "plt.barh(y1, x)\n",
    "plt.tick_params(axis='x', labelsize=30)\n",
    "plt.tick_params(axis='y')\n",
    "\n",
    "ax = plt.subplot(111)    \n",
    "ax.spines[\"top\"].set_visible(False)    \n",
    "ax.spines[\"bottom\"].set_visible(False)    \n",
    "ax.spines[\"right\"].set_visible(False)    \n",
    "ax.spines[\"left\"].set_visible(False)    \n",
    "  \n",
    "# Ensure that the axis ticks only show up on the bottom and left of the plot.    \n",
    "# Ticks on the right and top of the plot are generally unnecessary chartjunk.    \n",
    "ax.get_xaxis().tick_bottom()    \n",
    "ax.get_yaxis().tick_left()"
   ]
  },
  {
   "cell_type": "code",
   "execution_count": null,
   "metadata": {
    "collapsed": true
   },
   "outputs": [],
   "source": []
  },
  {
   "cell_type": "markdown",
   "metadata": {},
   "source": [
    "### ER Visits"
   ]
  },
  {
   "cell_type": "code",
   "execution_count": 137,
   "metadata": {
    "collapsed": false
   },
   "outputs": [
    {
     "data": {
      "text/plain": [
       "GradientBoostingRegressor(alpha=0.9, init=None, learning_rate=0.01, loss='ls',\n",
       "             max_depth=2, max_features=0.3, max_leaf_nodes=None,\n",
       "             min_samples_leaf=5, min_samples_split=2, n_estimators=20000,\n",
       "             random_state=None, subsample=1.0, verbose=0, warm_start=False)"
      ]
     },
     "execution_count": 137,
     "metadata": {},
     "output_type": "execute_result"
    }
   ],
   "source": [
    "# run model (using hyperparameters from optimization)\n",
    "rng = np.random.RandomState(42)\n",
    "erx_train, erx_test, ery_train, ery_test = train_test_split(erX2,erY, random_state=rng)\n",
    "erclf = GradientBoostingRegressor(n_estimators=20000,learning_rate=0.01,\n",
    "                                 max_depth=2,max_features=0.3,min_samples_leaf=5)\n",
    "erclf.fit(erx_train,ery_train)"
   ]
  },
  {
   "cell_type": "code",
   "execution_count": 138,
   "metadata": {
    "collapsed": false,
    "scrolled": true
   },
   "outputs": [
    {
     "name": "stdout",
     "output_type": "stream",
     "text": [
      "Tuned GBRT MAE: 1.0506\n"
     ]
    }
   ],
   "source": [
    "# Calculate Mean Absolute Value\n",
    "mae = mean_absolute_error(ery_test, erclf.predict(erx_test))\n",
    "print('Tuned GBRT MAE: %.4f' % mae)"
   ]
  },
  {
   "cell_type": "code",
   "execution_count": 139,
   "metadata": {
    "collapsed": false
   },
   "outputs": [
    {
     "name": "stdout",
     "output_type": "stream",
     "text": [
      "0.0101765636708\n"
     ]
    }
   ],
   "source": [
    "# Calculate r^2 score\n",
    "er_pred = erclf.predict(erx_test)\n",
    "err2 = r2_score(ery_test, er_pred) \n",
    "print err2"
   ]
  },
  {
   "cell_type": "code",
   "execution_count": 167,
   "metadata": {
    "collapsed": false
   },
   "outputs": [
    {
     "data": {
      "text/plain": [
       "array([ 4.79553648])"
      ]
     },
     "execution_count": 167,
     "metadata": {},
     "output_type": "execute_result"
    }
   ],
   "source": [
    "\n",
    "erclf.predict([234,3,25,0,0,3,0,30,0,0,3,16,3,0,1])"
   ]
  },
  {
   "cell_type": "code",
   "execution_count": null,
   "metadata": {
    "collapsed": true
   },
   "outputs": [],
   "source": []
  },
  {
   "cell_type": "markdown",
   "metadata": {},
   "source": [
    "### Inpatient Visits"
   ]
  },
  {
   "cell_type": "code",
   "execution_count": 140,
   "metadata": {
    "collapsed": false
   },
   "outputs": [
    {
     "data": {
      "text/plain": [
       "GradientBoostingRegressor(alpha=0.9, init=None, learning_rate=0.01, loss='ls',\n",
       "             max_depth=2, max_features=0.3, max_leaf_nodes=None,\n",
       "             min_samples_leaf=5, min_samples_split=2, n_estimators=20000,\n",
       "             random_state=None, subsample=1.0, verbose=0, warm_start=False)"
      ]
     },
     "execution_count": 140,
     "metadata": {},
     "output_type": "execute_result"
    }
   ],
   "source": [
    "# run model (using hyperparameters from optimization)\n",
    "rng = np.random.RandomState(42)\n",
    "inx_train, inx_test, iny_train, iny_test = train_test_split(inX2,inY, random_state=rng)\n",
    "inclf = GradientBoostingRegressor(n_estimators=20000,learning_rate=0.01,\n",
    "                                 max_depth=2,max_features=0.3,min_samples_leaf=5)\n",
    "inclf.fit(inx_train,iny_train)"
   ]
  },
  {
   "cell_type": "code",
   "execution_count": 141,
   "metadata": {
    "collapsed": false
   },
   "outputs": [
    {
     "name": "stdout",
     "output_type": "stream",
     "text": [
      "Tuned GBRT MAE: 0.9911\n"
     ]
    }
   ],
   "source": [
    "# Calculate Mean Absolute Value\n",
    "mae = mean_absolute_error(iny_test, inclf.predict(inx_test))\n",
    "print('Tuned GBRT MAE: %.4f' % mae)"
   ]
  },
  {
   "cell_type": "code",
   "execution_count": 142,
   "metadata": {
    "collapsed": false
   },
   "outputs": [
    {
     "name": "stdout",
     "output_type": "stream",
     "text": [
      "-0.00815191580129\n"
     ]
    }
   ],
   "source": [
    "# Calculate r^2 score\n",
    "in_pred = inclf.predict(inx_test)\n",
    "inr2 = r2_score(iny_test, in_pred) \n",
    "print inr2"
   ]
  },
  {
   "cell_type": "code",
   "execution_count": null,
   "metadata": {
    "collapsed": true
   },
   "outputs": [],
   "source": []
  },
  {
   "cell_type": "markdown",
   "metadata": {},
   "source": [
    "### Home Health"
   ]
  },
  {
   "cell_type": "code",
   "execution_count": 143,
   "metadata": {
    "collapsed": false
   },
   "outputs": [
    {
     "data": {
      "text/plain": [
       "GradientBoostingRegressor(alpha=0.9, init=None, learning_rate=0.01, loss='ls',\n",
       "             max_depth=2, max_features=0.3, max_leaf_nodes=None,\n",
       "             min_samples_leaf=5, min_samples_split=2, n_estimators=20000,\n",
       "             random_state=None, subsample=1.0, verbose=0, warm_start=False)"
      ]
     },
     "execution_count": 143,
     "metadata": {},
     "output_type": "execute_result"
    }
   ],
   "source": [
    "# run model (using hyperparameters from optimization)\n",
    "rng = np.random.RandomState(42)\n",
    "hhx_train, hhx_test, hhy_train, hhy_test = train_test_split(hhX2,hhY, random_state=rng)\n",
    "hhclf = GradientBoostingRegressor(n_estimators=20000,learning_rate=0.01,\n",
    "                                 max_depth=2,max_features=0.3,min_samples_leaf=5)\n",
    "hhclf.fit(hhx_train,hhy_train)"
   ]
  },
  {
   "cell_type": "code",
   "execution_count": 144,
   "metadata": {
    "collapsed": false
   },
   "outputs": [
    {
     "name": "stdout",
     "output_type": "stream",
     "text": [
      "Tuned GBRT MAE: 1.4510\n"
     ]
    }
   ],
   "source": [
    "# Calculate Mean Absolute Value\n",
    "mae = mean_absolute_error(hhy_test, hhclf.predict(hhx_test))\n",
    "print('Tuned GBRT MAE: %.4f' % mae)"
   ]
  },
  {
   "cell_type": "code",
   "execution_count": 145,
   "metadata": {
    "collapsed": false
   },
   "outputs": [
    {
     "name": "stdout",
     "output_type": "stream",
     "text": [
      "-0.332446972414\n"
     ]
    }
   ],
   "source": [
    "# Calculate r^2 score\n",
    "hh_pred = hhclf.predict(hhx_test)\n",
    "hhr2 = r2_score(hhy_test, hh_pred) \n",
    "print hhr2"
   ]
  },
  {
   "cell_type": "markdown",
   "metadata": {},
   "source": [
    "### RX"
   ]
  },
  {
   "cell_type": "code",
   "execution_count": 146,
   "metadata": {
    "collapsed": false
   },
   "outputs": [
    {
     "data": {
      "text/plain": [
       "GradientBoostingRegressor(alpha=0.9, init=None, learning_rate=0.01, loss='ls',\n",
       "             max_depth=2, max_features=0.3, max_leaf_nodes=None,\n",
       "             min_samples_leaf=5, min_samples_split=2, n_estimators=20000,\n",
       "             random_state=None, subsample=1.0, verbose=0, warm_start=False)"
      ]
     },
     "execution_count": 146,
     "metadata": {},
     "output_type": "execute_result"
    }
   ],
   "source": [
    "# run model (using hyperparameters from optimization)\n",
    "rng = np.random.RandomState(42)\n",
    "rxx_train, rxx_test, rxy_train, rxy_test = train_test_split(rxX2,rxY, random_state=rng)\n",
    "rxclf = GradientBoostingRegressor(n_estimators=20000,learning_rate=0.01,\n",
    "                                 max_depth=2,max_features=0.3,min_samples_leaf=5)\n",
    "rxclf.fit(rxx_train,rxy_train)"
   ]
  },
  {
   "cell_type": "code",
   "execution_count": 147,
   "metadata": {
    "collapsed": false
   },
   "outputs": [
    {
     "name": "stdout",
     "output_type": "stream",
     "text": [
      "Tuned GBRT MAE: 1.4076\n"
     ]
    }
   ],
   "source": [
    "# Calculate Mean Absolute Value\n",
    "mae = mean_absolute_error(rxy_test, rxclf.predict(rxx_test))\n",
    "print('Tuned GBRT MAE: %.4f' % mae)"
   ]
  },
  {
   "cell_type": "code",
   "execution_count": 148,
   "metadata": {
    "collapsed": false
   },
   "outputs": [
    {
     "name": "stdout",
     "output_type": "stream",
     "text": [
      "0.333737970759\n"
     ]
    }
   ],
   "source": [
    "# Calculate r^2 score\n",
    "rx_pred = rxclf.predict(rxx_test)\n",
    "rxr2 = r2_score(rxy_test, rx_pred) \n",
    "print rxr2"
   ]
  },
  {
   "cell_type": "code",
   "execution_count": 169,
   "metadata": {
    "collapsed": false
   },
   "outputs": [
    {
     "data": {
      "text/plain": [
       "array([ 8.3037315])"
      ]
     },
     "execution_count": 169,
     "metadata": {},
     "output_type": "execute_result"
    }
   ],
   "source": [
    "\n",
    "rxclf.predict([234,3,25,0,0,3,0,30,0,16,3,0,0,0,8,1])"
   ]
  },
  {
   "cell_type": "code",
   "execution_count": null,
   "metadata": {
    "collapsed": true
   },
   "outputs": [],
   "source": []
  },
  {
   "cell_type": "markdown",
   "metadata": {},
   "source": [
    "### Total"
   ]
  },
  {
   "cell_type": "code",
   "execution_count": 149,
   "metadata": {
    "collapsed": false
   },
   "outputs": [
    {
     "data": {
      "text/plain": [
       "GradientBoostingRegressor(alpha=0.9, init=None, learning_rate=0.01, loss='ls',\n",
       "             max_depth=2, max_features=0.3, max_leaf_nodes=None,\n",
       "             min_samples_leaf=5, min_samples_split=2, n_estimators=20000,\n",
       "             random_state=None, subsample=1.0, verbose=0, warm_start=False)"
      ]
     },
     "execution_count": 149,
     "metadata": {},
     "output_type": "execute_result"
    }
   ],
   "source": [
    "# run model (using hyperparameters from optimization)\n",
    "rng = np.random.RandomState(42)\n",
    "totx_train, totx_test, toty_train, toty_test = train_test_split(totX2,totY, random_state=rng)\n",
    "totclf = GradientBoostingRegressor(n_estimators=20000,learning_rate=0.01,\n",
    "                                 max_depth=2,max_features=0.3,min_samples_leaf=5)\n",
    "totclf.fit(totx_train,toty_train)"
   ]
  },
  {
   "cell_type": "code",
   "execution_count": 150,
   "metadata": {
    "collapsed": false
   },
   "outputs": [
    {
     "name": "stdout",
     "output_type": "stream",
     "text": [
      "Tuned GBRT MAE: 1.1260\n"
     ]
    }
   ],
   "source": [
    "# Calculate Mean Absolute Value\n",
    "mae = mean_absolute_error(toty_test, totclf.predict(totx_test))\n",
    "print('Tuned GBRT MAE: %.4f' % mae)"
   ]
  },
  {
   "cell_type": "code",
   "execution_count": 151,
   "metadata": {
    "collapsed": false
   },
   "outputs": [
    {
     "name": "stdout",
     "output_type": "stream",
     "text": [
      "0.292625983016\n"
     ]
    }
   ],
   "source": [
    "# Calculate r^2 score\n",
    "tot_pred = totclf.predict(totx_test)\n",
    "totr2 = r2_score(toty_test, tot_pred) \n",
    "print totr2"
   ]
  },
  {
   "cell_type": "code",
   "execution_count": null,
   "metadata": {
    "collapsed": true
   },
   "outputs": [],
   "source": []
  },
  {
   "cell_type": "code",
   "execution_count": 170,
   "metadata": {
    "collapsed": false
   },
   "outputs": [
    {
     "data": {
      "text/plain": [
       "array([ 7.33971022])"
      ]
     },
     "execution_count": 170,
     "metadata": {},
     "output_type": "execute_result"
    }
   ],
   "source": [
    "\n",
    "totclf.predict([3,3,30,234,16,0,0,0,0,0,25,0,0,0,3,8,2])\n",
    "              "
   ]
  },
  {
   "cell_type": "markdown",
   "metadata": {},
   "source": [
    "### Model round 2 - ER Visits"
   ]
  },
  {
   "cell_type": "code",
   "execution_count": 97,
   "metadata": {
    "collapsed": true
   },
   "outputs": [],
   "source": [
    "columns = ['POVLEV12','HLTHSTAT',\"BMINDX53\",\"HIBPAGED\",\n",
    "            \"DIABAGED\",'AGELAST']\n",
    "#'ACTDTY53'\n",
    "\n",
    "# re-scale (normalize) continuous  & categorical (ordinal) data\n",
    "nerX1 = preprocessing.StandardScaler().fit(erX0[columns])\n",
    "nerX1 = nerX1.transform(erX0[columns])\n",
    "\n",
    "#nerX2 = np.append(nerX1,erX0[['ACTDTY53']], axis=1)\n"
   ]
  },
  {
   "cell_type": "code",
   "execution_count": 98,
   "metadata": {
    "collapsed": false
   },
   "outputs": [
    {
     "data": {
      "text/plain": [
       "GradientBoostingRegressor(alpha=0.9, init=None, learning_rate=0.01, loss='ls',\n",
       "             max_depth=2, max_features=0.3, max_leaf_nodes=None,\n",
       "             min_samples_leaf=5, min_samples_split=2, n_estimators=20000,\n",
       "             random_state=None, subsample=1.0, verbose=0, warm_start=False)"
      ]
     },
     "execution_count": 98,
     "metadata": {},
     "output_type": "execute_result"
    }
   ],
   "source": [
    "# run model (using hyperparameters from optimization)\n",
    "rng = np.random.RandomState(42)\n",
    "nerx_train, nerx_test, nery_train, nery_test = train_test_split(nerX1,erY, random_state=rng)\n",
    "nerclf = GradientBoostingRegressor(n_estimators=20000,learning_rate=0.01,\n",
    "                                 max_depth=2,max_features=0.3,min_samples_leaf=5)\n",
    "nerclf.fit(nerx_train,nery_train)"
   ]
  },
  {
   "cell_type": "code",
   "execution_count": 99,
   "metadata": {
    "collapsed": false
   },
   "outputs": [
    {
     "name": "stdout",
     "output_type": "stream",
     "text": [
      "Tuned GBRT MAE: 1.0254\n"
     ]
    }
   ],
   "source": [
    "# Calculate Mean Absolute Value\n",
    "mae = mean_absolute_error(nery_test, nerclf.predict(nerx_test))\n",
    "print('Tuned GBRT MAE: %.4f' % mae)"
   ]
  },
  {
   "cell_type": "code",
   "execution_count": 100,
   "metadata": {
    "collapsed": false
   },
   "outputs": [
    {
     "name": "stdout",
     "output_type": "stream",
     "text": [
      "0.00897967858862\n"
     ]
    }
   ],
   "source": [
    "# Calculate r^2 score\n",
    "ner_pred = nerclf.predict(nerx_test)\n",
    "nerr2 = r2_score(nery_test, ner_pred) \n",
    "print nerr2"
   ]
  },
  {
   "cell_type": "markdown",
   "metadata": {},
   "source": [
    "### Model round 2 - Inpatient Visits"
   ]
  },
  {
   "cell_type": "code",
   "execution_count": 107,
   "metadata": {
    "collapsed": false
   },
   "outputs": [],
   "source": [
    "columns = ['POVLEV12','HLTHSTAT',\"BMINDX53\",\n",
    "            'AGELAST', \"CHOLAGED\"]\n",
    "#'HIDEG','SEX','ANYLIM12', 'HISPCAT'\n",
    "# re-scale (normalize) continuous  & categorical (ordinal) data\n",
    "ninX1 = preprocessing.StandardScaler().fit(inX0[columns])\n",
    "ninX1 = ninX1.transform(inX0[columns])\n",
    "\n",
    "#ninX2 = np.append(inX1,inX0[['HIDEG','SEX','ANYLIM12', 'HISPCAT']], axis=1)"
   ]
  },
  {
   "cell_type": "code",
   "execution_count": 108,
   "metadata": {
    "collapsed": false
   },
   "outputs": [
    {
     "data": {
      "text/plain": [
       "GradientBoostingRegressor(alpha=0.9, init=None, learning_rate=0.01, loss='ls',\n",
       "             max_depth=2, max_features=0.3, max_leaf_nodes=None,\n",
       "             min_samples_leaf=5, min_samples_split=2, n_estimators=20000,\n",
       "             random_state=None, subsample=1.0, verbose=0, warm_start=False)"
      ]
     },
     "execution_count": 108,
     "metadata": {},
     "output_type": "execute_result"
    }
   ],
   "source": [
    "# run model (using hyperparameters from optimization)\n",
    "rng = np.random.RandomState(42)\n",
    "ninx_train, ninx_test, niny_train, niny_test = train_test_split(ninX1,inY, random_state=rng)\n",
    "ninclf = GradientBoostingRegressor(n_estimators=20000,learning_rate=0.01,\n",
    "                                 max_depth=2,max_features=0.3,min_samples_leaf=5)\n",
    "ninclf.fit(ninx_train,niny_train)"
   ]
  },
  {
   "cell_type": "code",
   "execution_count": 109,
   "metadata": {
    "collapsed": false
   },
   "outputs": [
    {
     "name": "stdout",
     "output_type": "stream",
     "text": [
      "Tuned GBRT MAE: 0.9783\n"
     ]
    }
   ],
   "source": [
    "# Calculate Mean Absolute Value\n",
    "mae = mean_absolute_error(niny_test, ninclf.predict(ninx_test))\n",
    "print('Tuned GBRT MAE: %.4f' % mae)"
   ]
  },
  {
   "cell_type": "code",
   "execution_count": 110,
   "metadata": {
    "collapsed": false,
    "scrolled": true
   },
   "outputs": [
    {
     "name": "stdout",
     "output_type": "stream",
     "text": [
      "-0.0505471628315\n"
     ]
    }
   ],
   "source": [
    "# Calculate r^2 score\n",
    "nin_pred = ninclf.predict(ninx_test)\n",
    "ninr2 = r2_score(niny_test, nin_pred) \n",
    "print ninr2"
   ]
  },
  {
   "cell_type": "code",
   "execution_count": 190,
   "metadata": {
    "collapsed": false,
    "scrolled": true
   },
   "outputs": [
    {
     "data": {
      "text/html": [
       "<div style=\"max-height:1000px;max-width:1500px;overflow:auto;\">\n",
       "<table border=\"1\" class=\"dataframe\">\n",
       "  <thead>\n",
       "    <tr style=\"text-align: right;\">\n",
       "      <th></th>\n",
       "      <th>Unnamed: 0</th>\n",
       "      <th>Unnamed: 0.1</th>\n",
       "      <th>DUID_x</th>\n",
       "      <th>PID_x</th>\n",
       "      <th>DUPERSID</th>\n",
       "      <th>OBVTCH12</th>\n",
       "      <th>OBVEXP12</th>\n",
       "      <th>ERTTCH12</th>\n",
       "      <th>ERTEXP12</th>\n",
       "      <th>IPTTCH12</th>\n",
       "      <th>...</th>\n",
       "      <th>ADCAPE42</th>\n",
       "      <th>ADNRGY42</th>\n",
       "      <th>ADDOWN42</th>\n",
       "      <th>ADSOCA42</th>\n",
       "      <th>OBVEXPlog</th>\n",
       "      <th>ERTEXPlog</th>\n",
       "      <th>HHAEXPlog</th>\n",
       "      <th>IPTEXPlog</th>\n",
       "      <th>RXEXPlog</th>\n",
       "      <th>TOTEXPlog</th>\n",
       "    </tr>\n",
       "  </thead>\n",
       "  <tbody>\n",
       "    <tr>\n",
       "      <th>0</th>\n",
       "      <td>0</td>\n",
       "      <td>0</td>\n",
       "      <td>20004</td>\n",
       "      <td>101</td>\n",
       "      <td>20004101</td>\n",
       "      <td>NaN</td>\n",
       "      <td>NaN</td>\n",
       "      <td>NaN</td>\n",
       "      <td>NaN</td>\n",
       "      <td>NaN</td>\n",
       "      <td>...</td>\n",
       "      <td>2</td>\n",
       "      <td>3</td>\n",
       "      <td>4</td>\n",
       "      <td>5</td>\n",
       "      <td>NaN</td>\n",
       "      <td>NaN</td>\n",
       "      <td>NaN</td>\n",
       "      <td>NaN</td>\n",
       "      <td>NaN</td>\n",
       "      <td>NaN</td>\n",
       "    </tr>\n",
       "    <tr>\n",
       "      <th>1</th>\n",
       "      <td>1</td>\n",
       "      <td>1</td>\n",
       "      <td>20004</td>\n",
       "      <td>102</td>\n",
       "      <td>20004102</td>\n",
       "      <td>NaN</td>\n",
       "      <td>NaN</td>\n",
       "      <td>NaN</td>\n",
       "      <td>NaN</td>\n",
       "      <td>NaN</td>\n",
       "      <td>...</td>\n",
       "      <td>3</td>\n",
       "      <td>3</td>\n",
       "      <td>4</td>\n",
       "      <td>5</td>\n",
       "      <td>NaN</td>\n",
       "      <td>NaN</td>\n",
       "      <td>NaN</td>\n",
       "      <td>NaN</td>\n",
       "      <td>NaN</td>\n",
       "      <td>NaN</td>\n",
       "    </tr>\n",
       "    <tr>\n",
       "      <th>2</th>\n",
       "      <td>2</td>\n",
       "      <td>2</td>\n",
       "      <td>20004</td>\n",
       "      <td>103</td>\n",
       "      <td>20004103</td>\n",
       "      <td>NaN</td>\n",
       "      <td>NaN</td>\n",
       "      <td>NaN</td>\n",
       "      <td>NaN</td>\n",
       "      <td>NaN</td>\n",
       "      <td>...</td>\n",
       "      <td>0</td>\n",
       "      <td>0</td>\n",
       "      <td>0</td>\n",
       "      <td>0</td>\n",
       "      <td>NaN</td>\n",
       "      <td>NaN</td>\n",
       "      <td>NaN</td>\n",
       "      <td>NaN</td>\n",
       "      <td>NaN</td>\n",
       "      <td>4.317488</td>\n",
       "    </tr>\n",
       "    <tr>\n",
       "      <th>3</th>\n",
       "      <td>3</td>\n",
       "      <td>3</td>\n",
       "      <td>20005</td>\n",
       "      <td>101</td>\n",
       "      <td>20005101</td>\n",
       "      <td>1100</td>\n",
       "      <td>451</td>\n",
       "      <td>NaN</td>\n",
       "      <td>NaN</td>\n",
       "      <td>NaN</td>\n",
       "      <td>...</td>\n",
       "      <td>3</td>\n",
       "      <td>4</td>\n",
       "      <td>2</td>\n",
       "      <td>2</td>\n",
       "      <td>6.111467</td>\n",
       "      <td>NaN</td>\n",
       "      <td>NaN</td>\n",
       "      <td>NaN</td>\n",
       "      <td>5.68358</td>\n",
       "      <td>6.613384</td>\n",
       "    </tr>\n",
       "    <tr>\n",
       "      <th>4</th>\n",
       "      <td>4</td>\n",
       "      <td>4</td>\n",
       "      <td>20005</td>\n",
       "      <td>102</td>\n",
       "      <td>20005102</td>\n",
       "      <td>490</td>\n",
       "      <td>127</td>\n",
       "      <td>NaN</td>\n",
       "      <td>NaN</td>\n",
       "      <td>NaN</td>\n",
       "      <td>...</td>\n",
       "      <td>1</td>\n",
       "      <td>1</td>\n",
       "      <td>5</td>\n",
       "      <td>5</td>\n",
       "      <td>4.844187</td>\n",
       "      <td>NaN</td>\n",
       "      <td>NaN</td>\n",
       "      <td>NaN</td>\n",
       "      <td>NaN</td>\n",
       "      <td>4.844187</td>\n",
       "    </tr>\n",
       "  </tbody>\n",
       "</table>\n",
       "<p>5 rows × 75 columns</p>\n",
       "</div>"
      ],
      "text/plain": [
       "   Unnamed: 0  Unnamed: 0.1  DUID_x  PID_x  DUPERSID  OBVTCH12  OBVEXP12  \\\n",
       "0           0             0   20004    101  20004101       NaN       NaN   \n",
       "1           1             1   20004    102  20004102       NaN       NaN   \n",
       "2           2             2   20004    103  20004103       NaN       NaN   \n",
       "3           3             3   20005    101  20005101      1100       451   \n",
       "4           4             4   20005    102  20005102       490       127   \n",
       "\n",
       "   ERTTCH12  ERTEXP12  IPTTCH12    ...      ADCAPE42  ADNRGY42  ADDOWN42  \\\n",
       "0       NaN       NaN       NaN    ...             2         3         4   \n",
       "1       NaN       NaN       NaN    ...             3         3         4   \n",
       "2       NaN       NaN       NaN    ...             0         0         0   \n",
       "3       NaN       NaN       NaN    ...             3         4         2   \n",
       "4       NaN       NaN       NaN    ...             1         1         5   \n",
       "\n",
       "   ADSOCA42  OBVEXPlog  ERTEXPlog  HHAEXPlog  IPTEXPlog  RXEXPlog  TOTEXPlog  \n",
       "0         5        NaN        NaN        NaN        NaN       NaN        NaN  \n",
       "1         5        NaN        NaN        NaN        NaN       NaN        NaN  \n",
       "2         0        NaN        NaN        NaN        NaN       NaN   4.317488  \n",
       "3         2   6.111467        NaN        NaN        NaN   5.68358   6.613384  \n",
       "4         5   4.844187        NaN        NaN        NaN       NaN   4.844187  \n",
       "\n",
       "[5 rows x 75 columns]"
      ]
     },
     "execution_count": 190,
     "metadata": {},
     "output_type": "execute_result"
    }
   ],
   "source": [
    "df.head()"
   ]
  },
  {
   "cell_type": "code",
   "execution_count": 57,
   "metadata": {
    "collapsed": false
   },
   "outputs": [],
   "source": [
    "gbOBV=df.groupby('OBVGrp')\n",
    "gbOBV = gbOBV.mean()"
   ]
  },
  {
   "cell_type": "code",
   "execution_count": 58,
   "metadata": {
    "collapsed": false
   },
   "outputs": [
    {
     "data": {
      "text/html": [
       "<div style=\"max-height:1000px;max-width:1500px;overflow:auto;\">\n",
       "<table border=\"1\" class=\"dataframe\">\n",
       "  <thead>\n",
       "    <tr style=\"text-align: right;\">\n",
       "      <th></th>\n",
       "      <th>OBVGrp</th>\n",
       "      <th>Unnamed: 0</th>\n",
       "      <th>Unnamed: 0.1</th>\n",
       "      <th>DUID_x</th>\n",
       "      <th>PID_x</th>\n",
       "      <th>DUPERSID</th>\n",
       "      <th>OBVTCH12</th>\n",
       "      <th>OBVEXP12</th>\n",
       "      <th>ERTTCH12</th>\n",
       "      <th>ERTEXP12</th>\n",
       "      <th>...</th>\n",
       "      <th>ADCAPE42</th>\n",
       "      <th>ADNRGY42</th>\n",
       "      <th>ADDOWN42</th>\n",
       "      <th>ADSOCA42</th>\n",
       "      <th>OBVEXPlog</th>\n",
       "      <th>ERTEXPlog</th>\n",
       "      <th>HHAEXPlog</th>\n",
       "      <th>IPTEXPlog</th>\n",
       "      <th>RXEXPlog</th>\n",
       "      <th>TOTEXPlog</th>\n",
       "    </tr>\n",
       "  </thead>\n",
       "  <tbody>\n",
       "    <tr>\n",
       "      <th>0</th>\n",
       "      <td>1</td>\n",
       "      <td>19325.785989</td>\n",
       "      <td>19325.785989</td>\n",
       "      <td>29676.685499</td>\n",
       "      <td>106.657541</td>\n",
       "      <td>29676792.156301</td>\n",
       "      <td>202.992793</td>\n",
       "      <td>62.152690</td>\n",
       "      <td>3683.847549</td>\n",
       "      <td>1019.584116</td>\n",
       "      <td>...</td>\n",
       "      <td>1.300733</td>\n",
       "      <td>1.305639</td>\n",
       "      <td>2.511684</td>\n",
       "      <td>2.627895</td>\n",
       "      <td>4.012755</td>\n",
       "      <td>6.126887</td>\n",
       "      <td>8.185841</td>\n",
       "      <td>8.788761</td>\n",
       "      <td>4.326847</td>\n",
       "      <td>5.622061</td>\n",
       "    </tr>\n",
       "    <tr>\n",
       "      <th>1</th>\n",
       "      <td>2</td>\n",
       "      <td>19382.324143</td>\n",
       "      <td>19382.324143</td>\n",
       "      <td>29703.514984</td>\n",
       "      <td>105.298250</td>\n",
       "      <td>29703620.282666</td>\n",
       "      <td>310.448813</td>\n",
       "      <td>147.566531</td>\n",
       "      <td>4222.902893</td>\n",
       "      <td>1129.697228</td>\n",
       "      <td>...</td>\n",
       "      <td>1.294174</td>\n",
       "      <td>1.360585</td>\n",
       "      <td>2.296572</td>\n",
       "      <td>2.407097</td>\n",
       "      <td>4.975378</td>\n",
       "      <td>6.268403</td>\n",
       "      <td>8.254311</td>\n",
       "      <td>8.856570</td>\n",
       "      <td>4.628635</td>\n",
       "      <td>6.186207</td>\n",
       "    </tr>\n",
       "    <tr>\n",
       "      <th>2</th>\n",
       "      <td>3</td>\n",
       "      <td>19214.148811</td>\n",
       "      <td>19214.148811</td>\n",
       "      <td>29621.872354</td>\n",
       "      <td>105.481344</td>\n",
       "      <td>29621977.835697</td>\n",
       "      <td>598.254200</td>\n",
       "      <td>289.816932</td>\n",
       "      <td>5230.478618</td>\n",
       "      <td>1319.631579</td>\n",
       "      <td>...</td>\n",
       "      <td>1.432686</td>\n",
       "      <td>1.565787</td>\n",
       "      <td>2.506437</td>\n",
       "      <td>2.615317</td>\n",
       "      <td>5.649625</td>\n",
       "      <td>6.331041</td>\n",
       "      <td>7.973145</td>\n",
       "      <td>8.935982</td>\n",
       "      <td>5.067506</td>\n",
       "      <td>6.835783</td>\n",
       "    </tr>\n",
       "    <tr>\n",
       "      <th>3</th>\n",
       "      <td>4</td>\n",
       "      <td>19493.749609</td>\n",
       "      <td>19493.749609</td>\n",
       "      <td>29760.796557</td>\n",
       "      <td>104.789515</td>\n",
       "      <td>29760901.346635</td>\n",
       "      <td>1010.319640</td>\n",
       "      <td>494.795383</td>\n",
       "      <td>4111.187342</td>\n",
       "      <td>1370.574413</td>\n",
       "      <td>...</td>\n",
       "      <td>1.586463</td>\n",
       "      <td>1.723005</td>\n",
       "      <td>2.672926</td>\n",
       "      <td>2.765649</td>\n",
       "      <td>6.197415</td>\n",
       "      <td>6.391121</td>\n",
       "      <td>8.056025</td>\n",
       "      <td>8.988645</td>\n",
       "      <td>5.426405</td>\n",
       "      <td>7.318940</td>\n",
       "    </tr>\n",
       "    <tr>\n",
       "      <th>4</th>\n",
       "      <td>5</td>\n",
       "      <td>20205.014947</td>\n",
       "      <td>20205.014947</td>\n",
       "      <td>30130.125267</td>\n",
       "      <td>104.368327</td>\n",
       "      <td>30130229.635231</td>\n",
       "      <td>1677.325267</td>\n",
       "      <td>777.091103</td>\n",
       "      <td>4959.588710</td>\n",
       "      <td>1459.610998</td>\n",
       "      <td>...</td>\n",
       "      <td>1.804982</td>\n",
       "      <td>1.995374</td>\n",
       "      <td>2.962278</td>\n",
       "      <td>3.054804</td>\n",
       "      <td>6.644615</td>\n",
       "      <td>6.497429</td>\n",
       "      <td>8.223572</td>\n",
       "      <td>8.885508</td>\n",
       "      <td>5.768670</td>\n",
       "      <td>7.774343</td>\n",
       "    </tr>\n",
       "  </tbody>\n",
       "</table>\n",
       "<p>5 rows × 75 columns</p>\n",
       "</div>"
      ],
      "text/plain": [
       "   OBVGrp    Unnamed: 0  Unnamed: 0.1        DUID_x       PID_x  \\\n",
       "0       1  19325.785989  19325.785989  29676.685499  106.657541   \n",
       "1       2  19382.324143  19382.324143  29703.514984  105.298250   \n",
       "2       3  19214.148811  19214.148811  29621.872354  105.481344   \n",
       "3       4  19493.749609  19493.749609  29760.796557  104.789515   \n",
       "4       5  20205.014947  20205.014947  30130.125267  104.368327   \n",
       "\n",
       "          DUPERSID     OBVTCH12    OBVEXP12     ERTTCH12     ERTEXP12  \\\n",
       "0  29676792.156301   202.992793   62.152690  3683.847549  1019.584116   \n",
       "1  29703620.282666   310.448813  147.566531  4222.902893  1129.697228   \n",
       "2  29621977.835697   598.254200  289.816932  5230.478618  1319.631579   \n",
       "3  29760901.346635  1010.319640  494.795383  4111.187342  1370.574413   \n",
       "4  30130229.635231  1677.325267  777.091103  4959.588710  1459.610998   \n",
       "\n",
       "     ...      ADCAPE42  ADNRGY42  ADDOWN42  ADSOCA42  OBVEXPlog  ERTEXPlog  \\\n",
       "0    ...      1.300733  1.305639  2.511684  2.627895   4.012755   6.126887   \n",
       "1    ...      1.294174  1.360585  2.296572  2.407097   4.975378   6.268403   \n",
       "2    ...      1.432686  1.565787  2.506437  2.615317   5.649625   6.331041   \n",
       "3    ...      1.586463  1.723005  2.672926  2.765649   6.197415   6.391121   \n",
       "4    ...      1.804982  1.995374  2.962278  3.054804   6.644615   6.497429   \n",
       "\n",
       "   HHAEXPlog  IPTEXPlog  RXEXPlog  TOTEXPlog  \n",
       "0   8.185841   8.788761  4.326847   5.622061  \n",
       "1   8.254311   8.856570  4.628635   6.186207  \n",
       "2   7.973145   8.935982  5.067506   6.835783  \n",
       "3   8.056025   8.988645  5.426405   7.318940  \n",
       "4   8.223572   8.885508  5.768670   7.774343  \n",
       "\n",
       "[5 rows x 75 columns]"
      ]
     },
     "execution_count": 58,
     "metadata": {},
     "output_type": "execute_result"
    }
   ],
   "source": [
    "gbOBV = gbOBV.reset_index()\n",
    "gbOBV.head()"
   ]
  },
  {
   "cell_type": "code",
   "execution_count": 59,
   "metadata": {
    "collapsed": false,
    "scrolled": true
   },
   "outputs": [
    {
     "data": {
      "text/plain": [
       "[<matplotlib.lines.Line2D at 0x118a45650>]"
      ]
     },
     "execution_count": 59,
     "metadata": {},
     "output_type": "execute_result"
    },
    {
     "data": {
      "image/png": "[encoded data removed]",
      "text/plain": [
       "<matplotlib.figure.Figure at 0x119ffa6d0>"
      ]
     },
     "metadata": {},
     "output_type": "display_data"
    }
   ],
   "source": [
    "sns.set_style(\"whitegrid\")\n",
    "sns.set_style(\"ticks\")\n",
    "sns.set_context(\"notebook\", font_scale=2)\n",
    "# Remove the plot frame lines. They are unnecessary chartjunk.    \n",
    "ax = plt.subplot(111)    \n",
    "ax.spines[\"top\"].set_visible(False)    \n",
    "ax.spines[\"bottom\"].set_visible(False)    \n",
    "ax.spines[\"right\"].set_visible(False)    \n",
    "ax.spines[\"left\"].set_visible(False)    \n",
    "  \n",
    "# Ensure that the axis ticks only show up on the bottom and left of the plot.    \n",
    "# Ticks on the right and top of the plot are generally unnecessary chartjunk.    \n",
    "ax.get_xaxis().tick_bottom()    \n",
    "ax.get_yaxis().tick_left()    \n",
    "  \n",
    "#plt.plot(gbOBV.OBVGrp,gbOBV.AGELAST,linewidth=5.0,color='mediumseagreen')\n",
    "plt.plot(gbOBV.HIBPAGED,gbOBV.OBVGrp,linewidth=5.0,color='darkblue')\n",
    "plt.plot(gbOBV.STRKAGED,gbOBV.OBVGrp,linewidth=5.0,color='mediumblue')\n",
    "plt.plot(gbOBV.CHOLAGED,gbOBV.OBVGrp,linewidth=5.0,color='cornflowerblue')\n"
   ]
  },
  {
   "cell_type": "code",
   "execution_count": 60,
   "metadata": {
    "collapsed": false,
    "scrolled": true
   },
   "outputs": [
    {
     "data": {
      "text/plain": [
       "[<matplotlib.lines.Line2D at 0x10ddbc390>]"
      ]
     },
     "execution_count": 60,
     "metadata": {},
     "output_type": "execute_result"
    },
    {
     "data": {
      "image/png": "[encoded data removed]",
      "text/plain": [
       "<matplotlib.figure.Figure at 0x118f5a690>"
      ]
     },
     "metadata": {},
     "output_type": "display_data"
    }
   ],
   "source": [
    "# Remove the plot frame lines. They are unnecessary chartjunk.    \n",
    "ax = plt.subplot(111)    \n",
    "ax.spines[\"top\"].set_visible(False)    \n",
    "ax.spines[\"bottom\"].set_visible(False)    \n",
    "ax.spines[\"right\"].set_visible(False)    \n",
    "ax.spines[\"left\"].set_visible(False)    \n",
    "  \n",
    "# Ensure that the axis ticks only show up on the bottom and left of the plot.    \n",
    "# Ticks on the right and top of the plot are generally unnecessary chartjunk.    \n",
    "ax.get_xaxis().tick_bottom()    \n",
    "ax.get_yaxis().tick_left()    \n",
    "  \n",
    "    \n",
    "plt.plot(gbOBV.HLTHSTAT,gbOBV.OBVGrp,linewidth=5.0,color='indianred')\n",
    "plt.plot(gbOBV.MNHLTHSTAT,gbOBV.OBVGrp,linewidth=5.0,color='crimson')\n",
    "plt.plot(gbOBV.ADPAIN42,gbOBV.OBVGrp,linewidth=5.0,color='mistyrose')\n",
    "plt.plot(gbOBV.ADCAPE42,gbOBV.OBVGrp,linewidth=5.0,color='maroon')\n",
    "plt.plot(gbOBV.OBVGrp,gbOBV.ADNRGY42,linewidth=5.0,color='red')"
   ]
  },
  {
   "cell_type": "code",
   "execution_count": 68,
   "metadata": {
    "collapsed": false,
    "scrolled": true
   },
   "outputs": [
    {
     "data": {
      "text/plain": [
       "[<matplotlib.lines.Line2D at 0x1190bff90>]"
      ]
     },
     "execution_count": 68,
     "metadata": {},
     "output_type": "execute_result"
    },
    {
     "data": {
      "image/png": "[encoded data removed]",
      "text/plain": [
       "<matplotlib.figure.Figure at 0x1193182d0>"
      ]
     },
     "metadata": {},
     "output_type": "display_data"
    }
   ],
   "source": [
    "\n",
    "# Ensure that the axis ticks only show up on the bottom and left of the plot.    \n",
    "# Ticks on the right and top of the plot are generally unnecessary chartjunk.    \n",
    "fig = plt.figure()\n",
    " # Remove the plot frame lines. They are unnecessary chartjunk.    \n",
    "ax = plt.subplot(111)    \n",
    "ax.spines[\"top\"].set_visible(False)    \n",
    "ax.spines[\"bottom\"].set_visible(False)    \n",
    "ax.spines[\"right\"].set_visible(False)    \n",
    "ax.spines[\"left\"].set_visible(False)    \n",
    "  \n",
    "# Ensure that the axis ticks only show up on the bottom and left of the plot.    \n",
    "# Ticks on the right and top of the plot are generally unnecessary chartjunk.    \n",
    "ax.get_xaxis().tick_bottom()    \n",
    "ax.get_yaxis().tick_left()   \n",
    "ax.get_xaxis().tick_bottom()    \n",
    "ax.get_yaxis().tick_left() \n",
    "ax = plt.subplot(111)\n",
    "ax.set_ylim(10,13.5)  \n",
    "\n",
    "ax.plot(gbOBV.OBVGrp, gbOBV.EDRECODE, linewidth=5.0,color='darkslateblue')\n",
    "\n",
    "\n"
   ]
  },
  {
   "cell_type": "code",
   "execution_count": 69,
   "metadata": {
    "collapsed": false
   },
   "outputs": [
    {
     "data": {
      "text/plain": [
       "[<matplotlib.lines.Line2D at 0x11c03bb50>]"
      ]
     },
     "execution_count": 69,
     "metadata": {},
     "output_type": "execute_result"
    },
    {
     "data": {
      "image/png": "[encoded data removed]",
      "text/plain": [
       "<matplotlib.figure.Figure at 0x119eea310>"
      ]
     },
     "metadata": {},
     "output_type": "display_data"
    }
   ],
   "source": [
    "# Ensure that the axis ticks only show up on the bottom and left of the plot.    \n",
    "# Ticks on the right and top of the plot are generally unnecessary chartjunk.    \n",
    "fig = plt.figure()\n",
    "# Remove the plot frame lines. They are unnecessary chartjunk.    \n",
    "ax = plt.subplot(111)    \n",
    "ax.spines[\"top\"].set_visible(False)    \n",
    "ax.spines[\"bottom\"].set_visible(False)    \n",
    "ax.spines[\"right\"].set_visible(False)    \n",
    "ax.spines[\"left\"].set_visible(False)    \n",
    "  \n",
    "# Ensure that the axis ticks only show up on the bottom and left of the plot.    \n",
    "# Ticks on the right and top of the plot are generally unnecessary chartjunk.    \n",
    "ax.get_xaxis().tick_bottom()    \n",
    "ax.get_yaxis().tick_left()    \n",
    "ax.get_xaxis().tick_bottom()    \n",
    "ax.get_yaxis().tick_left() \n",
    "ax = plt.subplot(111)\n",
    "ax.set_ylim(240, 450)\n",
    "\n",
    "ax.plot(gbOBV.OBVGrp, gbOBV.POVLEV12, linewidth=5.0,color='mediumseagreen')\n",
    "\n"
   ]
  },
  {
   "cell_type": "raw",
   "metadata": {},
   "source": [
    "plt.plot(gbOBV.OBVGrp,gbOBV.POVLEV12)"
   ]
  },
  {
   "cell_type": "code",
   "execution_count": 202,
   "metadata": {
    "collapsed": false,
    "scrolled": false
   },
   "outputs": [
    {
     "data": {
      "text/plain": [
       "[<matplotlib.lines.Line2D at 0x111c4b710>]"
      ]
     },
     "execution_count": 202,
     "metadata": {},
     "output_type": "execute_result"
    },
    {
     "data": {
      "image/png": "[encoded data removed]",
      "text/plain": [
       "<matplotlib.figure.Figure at 0x111b20c90>"
      ]
     },
     "metadata": {},
     "output_type": "display_data"
    }
   ],
   "source": [
    "plt.plot(gbOBV.OBVGrp,gbOBV.BMINDX53)"
   ]
  },
  {
   "cell_type": "code",
   "execution_count": 293,
   "metadata": {
    "collapsed": false
   },
   "outputs": [
    {
     "data": {
      "text/plain": [
       "array([ 0, 28, 30, 67, 64, 46, 55, 50, 44, 60, 34, 21, 82, 65, 68, 33, 70,\n",
       "       48, 57, 85, 26, 45, 27, 58, 49, 51, 80, 42, 61, 77, 35, 71, 53, 22,\n",
       "       23, 31, 66, 75, 84, 78, 47, 73, 56, 52, 62, 39,  7, 36, 74, 63, 20,\n",
       "       54, 24, 43, 76, 59, 69, 41, 37, 32, 25, 40, 72, 83, 29, 38, 81, 79,\n",
       "       16, 19, 18, 17,  8, 12, 14, 13,  3,  6])"
      ]
     },
     "execution_count": 293,
     "metadata": {},
     "output_type": "execute_result"
    }
   ],
   "source": [
    "df.STRKAGED.unique()"
   ]
  },
  {
   "cell_type": "code",
   "execution_count": 294,
   "metadata": {
    "collapsed": false
   },
   "outputs": [],
   "source": [
    "plt.plot(gbOBV.OBVGrp,gbOBV.AGELAST)"
   ]
  },
  {
   "cell_type": "code",
   "execution_count": null,
   "metadata": {
    "collapsed": true
   },
   "outputs": [],
   "source": []
  }
 ],
 "metadata": {
  "kernelspec": {
   "display_name": "Python 2",
   "language": "python",
   "name": "python2"
  },
  "language_info": {
   "codemirror_mode": {
    "name": "ipython",
    "version": 2
   },
   "file_extension": ".py",
   "mimetype": "text/x-python",
   "name": "python",
   "nbconvert_exporter": "python",
   "pygments_lexer": "ipython2",
   "version": "2.7.10"
  }
 },
 "nbformat": 4,
 "nbformat_minor": 0
}
